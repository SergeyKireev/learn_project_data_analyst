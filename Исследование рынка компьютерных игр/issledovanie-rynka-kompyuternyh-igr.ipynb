{
 "cells": [
  {
   "cell_type": "markdown",
   "metadata": {},
   "source": [
    "# Исследование рынка компьютерных игр\n",
    "Выявляем закономерность успешности компьютерных игр"
   ]
  },
  {
   "cell_type": "markdown",
   "metadata": {},
   "source": [
    "## Введение"
   ]
  },
  {
   "cell_type": "markdown",
   "metadata": {},
   "source": [
    "В этой работе анализируются закономерности влияющие на успешность игры. Анализ позволит компании продавцу компьютерных игр спланировать рекламную компанию на 2017 год. Датасет включает данные до 2016 года."
   ]
  },
  {
   "cell_type": "markdown",
   "metadata": {},
   "source": [
    "## Импорт библиотек"
   ]
  },
  {
   "cell_type": "code",
   "execution_count": 1,
   "metadata": {},
   "outputs": [
    {
     "data": {
      "text/html": [
       "        <script type=\"text/javascript\">\n",
       "        window.PlotlyConfig = {MathJaxConfig: 'local'};\n",
       "        if (window.MathJax) {MathJax.Hub.Config({SVG: {font: \"STIX-Web\"}});}\n",
       "        if (typeof require !== 'undefined') {\n",
       "        require.undef(\"plotly\");\n",
       "        requirejs.config({\n",
       "            paths: {\n",
       "                'plotly': ['https://cdn.plot.ly/plotly-latest.min']\n",
       "            }\n",
       "        });\n",
       "        require(['plotly'], function(Plotly) {\n",
       "            window._Plotly = Plotly;\n",
       "        });\n",
       "        }\n",
       "        </script>\n",
       "        "
      ]
     },
     "metadata": {},
     "output_type": "display_data"
    }
   ],
   "source": [
    "import pandas as pd\n",
    "import seaborn as sns\n",
    "import matplotlib.pyplot as plt\n",
    "from scipy import stats as st\n",
    "import numpy as np\n",
    "\n",
    "\n",
    "from pylab import rcParams\n",
    "rcParams['figure.figsize'] = 8, 5\n",
    "\n",
    "from plotly.offline import download_plotlyjs, init_notebook_mode, plot, iplot\n",
    "import plotly\n",
    "import plotly.graph_objs as go\n",
    "from plotly.subplots import make_subplots\n",
    "\n",
    "init_notebook_mode(connected=True)"
   ]
  },
  {
   "cell_type": "markdown",
   "metadata": {},
   "source": [
    "## Шаг 1 – Импорт данных, общие сведения"
   ]
  },
  {
   "cell_type": "code",
   "execution_count": 2,
   "metadata": {},
   "outputs": [],
   "source": [
    "data = pd.read_csv('/datasets/games.csv')"
   ]
  },
  {
   "cell_type": "code",
   "execution_count": 3,
   "metadata": {},
   "outputs": [
    {
     "name": "stdout",
     "output_type": "stream",
     "text": [
      "<class 'pandas.core.frame.DataFrame'>\n",
      "RangeIndex: 16715 entries, 0 to 16714\n",
      "Data columns (total 11 columns):\n",
      "Name               16713 non-null object\n",
      "Platform           16715 non-null object\n",
      "Year_of_Release    16446 non-null float64\n",
      "Genre              16713 non-null object\n",
      "NA_sales           16715 non-null float64\n",
      "EU_sales           16715 non-null float64\n",
      "JP_sales           16715 non-null float64\n",
      "Other_sales        16715 non-null float64\n",
      "Critic_Score       8137 non-null float64\n",
      "User_Score         10014 non-null object\n",
      "Rating             9949 non-null object\n",
      "dtypes: float64(6), object(5)\n",
      "memory usage: 1.4+ MB\n"
     ]
    },
    {
     "data": {
      "text/html": [
       "<div>\n",
       "<style scoped>\n",
       "    .dataframe tbody tr th:only-of-type {\n",
       "        vertical-align: middle;\n",
       "    }\n",
       "\n",
       "    .dataframe tbody tr th {\n",
       "        vertical-align: top;\n",
       "    }\n",
       "\n",
       "    .dataframe thead th {\n",
       "        text-align: right;\n",
       "    }\n",
       "</style>\n",
       "<table border=\"1\" class=\"dataframe\">\n",
       "  <thead>\n",
       "    <tr style=\"text-align: right;\">\n",
       "      <th></th>\n",
       "      <th>Name</th>\n",
       "      <th>Platform</th>\n",
       "      <th>Year_of_Release</th>\n",
       "      <th>Genre</th>\n",
       "      <th>NA_sales</th>\n",
       "      <th>EU_sales</th>\n",
       "      <th>JP_sales</th>\n",
       "      <th>Other_sales</th>\n",
       "      <th>Critic_Score</th>\n",
       "      <th>User_Score</th>\n",
       "      <th>Rating</th>\n",
       "    </tr>\n",
       "  </thead>\n",
       "  <tbody>\n",
       "    <tr>\n",
       "      <td>0</td>\n",
       "      <td>Wii Sports</td>\n",
       "      <td>Wii</td>\n",
       "      <td>2006.0</td>\n",
       "      <td>Sports</td>\n",
       "      <td>41.36</td>\n",
       "      <td>28.96</td>\n",
       "      <td>3.77</td>\n",
       "      <td>8.45</td>\n",
       "      <td>76.0</td>\n",
       "      <td>8</td>\n",
       "      <td>E</td>\n",
       "    </tr>\n",
       "    <tr>\n",
       "      <td>1</td>\n",
       "      <td>Super Mario Bros.</td>\n",
       "      <td>NES</td>\n",
       "      <td>1985.0</td>\n",
       "      <td>Platform</td>\n",
       "      <td>29.08</td>\n",
       "      <td>3.58</td>\n",
       "      <td>6.81</td>\n",
       "      <td>0.77</td>\n",
       "      <td>NaN</td>\n",
       "      <td>NaN</td>\n",
       "      <td>NaN</td>\n",
       "    </tr>\n",
       "    <tr>\n",
       "      <td>2</td>\n",
       "      <td>Mario Kart Wii</td>\n",
       "      <td>Wii</td>\n",
       "      <td>2008.0</td>\n",
       "      <td>Racing</td>\n",
       "      <td>15.68</td>\n",
       "      <td>12.76</td>\n",
       "      <td>3.79</td>\n",
       "      <td>3.29</td>\n",
       "      <td>82.0</td>\n",
       "      <td>8.3</td>\n",
       "      <td>E</td>\n",
       "    </tr>\n",
       "    <tr>\n",
       "      <td>3</td>\n",
       "      <td>Wii Sports Resort</td>\n",
       "      <td>Wii</td>\n",
       "      <td>2009.0</td>\n",
       "      <td>Sports</td>\n",
       "      <td>15.61</td>\n",
       "      <td>10.93</td>\n",
       "      <td>3.28</td>\n",
       "      <td>2.95</td>\n",
       "      <td>80.0</td>\n",
       "      <td>8</td>\n",
       "      <td>E</td>\n",
       "    </tr>\n",
       "    <tr>\n",
       "      <td>4</td>\n",
       "      <td>Pokemon Red/Pokemon Blue</td>\n",
       "      <td>GB</td>\n",
       "      <td>1996.0</td>\n",
       "      <td>Role-Playing</td>\n",
       "      <td>11.27</td>\n",
       "      <td>8.89</td>\n",
       "      <td>10.22</td>\n",
       "      <td>1.00</td>\n",
       "      <td>NaN</td>\n",
       "      <td>NaN</td>\n",
       "      <td>NaN</td>\n",
       "    </tr>\n",
       "    <tr>\n",
       "      <td>...</td>\n",
       "      <td>...</td>\n",
       "      <td>...</td>\n",
       "      <td>...</td>\n",
       "      <td>...</td>\n",
       "      <td>...</td>\n",
       "      <td>...</td>\n",
       "      <td>...</td>\n",
       "      <td>...</td>\n",
       "      <td>...</td>\n",
       "      <td>...</td>\n",
       "      <td>...</td>\n",
       "    </tr>\n",
       "    <tr>\n",
       "      <td>16710</td>\n",
       "      <td>Samurai Warriors: Sanada Maru</td>\n",
       "      <td>PS3</td>\n",
       "      <td>2016.0</td>\n",
       "      <td>Action</td>\n",
       "      <td>0.00</td>\n",
       "      <td>0.00</td>\n",
       "      <td>0.01</td>\n",
       "      <td>0.00</td>\n",
       "      <td>NaN</td>\n",
       "      <td>NaN</td>\n",
       "      <td>NaN</td>\n",
       "    </tr>\n",
       "    <tr>\n",
       "      <td>16711</td>\n",
       "      <td>LMA Manager 2007</td>\n",
       "      <td>X360</td>\n",
       "      <td>2006.0</td>\n",
       "      <td>Sports</td>\n",
       "      <td>0.00</td>\n",
       "      <td>0.01</td>\n",
       "      <td>0.00</td>\n",
       "      <td>0.00</td>\n",
       "      <td>NaN</td>\n",
       "      <td>NaN</td>\n",
       "      <td>NaN</td>\n",
       "    </tr>\n",
       "    <tr>\n",
       "      <td>16712</td>\n",
       "      <td>Haitaka no Psychedelica</td>\n",
       "      <td>PSV</td>\n",
       "      <td>2016.0</td>\n",
       "      <td>Adventure</td>\n",
       "      <td>0.00</td>\n",
       "      <td>0.00</td>\n",
       "      <td>0.01</td>\n",
       "      <td>0.00</td>\n",
       "      <td>NaN</td>\n",
       "      <td>NaN</td>\n",
       "      <td>NaN</td>\n",
       "    </tr>\n",
       "    <tr>\n",
       "      <td>16713</td>\n",
       "      <td>Spirits &amp; Spells</td>\n",
       "      <td>GBA</td>\n",
       "      <td>2003.0</td>\n",
       "      <td>Platform</td>\n",
       "      <td>0.01</td>\n",
       "      <td>0.00</td>\n",
       "      <td>0.00</td>\n",
       "      <td>0.00</td>\n",
       "      <td>NaN</td>\n",
       "      <td>NaN</td>\n",
       "      <td>NaN</td>\n",
       "    </tr>\n",
       "    <tr>\n",
       "      <td>16714</td>\n",
       "      <td>Winning Post 8 2016</td>\n",
       "      <td>PSV</td>\n",
       "      <td>2016.0</td>\n",
       "      <td>Simulation</td>\n",
       "      <td>0.00</td>\n",
       "      <td>0.00</td>\n",
       "      <td>0.01</td>\n",
       "      <td>0.00</td>\n",
       "      <td>NaN</td>\n",
       "      <td>NaN</td>\n",
       "      <td>NaN</td>\n",
       "    </tr>\n",
       "  </tbody>\n",
       "</table>\n",
       "<p>16715 rows × 11 columns</p>\n",
       "</div>"
      ],
      "text/plain": [
       "                                Name Platform  Year_of_Release         Genre  \\\n",
       "0                         Wii Sports      Wii           2006.0        Sports   \n",
       "1                  Super Mario Bros.      NES           1985.0      Platform   \n",
       "2                     Mario Kart Wii      Wii           2008.0        Racing   \n",
       "3                  Wii Sports Resort      Wii           2009.0        Sports   \n",
       "4           Pokemon Red/Pokemon Blue       GB           1996.0  Role-Playing   \n",
       "...                              ...      ...              ...           ...   \n",
       "16710  Samurai Warriors: Sanada Maru      PS3           2016.0        Action   \n",
       "16711               LMA Manager 2007     X360           2006.0        Sports   \n",
       "16712        Haitaka no Psychedelica      PSV           2016.0     Adventure   \n",
       "16713               Spirits & Spells      GBA           2003.0      Platform   \n",
       "16714            Winning Post 8 2016      PSV           2016.0    Simulation   \n",
       "\n",
       "       NA_sales  EU_sales  JP_sales  Other_sales  Critic_Score User_Score  \\\n",
       "0         41.36     28.96      3.77         8.45          76.0          8   \n",
       "1         29.08      3.58      6.81         0.77           NaN        NaN   \n",
       "2         15.68     12.76      3.79         3.29          82.0        8.3   \n",
       "3         15.61     10.93      3.28         2.95          80.0          8   \n",
       "4         11.27      8.89     10.22         1.00           NaN        NaN   \n",
       "...         ...       ...       ...          ...           ...        ...   \n",
       "16710      0.00      0.00      0.01         0.00           NaN        NaN   \n",
       "16711      0.00      0.01      0.00         0.00           NaN        NaN   \n",
       "16712      0.00      0.00      0.01         0.00           NaN        NaN   \n",
       "16713      0.01      0.00      0.00         0.00           NaN        NaN   \n",
       "16714      0.00      0.00      0.01         0.00           NaN        NaN   \n",
       "\n",
       "      Rating  \n",
       "0          E  \n",
       "1        NaN  \n",
       "2          E  \n",
       "3          E  \n",
       "4        NaN  \n",
       "...      ...  \n",
       "16710    NaN  \n",
       "16711    NaN  \n",
       "16712    NaN  \n",
       "16713    NaN  \n",
       "16714    NaN  \n",
       "\n",
       "[16715 rows x 11 columns]"
      ]
     },
     "execution_count": 3,
     "metadata": {},
     "output_type": "execute_result"
    }
   ],
   "source": [
    "data.info()\n",
    "data"
   ]
  },
  {
   "cell_type": "code",
   "execution_count": 4,
   "metadata": {},
   "outputs": [
    {
     "data": {
      "text/html": [
       "<div>\n",
       "<style scoped>\n",
       "    .dataframe tbody tr th:only-of-type {\n",
       "        vertical-align: middle;\n",
       "    }\n",
       "\n",
       "    .dataframe tbody tr th {\n",
       "        vertical-align: top;\n",
       "    }\n",
       "\n",
       "    .dataframe thead th {\n",
       "        text-align: right;\n",
       "    }\n",
       "</style>\n",
       "<table border=\"1\" class=\"dataframe\">\n",
       "  <thead>\n",
       "    <tr style=\"text-align: right;\">\n",
       "      <th></th>\n",
       "      <th>Year_of_Release</th>\n",
       "      <th>NA_sales</th>\n",
       "      <th>EU_sales</th>\n",
       "      <th>JP_sales</th>\n",
       "      <th>Other_sales</th>\n",
       "      <th>Critic_Score</th>\n",
       "    </tr>\n",
       "  </thead>\n",
       "  <tbody>\n",
       "    <tr>\n",
       "      <td>count</td>\n",
       "      <td>16446.000000</td>\n",
       "      <td>16715.000000</td>\n",
       "      <td>16715.000000</td>\n",
       "      <td>16715.000000</td>\n",
       "      <td>16715.000000</td>\n",
       "      <td>8137.000000</td>\n",
       "    </tr>\n",
       "    <tr>\n",
       "      <td>mean</td>\n",
       "      <td>2006.484616</td>\n",
       "      <td>0.263377</td>\n",
       "      <td>0.145060</td>\n",
       "      <td>0.077617</td>\n",
       "      <td>0.047342</td>\n",
       "      <td>68.967679</td>\n",
       "    </tr>\n",
       "    <tr>\n",
       "      <td>std</td>\n",
       "      <td>5.877050</td>\n",
       "      <td>0.813604</td>\n",
       "      <td>0.503339</td>\n",
       "      <td>0.308853</td>\n",
       "      <td>0.186731</td>\n",
       "      <td>13.938165</td>\n",
       "    </tr>\n",
       "    <tr>\n",
       "      <td>min</td>\n",
       "      <td>1980.000000</td>\n",
       "      <td>0.000000</td>\n",
       "      <td>0.000000</td>\n",
       "      <td>0.000000</td>\n",
       "      <td>0.000000</td>\n",
       "      <td>13.000000</td>\n",
       "    </tr>\n",
       "    <tr>\n",
       "      <td>25%</td>\n",
       "      <td>2003.000000</td>\n",
       "      <td>0.000000</td>\n",
       "      <td>0.000000</td>\n",
       "      <td>0.000000</td>\n",
       "      <td>0.000000</td>\n",
       "      <td>60.000000</td>\n",
       "    </tr>\n",
       "    <tr>\n",
       "      <td>50%</td>\n",
       "      <td>2007.000000</td>\n",
       "      <td>0.080000</td>\n",
       "      <td>0.020000</td>\n",
       "      <td>0.000000</td>\n",
       "      <td>0.010000</td>\n",
       "      <td>71.000000</td>\n",
       "    </tr>\n",
       "    <tr>\n",
       "      <td>75%</td>\n",
       "      <td>2010.000000</td>\n",
       "      <td>0.240000</td>\n",
       "      <td>0.110000</td>\n",
       "      <td>0.040000</td>\n",
       "      <td>0.030000</td>\n",
       "      <td>79.000000</td>\n",
       "    </tr>\n",
       "    <tr>\n",
       "      <td>max</td>\n",
       "      <td>2016.000000</td>\n",
       "      <td>41.360000</td>\n",
       "      <td>28.960000</td>\n",
       "      <td>10.220000</td>\n",
       "      <td>10.570000</td>\n",
       "      <td>98.000000</td>\n",
       "    </tr>\n",
       "  </tbody>\n",
       "</table>\n",
       "</div>"
      ],
      "text/plain": [
       "       Year_of_Release      NA_sales      EU_sales      JP_sales  \\\n",
       "count     16446.000000  16715.000000  16715.000000  16715.000000   \n",
       "mean       2006.484616      0.263377      0.145060      0.077617   \n",
       "std           5.877050      0.813604      0.503339      0.308853   \n",
       "min        1980.000000      0.000000      0.000000      0.000000   \n",
       "25%        2003.000000      0.000000      0.000000      0.000000   \n",
       "50%        2007.000000      0.080000      0.020000      0.000000   \n",
       "75%        2010.000000      0.240000      0.110000      0.040000   \n",
       "max        2016.000000     41.360000     28.960000     10.220000   \n",
       "\n",
       "        Other_sales  Critic_Score  \n",
       "count  16715.000000   8137.000000  \n",
       "mean       0.047342     68.967679  \n",
       "std        0.186731     13.938165  \n",
       "min        0.000000     13.000000  \n",
       "25%        0.000000     60.000000  \n",
       "50%        0.010000     71.000000  \n",
       "75%        0.030000     79.000000  \n",
       "max       10.570000     98.000000  "
      ]
     },
     "execution_count": 4,
     "metadata": {},
     "output_type": "execute_result"
    }
   ],
   "source": [
    "data.describe()"
   ]
  },
  {
   "cell_type": "markdown",
   "metadata": {},
   "source": [
    "Всего в таблице 16715 строк. Есть много NaNов в столбцах Critic_Score, User_Score, Rating. Некоторые признаки требуют преобразования типов данных."
   ]
  },
  {
   "cell_type": "markdown",
   "metadata": {},
   "source": [
    "## Шаг 2 – Предобработка данных"
   ]
  },
  {
   "cell_type": "code",
   "execution_count": 5,
   "metadata": {},
   "outputs": [],
   "source": [
    "#Переводим названия столбцов в нижний регистр\n",
    "data.columns = [x.lower() for x in data.columns]"
   ]
  },
  {
   "cell_type": "code",
   "execution_count": 6,
   "metadata": {},
   "outputs": [],
   "source": [
    "#Аббревеатура \"tbd\" означает \"Будет определено позже\", значит пока пользовательского рейтинга у игры нет, удаляю\n",
    "data = data.query('user_score != \"tbd\"')"
   ]
  },
  {
   "cell_type": "code",
   "execution_count": 7,
   "metadata": {},
   "outputs": [],
   "source": [
    "#Удаляю NaNы\n",
    "data = data.dropna().reset_index(drop=True)"
   ]
  },
  {
   "cell_type": "code",
   "execution_count": 8,
   "metadata": {},
   "outputs": [
    {
     "name": "stdout",
     "output_type": "stream",
     "text": [
      "<class 'pandas.core.frame.DataFrame'>\n",
      "RangeIndex: 6826 entries, 0 to 6825\n",
      "Data columns (total 11 columns):\n",
      "name               6826 non-null object\n",
      "platform           6826 non-null object\n",
      "year_of_release    6826 non-null int64\n",
      "genre              6826 non-null object\n",
      "na_sales           6826 non-null float64\n",
      "eu_sales           6826 non-null float64\n",
      "jp_sales           6826 non-null float64\n",
      "other_sales        6826 non-null float64\n",
      "critic_score       6826 non-null int64\n",
      "user_score         6826 non-null float64\n",
      "rating             6826 non-null object\n",
      "dtypes: float64(5), int64(2), object(4)\n",
      "memory usage: 586.7+ KB\n"
     ]
    }
   ],
   "source": [
    "#Преобразуем данные в нужные типы\n",
    "data['year_of_release'] = data['year_of_release'].astype('int') #переводим в int, чтобы извавиться от .0 в значении года\n",
    "data['critic_score'] = data['critic_score'].astype('int') #переводим в int, т.к тут хранятся целочисленные значения\n",
    "data['user_score'] = data['user_score'].astype('float') #тут значения имеют один знак после запятой, храним во флоат\n",
    "data.info()"
   ]
  },
  {
   "cell_type": "code",
   "execution_count": 9,
   "metadata": {},
   "outputs": [],
   "source": [
    "#Данные за 2016 год могут быть не полными, значит обрежем их\n",
    "#data = data.query('year_of_release != 2016')"
   ]
  },
  {
   "cell_type": "code",
   "execution_count": 10,
   "metadata": {},
   "outputs": [],
   "source": [
    "#Создадим столбец с суммарными продажами по Миру\n",
    "data['world_sales'] = data['na_sales'] + data['eu_sales'] + data['jp_sales'] + data['other_sales']"
   ]
  },
  {
   "cell_type": "markdown",
   "metadata": {},
   "source": [
    "\n",
    "\n",
    "<font color='blue'> После удаления NaNов и строк со значением tbd, из 16713 осталось 6414 строк. Надеюсь, этого достаточно, чтобы выявить закономерность уcпешности игр."
   ]
  },
  {
   "cell_type": "markdown",
   "metadata": {},
   "source": [
    "## Шаг 3 – Исследовательский анализ данных"
   ]
  },
  {
   "cell_type": "code",
   "execution_count": 11,
   "metadata": {},
   "outputs": [
    {
     "data": {
      "text/plain": [
       "<matplotlib.axes._subplots.AxesSubplot at 0x7f470cd00950>"
      ]
     },
     "execution_count": 11,
     "metadata": {},
     "output_type": "execute_result"
    },
    {
     "data": {
      "image/png": "[encoded data removed]",
      "text/plain": [
       "<Figure size 576x360 with 1 Axes>"
      ]
     },
     "metadata": {
      "needs_background": "light"
     },
     "output_type": "display_data"
    }
   ],
   "source": [
    "data.pivot_table(index='year_of_release', values='na_sales', aggfunc='count').plot(title='Количество релизов по годам')"
   ]
  },
  {
   "cell_type": "markdown",
   "metadata": {},
   "source": [
    "<font color='blue'> Рынок игр начал экспоненциальное развитие в конце 90 годов. Достигнув пика 2009 году количество резилов снижается. Игр стали выпускать меньше."
   ]
  },
  {
   "cell_type": "code",
   "execution_count": 12,
   "metadata": {},
   "outputs": [
    {
     "data": {
      "text/plain": [
       "<matplotlib.axes._subplots.AxesSubplot at 0x7f470c5ab410>"
      ]
     },
     "execution_count": 12,
     "metadata": {},
     "output_type": "execute_result"
    },
    {
     "data": {
      "image/png": "[encoded data removed]",
      "text/plain": [
       "<Figure size 576x360 with 1 Axes>"
      ]
     },
     "metadata": {
      "needs_background": "light"
     },
     "output_type": "display_data"
    }
   ],
   "source": [
    "#Посмотрим продажи по регионам\n",
    "sales_data = data[[x for x in data.columns if 'sales' in x] + ['year_of_release']]\n",
    "sales_data.groupby('year_of_release').sum().plot()"
   ]
  },
  {
   "cell_type": "markdown",
   "metadata": {},
   "source": [
    "<font color='blue'> До 2000 года индустрия видеоигр была в зачаточном состоянии, рынок еще не сформировался. Я думаю можно обрезать датафрейм ниже 2000 года.\n"
   ]
  },
  {
   "cell_type": "code",
   "execution_count": 13,
   "metadata": {},
   "outputs": [],
   "source": [
    "data = data.query('year_of_release > 2000')"
   ]
  },
  {
   "cell_type": "code",
   "execution_count": 14,
   "metadata": {},
   "outputs": [
    {
     "data": {
      "text/plain": [
       "<matplotlib.axes._subplots.AxesSubplot at 0x7f470c545790>"
      ]
     },
     "execution_count": 14,
     "metadata": {},
     "output_type": "execute_result"
    },
    {
     "data": {
      "image/png": "[encoded data removed]",
      "text/plain": [
       "<Figure size 576x360 with 1 Axes>"
      ]
     },
     "metadata": {
      "needs_background": "light"
     },
     "output_type": "display_data"
    }
   ],
   "source": [
    "data.pivot_table(index='year_of_release', values='na_sales', aggfunc='count').plot(title='Количество релизов по годам')"
   ]
  },
  {
   "cell_type": "markdown",
   "metadata": {},
   "source": [
    "<font color='blue'> И тут у меня зачесались руки попробовать Plotly"
   ]
  },
  {
   "cell_type": "code",
   "execution_count": 15,
   "metadata": {
    "scrolled": true
   },
   "outputs": [
    {
     "data": {
      "application/vnd.plotly.v1+json": {
       "config": {
        "linkText": "Export to plot.ly",
        "plotlyServerURL": "https://plot.ly",
        "showLink": false
       },
       "data": [
        {
         "name": "Продажи в Северной Америке",
         "type": "bar",
         "x": [
          "DS",
          "PS2",
          "PS3",
          "Wii",
          "3DS",
          "PSP",
          "GBA",
          "GC",
          "WiiU",
          "X360",
          "PS4",
          "PSV",
          "XB",
          "DC",
          "PS",
          "XOne",
          "PC"
         ],
         "y": [
          173.4000000000003,
          459.2699999999985,
          341.6199999999998,
          342.9100000000005,
          48.67000000000001,
          81.69999999999992,
          79.38999999999996,
          107.93000000000006,
          30.689999999999994,
          533.4300000000001,
          84.1600000000001,
          9.929999999999982,
          152.49000000000066,
          0,
          9.700000000000001,
          75.58000000000006,
          57.089999999999996
         ]
        },
        {
         "name": "Продажи в Европе",
         "type": "bar",
         "x": [
          "DS",
          "PS2",
          "PS3",
          "Wii",
          "3DS",
          "PSP",
          "GBA",
          "GC",
          "WiiU",
          "X360",
          "PS4",
          "PSV",
          "XB",
          "DC",
          "PS",
          "XOne",
          "PC"
         ],
         "y": [
          95.30000000000032,
          246.62000000000063,
          273.4999999999988,
          204.12999999999994,
          33.33000000000001,
          49.13000000000003,
          32.59999999999997,
          30.930000000000064,
          20.420000000000012,
          234.33000000000007,
          111.7799999999999,
          8.769999999999984,
          50.030000000000065,
          0,
          7.91,
          42.019999999999996,
          101.73000000000019
         ]
        },
        {
         "name": "Продажи в Японии",
         "type": "bar",
         "x": [
          "DS",
          "PS2",
          "PS3",
          "Wii",
          "3DS",
          "PSP",
          "GBA",
          "GC",
          "WiiU",
          "X360",
          "PS4",
          "PSV",
          "XB",
          "DC",
          "PS",
          "XOne",
          "PC"
         ],
         "y": [
          83.66,
          71.08999999999999,
          54.52000000000006,
          52.36999999999995,
          33.57000000000001,
          25.359999999999996,
          16.13,
          16.12,
          10.169999999999996,
          10.089999999999952,
          9.289999999999983,
          7.619999999999994,
          1.2000000000000004,
          0.53,
          0.43999999999999995,
          0.2900000000000001,
          0.08
         ]
        },
        {
         "name": "Продажи других регионах",
         "type": "bar",
         "x": [
          "DS",
          "PS2",
          "PS3",
          "Wii",
          "3DS",
          "PSP",
          "GBA",
          "GC",
          "WiiU",
          "X360",
          "PS4",
          "PSV",
          "XB",
          "DC",
          "PS",
          "XOne",
          "PC"
         ],
         "y": [
          29.860000000000202,
          139.52999999999938,
          114.81000000000017,
          59.56,
          7.6499999999999835,
          31.490000000000148,
          3.5799999999999845,
          4.269999999999976,
          4.799999999999995,
          75.39000000000087,
          37.76999999999999,
          4.5099999999999865,
          7.219999999999933,
          0,
          1.2000000000000006,
          11.589999999999984,
          17.600000000000165
         ]
        }
       ],
       "layout": {
        "template": {
         "data": {
          "bar": [
           {
            "error_x": {
             "color": "#2a3f5f"
            },
            "error_y": {
             "color": "#2a3f5f"
            },
            "marker": {
             "line": {
              "color": "#E5ECF6",
              "width": 0.5
             }
            },
            "type": "bar"
           }
          ],
          "barpolar": [
           {
            "marker": {
             "line": {
              "color": "#E5ECF6",
              "width": 0.5
             }
            },
            "type": "barpolar"
           }
          ],
          "carpet": [
           {
            "aaxis": {
             "endlinecolor": "#2a3f5f",
             "gridcolor": "white",
             "linecolor": "white",
             "minorgridcolor": "white",
             "startlinecolor": "#2a3f5f"
            },
            "baxis": {
             "endlinecolor": "#2a3f5f",
             "gridcolor": "white",
             "linecolor": "white",
             "minorgridcolor": "white",
             "startlinecolor": "#2a3f5f"
            },
            "type": "carpet"
           }
          ],
          "choropleth": [
           {
            "colorbar": {
             "outlinewidth": 0,
             "ticks": ""
            },
            "type": "choropleth"
           }
          ],
          "contour": [
           {
            "colorbar": {
             "outlinewidth": 0,
             "ticks": ""
            },
            "colorscale": [
             [
              0,
              "#0d0887"
             ],
             [
              0.1111111111111111,
              "#46039f"
             ],
             [
              0.2222222222222222,
              "#7201a8"
             ],
             [
              0.3333333333333333,
              "#9c179e"
             ],
             [
              0.4444444444444444,
              "#bd3786"
             ],
             [
              0.5555555555555556,
              "#d8576b"
             ],
             [
              0.6666666666666666,
              "#ed7953"
             ],
             [
              0.7777777777777778,
              "#fb9f3a"
             ],
             [
              0.8888888888888888,
              "#fdca26"
             ],
             [
              1,
              "#f0f921"
             ]
            ],
            "type": "contour"
           }
          ],
          "contourcarpet": [
           {
            "colorbar": {
             "outlinewidth": 0,
             "ticks": ""
            },
            "type": "contourcarpet"
           }
          ],
          "heatmap": [
           {
            "colorbar": {
             "outlinewidth": 0,
             "ticks": ""
            },
            "colorscale": [
             [
              0,
              "#0d0887"
             ],
             [
              0.1111111111111111,
              "#46039f"
             ],
             [
              0.2222222222222222,
              "#7201a8"
             ],
             [
              0.3333333333333333,
              "#9c179e"
             ],
             [
              0.4444444444444444,
              "#bd3786"
             ],
             [
              0.5555555555555556,
              "#d8576b"
             ],
             [
              0.6666666666666666,
              "#ed7953"
             ],
             [
              0.7777777777777778,
              "#fb9f3a"
             ],
             [
              0.8888888888888888,
              "#fdca26"
             ],
             [
              1,
              "#f0f921"
             ]
            ],
            "type": "heatmap"
           }
          ],
          "heatmapgl": [
           {
            "colorbar": {
             "outlinewidth": 0,
             "ticks": ""
            },
            "colorscale": [
             [
              0,
              "#0d0887"
             ],
             [
              0.1111111111111111,
              "#46039f"
             ],
             [
              0.2222222222222222,
              "#7201a8"
             ],
             [
              0.3333333333333333,
              "#9c179e"
             ],
             [
              0.4444444444444444,
              "#bd3786"
             ],
             [
              0.5555555555555556,
              "#d8576b"
             ],
             [
              0.6666666666666666,
              "#ed7953"
             ],
             [
              0.7777777777777778,
              "#fb9f3a"
             ],
             [
              0.8888888888888888,
              "#fdca26"
             ],
             [
              1,
              "#f0f921"
             ]
            ],
            "type": "heatmapgl"
           }
          ],
          "histogram": [
           {
            "marker": {
             "colorbar": {
              "outlinewidth": 0,
              "ticks": ""
             }
            },
            "type": "histogram"
           }
          ],
          "histogram2d": [
           {
            "colorbar": {
             "outlinewidth": 0,
             "ticks": ""
            },
            "colorscale": [
             [
              0,
              "#0d0887"
             ],
             [
              0.1111111111111111,
              "#46039f"
             ],
             [
              0.2222222222222222,
              "#7201a8"
             ],
             [
              0.3333333333333333,
              "#9c179e"
             ],
             [
              0.4444444444444444,
              "#bd3786"
             ],
             [
              0.5555555555555556,
              "#d8576b"
             ],
             [
              0.6666666666666666,
              "#ed7953"
             ],
             [
              0.7777777777777778,
              "#fb9f3a"
             ],
             [
              0.8888888888888888,
              "#fdca26"
             ],
             [
              1,
              "#f0f921"
             ]
            ],
            "type": "histogram2d"
           }
          ],
          "histogram2dcontour": [
           {
            "colorbar": {
             "outlinewidth": 0,
             "ticks": ""
            },
            "colorscale": [
             [
              0,
              "#0d0887"
             ],
             [
              0.1111111111111111,
              "#46039f"
             ],
             [
              0.2222222222222222,
              "#7201a8"
             ],
             [
              0.3333333333333333,
              "#9c179e"
             ],
             [
              0.4444444444444444,
              "#bd3786"
             ],
             [
              0.5555555555555556,
              "#d8576b"
             ],
             [
              0.6666666666666666,
              "#ed7953"
             ],
             [
              0.7777777777777778,
              "#fb9f3a"
             ],
             [
              0.8888888888888888,
              "#fdca26"
             ],
             [
              1,
              "#f0f921"
             ]
            ],
            "type": "histogram2dcontour"
           }
          ],
          "mesh3d": [
           {
            "colorbar": {
             "outlinewidth": 0,
             "ticks": ""
            },
            "type": "mesh3d"
           }
          ],
          "parcoords": [
           {
            "line": {
             "colorbar": {
              "outlinewidth": 0,
              "ticks": ""
             }
            },
            "type": "parcoords"
           }
          ],
          "scatter": [
           {
            "marker": {
             "colorbar": {
              "outlinewidth": 0,
              "ticks": ""
             }
            },
            "type": "scatter"
           }
          ],
          "scatter3d": [
           {
            "line": {
             "colorbar": {
              "outlinewidth": 0,
              "ticks": ""
             }
            },
            "marker": {
             "colorbar": {
              "outlinewidth": 0,
              "ticks": ""
             }
            },
            "type": "scatter3d"
           }
          ],
          "scattercarpet": [
           {
            "marker": {
             "colorbar": {
              "outlinewidth": 0,
              "ticks": ""
             }
            },
            "type": "scattercarpet"
           }
          ],
          "scattergeo": [
           {
            "marker": {
             "colorbar": {
              "outlinewidth": 0,
              "ticks": ""
             }
            },
            "type": "scattergeo"
           }
          ],
          "scattergl": [
           {
            "marker": {
             "colorbar": {
              "outlinewidth": 0,
              "ticks": ""
             }
            },
            "type": "scattergl"
           }
          ],
          "scattermapbox": [
           {
            "marker": {
             "colorbar": {
              "outlinewidth": 0,
              "ticks": ""
             }
            },
            "type": "scattermapbox"
           }
          ],
          "scatterpolar": [
           {
            "marker": {
             "colorbar": {
              "outlinewidth": 0,
              "ticks": ""
             }
            },
            "type": "scatterpolar"
           }
          ],
          "scatterpolargl": [
           {
            "marker": {
             "colorbar": {
              "outlinewidth": 0,
              "ticks": ""
             }
            },
            "type": "scatterpolargl"
           }
          ],
          "scatterternary": [
           {
            "marker": {
             "colorbar": {
              "outlinewidth": 0,
              "ticks": ""
             }
            },
            "type": "scatterternary"
           }
          ],
          "surface": [
           {
            "colorbar": {
             "outlinewidth": 0,
             "ticks": ""
            },
            "colorscale": [
             [
              0,
              "#0d0887"
             ],
             [
              0.1111111111111111,
              "#46039f"
             ],
             [
              0.2222222222222222,
              "#7201a8"
             ],
             [
              0.3333333333333333,
              "#9c179e"
             ],
             [
              0.4444444444444444,
              "#bd3786"
             ],
             [
              0.5555555555555556,
              "#d8576b"
             ],
             [
              0.6666666666666666,
              "#ed7953"
             ],
             [
              0.7777777777777778,
              "#fb9f3a"
             ],
             [
              0.8888888888888888,
              "#fdca26"
             ],
             [
              1,
              "#f0f921"
             ]
            ],
            "type": "surface"
           }
          ],
          "table": [
           {
            "cells": {
             "fill": {
              "color": "#EBF0F8"
             },
             "line": {
              "color": "white"
             }
            },
            "header": {
             "fill": {
              "color": "#C8D4E3"
             },
             "line": {
              "color": "white"
             }
            },
            "type": "table"
           }
          ]
         },
         "layout": {
          "annotationdefaults": {
           "arrowcolor": "#2a3f5f",
           "arrowhead": 0,
           "arrowwidth": 1
          },
          "colorscale": {
           "diverging": [
            [
             0,
             "#8e0152"
            ],
            [
             0.1,
             "#c51b7d"
            ],
            [
             0.2,
             "#de77ae"
            ],
            [
             0.3,
             "#f1b6da"
            ],
            [
             0.4,
             "#fde0ef"
            ],
            [
             0.5,
             "#f7f7f7"
            ],
            [
             0.6,
             "#e6f5d0"
            ],
            [
             0.7,
             "#b8e186"
            ],
            [
             0.8,
             "#7fbc41"
            ],
            [
             0.9,
             "#4d9221"
            ],
            [
             1,
             "#276419"
            ]
           ],
           "sequential": [
            [
             0,
             "#0d0887"
            ],
            [
             0.1111111111111111,
             "#46039f"
            ],
            [
             0.2222222222222222,
             "#7201a8"
            ],
            [
             0.3333333333333333,
             "#9c179e"
            ],
            [
             0.4444444444444444,
             "#bd3786"
            ],
            [
             0.5555555555555556,
             "#d8576b"
            ],
            [
             0.6666666666666666,
             "#ed7953"
            ],
            [
             0.7777777777777778,
             "#fb9f3a"
            ],
            [
             0.8888888888888888,
             "#fdca26"
            ],
            [
             1,
             "#f0f921"
            ]
           ],
           "sequentialminus": [
            [
             0,
             "#0d0887"
            ],
            [
             0.1111111111111111,
             "#46039f"
            ],
            [
             0.2222222222222222,
             "#7201a8"
            ],
            [
             0.3333333333333333,
             "#9c179e"
            ],
            [
             0.4444444444444444,
             "#bd3786"
            ],
            [
             0.5555555555555556,
             "#d8576b"
            ],
            [
             0.6666666666666666,
             "#ed7953"
            ],
            [
             0.7777777777777778,
             "#fb9f3a"
            ],
            [
             0.8888888888888888,
             "#fdca26"
            ],
            [
             1,
             "#f0f921"
            ]
           ]
          },
          "colorway": [
           "#636efa",
           "#EF553B",
           "#00cc96",
           "#ab63fa",
           "#FFA15A",
           "#19d3f3",
           "#FF6692",
           "#B6E880",
           "#FF97FF",
           "#FECB52"
          ],
          "font": {
           "color": "#2a3f5f"
          },
          "geo": {
           "bgcolor": "white",
           "lakecolor": "white",
           "landcolor": "#E5ECF6",
           "showlakes": true,
           "showland": true,
           "subunitcolor": "white"
          },
          "hoverlabel": {
           "align": "left"
          },
          "hovermode": "closest",
          "mapbox": {
           "style": "light"
          },
          "paper_bgcolor": "white",
          "plot_bgcolor": "#E5ECF6",
          "polar": {
           "angularaxis": {
            "gridcolor": "white",
            "linecolor": "white",
            "ticks": ""
           },
           "bgcolor": "#E5ECF6",
           "radialaxis": {
            "gridcolor": "white",
            "linecolor": "white",
            "ticks": ""
           }
          },
          "scene": {
           "xaxis": {
            "backgroundcolor": "#E5ECF6",
            "gridcolor": "white",
            "gridwidth": 2,
            "linecolor": "white",
            "showbackground": true,
            "ticks": "",
            "zerolinecolor": "white"
           },
           "yaxis": {
            "backgroundcolor": "#E5ECF6",
            "gridcolor": "white",
            "gridwidth": 2,
            "linecolor": "white",
            "showbackground": true,
            "ticks": "",
            "zerolinecolor": "white"
           },
           "zaxis": {
            "backgroundcolor": "#E5ECF6",
            "gridcolor": "white",
            "gridwidth": 2,
            "linecolor": "white",
            "showbackground": true,
            "ticks": "",
            "zerolinecolor": "white"
           }
          },
          "shapedefaults": {
           "line": {
            "color": "#2a3f5f"
           }
          },
          "ternary": {
           "aaxis": {
            "gridcolor": "white",
            "linecolor": "white",
            "ticks": ""
           },
           "baxis": {
            "gridcolor": "white",
            "linecolor": "white",
            "ticks": ""
           },
           "bgcolor": "#E5ECF6",
           "caxis": {
            "gridcolor": "white",
            "linecolor": "white",
            "ticks": ""
           }
          },
          "title": {
           "x": 0.05
          },
          "xaxis": {
           "automargin": true,
           "gridcolor": "white",
           "linecolor": "white",
           "ticks": "",
           "zerolinecolor": "white",
           "zerolinewidth": 2
          },
          "yaxis": {
           "automargin": true,
           "gridcolor": "white",
           "linecolor": "white",
           "ticks": "",
           "zerolinecolor": "white",
           "zerolinewidth": 2
          }
         }
        },
        "title": {
         "text": "Продажи игр на разных платформах по регионам"
        },
        "xaxis": {
         "title": {
          "text": "platform"
         }
        }
       }
      },
      "text/html": [
       "<div>\n",
       "        \n",
       "        \n",
       "            <div id=\"537f9078-f972-4684-8291-6c187315328b\" class=\"plotly-graph-div\" style=\"height:525px; width:100%;\"></div>\n",
       "            <script type=\"text/javascript\">\n",
       "                require([\"plotly\"], function(Plotly) {\n",
       "                    window.PLOTLYENV=window.PLOTLYENV || {};\n",
       "                    \n",
       "                if (document.getElementById(\"537f9078-f972-4684-8291-6c187315328b\")) {\n",
       "                    Plotly.newPlot(\n",
       "                        '537f9078-f972-4684-8291-6c187315328b',\n",
       "                        [{\"name\": \"\\u041f\\u0440\\u043e\\u0434\\u0430\\u0436\\u0438 \\u0432 \\u0421\\u0435\\u0432\\u0435\\u0440\\u043d\\u043e\\u0439 \\u0410\\u043c\\u0435\\u0440\\u0438\\u043a\\u0435\", \"type\": \"bar\", \"x\": [\"DS\", \"PS2\", \"PS3\", \"Wii\", \"3DS\", \"PSP\", \"GBA\", \"GC\", \"WiiU\", \"X360\", \"PS4\", \"PSV\", \"XB\", \"DC\", \"PS\", \"XOne\", \"PC\"], \"y\": [173.4000000000003, 459.2699999999985, 341.6199999999998, 342.9100000000005, 48.67000000000001, 81.69999999999992, 79.38999999999996, 107.93000000000006, 30.689999999999994, 533.4300000000001, 84.1600000000001, 9.929999999999982, 152.49000000000066, 0.0, 9.700000000000001, 75.58000000000006, 57.089999999999996]}, {\"name\": \"\\u041f\\u0440\\u043e\\u0434\\u0430\\u0436\\u0438 \\u0432 \\u0415\\u0432\\u0440\\u043e\\u043f\\u0435\", \"type\": \"bar\", \"x\": [\"DS\", \"PS2\", \"PS3\", \"Wii\", \"3DS\", \"PSP\", \"GBA\", \"GC\", \"WiiU\", \"X360\", \"PS4\", \"PSV\", \"XB\", \"DC\", \"PS\", \"XOne\", \"PC\"], \"y\": [95.30000000000032, 246.62000000000063, 273.4999999999988, 204.12999999999994, 33.33000000000001, 49.13000000000003, 32.59999999999997, 30.930000000000064, 20.420000000000012, 234.33000000000007, 111.7799999999999, 8.769999999999984, 50.030000000000065, 0.0, 7.91, 42.019999999999996, 101.73000000000019]}, {\"name\": \"\\u041f\\u0440\\u043e\\u0434\\u0430\\u0436\\u0438 \\u0432 \\u042f\\u043f\\u043e\\u043d\\u0438\\u0438\", \"type\": \"bar\", \"x\": [\"DS\", \"PS2\", \"PS3\", \"Wii\", \"3DS\", \"PSP\", \"GBA\", \"GC\", \"WiiU\", \"X360\", \"PS4\", \"PSV\", \"XB\", \"DC\", \"PS\", \"XOne\", \"PC\"], \"y\": [83.66, 71.08999999999999, 54.52000000000006, 52.36999999999995, 33.57000000000001, 25.359999999999996, 16.13, 16.12, 10.169999999999996, 10.089999999999952, 9.289999999999983, 7.619999999999994, 1.2000000000000004, 0.53, 0.43999999999999995, 0.2900000000000001, 0.08]}, {\"name\": \"\\u041f\\u0440\\u043e\\u0434\\u0430\\u0436\\u0438 \\u0434\\u0440\\u0443\\u0433\\u0438\\u0445 \\u0440\\u0435\\u0433\\u0438\\u043e\\u043d\\u0430\\u0445\", \"type\": \"bar\", \"x\": [\"DS\", \"PS2\", \"PS3\", \"Wii\", \"3DS\", \"PSP\", \"GBA\", \"GC\", \"WiiU\", \"X360\", \"PS4\", \"PSV\", \"XB\", \"DC\", \"PS\", \"XOne\", \"PC\"], \"y\": [29.860000000000202, 139.52999999999938, 114.81000000000017, 59.56, 7.6499999999999835, 31.490000000000148, 3.5799999999999845, 4.269999999999976, 4.799999999999995, 75.39000000000087, 37.76999999999999, 4.5099999999999865, 7.219999999999933, 0.0, 1.2000000000000006, 11.589999999999984, 17.600000000000165]}],\n",
       "                        {\"template\": {\"data\": {\"bar\": [{\"error_x\": {\"color\": \"#2a3f5f\"}, \"error_y\": {\"color\": \"#2a3f5f\"}, \"marker\": {\"line\": {\"color\": \"#E5ECF6\", \"width\": 0.5}}, \"type\": \"bar\"}], \"barpolar\": [{\"marker\": {\"line\": {\"color\": \"#E5ECF6\", \"width\": 0.5}}, \"type\": \"barpolar\"}], \"carpet\": [{\"aaxis\": {\"endlinecolor\": \"#2a3f5f\", \"gridcolor\": \"white\", \"linecolor\": \"white\", \"minorgridcolor\": \"white\", \"startlinecolor\": \"#2a3f5f\"}, \"baxis\": {\"endlinecolor\": \"#2a3f5f\", \"gridcolor\": \"white\", \"linecolor\": \"white\", \"minorgridcolor\": \"white\", \"startlinecolor\": \"#2a3f5f\"}, \"type\": \"carpet\"}], \"choropleth\": [{\"colorbar\": {\"outlinewidth\": 0, \"ticks\": \"\"}, \"type\": \"choropleth\"}], \"contour\": [{\"colorbar\": {\"outlinewidth\": 0, \"ticks\": \"\"}, \"colorscale\": [[0.0, \"#0d0887\"], [0.1111111111111111, \"#46039f\"], [0.2222222222222222, \"#7201a8\"], [0.3333333333333333, \"#9c179e\"], [0.4444444444444444, \"#bd3786\"], [0.5555555555555556, \"#d8576b\"], [0.6666666666666666, \"#ed7953\"], [0.7777777777777778, \"#fb9f3a\"], [0.8888888888888888, \"#fdca26\"], [1.0, \"#f0f921\"]], \"type\": \"contour\"}], \"contourcarpet\": [{\"colorbar\": {\"outlinewidth\": 0, \"ticks\": \"\"}, \"type\": \"contourcarpet\"}], \"heatmap\": [{\"colorbar\": {\"outlinewidth\": 0, \"ticks\": \"\"}, \"colorscale\": [[0.0, \"#0d0887\"], [0.1111111111111111, \"#46039f\"], [0.2222222222222222, \"#7201a8\"], [0.3333333333333333, \"#9c179e\"], [0.4444444444444444, \"#bd3786\"], [0.5555555555555556, \"#d8576b\"], [0.6666666666666666, \"#ed7953\"], [0.7777777777777778, \"#fb9f3a\"], [0.8888888888888888, \"#fdca26\"], [1.0, \"#f0f921\"]], \"type\": \"heatmap\"}], \"heatmapgl\": [{\"colorbar\": {\"outlinewidth\": 0, \"ticks\": \"\"}, \"colorscale\": [[0.0, \"#0d0887\"], [0.1111111111111111, \"#46039f\"], [0.2222222222222222, \"#7201a8\"], [0.3333333333333333, \"#9c179e\"], [0.4444444444444444, \"#bd3786\"], [0.5555555555555556, \"#d8576b\"], [0.6666666666666666, \"#ed7953\"], [0.7777777777777778, \"#fb9f3a\"], [0.8888888888888888, \"#fdca26\"], [1.0, \"#f0f921\"]], \"type\": \"heatmapgl\"}], \"histogram\": [{\"marker\": {\"colorbar\": {\"outlinewidth\": 0, \"ticks\": \"\"}}, \"type\": \"histogram\"}], \"histogram2d\": [{\"colorbar\": {\"outlinewidth\": 0, \"ticks\": \"\"}, \"colorscale\": [[0.0, \"#0d0887\"], [0.1111111111111111, \"#46039f\"], [0.2222222222222222, \"#7201a8\"], [0.3333333333333333, \"#9c179e\"], [0.4444444444444444, \"#bd3786\"], [0.5555555555555556, \"#d8576b\"], [0.6666666666666666, \"#ed7953\"], [0.7777777777777778, \"#fb9f3a\"], [0.8888888888888888, \"#fdca26\"], [1.0, \"#f0f921\"]], \"type\": \"histogram2d\"}], \"histogram2dcontour\": [{\"colorbar\": {\"outlinewidth\": 0, \"ticks\": \"\"}, \"colorscale\": [[0.0, \"#0d0887\"], [0.1111111111111111, \"#46039f\"], [0.2222222222222222, \"#7201a8\"], [0.3333333333333333, \"#9c179e\"], [0.4444444444444444, \"#bd3786\"], [0.5555555555555556, \"#d8576b\"], [0.6666666666666666, \"#ed7953\"], [0.7777777777777778, \"#fb9f3a\"], [0.8888888888888888, \"#fdca26\"], [1.0, \"#f0f921\"]], \"type\": \"histogram2dcontour\"}], \"mesh3d\": [{\"colorbar\": {\"outlinewidth\": 0, \"ticks\": \"\"}, \"type\": \"mesh3d\"}], \"parcoords\": [{\"line\": {\"colorbar\": {\"outlinewidth\": 0, \"ticks\": \"\"}}, \"type\": \"parcoords\"}], \"scatter\": [{\"marker\": {\"colorbar\": {\"outlinewidth\": 0, \"ticks\": \"\"}}, \"type\": \"scatter\"}], \"scatter3d\": [{\"line\": {\"colorbar\": {\"outlinewidth\": 0, \"ticks\": \"\"}}, \"marker\": {\"colorbar\": {\"outlinewidth\": 0, \"ticks\": \"\"}}, \"type\": \"scatter3d\"}], \"scattercarpet\": [{\"marker\": {\"colorbar\": {\"outlinewidth\": 0, \"ticks\": \"\"}}, \"type\": \"scattercarpet\"}], \"scattergeo\": [{\"marker\": {\"colorbar\": {\"outlinewidth\": 0, \"ticks\": \"\"}}, \"type\": \"scattergeo\"}], \"scattergl\": [{\"marker\": {\"colorbar\": {\"outlinewidth\": 0, \"ticks\": \"\"}}, \"type\": \"scattergl\"}], \"scattermapbox\": [{\"marker\": {\"colorbar\": {\"outlinewidth\": 0, \"ticks\": \"\"}}, \"type\": \"scattermapbox\"}], \"scatterpolar\": [{\"marker\": {\"colorbar\": {\"outlinewidth\": 0, \"ticks\": \"\"}}, \"type\": \"scatterpolar\"}], \"scatterpolargl\": [{\"marker\": {\"colorbar\": {\"outlinewidth\": 0, \"ticks\": \"\"}}, \"type\": \"scatterpolargl\"}], \"scatterternary\": [{\"marker\": {\"colorbar\": {\"outlinewidth\": 0, \"ticks\": \"\"}}, \"type\": \"scatterternary\"}], \"surface\": [{\"colorbar\": {\"outlinewidth\": 0, \"ticks\": \"\"}, \"colorscale\": [[0.0, \"#0d0887\"], [0.1111111111111111, \"#46039f\"], [0.2222222222222222, \"#7201a8\"], [0.3333333333333333, \"#9c179e\"], [0.4444444444444444, \"#bd3786\"], [0.5555555555555556, \"#d8576b\"], [0.6666666666666666, \"#ed7953\"], [0.7777777777777778, \"#fb9f3a\"], [0.8888888888888888, \"#fdca26\"], [1.0, \"#f0f921\"]], \"type\": \"surface\"}], \"table\": [{\"cells\": {\"fill\": {\"color\": \"#EBF0F8\"}, \"line\": {\"color\": \"white\"}}, \"header\": {\"fill\": {\"color\": \"#C8D4E3\"}, \"line\": {\"color\": \"white\"}}, \"type\": \"table\"}]}, \"layout\": {\"annotationdefaults\": {\"arrowcolor\": \"#2a3f5f\", \"arrowhead\": 0, \"arrowwidth\": 1}, \"colorscale\": {\"diverging\": [[0, \"#8e0152\"], [0.1, \"#c51b7d\"], [0.2, \"#de77ae\"], [0.3, \"#f1b6da\"], [0.4, \"#fde0ef\"], [0.5, \"#f7f7f7\"], [0.6, \"#e6f5d0\"], [0.7, \"#b8e186\"], [0.8, \"#7fbc41\"], [0.9, \"#4d9221\"], [1, \"#276419\"]], \"sequential\": [[0.0, \"#0d0887\"], [0.1111111111111111, \"#46039f\"], [0.2222222222222222, \"#7201a8\"], [0.3333333333333333, \"#9c179e\"], [0.4444444444444444, \"#bd3786\"], [0.5555555555555556, \"#d8576b\"], [0.6666666666666666, \"#ed7953\"], [0.7777777777777778, \"#fb9f3a\"], [0.8888888888888888, \"#fdca26\"], [1.0, \"#f0f921\"]], \"sequentialminus\": [[0.0, \"#0d0887\"], [0.1111111111111111, \"#46039f\"], [0.2222222222222222, \"#7201a8\"], [0.3333333333333333, \"#9c179e\"], [0.4444444444444444, \"#bd3786\"], [0.5555555555555556, \"#d8576b\"], [0.6666666666666666, \"#ed7953\"], [0.7777777777777778, \"#fb9f3a\"], [0.8888888888888888, \"#fdca26\"], [1.0, \"#f0f921\"]]}, \"colorway\": [\"#636efa\", \"#EF553B\", \"#00cc96\", \"#ab63fa\", \"#FFA15A\", \"#19d3f3\", \"#FF6692\", \"#B6E880\", \"#FF97FF\", \"#FECB52\"], \"font\": {\"color\": \"#2a3f5f\"}, \"geo\": {\"bgcolor\": \"white\", \"lakecolor\": \"white\", \"landcolor\": \"#E5ECF6\", \"showlakes\": true, \"showland\": true, \"subunitcolor\": \"white\"}, \"hoverlabel\": {\"align\": \"left\"}, \"hovermode\": \"closest\", \"mapbox\": {\"style\": \"light\"}, \"paper_bgcolor\": \"white\", \"plot_bgcolor\": \"#E5ECF6\", \"polar\": {\"angularaxis\": {\"gridcolor\": \"white\", \"linecolor\": \"white\", \"ticks\": \"\"}, \"bgcolor\": \"#E5ECF6\", \"radialaxis\": {\"gridcolor\": \"white\", \"linecolor\": \"white\", \"ticks\": \"\"}}, \"scene\": {\"xaxis\": {\"backgroundcolor\": \"#E5ECF6\", \"gridcolor\": \"white\", \"gridwidth\": 2, \"linecolor\": \"white\", \"showbackground\": true, \"ticks\": \"\", \"zerolinecolor\": \"white\"}, \"yaxis\": {\"backgroundcolor\": \"#E5ECF6\", \"gridcolor\": \"white\", \"gridwidth\": 2, \"linecolor\": \"white\", \"showbackground\": true, \"ticks\": \"\", \"zerolinecolor\": \"white\"}, \"zaxis\": {\"backgroundcolor\": \"#E5ECF6\", \"gridcolor\": \"white\", \"gridwidth\": 2, \"linecolor\": \"white\", \"showbackground\": true, \"ticks\": \"\", \"zerolinecolor\": \"white\"}}, \"shapedefaults\": {\"line\": {\"color\": \"#2a3f5f\"}}, \"ternary\": {\"aaxis\": {\"gridcolor\": \"white\", \"linecolor\": \"white\", \"ticks\": \"\"}, \"baxis\": {\"gridcolor\": \"white\", \"linecolor\": \"white\", \"ticks\": \"\"}, \"bgcolor\": \"#E5ECF6\", \"caxis\": {\"gridcolor\": \"white\", \"linecolor\": \"white\", \"ticks\": \"\"}}, \"title\": {\"x\": 0.05}, \"xaxis\": {\"automargin\": true, \"gridcolor\": \"white\", \"linecolor\": \"white\", \"ticks\": \"\", \"zerolinecolor\": \"white\", \"zerolinewidth\": 2}, \"yaxis\": {\"automargin\": true, \"gridcolor\": \"white\", \"linecolor\": \"white\", \"ticks\": \"\", \"zerolinecolor\": \"white\", \"zerolinewidth\": 2}}}, \"title\": {\"text\": \"\\u041f\\u0440\\u043e\\u0434\\u0430\\u0436\\u0438 \\u0438\\u0433\\u0440 \\u043d\\u0430 \\u0440\\u0430\\u0437\\u043d\\u044b\\u0445 \\u043f\\u043b\\u0430\\u0442\\u0444\\u043e\\u0440\\u043c\\u0430\\u0445 \\u043f\\u043e \\u0440\\u0435\\u0433\\u0438\\u043e\\u043d\\u0430\\u043c\"}, \"xaxis\": {\"title\": {\"text\": \"platform\"}}},\n",
       "                        {\"responsive\": true}\n",
       "                    ).then(function(){\n",
       "                            \n",
       "var gd = document.getElementById('537f9078-f972-4684-8291-6c187315328b');\n",
       "var x = new MutationObserver(function (mutations, observer) {{\n",
       "        var display = window.getComputedStyle(gd).display;\n",
       "        if (!display || display === 'none') {{\n",
       "            console.log([gd, 'removed!']);\n",
       "            Plotly.purge(gd);\n",
       "            observer.disconnect();\n",
       "        }}\n",
       "}});\n",
       "\n",
       "// Listen for the removal of the full notebook cells\n",
       "var notebookContainer = gd.closest('#notebook-container');\n",
       "if (notebookContainer) {{\n",
       "    x.observe(notebookContainer, {childList: true});\n",
       "}}\n",
       "\n",
       "// Listen for the clearing of the current output cell\n",
       "var outputEl = gd.closest('.output');\n",
       "if (outputEl) {{\n",
       "    x.observe(outputEl, {childList: true});\n",
       "}}\n",
       "\n",
       "                        })\n",
       "                };\n",
       "                });\n",
       "            </script>\n",
       "        </div>"
      ]
     },
     "metadata": {},
     "output_type": "display_data"
    }
   ],
   "source": [
    "platforms_data = data.pivot_table(index='platform', values=('na_sales', 'eu_sales',\n",
    "       'jp_sales', 'other_sales', 'world_sales'), aggfunc='sum').sort_values(by='jp_sales', ascending=False)\n",
    "\n",
    "\n",
    "# создаем traces для визуализации\n",
    "trace0 = go.Bar(\n",
    "    x=platforms_data.index,\n",
    "    y=platforms_data.na_sales,\n",
    "    name='Продажи в Северной Америке'\n",
    ")\n",
    "\n",
    "trace1 = go.Bar(\n",
    "    x=platforms_data.index,\n",
    "    y=platforms_data.eu_sales,\n",
    "    name='Продажи в Европе'\n",
    ")\n",
    "\n",
    "trace2 = go.Bar(\n",
    "    x=platforms_data.index,\n",
    "    y=platforms_data.jp_sales,\n",
    "    name='Продажи в Японии'\n",
    ")\n",
    "\n",
    "trace3 = go.Bar(\n",
    "    x=platforms_data.index,\n",
    "    y=platforms_data.other_sales,\n",
    "    name='Продажи других регионах'\n",
    ")\n",
    "\n",
    "\n",
    "# создаем массив с данными и задаем title для графика и оси x в layout\n",
    "data_for_plot = [trace0, trace1, trace2, trace3]\n",
    "layout = {'title': 'Продажи игр на разных платформах по регионам', 'xaxis': {'title': 'platform'}}\n",
    "\n",
    "# создаем объект Figure и визуализируем его\n",
    "fig = go.Figure(data=data_for_plot, layout=layout)\n",
    "iplot(fig, show_link=False)"
   ]
  },
  {
   "cell_type": "markdown",
   "metadata": {},
   "source": [
    "По суммарных продажам лидируют в Северной Америке и Европе лидируют PS2, X360, PS3. У пользователей из Японии вкусы отличаюnся. У них самые популярные платформы DS, PS2, PS3."
   ]
  },
  {
   "cell_type": "code",
   "execution_count": 17,
   "metadata": {},
   "outputs": [
    {
     "data": {
      "application/vnd.plotly.v1+json": {
       "config": {
        "linkText": "Export to plot.ly",
        "plotlyServerURL": "https://plot.ly",
        "showLink": false
       },
       "data": [
        {
         "name": "Wii",
         "type": "box",
         "y": [
          0.01,
          0.02,
          0.02,
          0.02,
          0.02,
          0.02,
          0.03,
          0.03,
          0.03,
          0.04,
          0.04,
          0.04,
          0.04,
          0.04,
          0.04,
          0.04,
          0.04,
          0.04,
          0.05,
          0.05,
          0.05,
          0.05,
          0.05,
          0.05,
          0.05,
          0.05,
          0.05,
          0.05,
          0.06,
          0.06,
          0.06,
          0.06,
          0.06,
          0.06,
          0.060000000000000005,
          0.06999999999999999,
          0.06999999999999999,
          0.06999999999999999,
          0.06999999999999999,
          0.07,
          0.07999999999999999,
          0.07999999999999999,
          0.07999999999999999,
          0.07999999999999999,
          0.08,
          0.08,
          0.08,
          0.08,
          0.08,
          0.09,
          0.09,
          0.09,
          0.09,
          0.09,
          0.09,
          0.09,
          0.09,
          0.09,
          0.09,
          0.09,
          0.09999999999999999,
          0.09999999999999999,
          0.09999999999999999,
          0.09999999999999999,
          0.09999999999999999,
          0.09999999999999999,
          0.09999999999999999,
          0.09999999999999999,
          0.09999999999999999,
          0.09999999999999999,
          0.09999999999999999,
          0.1,
          0.10999999999999999,
          0.10999999999999999,
          0.11,
          0.11,
          0.11,
          0.11,
          0.11,
          0.12,
          0.12,
          0.12,
          0.12,
          0.12,
          0.12,
          0.12,
          0.12,
          0.12,
          0.12,
          0.12000000000000001,
          0.13,
          0.13,
          0.13,
          0.13,
          0.13,
          0.13,
          0.13,
          0.13,
          0.13999999999999999,
          0.14,
          0.14,
          0.14,
          0.14,
          0.14,
          0.14,
          0.14,
          0.14,
          0.14,
          0.15000000000000002,
          0.15000000000000002,
          0.15000000000000002,
          0.15000000000000002,
          0.15000000000000002,
          0.15000000000000002,
          0.16,
          0.16,
          0.16,
          0.16,
          0.16,
          0.16000000000000003,
          0.16000000000000003,
          0.16999999999999998,
          0.17,
          0.17,
          0.18,
          0.18,
          0.18,
          0.18000000000000002,
          0.18000000000000002,
          0.18000000000000002,
          0.18000000000000002,
          0.18000000000000002,
          0.18999999999999997,
          0.18999999999999997,
          0.19,
          0.19,
          0.19,
          0.19,
          0.19999999999999998,
          0.19999999999999998,
          0.2,
          0.2,
          0.2,
          0.2,
          0.2,
          0.21,
          0.21,
          0.21,
          0.21000000000000002,
          0.21999999999999997,
          0.22,
          0.22,
          0.22,
          0.22,
          0.22,
          0.22,
          0.22,
          0.22999999999999998,
          0.22999999999999998,
          0.22999999999999998,
          0.23,
          0.23,
          0.23,
          0.23000000000000004,
          0.24,
          0.24,
          0.24,
          0.24,
          0.24000000000000002,
          0.25,
          0.25,
          0.25,
          0.26,
          0.26,
          0.26,
          0.26,
          0.27,
          0.27,
          0.27,
          0.27,
          0.28,
          0.28,
          0.28,
          0.28,
          0.28,
          0.28,
          0.28,
          0.28,
          0.29000000000000004,
          0.29000000000000004,
          0.29000000000000004,
          0.29000000000000004,
          0.29000000000000004,
          0.29000000000000004,
          0.29000000000000004,
          0.29000000000000004,
          0.30000000000000004,
          0.30000000000000004,
          0.31,
          0.31000000000000005,
          0.31000000000000005,
          0.32,
          0.32000000000000006,
          0.32999999999999996,
          0.32999999999999996,
          0.32999999999999996,
          0.33,
          0.33000000000000007,
          0.33000000000000007,
          0.33999999999999997,
          0.33999999999999997,
          0.33999999999999997,
          0.34,
          0.34,
          0.3500000000000001,
          0.36,
          0.36,
          0.36,
          0.36,
          0.36,
          0.36,
          0.36,
          0.36,
          0.36,
          0.36999999999999994,
          0.37,
          0.37,
          0.37,
          0.38,
          0.38,
          0.39,
          0.39,
          0.39,
          0.39,
          0.39999999999999997,
          0.4,
          0.4,
          0.4,
          0.41000000000000003,
          0.41000000000000003,
          0.42,
          0.42000000000000004,
          0.42999999999999994,
          0.43,
          0.43,
          0.43000000000000005,
          0.43000000000000005,
          0.43999999999999995,
          0.44,
          0.44,
          0.44,
          0.44000000000000006,
          0.44999999999999996,
          0.45,
          0.45,
          0.45,
          0.45999999999999996,
          0.46,
          0.46,
          0.46,
          0.46,
          0.47,
          0.47,
          0.47000000000000003,
          0.47000000000000003,
          0.47000000000000003,
          0.47000000000000003,
          0.4700000000000001,
          0.4799999999999999,
          0.48,
          0.49999999999999994,
          0.49999999999999994,
          0.5,
          0.5,
          0.5,
          0.5,
          0.5000000000000001,
          0.51,
          0.51,
          0.51,
          0.51,
          0.51,
          0.53,
          0.53,
          0.53,
          0.53,
          0.54,
          0.54,
          0.54,
          0.54,
          0.54,
          0.5499999999999999,
          0.55,
          0.56,
          0.56,
          0.56,
          0.56,
          0.5700000000000001,
          0.5700000000000001,
          0.5800000000000001,
          0.5800000000000001,
          0.5800000000000001,
          0.5900000000000001,
          0.5900000000000001,
          0.6,
          0.61,
          0.61,
          0.6100000000000001,
          0.6200000000000001,
          0.6200000000000001,
          0.6300000000000001,
          0.65,
          0.6500000000000001,
          0.6500000000000001,
          0.6500000000000001,
          0.6600000000000001,
          0.67,
          0.68,
          0.69,
          0.71,
          0.72,
          0.72,
          0.72,
          0.73,
          0.73,
          0.7300000000000001,
          0.75,
          0.75,
          0.75,
          0.75,
          0.76,
          0.76,
          0.77,
          0.78,
          0.79,
          0.8,
          0.81,
          0.83,
          0.83,
          0.83,
          0.8300000000000001,
          0.8400000000000001,
          0.85,
          0.85,
          0.8500000000000001,
          0.8600000000000001,
          0.87,
          0.8700000000000001,
          0.88,
          0.88,
          0.88,
          0.8800000000000001,
          0.9099999999999999,
          0.91,
          0.91,
          0.92,
          0.93,
          0.94,
          0.96,
          0.96,
          0.9699999999999999,
          0.98,
          0.99,
          1,
          1.01,
          1.02,
          1.02,
          1.02,
          1.02,
          1.02,
          1.02,
          1.03,
          1.03,
          1.03,
          1.04,
          1.06,
          1.06,
          1.0699999999999998,
          1.07,
          1.07,
          1.09,
          1.09,
          1.1,
          1.13,
          1.1700000000000002,
          1.19,
          1.21,
          1.21,
          1.2200000000000002,
          1.2400000000000002,
          1.2599999999999998,
          1.26,
          1.27,
          1.27,
          1.2799999999999998,
          1.28,
          1.29,
          1.35,
          1.35,
          1.37,
          1.4,
          1.4100000000000001,
          1.4100000000000001,
          1.42,
          1.43,
          1.5099999999999998,
          1.5300000000000002,
          1.54,
          1.54,
          1.5499999999999998,
          1.5499999999999998,
          1.5499999999999998,
          1.5799999999999998,
          1.58,
          1.65,
          1.65,
          1.6500000000000001,
          1.6500000000000001,
          1.6600000000000001,
          1.67,
          1.68,
          1.71,
          1.7599999999999998,
          1.79,
          1.8399999999999999,
          1.85,
          1.88,
          1.8800000000000001,
          1.89,
          1.8900000000000001,
          1.93,
          2.0300000000000002,
          2.06,
          2.0700000000000003,
          2.13,
          2.16,
          2.21,
          2.24,
          2.43,
          2.4800000000000004,
          2.5,
          2.52,
          2.58,
          2.73,
          2.78,
          2.88,
          2.8899999999999997,
          3.0100000000000002,
          3.1300000000000003,
          3.2399999999999998,
          3.6199999999999997,
          3.71,
          3.79,
          3.9,
          3.9399999999999995
         ]
        },
        {
         "name": "DS",
         "type": "box",
         "y": [
          0.01,
          0.01,
          0.01,
          0.01,
          0.01,
          0.02,
          0.02,
          0.02,
          0.02,
          0.02,
          0.02,
          0.02,
          0.02,
          0.02,
          0.03,
          0.03,
          0.03,
          0.03,
          0.03,
          0.03,
          0.03,
          0.03,
          0.03,
          0.03,
          0.03,
          0.03,
          0.03,
          0.04,
          0.04,
          0.04,
          0.04,
          0.04,
          0.04,
          0.04,
          0.04,
          0.04,
          0.04,
          0.04,
          0.04,
          0.04,
          0.04,
          0.04,
          0.05,
          0.05,
          0.05,
          0.05,
          0.05,
          0.05,
          0.05,
          0.05,
          0.05,
          0.05,
          0.05,
          0.05,
          0.05,
          0.05,
          0.05,
          0.06,
          0.06,
          0.06,
          0.06,
          0.06,
          0.06,
          0.06,
          0.06,
          0.06,
          0.06,
          0.06,
          0.06,
          0.060000000000000005,
          0.060000000000000005,
          0.06999999999999999,
          0.06999999999999999,
          0.07,
          0.07,
          0.07,
          0.07,
          0.07999999999999999,
          0.07999999999999999,
          0.08,
          0.08,
          0.08,
          0.08,
          0.08,
          0.08,
          0.08,
          0.08,
          0.08,
          0.08,
          0.08,
          0.08,
          0.08,
          0.08,
          0.09,
          0.09,
          0.09,
          0.09,
          0.09,
          0.09,
          0.09,
          0.09,
          0.09,
          0.09,
          0.09,
          0.09,
          0.09,
          0.09,
          0.09,
          0.09,
          0.09999999999999999,
          0.09999999999999999,
          0.09999999999999999,
          0.09999999999999999,
          0.09999999999999999,
          0.09999999999999999,
          0.09999999999999999,
          0.09999999999999999,
          0.09999999999999999,
          0.09999999999999999,
          0.09999999999999999,
          0.10999999999999999,
          0.10999999999999999,
          0.10999999999999999,
          0.10999999999999999,
          0.11,
          0.11,
          0.11,
          0.11,
          0.11,
          0.11,
          0.11,
          0.11,
          0.11,
          0.11,
          0.11,
          0.11,
          0.11,
          0.11,
          0.11,
          0.12,
          0.12,
          0.12,
          0.12,
          0.12,
          0.12,
          0.12,
          0.12,
          0.12,
          0.12,
          0.12,
          0.12,
          0.12,
          0.12,
          0.12,
          0.12000000000000001,
          0.13,
          0.13,
          0.13,
          0.13,
          0.13,
          0.13,
          0.13,
          0.13,
          0.13,
          0.13,
          0.13,
          0.13,
          0.13,
          0.14,
          0.14,
          0.14,
          0.14,
          0.14,
          0.14,
          0.14,
          0.15,
          0.15,
          0.15,
          0.15000000000000002,
          0.15000000000000002,
          0.15000000000000002,
          0.15000000000000002,
          0.15000000000000002,
          0.15000000000000002,
          0.15000000000000002,
          0.15000000000000002,
          0.15000000000000002,
          0.16,
          0.16,
          0.16,
          0.16000000000000003,
          0.16000000000000003,
          0.17,
          0.17,
          0.17,
          0.17,
          0.17,
          0.17,
          0.18,
          0.18,
          0.18,
          0.18000000000000002,
          0.18000000000000002,
          0.19,
          0.19,
          0.19,
          0.19,
          0.19,
          0.19000000000000003,
          0.19000000000000003,
          0.19999999999999998,
          0.2,
          0.2,
          0.2,
          0.21,
          0.21,
          0.21,
          0.21,
          0.21,
          0.21000000000000002,
          0.21999999999999997,
          0.22,
          0.22,
          0.22,
          0.22,
          0.22,
          0.22,
          0.22,
          0.22000000000000003,
          0.22999999999999998,
          0.23,
          0.23,
          0.23,
          0.23,
          0.23,
          0.23000000000000004,
          0.24,
          0.24,
          0.24,
          0.24,
          0.24999999999999997,
          0.24999999999999997,
          0.25,
          0.25,
          0.25,
          0.26,
          0.26,
          0.26,
          0.26,
          0.26,
          0.26,
          0.26,
          0.26,
          0.26,
          0.26,
          0.27,
          0.27,
          0.27,
          0.27,
          0.28,
          0.28,
          0.28,
          0.28,
          0.29000000000000004,
          0.29000000000000004,
          0.29000000000000004,
          0.29000000000000004,
          0.29000000000000004,
          0.29000000000000004,
          0.30000000000000004,
          0.30000000000000004,
          0.31000000000000005,
          0.31000000000000005,
          0.32,
          0.32,
          0.32000000000000006,
          0.32999999999999996,
          0.33,
          0.33,
          0.33000000000000007,
          0.33999999999999997,
          0.33999999999999997,
          0.35,
          0.35,
          0.36,
          0.36,
          0.36,
          0.36,
          0.36,
          0.37,
          0.37,
          0.37,
          0.37999999999999995,
          0.38,
          0.39,
          0.39999999999999997,
          0.39999999999999997,
          0.4,
          0.4,
          0.41,
          0.41000000000000003,
          0.41000000000000003,
          0.41000000000000003,
          0.42000000000000004,
          0.42000000000000004,
          0.42000000000000004,
          0.43,
          0.43000000000000005,
          0.43999999999999995,
          0.44999999999999996,
          0.44999999999999996,
          0.45,
          0.45,
          0.45000000000000007,
          0.46,
          0.47,
          0.47,
          0.47000000000000003,
          0.48,
          0.48999999999999994,
          0.49,
          0.49,
          0.49,
          0.4900000000000001,
          0.49999999999999994,
          0.51,
          0.51,
          0.51,
          0.52,
          0.52,
          0.53,
          0.53,
          0.53,
          0.53,
          0.53,
          0.54,
          0.55,
          0.55,
          0.55,
          0.55,
          0.5800000000000001,
          0.5800000000000001,
          0.5900000000000001,
          0.5900000000000001,
          0.5900000000000001,
          0.5900000000000001,
          0.6100000000000001,
          0.6100000000000001,
          0.6100000000000001,
          0.6400000000000001,
          0.6599999999999999,
          0.6600000000000001,
          0.67,
          0.67,
          0.6799999999999999,
          0.68,
          0.71,
          0.71,
          0.72,
          0.73,
          0.74,
          0.75,
          0.77,
          0.78,
          0.78,
          0.78,
          0.78,
          0.78,
          0.8,
          0.84,
          0.8500000000000001,
          0.87,
          0.88,
          0.8899999999999999,
          0.89,
          0.9299999999999999,
          0.93,
          0.9300000000000002,
          0.9400000000000001,
          0.9500000000000001,
          0.96,
          0.98,
          0.99,
          1,
          1.02,
          1.03,
          1.05,
          1.06,
          1.07,
          1.1,
          1.1400000000000001,
          1.1900000000000002,
          1.2100000000000002,
          1.22,
          1.2500000000000002,
          1.2500000000000002,
          1.29,
          1.29,
          1.29,
          1.33,
          1.34,
          1.35,
          1.3800000000000001,
          1.3800000000000001,
          1.42,
          1.44,
          1.4500000000000002,
          1.4600000000000002,
          1.4699999999999998,
          1.5,
          1.56,
          1.5699999999999998,
          1.57,
          1.6,
          1.62,
          1.6999999999999997,
          1.7200000000000002,
          1.76,
          1.8199999999999998,
          1.8399999999999999,
          1.9300000000000002,
          1.98,
          1.99,
          2.02,
          2.03,
          2.0700000000000003,
          2.09,
          2.1100000000000003,
          2.16,
          2.17,
          2.19,
          2.27,
          2.2800000000000002,
          2.5199999999999996,
          2.58,
          2.67,
          2.67,
          2.77,
          2.93,
          3.05,
          3.0999999999999996,
          3.11,
          3.12,
          3.26,
          3.3099999999999996,
          3.4499999999999997,
          3.47,
          3.58,
          3.66,
          3.82,
          3.95
         ]
        },
        {
         "name": "X360",
         "type": "box",
         "y": [
          0.01,
          0.01,
          0.02,
          0.02,
          0.02,
          0.02,
          0.03,
          0.03,
          0.04,
          0.04,
          0.04,
          0.04,
          0.04,
          0.04,
          0.04,
          0.04,
          0.04,
          0.04,
          0.04,
          0.04,
          0.04,
          0.04,
          0.05,
          0.05,
          0.05,
          0.05,
          0.05,
          0.05,
          0.05,
          0.05,
          0.05,
          0.05,
          0.05,
          0.05,
          0.06,
          0.06,
          0.06,
          0.060000000000000005,
          0.060000000000000005,
          0.060000000000000005,
          0.060000000000000005,
          0.060000000000000005,
          0.06999999999999999,
          0.07,
          0.07,
          0.07,
          0.07999999999999999,
          0.07999999999999999,
          0.07999999999999999,
          0.07999999999999999,
          0.07999999999999999,
          0.07999999999999999,
          0.07999999999999999,
          0.08,
          0.08,
          0.08,
          0.08,
          0.08,
          0.08,
          0.08,
          0.08,
          0.09,
          0.09,
          0.09,
          0.09,
          0.09,
          0.09,
          0.09,
          0.09,
          0.09,
          0.09,
          0.09,
          0.09,
          0.09,
          0.09,
          0.09,
          0.09,
          0.09,
          0.09,
          0.09999999999999999,
          0.09999999999999999,
          0.09999999999999999,
          0.09999999999999999,
          0.09999999999999999,
          0.09999999999999999,
          0.09999999999999999,
          0.09999999999999999,
          0.09999999999999999,
          0.09999999999999999,
          0.09999999999999999,
          0.09999999999999999,
          0.09999999999999999,
          0.1,
          0.1,
          0.1,
          0.10999999999999999,
          0.10999999999999999,
          0.10999999999999999,
          0.10999999999999999,
          0.10999999999999999,
          0.10999999999999999,
          0.11,
          0.11,
          0.11,
          0.11,
          0.11,
          0.11,
          0.11,
          0.11,
          0.11,
          0.11,
          0.11,
          0.11,
          0.11,
          0.11,
          0.11,
          0.11,
          0.11,
          0.12,
          0.12,
          0.12,
          0.12,
          0.12,
          0.12,
          0.12,
          0.12,
          0.12,
          0.12,
          0.12,
          0.12,
          0.12,
          0.12,
          0.12,
          0.12000000000000001,
          0.12000000000000001,
          0.13,
          0.13,
          0.13,
          0.13,
          0.13,
          0.13,
          0.13,
          0.13,
          0.13,
          0.13,
          0.13,
          0.13,
          0.13,
          0.13,
          0.13,
          0.14,
          0.14,
          0.14,
          0.14,
          0.14,
          0.14,
          0.14,
          0.14,
          0.14,
          0.14,
          0.14,
          0.14,
          0.15,
          0.15000000000000002,
          0.15000000000000002,
          0.15000000000000002,
          0.15000000000000002,
          0.15000000000000002,
          0.15000000000000002,
          0.15000000000000002,
          0.15000000000000002,
          0.15000000000000002,
          0.15000000000000002,
          0.15000000000000002,
          0.16,
          0.16,
          0.16,
          0.16,
          0.16,
          0.16,
          0.16,
          0.16,
          0.16,
          0.16,
          0.16,
          0.16,
          0.16000000000000003,
          0.16000000000000003,
          0.16000000000000003,
          0.16000000000000003,
          0.16000000000000003,
          0.16000000000000003,
          0.16999999999999998,
          0.16999999999999998,
          0.16999999999999998,
          0.17,
          0.17,
          0.17,
          0.17,
          0.17,
          0.17,
          0.17,
          0.17,
          0.17,
          0.17,
          0.17,
          0.18,
          0.18,
          0.18,
          0.18,
          0.18,
          0.18,
          0.18,
          0.18000000000000002,
          0.18000000000000002,
          0.18000000000000002,
          0.18000000000000002,
          0.18000000000000002,
          0.18000000000000002,
          0.18000000000000002,
          0.18999999999999997,
          0.18999999999999997,
          0.18999999999999997,
          0.19,
          0.19,
          0.19,
          0.19,
          0.19,
          0.19,
          0.19000000000000003,
          0.19999999999999998,
          0.19999999999999998,
          0.19999999999999998,
          0.19999999999999998,
          0.19999999999999998,
          0.19999999999999998,
          0.19999999999999998,
          0.19999999999999998,
          0.19999999999999998,
          0.19999999999999998,
          0.2,
          0.2,
          0.2,
          0.2,
          0.2,
          0.2,
          0.2,
          0.20999999999999996,
          0.21,
          0.21,
          0.21,
          0.21,
          0.21,
          0.21,
          0.21,
          0.21,
          0.21,
          0.21000000000000002,
          0.21000000000000002,
          0.22,
          0.22,
          0.22,
          0.22,
          0.22,
          0.22,
          0.22,
          0.22,
          0.22,
          0.22999999999999998,
          0.22999999999999998,
          0.22999999999999998,
          0.23,
          0.23,
          0.23,
          0.23,
          0.23,
          0.23,
          0.24,
          0.24,
          0.24,
          0.24,
          0.24,
          0.24,
          0.24,
          0.24,
          0.24000000000000002,
          0.24000000000000002,
          0.24999999999999997,
          0.24999999999999997,
          0.24999999999999997,
          0.24999999999999997,
          0.24999999999999997,
          0.24999999999999997,
          0.24999999999999997,
          0.24999999999999997,
          0.25,
          0.25,
          0.25,
          0.25,
          0.25,
          0.25,
          0.25,
          0.25,
          0.25,
          0.25,
          0.26,
          0.26,
          0.26,
          0.26,
          0.26,
          0.26,
          0.26,
          0.26,
          0.26,
          0.26,
          0.26,
          0.26,
          0.27,
          0.27,
          0.27,
          0.27,
          0.27,
          0.27,
          0.27,
          0.27,
          0.27,
          0.27,
          0.27,
          0.27999999999999997,
          0.28,
          0.28,
          0.28,
          0.28,
          0.28,
          0.28,
          0.28,
          0.28,
          0.29000000000000004,
          0.29000000000000004,
          0.29000000000000004,
          0.29000000000000004,
          0.29000000000000004,
          0.29000000000000004,
          0.29000000000000004,
          0.29000000000000004,
          0.29000000000000004,
          0.29000000000000004,
          0.29000000000000004,
          0.30000000000000004,
          0.30000000000000004,
          0.30000000000000004,
          0.30000000000000004,
          0.30000000000000004,
          0.30000000000000004,
          0.31,
          0.31,
          0.31,
          0.31000000000000005,
          0.31000000000000005,
          0.31000000000000005,
          0.31000000000000005,
          0.31000000000000005,
          0.31000000000000005,
          0.31000000000000005,
          0.31000000000000005,
          0.31000000000000005,
          0.31000000000000005,
          0.31000000000000005,
          0.32,
          0.32,
          0.32000000000000006,
          0.32000000000000006,
          0.32000000000000006,
          0.32999999999999996,
          0.32999999999999996,
          0.32999999999999996,
          0.32999999999999996,
          0.33,
          0.33,
          0.33,
          0.33,
          0.33000000000000007,
          0.33000000000000007,
          0.33000000000000007,
          0.33000000000000007,
          0.33000000000000007,
          0.33999999999999997,
          0.33999999999999997,
          0.33999999999999997,
          0.33999999999999997,
          0.34,
          0.3400000000000001,
          0.3400000000000001,
          0.3400000000000001,
          0.35,
          0.35,
          0.35,
          0.35,
          0.35,
          0.36,
          0.36,
          0.36,
          0.36999999999999994,
          0.37,
          0.37,
          0.37,
          0.37,
          0.37,
          0.37999999999999995,
          0.38,
          0.38,
          0.38999999999999996,
          0.38999999999999996,
          0.38999999999999996,
          0.38999999999999996,
          0.38999999999999996,
          0.38999999999999996,
          0.39,
          0.39,
          0.39999999999999997,
          0.39999999999999997,
          0.4,
          0.41,
          0.41,
          0.41000000000000003,
          0.41000000000000003,
          0.41000000000000003,
          0.41000000000000003,
          0.41000000000000003,
          0.41000000000000003,
          0.41000000000000003,
          0.42,
          0.42,
          0.42,
          0.43,
          0.43,
          0.43,
          0.43000000000000005,
          0.43000000000000005,
          0.43000000000000005,
          0.43999999999999995,
          0.44,
          0.44,
          0.44,
          0.44999999999999996,
          0.45,
          0.45,
          0.45,
          0.45,
          0.45000000000000007,
          0.45999999999999996,
          0.45999999999999996,
          0.45999999999999996,
          0.45999999999999996,
          0.46,
          0.4600000000000001,
          0.47,
          0.47000000000000003,
          0.47000000000000003,
          0.47000000000000003,
          0.47000000000000003,
          0.48,
          0.48,
          0.48,
          0.48000000000000004,
          0.48000000000000004,
          0.48000000000000004,
          0.48000000000000004,
          0.48999999999999994,
          0.49,
          0.49,
          0.49,
          0.49000000000000005,
          0.49000000000000005,
          0.49999999999999994,
          0.49999999999999994,
          0.5,
          0.5,
          0.5,
          0.5,
          0.5,
          0.5,
          0.5,
          0.51,
          0.51,
          0.51,
          0.51,
          0.51,
          0.51,
          0.51,
          0.51,
          0.51,
          0.52,
          0.52,
          0.52,
          0.53,
          0.53,
          0.5399999999999999,
          0.54,
          0.54,
          0.54,
          0.54,
          0.55,
          0.55,
          0.55,
          0.55,
          0.56,
          0.56,
          0.56,
          0.56,
          0.56,
          0.5700000000000001,
          0.5700000000000001,
          0.5700000000000001,
          0.5700000000000001,
          0.5700000000000001,
          0.5700000000000001,
          0.5700000000000001,
          0.5800000000000001,
          0.5800000000000001,
          0.5800000000000001,
          0.5800000000000001,
          0.5800000000000001,
          0.5800000000000001,
          0.5900000000000001,
          0.6000000000000001,
          0.6000000000000001,
          0.6000000000000001,
          0.6000000000000001,
          0.6100000000000001,
          0.6100000000000001,
          0.6100000000000001,
          0.6100000000000001,
          0.6100000000000001,
          0.62,
          0.6200000000000001,
          0.6200000000000001,
          0.6200000000000001,
          0.6300000000000001,
          0.6300000000000001,
          0.6300000000000001,
          0.6300000000000001,
          0.6300000000000001,
          0.6300000000000001,
          0.64,
          0.6400000000000001,
          0.6499999999999999,
          0.65,
          0.6500000000000001,
          0.6500000000000001,
          0.66,
          0.6699999999999999,
          0.6799999999999999,
          0.69,
          0.69,
          0.69,
          0.69,
          0.7,
          0.7,
          0.7,
          0.7,
          0.7000000000000001,
          0.7000000000000001,
          0.7000000000000001,
          0.71,
          0.71,
          0.71,
          0.72,
          0.72,
          0.73,
          0.73,
          0.73,
          0.73,
          0.73,
          0.73,
          0.74,
          0.74,
          0.74,
          0.77,
          0.77,
          0.77,
          0.7799999999999999,
          0.7799999999999999,
          0.78,
          0.78,
          0.78,
          0.78,
          0.78,
          0.78,
          0.78,
          0.7899999999999999,
          0.79,
          0.79,
          0.79,
          0.79,
          0.79,
          0.7999999999999999,
          0.8,
          0.8099999999999999,
          0.81,
          0.8200000000000001,
          0.8200000000000001,
          0.83,
          0.8300000000000001,
          0.8400000000000001,
          0.85,
          0.86,
          0.86,
          0.8600000000000001,
          0.87,
          0.87,
          0.87,
          0.87,
          0.87,
          0.8700000000000001,
          0.8700000000000001,
          0.8799999999999999,
          0.88,
          0.89,
          0.8999999999999999,
          0.9,
          0.9099999999999999,
          0.91,
          0.91,
          0.9199999999999999,
          0.9199999999999999,
          0.9199999999999999,
          0.9200000000000002,
          0.9299999999999999,
          0.9299999999999999,
          0.9299999999999999,
          0.93,
          0.94,
          0.95,
          0.9500000000000001,
          0.97,
          0.9700000000000001,
          0.9799999999999999,
          0.98,
          0.98,
          0.99,
          0.9999999999999999,
          1,
          1,
          1.0000000000000002,
          1.01,
          1.01,
          1.02,
          1.02,
          1.02,
          1.02,
          1.02,
          1.03,
          1.04,
          1.04,
          1.04,
          1.06,
          1.06,
          1.06,
          1.06,
          1.07,
          1.07,
          1.07,
          1.07,
          1.08,
          1.09,
          1.09,
          1.09,
          1.1,
          1.11,
          1.11,
          1.11,
          1.12,
          1.1300000000000001,
          1.1500000000000001,
          1.1600000000000001,
          1.1600000000000001,
          1.1600000000000001,
          1.1800000000000002,
          1.23,
          1.24,
          1.25,
          1.2600000000000002,
          1.27,
          1.27,
          1.27,
          1.29,
          1.3,
          1.31,
          1.31,
          1.31,
          1.3199999999999998,
          1.32,
          1.3300000000000003,
          1.3399999999999999,
          1.3400000000000003,
          1.3400000000000003,
          1.3499999999999999,
          1.35,
          1.35,
          1.3599999999999999,
          1.37,
          1.37,
          1.3800000000000001,
          1.4100000000000001,
          1.4100000000000001,
          1.4100000000000001,
          1.4100000000000001,
          1.43,
          1.4300000000000002,
          1.4300000000000002,
          1.44,
          1.4500000000000002,
          1.46,
          1.4700000000000002,
          1.4700000000000002,
          1.48,
          1.48,
          1.48,
          1.5099999999999998,
          1.54,
          1.5499999999999998,
          1.5499999999999998,
          1.5599999999999998,
          1.5699999999999998,
          1.57,
          1.5999999999999999,
          1.5999999999999999,
          1.6099999999999999,
          1.6099999999999999,
          1.6199999999999999,
          1.62,
          1.64,
          1.65,
          1.65,
          1.66,
          1.68,
          1.71,
          1.74,
          1.74,
          1.7400000000000002,
          1.7999999999999998,
          1.81,
          1.88,
          1.92,
          1.92,
          1.94,
          1.94,
          1.9500000000000002,
          1.9600000000000002,
          1.97,
          2.02,
          2.03,
          2.0300000000000002,
          2.0500000000000003,
          2.06,
          2.08,
          2.08,
          2.1,
          2.1,
          2.1700000000000004,
          2.18,
          2.1999999999999997,
          2.1999999999999997,
          2.2,
          2.2,
          2.22,
          2.23,
          2.2800000000000002,
          2.34,
          2.3499999999999996,
          2.35,
          2.37,
          2.37,
          2.37,
          2.4,
          2.41,
          2.4699999999999998,
          2.5,
          2.52,
          2.5300000000000002,
          2.56,
          2.58,
          2.6100000000000003,
          2.6199999999999997,
          2.62,
          2.62,
          2.6399999999999997,
          2.66,
          2.68,
          2.69,
          2.7,
          2.7,
          2.7599999999999993,
          2.7699999999999996,
          2.83,
          2.83,
          2.8499999999999996,
          2.8899999999999997,
          2.92,
          2.9299999999999997,
          3,
          3,
          3.0300000000000002,
          3.04,
          3.05,
          3.06,
          3.0999999999999996,
          3.1799999999999997,
          3.3099999999999996,
          3.38,
          3.4299999999999997,
          3.47,
          3.4800000000000004,
          3.49,
          3.5,
          3.5,
          3.5,
          3.52,
          3.77,
          3.9699999999999998
         ]
        },
        {
         "name": "PS3",
         "type": "box",
         "y": [
          0.01,
          0.01,
          0.01,
          0.02,
          0.02,
          0.02,
          0.02,
          0.02,
          0.03,
          0.03,
          0.03,
          0.03,
          0.03,
          0.03,
          0.04,
          0.04,
          0.04,
          0.05,
          0.05,
          0.05,
          0.05,
          0.06,
          0.060000000000000005,
          0.060000000000000005,
          0.060000000000000005,
          0.060000000000000005,
          0.06999999999999999,
          0.06999999999999999,
          0.06999999999999999,
          0.06999999999999999,
          0.07,
          0.08,
          0.08,
          0.08,
          0.08,
          0.08,
          0.08,
          0.08,
          0.08,
          0.08,
          0.08,
          0.08999999999999998,
          0.09,
          0.09,
          0.09,
          0.09,
          0.09,
          0.09,
          0.09,
          0.09,
          0.09999999999999999,
          0.1,
          0.1,
          0.1,
          0.10999999999999999,
          0.10999999999999999,
          0.10999999999999999,
          0.11,
          0.11,
          0.11,
          0.11,
          0.11,
          0.11,
          0.12,
          0.12,
          0.12,
          0.12,
          0.12,
          0.12000000000000001,
          0.12000000000000001,
          0.12000000000000001,
          0.12000000000000001,
          0.13,
          0.13,
          0.13,
          0.13,
          0.13,
          0.13,
          0.13,
          0.13,
          0.13,
          0.13,
          0.13,
          0.13,
          0.13999999999999999,
          0.14,
          0.14,
          0.14,
          0.14,
          0.14,
          0.14,
          0.14,
          0.14,
          0.15,
          0.15,
          0.15,
          0.15,
          0.15000000000000002,
          0.15000000000000002,
          0.15000000000000002,
          0.15000000000000002,
          0.15000000000000002,
          0.15000000000000002,
          0.15999999999999998,
          0.15999999999999998,
          0.16,
          0.16,
          0.16,
          0.16,
          0.16,
          0.16,
          0.16,
          0.16,
          0.16,
          0.16,
          0.16,
          0.16,
          0.16000000000000003,
          0.16999999999999998,
          0.16999999999999998,
          0.16999999999999998,
          0.16999999999999998,
          0.16999999999999998,
          0.16999999999999998,
          0.16999999999999998,
          0.16999999999999998,
          0.17,
          0.17,
          0.17,
          0.17,
          0.17,
          0.17,
          0.17,
          0.17,
          0.17,
          0.17,
          0.17,
          0.18,
          0.18,
          0.18,
          0.18,
          0.18,
          0.18000000000000002,
          0.18000000000000002,
          0.18000000000000002,
          0.18999999999999997,
          0.19,
          0.19,
          0.19,
          0.19,
          0.19,
          0.19,
          0.19,
          0.19,
          0.19,
          0.19,
          0.19999999999999998,
          0.19999999999999998,
          0.19999999999999998,
          0.19999999999999998,
          0.19999999999999998,
          0.19999999999999998,
          0.19999999999999998,
          0.19999999999999998,
          0.19999999999999998,
          0.19999999999999998,
          0.19999999999999998,
          0.2,
          0.2,
          0.2,
          0.2,
          0.2,
          0.2,
          0.2,
          0.21,
          0.21,
          0.21,
          0.21,
          0.21,
          0.21,
          0.21,
          0.21000000000000002,
          0.21000000000000002,
          0.21000000000000002,
          0.22,
          0.22,
          0.22,
          0.22000000000000003,
          0.22999999999999998,
          0.23,
          0.23,
          0.23,
          0.23,
          0.23,
          0.23,
          0.23,
          0.23,
          0.23,
          0.23,
          0.23,
          0.23,
          0.23,
          0.23,
          0.23,
          0.24,
          0.24,
          0.24,
          0.24,
          0.24,
          0.24,
          0.24000000000000002,
          0.24000000000000002,
          0.24999999999999997,
          0.25,
          0.25,
          0.25,
          0.25,
          0.25,
          0.25,
          0.25,
          0.25,
          0.25,
          0.26,
          0.26,
          0.26,
          0.26,
          0.26,
          0.26,
          0.26,
          0.26,
          0.26,
          0.27,
          0.27,
          0.27,
          0.27,
          0.27,
          0.27999999999999997,
          0.27999999999999997,
          0.27999999999999997,
          0.28,
          0.28,
          0.28,
          0.28,
          0.29,
          0.29,
          0.29,
          0.29,
          0.29000000000000004,
          0.29000000000000004,
          0.29000000000000004,
          0.29000000000000004,
          0.29000000000000004,
          0.29000000000000004,
          0.29000000000000004,
          0.3,
          0.3,
          0.3,
          0.3,
          0.3,
          0.30000000000000004,
          0.31,
          0.31,
          0.31,
          0.31,
          0.31000000000000005,
          0.31000000000000005,
          0.31000000000000005,
          0.31999999999999995,
          0.32,
          0.32,
          0.32,
          0.32,
          0.32,
          0.32,
          0.32,
          0.32000000000000006,
          0.32000000000000006,
          0.32999999999999996,
          0.33,
          0.33,
          0.33,
          0.33,
          0.33000000000000007,
          0.33000000000000007,
          0.33999999999999997,
          0.33999999999999997,
          0.33999999999999997,
          0.34,
          0.34,
          0.34,
          0.34,
          0.34,
          0.35,
          0.35,
          0.35000000000000003,
          0.35000000000000003,
          0.36,
          0.36,
          0.36000000000000004,
          0.36000000000000004,
          0.37,
          0.37,
          0.37000000000000005,
          0.37000000000000005,
          0.37000000000000005,
          0.38,
          0.38,
          0.38,
          0.38,
          0.38000000000000006,
          0.38000000000000006,
          0.38000000000000006,
          0.39,
          0.39,
          0.39,
          0.39,
          0.39,
          0.39,
          0.39999999999999997,
          0.39999999999999997,
          0.39999999999999997,
          0.4,
          0.4,
          0.41,
          0.41,
          0.41,
          0.41,
          0.41,
          0.41,
          0.41,
          0.41,
          0.41000000000000003,
          0.41000000000000003,
          0.42,
          0.42,
          0.42,
          0.42000000000000004,
          0.43,
          0.43,
          0.43,
          0.43,
          0.43,
          0.43,
          0.43,
          0.43999999999999995,
          0.44,
          0.44,
          0.44,
          0.44,
          0.44,
          0.44,
          0.44,
          0.45,
          0.45,
          0.45,
          0.45999999999999996,
          0.45999999999999996,
          0.46,
          0.47,
          0.47000000000000003,
          0.47000000000000003,
          0.48000000000000004,
          0.48000000000000004,
          0.48000000000000004,
          0.48000000000000004,
          0.49,
          0.5,
          0.5,
          0.5,
          0.51,
          0.51,
          0.51,
          0.51,
          0.51,
          0.51,
          0.52,
          0.52,
          0.52,
          0.52,
          0.52,
          0.52,
          0.52,
          0.5299999999999999,
          0.53,
          0.53,
          0.53,
          0.53,
          0.54,
          0.54,
          0.54,
          0.54,
          0.54,
          0.5499999999999999,
          0.5499999999999999,
          0.55,
          0.5599999999999999,
          0.56,
          0.56,
          0.56,
          0.57,
          0.57,
          0.57,
          0.5700000000000001,
          0.5700000000000001,
          0.5700000000000001,
          0.58,
          0.5800000000000001,
          0.5800000000000001,
          0.5800000000000001,
          0.5800000000000001,
          0.5800000000000001,
          0.5800000000000001,
          0.5800000000000001,
          0.59,
          0.59,
          0.5900000000000001,
          0.5900000000000001,
          0.6,
          0.6,
          0.61,
          0.61,
          0.61,
          0.61,
          0.61,
          0.61,
          0.6100000000000001,
          0.6100000000000001,
          0.6100000000000001,
          0.62,
          0.62,
          0.62,
          0.62,
          0.6200000000000001,
          0.63,
          0.63,
          0.63,
          0.63,
          0.63,
          0.6300000000000001,
          0.6300000000000001,
          0.6400000000000001,
          0.6400000000000001,
          0.65,
          0.65,
          0.66,
          0.66,
          0.66,
          0.66,
          0.66,
          0.66,
          0.6699999999999999,
          0.6699999999999999,
          0.68,
          0.68,
          0.68,
          0.69,
          0.6900000000000001,
          0.6900000000000001,
          0.6900000000000001,
          0.6900000000000001,
          0.7,
          0.7,
          0.72,
          0.72,
          0.72,
          0.72,
          0.72,
          0.73,
          0.73,
          0.73,
          0.73,
          0.73,
          0.73,
          0.7399999999999999,
          0.74,
          0.74,
          0.74,
          0.74,
          0.74,
          0.74,
          0.7400000000000001,
          0.75,
          0.7500000000000001,
          0.7599999999999999,
          0.76,
          0.77,
          0.7799999999999999,
          0.7799999999999999,
          0.7799999999999999,
          0.78,
          0.7800000000000001,
          0.7899999999999999,
          0.7999999999999999,
          0.8,
          0.8099999999999999,
          0.81,
          0.82,
          0.8200000000000001,
          0.83,
          0.8300000000000001,
          0.8300000000000001,
          0.84,
          0.84,
          0.84,
          0.84,
          0.8400000000000001,
          0.8400000000000001,
          0.85,
          0.85,
          0.8500000000000001,
          0.8500000000000001,
          0.8599999999999999,
          0.86,
          0.86,
          0.87,
          0.88,
          0.88,
          0.88,
          0.88,
          0.8899999999999999,
          0.89,
          0.89,
          0.89,
          0.89,
          0.89,
          0.9,
          0.9,
          0.9000000000000001,
          0.91,
          0.9100000000000001,
          0.9199999999999999,
          0.92,
          0.9299999999999999,
          0.93,
          0.93,
          0.93,
          0.93,
          0.94,
          0.9400000000000001,
          0.9400000000000001,
          0.9400000000000001,
          0.9400000000000001,
          0.9400000000000001,
          0.95,
          0.95,
          0.9500000000000001,
          0.9500000000000001,
          0.9600000000000001,
          0.9600000000000001,
          0.9600000000000001,
          0.97,
          0.9700000000000001,
          0.98,
          0.98,
          0.99,
          0.99,
          0.9900000000000001,
          1,
          1.02,
          1.03,
          1.03,
          1.03,
          1.0300000000000002,
          1.0300000000000002,
          1.04,
          1.05,
          1.05,
          1.05,
          1.05,
          1.05,
          1.05,
          1.05,
          1.07,
          1.07,
          1.07,
          1.07,
          1.08,
          1.09,
          1.09,
          1.09,
          1.0999999999999999,
          1.1,
          1.1099999999999999,
          1.11,
          1.1199999999999999,
          1.1199999999999999,
          1.13,
          1.13,
          1.13,
          1.14,
          1.14,
          1.1400000000000001,
          1.15,
          1.17,
          1.17,
          1.17,
          1.17,
          1.17,
          1.1800000000000002,
          1.1800000000000002,
          1.19,
          1.19,
          1.2,
          1.21,
          1.21,
          1.22,
          1.22,
          1.23,
          1.2300000000000002,
          1.24,
          1.24,
          1.25,
          1.25,
          1.25,
          1.26,
          1.27,
          1.27,
          1.27,
          1.2799999999999998,
          1.28,
          1.29,
          1.2999999999999998,
          1.3099999999999998,
          1.31,
          1.3199999999999998,
          1.3399999999999999,
          1.34,
          1.3400000000000003,
          1.3499999999999999,
          1.35,
          1.35,
          1.3599999999999999,
          1.3599999999999999,
          1.38,
          1.39,
          1.4000000000000001,
          1.42,
          1.42,
          1.42,
          1.42,
          1.4200000000000002,
          1.45,
          1.4600000000000002,
          1.48,
          1.4899999999999998,
          1.49,
          1.5,
          1.5099999999999998,
          1.51,
          1.52,
          1.53,
          1.54,
          1.55,
          1.57,
          1.57,
          1.5900000000000003,
          1.6400000000000001,
          1.6400000000000001,
          1.6600000000000001,
          1.67,
          1.69,
          1.69,
          1.6900000000000002,
          1.7399999999999998,
          1.7400000000000002,
          1.7500000000000002,
          1.76,
          1.7999999999999998,
          1.8199999999999998,
          1.82,
          1.83,
          1.84,
          1.87,
          1.8800000000000001,
          1.91,
          1.9200000000000002,
          1.94,
          1.9400000000000002,
          1.99,
          1.99,
          2,
          2.0100000000000002,
          2.02,
          2.04,
          2.06,
          2.09,
          2.11,
          2.1100000000000003,
          2.1500000000000004,
          2.18,
          2.21,
          2.22,
          2.25,
          2.25,
          2.25,
          2.25,
          2.27,
          2.28,
          2.29,
          2.29,
          2.3699999999999997,
          2.39,
          2.41,
          2.4499999999999997,
          2.46,
          2.4699999999999998,
          2.48,
          2.56,
          2.58,
          2.6,
          2.63,
          2.65,
          2.76,
          2.78,
          2.7800000000000002,
          2.81,
          2.82,
          2.8499999999999996,
          2.93,
          2.95,
          3.01,
          3.0300000000000002,
          3.0999999999999996,
          3.11,
          3.1100000000000003,
          3.17,
          3.2299999999999995,
          3.35,
          3.4,
          3.4899999999999998,
          3.62,
          3.7099999999999995,
          3.85,
          3.86,
          3.9399999999999995
         ]
        },
        {
         "name": "PS2",
         "type": "box",
         "y": [
          0.01,
          0.01,
          0.01,
          0.02,
          0.02,
          0.02,
          0.02,
          0.02,
          0.02,
          0.02,
          0.02,
          0.02,
          0.02,
          0.02,
          0.02,
          0.02,
          0.02,
          0.02,
          0.02,
          0.02,
          0.02,
          0.02,
          0.03,
          0.03,
          0.03,
          0.03,
          0.03,
          0.03,
          0.03,
          0.03,
          0.03,
          0.03,
          0.03,
          0.03,
          0.03,
          0.03,
          0.03,
          0.03,
          0.03,
          0.04,
          0.04,
          0.04,
          0.05,
          0.05,
          0.05,
          0.05,
          0.05,
          0.05,
          0.05,
          0.05,
          0.05,
          0.05,
          0.05,
          0.05,
          0.05,
          0.05,
          0.05,
          0.05,
          0.060000000000000005,
          0.060000000000000005,
          0.060000000000000005,
          0.060000000000000005,
          0.060000000000000005,
          0.060000000000000005,
          0.060000000000000005,
          0.060000000000000005,
          0.060000000000000005,
          0.060000000000000005,
          0.060000000000000005,
          0.060000000000000005,
          0.060000000000000005,
          0.060000000000000005,
          0.060000000000000005,
          0.060000000000000005,
          0.060000000000000005,
          0.060000000000000005,
          0.060000000000000005,
          0.060000000000000005,
          0.060000000000000005,
          0.060000000000000005,
          0.060000000000000005,
          0.060000000000000005,
          0.060000000000000005,
          0.060000000000000005,
          0.060000000000000005,
          0.060000000000000005,
          0.060000000000000005,
          0.060000000000000005,
          0.060000000000000005,
          0.060000000000000005,
          0.06999999999999999,
          0.06999999999999999,
          0.06999999999999999,
          0.06999999999999999,
          0.06999999999999999,
          0.06999999999999999,
          0.06999999999999999,
          0.06999999999999999,
          0.06999999999999999,
          0.06999999999999999,
          0.06999999999999999,
          0.06999999999999999,
          0.06999999999999999,
          0.06999999999999999,
          0.06999999999999999,
          0.06999999999999999,
          0.06999999999999999,
          0.07,
          0.07,
          0.07,
          0.08,
          0.08,
          0.08,
          0.08,
          0.08,
          0.08,
          0.08,
          0.08,
          0.08,
          0.08,
          0.08,
          0.08,
          0.08,
          0.08,
          0.08,
          0.08,
          0.08,
          0.08,
          0.08,
          0.08,
          0.08,
          0.08,
          0.08,
          0.08,
          0.08,
          0.08,
          0.08,
          0.08,
          0.08,
          0.08,
          0.08,
          0.08,
          0.08,
          0.08,
          0.08,
          0.08,
          0.08,
          0.08,
          0.08,
          0.08,
          0.08,
          0.09,
          0.09,
          0.09999999999999999,
          0.09999999999999999,
          0.09999999999999999,
          0.09999999999999999,
          0.09999999999999999,
          0.09999999999999999,
          0.09999999999999999,
          0.09999999999999999,
          0.09999999999999999,
          0.09999999999999999,
          0.09999999999999999,
          0.09999999999999999,
          0.09999999999999999,
          0.09999999999999999,
          0.09999999999999999,
          0.09999999999999999,
          0.09999999999999999,
          0.09999999999999999,
          0.09999999999999999,
          0.09999999999999999,
          0.09999999999999999,
          0.09999999999999999,
          0.09999999999999999,
          0.09999999999999999,
          0.09999999999999999,
          0.09999999999999999,
          0.09999999999999999,
          0.09999999999999999,
          0.09999999999999999,
          0.09999999999999999,
          0.09999999999999999,
          0.09999999999999999,
          0.09999999999999999,
          0.09999999999999999,
          0.09999999999999999,
          0.09999999999999999,
          0.09999999999999999,
          0.09999999999999999,
          0.09999999999999999,
          0.1,
          0.1,
          0.1,
          0.1,
          0.11,
          0.11,
          0.11,
          0.11,
          0.11,
          0.11,
          0.11,
          0.11,
          0.11,
          0.11,
          0.12,
          0.12,
          0.12,
          0.13,
          0.13,
          0.13,
          0.13,
          0.13,
          0.13,
          0.13,
          0.13,
          0.13,
          0.13,
          0.13,
          0.13,
          0.13,
          0.13,
          0.13,
          0.13,
          0.13,
          0.13,
          0.13,
          0.13,
          0.13,
          0.13,
          0.13,
          0.13,
          0.13,
          0.13,
          0.14,
          0.14,
          0.14,
          0.14,
          0.14,
          0.14,
          0.14,
          0.14,
          0.14,
          0.14,
          0.14,
          0.14,
          0.14,
          0.14,
          0.14,
          0.14,
          0.14,
          0.14,
          0.14,
          0.14,
          0.14,
          0.14,
          0.14,
          0.15,
          0.15,
          0.15,
          0.15,
          0.15,
          0.15,
          0.15,
          0.15,
          0.15,
          0.15,
          0.15,
          0.15,
          0.15000000000000002,
          0.16,
          0.16,
          0.16,
          0.16,
          0.16,
          0.16,
          0.16,
          0.16,
          0.16,
          0.16,
          0.16,
          0.16,
          0.16,
          0.16,
          0.16,
          0.16,
          0.16,
          0.16,
          0.16,
          0.16,
          0.16,
          0.16,
          0.16999999999999998,
          0.16999999999999998,
          0.17,
          0.17,
          0.17,
          0.17,
          0.17,
          0.17,
          0.18,
          0.18,
          0.18,
          0.18,
          0.18,
          0.18,
          0.18,
          0.18,
          0.18,
          0.18,
          0.18,
          0.18,
          0.18,
          0.18,
          0.18,
          0.18,
          0.18,
          0.18,
          0.18,
          0.18,
          0.18,
          0.18,
          0.18,
          0.18,
          0.18,
          0.18,
          0.18,
          0.18,
          0.18,
          0.18,
          0.18,
          0.18,
          0.18000000000000002,
          0.19,
          0.19,
          0.19,
          0.19,
          0.19,
          0.19,
          0.19,
          0.19999999999999998,
          0.19999999999999998,
          0.2,
          0.2,
          0.2,
          0.21,
          0.21,
          0.21,
          0.21,
          0.21,
          0.21,
          0.21,
          0.21,
          0.21,
          0.21,
          0.21,
          0.21,
          0.21,
          0.21,
          0.21,
          0.21,
          0.21,
          0.21,
          0.21,
          0.21,
          0.21,
          0.21,
          0.21,
          0.21,
          0.21,
          0.21000000000000002,
          0.22,
          0.22,
          0.22,
          0.22,
          0.22,
          0.22,
          0.22,
          0.22,
          0.23,
          0.23,
          0.23,
          0.23,
          0.23,
          0.23,
          0.23,
          0.23,
          0.23,
          0.23,
          0.23,
          0.23,
          0.23,
          0.23,
          0.23,
          0.23,
          0.23,
          0.23,
          0.23000000000000004,
          0.24,
          0.24,
          0.24,
          0.24,
          0.24,
          0.24,
          0.24,
          0.24,
          0.24,
          0.24,
          0.24,
          0.24,
          0.25,
          0.25,
          0.25,
          0.25,
          0.25,
          0.26,
          0.26,
          0.26,
          0.26,
          0.26,
          0.26,
          0.26,
          0.26,
          0.26,
          0.26,
          0.26,
          0.26,
          0.26,
          0.26,
          0.26,
          0.26,
          0.26,
          0.26,
          0.26,
          0.26,
          0.26,
          0.26,
          0.26,
          0.26,
          0.27,
          0.27,
          0.28,
          0.28,
          0.28,
          0.29,
          0.29,
          0.29,
          0.29,
          0.29,
          0.29,
          0.29,
          0.29,
          0.29,
          0.29,
          0.29,
          0.29,
          0.29,
          0.29,
          0.29,
          0.29,
          0.29,
          0.29,
          0.29,
          0.29,
          0.29,
          0.29,
          0.29000000000000004,
          0.29000000000000004,
          0.29000000000000004,
          0.3,
          0.3,
          0.3,
          0.30000000000000004,
          0.31,
          0.31,
          0.31,
          0.31,
          0.31,
          0.31,
          0.31,
          0.31,
          0.31,
          0.32,
          0.32,
          0.32,
          0.32,
          0.32,
          0.32,
          0.32,
          0.32,
          0.32,
          0.32999999999999996,
          0.32999999999999996,
          0.33,
          0.33,
          0.33,
          0.33,
          0.33,
          0.33,
          0.33,
          0.33,
          0.33,
          0.34,
          0.34,
          0.34,
          0.34,
          0.34,
          0.34,
          0.34,
          0.34,
          0.34,
          0.34,
          0.34,
          0.35,
          0.35,
          0.35,
          0.35000000000000003,
          0.35000000000000003,
          0.35000000000000003,
          0.36,
          0.36,
          0.36000000000000004,
          0.36000000000000004,
          0.37,
          0.37,
          0.37,
          0.37,
          0.37,
          0.37,
          0.37,
          0.37,
          0.37,
          0.37,
          0.37,
          0.37,
          0.37,
          0.37,
          0.37,
          0.38,
          0.38,
          0.38,
          0.38,
          0.38,
          0.38999999999999996,
          0.38999999999999996,
          0.38999999999999996,
          0.38999999999999996,
          0.38999999999999996,
          0.38999999999999996,
          0.38999999999999996,
          0.38999999999999996,
          0.38999999999999996,
          0.38999999999999996,
          0.38999999999999996,
          0.38999999999999996,
          0.38999999999999996,
          0.39,
          0.39,
          0.39,
          0.39,
          0.39,
          0.39999999999999997,
          0.39999999999999997,
          0.39999999999999997,
          0.39999999999999997,
          0.39999999999999997,
          0.39999999999999997,
          0.41,
          0.41,
          0.41,
          0.41,
          0.41,
          0.41,
          0.41,
          0.41,
          0.41000000000000003,
          0.41000000000000003,
          0.41000000000000003,
          0.41000000000000003,
          0.42,
          0.42,
          0.42,
          0.42,
          0.42,
          0.42,
          0.42,
          0.42,
          0.42,
          0.42,
          0.42,
          0.42,
          0.42,
          0.43,
          0.43,
          0.43,
          0.43,
          0.43,
          0.43,
          0.43000000000000005,
          0.44,
          0.44,
          0.44,
          0.44,
          0.44,
          0.44,
          0.44,
          0.45,
          0.45,
          0.45,
          0.45,
          0.45,
          0.45,
          0.45,
          0.45,
          0.45,
          0.45,
          0.45,
          0.45,
          0.45,
          0.45,
          0.45,
          0.45999999999999996,
          0.46,
          0.46,
          0.46,
          0.4600000000000001,
          0.47000000000000003,
          0.47000000000000003,
          0.47000000000000003,
          0.47000000000000003,
          0.47000000000000003,
          0.47000000000000003,
          0.47000000000000003,
          0.47000000000000003,
          0.47000000000000003,
          0.47000000000000003,
          0.48,
          0.49,
          0.49,
          0.49,
          0.49,
          0.49,
          0.49,
          0.49,
          0.49,
          0.49,
          0.49,
          0.49000000000000005,
          0.5,
          0.5,
          0.5,
          0.5,
          0.5,
          0.5,
          0.5,
          0.5,
          0.5,
          0.51,
          0.51,
          0.51,
          0.51,
          0.52,
          0.52,
          0.52,
          0.52,
          0.52,
          0.52,
          0.52,
          0.53,
          0.53,
          0.53,
          0.53,
          0.53,
          0.53,
          0.53,
          0.53,
          0.53,
          0.53,
          0.53,
          0.53,
          0.53,
          0.53,
          0.53,
          0.53,
          0.54,
          0.54,
          0.54,
          0.54,
          0.54,
          0.54,
          0.55,
          0.55,
          0.55,
          0.55,
          0.55,
          0.55,
          0.55,
          0.55,
          0.55,
          0.55,
          0.55,
          0.55,
          0.56,
          0.56,
          0.56,
          0.56,
          0.57,
          0.57,
          0.57,
          0.5700000000000001,
          0.5700000000000001,
          0.5700000000000001,
          0.5700000000000001,
          0.5700000000000001,
          0.5700000000000001,
          0.5700000000000001,
          0.5700000000000001,
          0.5700000000000001,
          0.58,
          0.58,
          0.59,
          0.59,
          0.59,
          0.5900000000000001,
          0.6,
          0.6,
          0.6,
          0.6,
          0.6,
          0.6,
          0.6,
          0.6,
          0.6000000000000001,
          0.61,
          0.61,
          0.61,
          0.62,
          0.62,
          0.62,
          0.62,
          0.62,
          0.6200000000000001,
          0.63,
          0.63,
          0.63,
          0.6300000000000001,
          0.6300000000000001,
          0.64,
          0.64,
          0.6499999999999999,
          0.65,
          0.65,
          0.65,
          0.65,
          0.65,
          0.65,
          0.65,
          0.65,
          0.65,
          0.65,
          0.65,
          0.6500000000000001,
          0.6500000000000001,
          0.66,
          0.66,
          0.66,
          0.6700000000000002,
          0.6799999999999999,
          0.6799999999999999,
          0.69,
          0.6900000000000001,
          0.7000000000000001,
          0.7000000000000001,
          0.7000000000000001,
          0.7000000000000001,
          0.71,
          0.71,
          0.71,
          0.71,
          0.72,
          0.72,
          0.72,
          0.73,
          0.74,
          0.74,
          0.74,
          0.75,
          0.75,
          0.75,
          0.7599999999999999,
          0.7599999999999999,
          0.76,
          0.7699999999999999,
          0.7699999999999999,
          0.77,
          0.77,
          0.78,
          0.79,
          0.79,
          0.79,
          0.7999999999999999,
          0.8,
          0.8099999999999999,
          0.81,
          0.82,
          0.83,
          0.83,
          0.84,
          0.84,
          0.8400000000000001,
          0.8400000000000001,
          0.85,
          0.8500000000000001,
          0.86,
          0.87,
          0.87,
          0.87,
          0.8700000000000001,
          0.88,
          0.88,
          0.89,
          0.89,
          0.89,
          0.89,
          0.9,
          0.9,
          0.9000000000000001,
          0.91,
          0.91,
          0.9199999999999999,
          0.92,
          0.92,
          0.92,
          0.93,
          0.9400000000000001,
          0.9400000000000001,
          0.9400000000000001,
          0.9400000000000001,
          0.95,
          0.9500000000000001,
          0.9500000000000001,
          0.96,
          0.96,
          0.9600000000000001,
          0.9700000000000001,
          1,
          1,
          1.02,
          1.02,
          1.03,
          1.04,
          1.04,
          1.04,
          1.06,
          1.06,
          1.0699999999999998,
          1.0699999999999998,
          1.0699999999999998,
          1.07,
          1.07,
          1.08,
          1.08,
          1.08,
          1.0899999999999999,
          1.0899999999999999,
          1.11,
          1.12,
          1.12,
          1.1300000000000001,
          1.1400000000000001,
          1.1400000000000001,
          1.15,
          1.15,
          1.15,
          1.15,
          1.16,
          1.16,
          1.17,
          1.17,
          1.17,
          1.18,
          1.19,
          1.2,
          1.2,
          1.2,
          1.21,
          1.21,
          1.21,
          1.2299999999999998,
          1.2299999999999998,
          1.24,
          1.24,
          1.2400000000000002,
          1.2499999999999998,
          1.2499999999999998,
          1.25,
          1.25,
          1.2599999999999998,
          1.2699999999999998,
          1.27,
          1.28,
          1.28,
          1.28,
          1.3,
          1.3,
          1.31,
          1.31,
          1.32,
          1.33,
          1.33,
          1.33,
          1.34,
          1.3499999999999999,
          1.35,
          1.3599999999999999,
          1.37,
          1.3800000000000001,
          1.3900000000000001,
          1.4000000000000001,
          1.41,
          1.41,
          1.42,
          1.42,
          1.43,
          1.4400000000000002,
          1.4400000000000002,
          1.45,
          1.45,
          1.4500000000000002,
          1.47,
          1.48,
          1.48,
          1.49,
          1.5,
          1.5099999999999998,
          1.52,
          1.53,
          1.54,
          1.55,
          1.57,
          1.57,
          1.5700000000000003,
          1.5899999999999999,
          1.62,
          1.62,
          1.6300000000000001,
          1.64,
          1.6400000000000001,
          1.65,
          1.65,
          1.6600000000000001,
          1.67,
          1.67,
          1.6700000000000002,
          1.6700000000000002,
          1.69,
          1.7000000000000002,
          1.71,
          1.72,
          1.73,
          1.74,
          1.74,
          1.75,
          1.75,
          1.76,
          1.76,
          1.76,
          1.7699999999999998,
          1.7799999999999998,
          1.78,
          1.7999999999999998,
          1.82,
          1.82,
          1.82,
          1.83,
          1.85,
          1.86,
          1.86,
          1.8600000000000003,
          1.8800000000000001,
          1.92,
          1.92,
          1.93,
          1.9300000000000002,
          1.94,
          1.94,
          1.95,
          1.95,
          1.97,
          1.97,
          2.02,
          2.04,
          2.04,
          2.06,
          2.09,
          2.0999999999999996,
          2.0999999999999996,
          2.1,
          2.12,
          2.18,
          2.22,
          2.25,
          2.2800000000000002,
          2.32,
          2.33,
          2.34,
          2.3799999999999994,
          2.38,
          2.38,
          2.41,
          2.41,
          2.42,
          2.44,
          2.48,
          2.5300000000000002,
          2.5699999999999994,
          2.5700000000000003,
          2.59,
          2.6,
          2.63,
          2.6599999999999997,
          2.67,
          2.6799999999999997,
          2.69,
          2.7,
          2.7700000000000005,
          2.78,
          2.79,
          2.88,
          2.89,
          2.9,
          2.9000000000000004,
          2.9400000000000004,
          2.96,
          2.96,
          2.99,
          2.99,
          3,
          3.08,
          3.09,
          3.14,
          3.17,
          3.18,
          3.27,
          3.29,
          3.31,
          3.32,
          3.3200000000000003,
          3.3999999999999995,
          3.4000000000000004,
          3.4400000000000004,
          3.53,
          3.54,
          3.54,
          3.6,
          3.61,
          3.6199999999999997,
          3.62,
          3.62,
          3.6399999999999997,
          3.65,
          3.6699999999999995,
          3.69,
          3.85,
          3.88,
          3.8899999999999997
         ]
        },
        {
         "name": "3DS",
         "type": "box",
         "y": [
          0.01,
          0.02,
          0.02,
          0.03,
          0.03,
          0.03,
          0.03,
          0.03,
          0.04,
          0.04,
          0.04,
          0.04,
          0.06,
          0.06,
          0.07,
          0.08,
          0.08,
          0.08,
          0.09,
          0.09,
          0.09,
          0.09000000000000001,
          0.09999999999999999,
          0.09999999999999999,
          0.09999999999999999,
          0.09999999999999999,
          0.09999999999999999,
          0.09999999999999999,
          0.1,
          0.11,
          0.11,
          0.11,
          0.12,
          0.12000000000000001,
          0.13,
          0.13,
          0.14,
          0.14,
          0.14,
          0.14,
          0.15,
          0.15000000000000002,
          0.15000000000000002,
          0.15000000000000002,
          0.16,
          0.16,
          0.16000000000000003,
          0.16000000000000003,
          0.17,
          0.18000000000000002,
          0.19,
          0.19999999999999998,
          0.19999999999999998,
          0.2,
          0.2,
          0.21,
          0.21,
          0.21000000000000002,
          0.22,
          0.22,
          0.22,
          0.22999999999999998,
          0.23,
          0.24,
          0.24,
          0.24000000000000002,
          0.25,
          0.25,
          0.26,
          0.26,
          0.27,
          0.29000000000000004,
          0.29000000000000004,
          0.30000000000000004,
          0.31000000000000005,
          0.31000000000000005,
          0.31999999999999995,
          0.32000000000000006,
          0.33,
          0.33999999999999997,
          0.36,
          0.37,
          0.38,
          0.38,
          0.38,
          0.38,
          0.38,
          0.39,
          0.39,
          0.39,
          0.4,
          0.42,
          0.42000000000000004,
          0.42000000000000004,
          0.42999999999999994,
          0.43999999999999995,
          0.47000000000000003,
          0.48,
          0.48,
          0.48,
          0.48,
          0.4800000000000001,
          0.49,
          0.49,
          0.49000000000000005,
          0.49000000000000005,
          0.5,
          0.53,
          0.56,
          0.5700000000000001,
          0.5800000000000001,
          0.6200000000000001,
          0.6200000000000001,
          0.6200000000000001,
          0.6300000000000001,
          0.6399999999999999,
          0.72,
          0.7200000000000001,
          0.75,
          0.76,
          0.77,
          0.8,
          0.8200000000000001,
          0.8700000000000001,
          0.8900000000000001,
          0.9299999999999999,
          0.93,
          0.93,
          0.94,
          0.9400000000000002,
          0.96,
          1.01,
          1.11,
          1.13,
          1.1300000000000001,
          1.1500000000000001,
          1.22,
          1.25,
          1.26,
          1.27,
          1.3800000000000001,
          1.5800000000000003,
          1.83,
          1.9200000000000002,
          2.02,
          2.31,
          2.34,
          3.05,
          3.1,
          3.89
         ]
        },
        {
         "name": "PS4",
         "type": "box",
         "y": [
          0.01,
          0.01,
          0.01,
          0.01,
          0.01,
          0.01,
          0.01,
          0.02,
          0.02,
          0.02,
          0.02,
          0.02,
          0.02,
          0.02,
          0.02,
          0.02,
          0.02,
          0.02,
          0.02,
          0.03,
          0.03,
          0.03,
          0.03,
          0.03,
          0.03,
          0.04,
          0.04,
          0.04,
          0.04,
          0.04,
          0.04,
          0.04,
          0.05,
          0.05,
          0.05,
          0.05,
          0.05,
          0.05,
          0.05,
          0.05,
          0.05,
          0.05,
          0.060000000000000005,
          0.060000000000000005,
          0.060000000000000005,
          0.060000000000000005,
          0.060000000000000005,
          0.06999999999999999,
          0.06999999999999999,
          0.06999999999999999,
          0.06999999999999999,
          0.06999999999999999,
          0.06999999999999999,
          0.07,
          0.07,
          0.07,
          0.07,
          0.08,
          0.08,
          0.08,
          0.08,
          0.08,
          0.09,
          0.09,
          0.09,
          0.09,
          0.09000000000000001,
          0.09000000000000001,
          0.09999999999999999,
          0.09999999999999999,
          0.1,
          0.1,
          0.11,
          0.12,
          0.12,
          0.12000000000000001,
          0.12000000000000001,
          0.12000000000000001,
          0.13,
          0.13,
          0.13,
          0.13999999999999999,
          0.13999999999999999,
          0.13999999999999999,
          0.13999999999999999,
          0.14,
          0.15,
          0.16,
          0.16,
          0.16999999999999998,
          0.17,
          0.18,
          0.18,
          0.18,
          0.19,
          0.19999999999999998,
          0.19999999999999998,
          0.19999999999999998,
          0.2,
          0.2,
          0.21000000000000002,
          0.22,
          0.23,
          0.23,
          0.24000000000000002,
          0.24000000000000002,
          0.24000000000000002,
          0.25,
          0.25,
          0.26,
          0.26,
          0.26,
          0.27,
          0.29,
          0.3,
          0.3,
          0.3,
          0.31,
          0.32,
          0.32,
          0.33,
          0.34,
          0.34,
          0.34,
          0.35000000000000003,
          0.36,
          0.36,
          0.36000000000000004,
          0.36000000000000004,
          0.37000000000000005,
          0.38,
          0.38,
          0.38,
          0.38999999999999996,
          0.39,
          0.39999999999999997,
          0.4,
          0.42,
          0.42,
          0.43,
          0.44,
          0.45,
          0.47000000000000003,
          0.49000000000000005,
          0.51,
          0.52,
          0.54,
          0.6,
          0.6,
          0.6,
          0.61,
          0.63,
          0.64,
          0.67,
          0.67,
          0.6900000000000001,
          0.7,
          0.71,
          0.72,
          0.73,
          0.73,
          0.75,
          0.7600000000000001,
          0.78,
          0.86,
          0.88,
          0.9,
          0.9,
          0.91,
          0.92,
          0.93,
          0.93,
          0.9700000000000001,
          1.02,
          1.05,
          1.0799999999999998,
          1.1,
          1.1199999999999999,
          1.13,
          1.14,
          1.15,
          1.21,
          1.2699999999999998,
          1.44,
          1.54,
          1.62,
          1.6600000000000001,
          1.6600000000000001,
          1.6900000000000002,
          1.7200000000000002,
          1.7200000000000002,
          1.73,
          1.74,
          1.7900000000000003,
          1.81,
          1.85,
          1.8800000000000001,
          1.9100000000000001,
          1.9200000000000002,
          1.98,
          2.01,
          2.07,
          2.09,
          2.11,
          2.14,
          2.19,
          2.21,
          2.2600000000000002,
          2.4499999999999997,
          2.48,
          2.6900000000000004,
          2.78,
          2.7899999999999996,
          2.86,
          2.96,
          3.01,
          3.2399999999999998,
          3.3899999999999997,
          3.4200000000000004,
          3.58,
          3.8,
          3.8299999999999996,
          3.87,
          3.96,
          3.96,
          3.9699999999999998
         ]
        },
        {
         "name": "XB",
         "type": "box",
         "y": [
          0.01,
          0.01,
          0.01,
          0.01,
          0.01,
          0.01,
          0.01,
          0.01,
          0.01,
          0.01,
          0.01,
          0.01,
          0.01,
          0.01,
          0.01,
          0.01,
          0.01,
          0.01,
          0.01,
          0.02,
          0.02,
          0.02,
          0.02,
          0.02,
          0.02,
          0.02,
          0.02,
          0.02,
          0.03,
          0.03,
          0.03,
          0.03,
          0.03,
          0.03,
          0.03,
          0.03,
          0.03,
          0.03,
          0.03,
          0.03,
          0.03,
          0.04,
          0.04,
          0.04,
          0.04,
          0.04,
          0.04,
          0.04,
          0.04,
          0.04,
          0.04,
          0.04,
          0.04,
          0.04,
          0.04,
          0.04,
          0.04,
          0.04,
          0.04,
          0.04,
          0.04,
          0.04,
          0.04,
          0.04,
          0.04,
          0.04,
          0.05,
          0.05,
          0.05,
          0.05,
          0.05,
          0.05,
          0.05,
          0.05,
          0.05,
          0.05,
          0.05,
          0.05,
          0.05,
          0.05,
          0.05,
          0.05,
          0.05,
          0.05,
          0.05,
          0.05,
          0.05,
          0.05,
          0.05,
          0.05,
          0.05,
          0.060000000000000005,
          0.060000000000000005,
          0.060000000000000005,
          0.060000000000000005,
          0.060000000000000005,
          0.060000000000000005,
          0.060000000000000005,
          0.060000000000000005,
          0.060000000000000005,
          0.060000000000000005,
          0.060000000000000005,
          0.060000000000000005,
          0.060000000000000005,
          0.060000000000000005,
          0.060000000000000005,
          0.060000000000000005,
          0.060000000000000005,
          0.060000000000000005,
          0.07,
          0.07,
          0.07,
          0.07,
          0.07,
          0.07,
          0.07,
          0.07,
          0.07,
          0.07,
          0.07,
          0.08,
          0.08,
          0.08,
          0.08,
          0.08,
          0.08,
          0.08,
          0.08,
          0.08,
          0.08,
          0.08,
          0.08,
          0.08,
          0.08,
          0.08,
          0.08,
          0.08,
          0.09,
          0.09000000000000001,
          0.09000000000000001,
          0.09000000000000001,
          0.09000000000000001,
          0.09000000000000001,
          0.09000000000000001,
          0.09000000000000001,
          0.09000000000000001,
          0.09000000000000001,
          0.09000000000000001,
          0.09000000000000001,
          0.09000000000000001,
          0.09000000000000001,
          0.09000000000000001,
          0.09000000000000001,
          0.09000000000000001,
          0.09000000000000001,
          0.09000000000000001,
          0.09000000000000001,
          0.1,
          0.1,
          0.1,
          0.1,
          0.1,
          0.1,
          0.1,
          0.1,
          0.1,
          0.1,
          0.1,
          0.1,
          0.1,
          0.1,
          0.1,
          0.1,
          0.1,
          0.1,
          0.1,
          0.1,
          0.1,
          0.1,
          0.1,
          0.1,
          0.1,
          0.1,
          0.1,
          0.1,
          0.1,
          0.1,
          0.1,
          0.11,
          0.11,
          0.11,
          0.11,
          0.11,
          0.12,
          0.12,
          0.12,
          0.12,
          0.12,
          0.12,
          0.12,
          0.12,
          0.12,
          0.12,
          0.12,
          0.12,
          0.12,
          0.12,
          0.12,
          0.13,
          0.13,
          0.13,
          0.13,
          0.13,
          0.13,
          0.13,
          0.13,
          0.13,
          0.13,
          0.13,
          0.13,
          0.13,
          0.13,
          0.13,
          0.13,
          0.13,
          0.13,
          0.13,
          0.13,
          0.13,
          0.14,
          0.15000000000000002,
          0.15000000000000002,
          0.15000000000000002,
          0.15000000000000002,
          0.15000000000000002,
          0.15000000000000002,
          0.15000000000000002,
          0.15000000000000002,
          0.15000000000000002,
          0.15000000000000002,
          0.15000000000000002,
          0.15000000000000002,
          0.15000000000000002,
          0.15000000000000002,
          0.15000000000000002,
          0.15000000000000002,
          0.15000000000000002,
          0.15000000000000002,
          0.15000000000000002,
          0.15000000000000002,
          0.15000000000000002,
          0.15000000000000002,
          0.15000000000000002,
          0.15000000000000002,
          0.16,
          0.16,
          0.16,
          0.17,
          0.17,
          0.17,
          0.18000000000000002,
          0.18000000000000002,
          0.18000000000000002,
          0.18000000000000002,
          0.18000000000000002,
          0.18000000000000002,
          0.18000000000000002,
          0.18000000000000002,
          0.18000000000000002,
          0.18000000000000002,
          0.18000000000000002,
          0.18000000000000002,
          0.18000000000000002,
          0.18000000000000002,
          0.18000000000000002,
          0.18000000000000002,
          0.19,
          0.19,
          0.19,
          0.19000000000000003,
          0.19000000000000003,
          0.19000000000000003,
          0.19000000000000003,
          0.19000000000000003,
          0.19000000000000003,
          0.19000000000000003,
          0.19000000000000003,
          0.19000000000000003,
          0.19000000000000003,
          0.19000000000000003,
          0.19000000000000003,
          0.19000000000000003,
          0.19000000000000003,
          0.19000000000000003,
          0.2,
          0.2,
          0.2,
          0.2,
          0.2,
          0.2,
          0.2,
          0.2,
          0.2,
          0.2,
          0.2,
          0.2,
          0.2,
          0.2,
          0.21000000000000002,
          0.21000000000000002,
          0.21000000000000002,
          0.22000000000000003,
          0.22000000000000003,
          0.22000000000000003,
          0.22000000000000003,
          0.22000000000000003,
          0.22000000000000003,
          0.22000000000000003,
          0.22000000000000003,
          0.22000000000000003,
          0.23000000000000004,
          0.23000000000000004,
          0.23000000000000004,
          0.23000000000000004,
          0.23000000000000004,
          0.23000000000000004,
          0.24,
          0.24,
          0.24,
          0.24,
          0.24,
          0.24,
          0.24,
          0.24,
          0.24,
          0.24,
          0.24000000000000005,
          0.25,
          0.25,
          0.25,
          0.25,
          0.25,
          0.25,
          0.25,
          0.26,
          0.26,
          0.26,
          0.26,
          0.26,
          0.27,
          0.27,
          0.27,
          0.27,
          0.27,
          0.27,
          0.27,
          0.28,
          0.28,
          0.28,
          0.28,
          0.28,
          0.28,
          0.28,
          0.28,
          0.28,
          0.29000000000000004,
          0.29000000000000004,
          0.29000000000000004,
          0.29000000000000004,
          0.29000000000000004,
          0.3,
          0.31,
          0.31000000000000005,
          0.31000000000000005,
          0.31000000000000005,
          0.31000000000000005,
          0.31000000000000005,
          0.31000000000000005,
          0.32,
          0.32,
          0.32,
          0.32,
          0.32,
          0.32000000000000006,
          0.33,
          0.33,
          0.33,
          0.33,
          0.33,
          0.33,
          0.34,
          0.34,
          0.36,
          0.36000000000000004,
          0.36000000000000004,
          0.36000000000000004,
          0.36000000000000004,
          0.37000000000000005,
          0.37000000000000005,
          0.38,
          0.38,
          0.38,
          0.38,
          0.39,
          0.4,
          0.4,
          0.41000000000000003,
          0.41000000000000003,
          0.42,
          0.42000000000000004,
          0.43000000000000005,
          0.43000000000000005,
          0.43000000000000005,
          0.44,
          0.44,
          0.44,
          0.44000000000000006,
          0.44000000000000006,
          0.44000000000000006,
          0.45000000000000007,
          0.45000000000000007,
          0.46,
          0.4600000000000001,
          0.4600000000000001,
          0.47,
          0.48,
          0.49,
          0.49000000000000005,
          0.5,
          0.5,
          0.5,
          0.5,
          0.5,
          0.52,
          0.52,
          0.52,
          0.53,
          0.53,
          0.53,
          0.53,
          0.54,
          0.54,
          0.54,
          0.54,
          0.55,
          0.55,
          0.55,
          0.55,
          0.55,
          0.56,
          0.56,
          0.56,
          0.56,
          0.56,
          0.5700000000000001,
          0.5700000000000001,
          0.5700000000000001,
          0.5700000000000001,
          0.5800000000000001,
          0.5800000000000001,
          0.5900000000000001,
          0.6,
          0.6000000000000001,
          0.61,
          0.6100000000000001,
          0.62,
          0.63,
          0.63,
          0.6300000000000001,
          0.64,
          0.64,
          0.64,
          0.6400000000000001,
          0.65,
          0.66,
          0.67,
          0.67,
          0.6799999999999999,
          0.68,
          0.68,
          0.68,
          0.6900000000000001,
          0.7,
          0.7000000000000001,
          0.7100000000000001,
          0.72,
          0.7200000000000001,
          0.7300000000000001,
          0.7300000000000001,
          0.7300000000000001,
          0.74,
          0.74,
          0.75,
          0.76,
          0.77,
          0.78,
          0.8,
          0.82,
          0.8200000000000001,
          0.83,
          0.8400000000000001,
          0.8500000000000001,
          0.87,
          0.8700000000000001,
          0.88,
          0.9,
          0.9,
          0.9,
          0.9000000000000001,
          0.91,
          0.9299999999999999,
          0.94,
          0.9600000000000001,
          0.9600000000000001,
          0.97,
          0.97,
          0.99,
          1.03,
          1.04,
          1.05,
          1.05,
          1.09,
          1.11,
          1.11,
          1.12,
          1.12,
          1.13,
          1.14,
          1.1400000000000001,
          1.1700000000000002,
          1.2,
          1.21,
          1.22,
          1.2200000000000002,
          1.23,
          1.2300000000000002,
          1.24,
          1.27,
          1.31,
          1.34,
          1.37,
          1.37,
          1.3800000000000001,
          1.4000000000000001,
          1.48,
          1.49,
          1.55,
          1.6300000000000001,
          1.67,
          1.7100000000000002,
          1.7200000000000002,
          1.76,
          1.76,
          1.78,
          1.86,
          1.9600000000000002,
          2.1199999999999997,
          2.2,
          2.28,
          2.6599999999999997,
          2.8599999999999994,
          3.02
         ]
        },
        {
         "name": "PC",
         "type": "box",
         "y": [
          0.01,
          0.01,
          0.01,
          0.01,
          0.01,
          0.01,
          0.01,
          0.01,
          0.01,
          0.01,
          0.01,
          0.01,
          0.01,
          0.01,
          0.01,
          0.01,
          0.01,
          0.01,
          0.01,
          0.01,
          0.01,
          0.01,
          0.01,
          0.01,
          0.01,
          0.01,
          0.01,
          0.01,
          0.01,
          0.01,
          0.01,
          0.01,
          0.01,
          0.01,
          0.01,
          0.01,
          0.01,
          0.01,
          0.01,
          0.01,
          0.01,
          0.01,
          0.01,
          0.01,
          0.01,
          0.01,
          0.01,
          0.01,
          0.01,
          0.01,
          0.01,
          0.01,
          0.01,
          0.01,
          0.01,
          0.01,
          0.01,
          0.01,
          0.01,
          0.01,
          0.01,
          0.01,
          0.01,
          0.01,
          0.01,
          0.01,
          0.01,
          0.01,
          0.01,
          0.01,
          0.01,
          0.01,
          0.01,
          0.01,
          0.01,
          0.01,
          0.01,
          0.01,
          0.01,
          0.01,
          0.01,
          0.02,
          0.02,
          0.02,
          0.02,
          0.02,
          0.02,
          0.02,
          0.02,
          0.02,
          0.02,
          0.02,
          0.02,
          0.02,
          0.02,
          0.02,
          0.02,
          0.02,
          0.02,
          0.02,
          0.02,
          0.02,
          0.02,
          0.02,
          0.02,
          0.02,
          0.02,
          0.02,
          0.02,
          0.02,
          0.02,
          0.02,
          0.02,
          0.02,
          0.02,
          0.02,
          0.02,
          0.02,
          0.02,
          0.02,
          0.02,
          0.02,
          0.02,
          0.02,
          0.02,
          0.02,
          0.02,
          0.02,
          0.02,
          0.02,
          0.02,
          0.02,
          0.02,
          0.02,
          0.02,
          0.02,
          0.02,
          0.02,
          0.02,
          0.02,
          0.02,
          0.02,
          0.02,
          0.02,
          0.02,
          0.02,
          0.02,
          0.02,
          0.02,
          0.02,
          0.02,
          0.02,
          0.02,
          0.02,
          0.02,
          0.02,
          0.02,
          0.02,
          0.02,
          0.02,
          0.02,
          0.02,
          0.02,
          0.02,
          0.02,
          0.02,
          0.02,
          0.02,
          0.02,
          0.02,
          0.02,
          0.02,
          0.02,
          0.02,
          0.02,
          0.02,
          0.02,
          0.02,
          0.02,
          0.02,
          0.02,
          0.02,
          0.02,
          0.02,
          0.02,
          0.03,
          0.03,
          0.03,
          0.03,
          0.03,
          0.03,
          0.03,
          0.03,
          0.03,
          0.03,
          0.03,
          0.03,
          0.03,
          0.03,
          0.03,
          0.03,
          0.03,
          0.03,
          0.03,
          0.03,
          0.03,
          0.03,
          0.03,
          0.03,
          0.03,
          0.03,
          0.03,
          0.03,
          0.03,
          0.03,
          0.03,
          0.03,
          0.03,
          0.03,
          0.03,
          0.03,
          0.03,
          0.03,
          0.03,
          0.03,
          0.03,
          0.04,
          0.04,
          0.04,
          0.04,
          0.04,
          0.04,
          0.04,
          0.04,
          0.04,
          0.04,
          0.04,
          0.04,
          0.04,
          0.04,
          0.04,
          0.04,
          0.04,
          0.04,
          0.04,
          0.04,
          0.04,
          0.04,
          0.04,
          0.04,
          0.04,
          0.04,
          0.04,
          0.04,
          0.04,
          0.04,
          0.04,
          0.04,
          0.04,
          0.04,
          0.04,
          0.04,
          0.04,
          0.04,
          0.04,
          0.04,
          0.04,
          0.04,
          0.04,
          0.04,
          0.04,
          0.04,
          0.04,
          0.05,
          0.05,
          0.05,
          0.05,
          0.05,
          0.05,
          0.05,
          0.05,
          0.05,
          0.05,
          0.05,
          0.05,
          0.05,
          0.05,
          0.05,
          0.05,
          0.05,
          0.05,
          0.05,
          0.05,
          0.05,
          0.05,
          0.05,
          0.05,
          0.05,
          0.05,
          0.05,
          0.05,
          0.05,
          0.05,
          0.05,
          0.05,
          0.05,
          0.05,
          0.05,
          0.05,
          0.05,
          0.05,
          0.05,
          0.05,
          0.05,
          0.05,
          0.05,
          0.05,
          0.06,
          0.06,
          0.060000000000000005,
          0.060000000000000005,
          0.060000000000000005,
          0.060000000000000005,
          0.060000000000000005,
          0.060000000000000005,
          0.060000000000000005,
          0.060000000000000005,
          0.060000000000000005,
          0.060000000000000005,
          0.060000000000000005,
          0.060000000000000005,
          0.060000000000000005,
          0.060000000000000005,
          0.060000000000000005,
          0.060000000000000005,
          0.060000000000000005,
          0.060000000000000005,
          0.060000000000000005,
          0.060000000000000005,
          0.060000000000000005,
          0.060000000000000005,
          0.060000000000000005,
          0.060000000000000005,
          0.060000000000000005,
          0.060000000000000005,
          0.060000000000000005,
          0.060000000000000005,
          0.06999999999999999,
          0.06999999999999999,
          0.06999999999999999,
          0.06999999999999999,
          0.06999999999999999,
          0.06999999999999999,
          0.06999999999999999,
          0.06999999999999999,
          0.06999999999999999,
          0.06999999999999999,
          0.06999999999999999,
          0.06999999999999999,
          0.07,
          0.07,
          0.07,
          0.07,
          0.07,
          0.07999999999999999,
          0.07999999999999999,
          0.07999999999999999,
          0.07999999999999999,
          0.08,
          0.08,
          0.08,
          0.08,
          0.08,
          0.08,
          0.08,
          0.08,
          0.08,
          0.08,
          0.08,
          0.08,
          0.08,
          0.08,
          0.08,
          0.08,
          0.08,
          0.08,
          0.09,
          0.09,
          0.09,
          0.09,
          0.09000000000000001,
          0.09999999999999999,
          0.09999999999999999,
          0.09999999999999999,
          0.09999999999999999,
          0.1,
          0.1,
          0.1,
          0.1,
          0.1,
          0.11,
          0.11,
          0.11,
          0.11,
          0.11,
          0.11,
          0.11,
          0.11,
          0.11,
          0.11000000000000001,
          0.12,
          0.12,
          0.12,
          0.12,
          0.12000000000000001,
          0.12000000000000001,
          0.12000000000000001,
          0.12000000000000001,
          0.13,
          0.13,
          0.13,
          0.13,
          0.13,
          0.13,
          0.13,
          0.13,
          0.13999999999999999,
          0.13999999999999999,
          0.13999999999999999,
          0.14,
          0.14,
          0.14,
          0.14,
          0.14,
          0.15,
          0.15,
          0.15,
          0.15,
          0.15000000000000002,
          0.15000000000000002,
          0.16,
          0.16,
          0.16,
          0.16,
          0.16,
          0.16,
          0.16,
          0.16000000000000003,
          0.16999999999999998,
          0.16999999999999998,
          0.17,
          0.17,
          0.17,
          0.17,
          0.18,
          0.18,
          0.18,
          0.18000000000000002,
          0.18000000000000002,
          0.18000000000000002,
          0.18000000000000002,
          0.18000000000000002,
          0.18999999999999997,
          0.18999999999999997,
          0.18999999999999997,
          0.19,
          0.19,
          0.19,
          0.19,
          0.19,
          0.19,
          0.19999999999999998,
          0.19999999999999998,
          0.19999999999999998,
          0.19999999999999998,
          0.2,
          0.2,
          0.2,
          0.21,
          0.22,
          0.22,
          0.22,
          0.22,
          0.22,
          0.22,
          0.22999999999999998,
          0.23,
          0.23,
          0.24,
          0.24,
          0.24,
          0.24,
          0.24000000000000002,
          0.24000000000000002,
          0.24000000000000002,
          0.25,
          0.25,
          0.26,
          0.26,
          0.26,
          0.27,
          0.27,
          0.27,
          0.28,
          0.28,
          0.28,
          0.28,
          0.29,
          0.29,
          0.29000000000000004,
          0.3,
          0.30000000000000004,
          0.31000000000000005,
          0.32,
          0.32,
          0.32,
          0.32000000000000006,
          0.33,
          0.33,
          0.33,
          0.35,
          0.35,
          0.35000000000000003,
          0.36,
          0.36,
          0.37,
          0.37,
          0.38,
          0.38,
          0.38,
          0.38,
          0.38,
          0.39,
          0.39,
          0.4,
          0.4,
          0.41,
          0.41,
          0.41000000000000003,
          0.42000000000000004,
          0.43,
          0.43,
          0.44000000000000006,
          0.44999999999999996,
          0.45999999999999996,
          0.47,
          0.47000000000000003,
          0.48,
          0.49,
          0.49000000000000005,
          0.51,
          0.51,
          0.52,
          0.53,
          0.53,
          0.55,
          0.55,
          0.56,
          0.58,
          0.58,
          0.59,
          0.59,
          0.5900000000000001,
          0.63,
          0.63,
          0.63,
          0.6300000000000001,
          0.64,
          0.65,
          0.65,
          0.6599999999999999,
          0.6699999999999999,
          0.6699999999999999,
          0.67,
          0.6900000000000001,
          0.71,
          0.71,
          0.72,
          0.72,
          0.7200000000000001,
          0.73,
          0.74,
          0.74,
          0.75,
          0.8700000000000001,
          0.89,
          0.9000000000000001,
          0.9299999999999999,
          0.93,
          0.9500000000000001,
          0.96,
          0.9600000000000001,
          0.9600000000000001,
          0.9700000000000001,
          0.98,
          1.05,
          1.08,
          1.12,
          1.15,
          1.1500000000000001,
          1.1700000000000002,
          1.1700000000000002,
          1.1800000000000002,
          1.24,
          1.26,
          1.27,
          1.2800000000000002,
          1.3199999999999998,
          1.36,
          1.42,
          1.42,
          1.51,
          1.52,
          1.54,
          1.67,
          1.67,
          1.67,
          1.69,
          1.71,
          1.81,
          1.82,
          1.9200000000000002,
          2.09,
          2.16,
          2.3000000000000003,
          2.38,
          2.78,
          2.9699999999999998,
          3.0500000000000003,
          3.07,
          3.76,
          3.8800000000000003
         ]
        },
        {
         "name": "PSP",
         "type": "box",
         "y": [
          0.01,
          0.01,
          0.01,
          0.01,
          0.01,
          0.01,
          0.02,
          0.02,
          0.02,
          0.02,
          0.02,
          0.03,
          0.03,
          0.03,
          0.03,
          0.03,
          0.03,
          0.03,
          0.03,
          0.03,
          0.03,
          0.03,
          0.03,
          0.03,
          0.03,
          0.03,
          0.04,
          0.04,
          0.04,
          0.04,
          0.04,
          0.04,
          0.04,
          0.04,
          0.04,
          0.04,
          0.04,
          0.04,
          0.05,
          0.05,
          0.05,
          0.05,
          0.05,
          0.05,
          0.05,
          0.05,
          0.05,
          0.06,
          0.06,
          0.06,
          0.06,
          0.06,
          0.06,
          0.060000000000000005,
          0.060000000000000005,
          0.060000000000000005,
          0.06999999999999999,
          0.06999999999999999,
          0.06999999999999999,
          0.06999999999999999,
          0.07,
          0.07,
          0.07,
          0.07,
          0.08,
          0.08,
          0.08,
          0.08,
          0.08,
          0.08,
          0.08,
          0.08,
          0.08,
          0.08,
          0.08,
          0.08999999999999998,
          0.09,
          0.09,
          0.09,
          0.09,
          0.09,
          0.09,
          0.09,
          0.09,
          0.09,
          0.09,
          0.09,
          0.09,
          0.09,
          0.09,
          0.09,
          0.09999999999999999,
          0.09999999999999999,
          0.09999999999999999,
          0.09999999999999999,
          0.09999999999999999,
          0.09999999999999999,
          0.09999999999999999,
          0.09999999999999999,
          0.09999999999999999,
          0.09999999999999999,
          0.09999999999999999,
          0.1,
          0.1,
          0.10999999999999999,
          0.11,
          0.11,
          0.11,
          0.11,
          0.11,
          0.11,
          0.11,
          0.11,
          0.11,
          0.11,
          0.12,
          0.12,
          0.12,
          0.12,
          0.12,
          0.12,
          0.12,
          0.12,
          0.12000000000000001,
          0.12000000000000001,
          0.12000000000000001,
          0.12000000000000001,
          0.13,
          0.13,
          0.13,
          0.13,
          0.13,
          0.14,
          0.14,
          0.14,
          0.14,
          0.14,
          0.14,
          0.14,
          0.14,
          0.15,
          0.15,
          0.15,
          0.15,
          0.15000000000000002,
          0.15000000000000002,
          0.15000000000000002,
          0.15000000000000002,
          0.15000000000000002,
          0.15000000000000002,
          0.15000000000000002,
          0.15000000000000002,
          0.16,
          0.16,
          0.16,
          0.16,
          0.16000000000000003,
          0.16999999999999998,
          0.16999999999999998,
          0.16999999999999998,
          0.17,
          0.17,
          0.17,
          0.18,
          0.18000000000000002,
          0.18000000000000002,
          0.19,
          0.19,
          0.19,
          0.19,
          0.19,
          0.19,
          0.19,
          0.19999999999999998,
          0.19999999999999998,
          0.19999999999999998,
          0.19999999999999998,
          0.19999999999999998,
          0.2,
          0.21,
          0.21,
          0.21,
          0.21,
          0.21000000000000002,
          0.21999999999999997,
          0.22,
          0.22,
          0.22,
          0.22,
          0.22,
          0.22,
          0.22,
          0.22000000000000003,
          0.22999999999999998,
          0.22999999999999998,
          0.23,
          0.23,
          0.23,
          0.24,
          0.24,
          0.24,
          0.24000000000000002,
          0.24000000000000002,
          0.24000000000000002,
          0.24999999999999997,
          0.25,
          0.25,
          0.25,
          0.26,
          0.26,
          0.26,
          0.26,
          0.27,
          0.27,
          0.27,
          0.28,
          0.28,
          0.29000000000000004,
          0.29000000000000004,
          0.29000000000000004,
          0.29000000000000004,
          0.29000000000000004,
          0.30000000000000004,
          0.30000000000000004,
          0.30000000000000004,
          0.30000000000000004,
          0.31,
          0.31,
          0.31000000000000005,
          0.31000000000000005,
          0.31000000000000005,
          0.32,
          0.32,
          0.32,
          0.32000000000000006,
          0.32000000000000006,
          0.33,
          0.33,
          0.33,
          0.33000000000000007,
          0.33000000000000007,
          0.34,
          0.35,
          0.35,
          0.35,
          0.35,
          0.35,
          0.36,
          0.36000000000000004,
          0.37,
          0.37,
          0.37,
          0.37,
          0.37,
          0.38,
          0.39,
          0.39,
          0.41000000000000003,
          0.42,
          0.42000000000000004,
          0.42000000000000004,
          0.42000000000000004,
          0.43,
          0.43000000000000005,
          0.44,
          0.44000000000000006,
          0.44999999999999996,
          0.45,
          0.45999999999999996,
          0.45999999999999996,
          0.45999999999999996,
          0.46,
          0.46,
          0.48,
          0.49,
          0.5,
          0.5,
          0.51,
          0.51,
          0.51,
          0.51,
          0.5199999999999999,
          0.52,
          0.53,
          0.53,
          0.54,
          0.54,
          0.54,
          0.55,
          0.55,
          0.55,
          0.56,
          0.56,
          0.5700000000000001,
          0.5800000000000001,
          0.6,
          0.6300000000000001,
          0.64,
          0.64,
          0.65,
          0.65,
          0.67,
          0.68,
          0.6900000000000001,
          0.6900000000000001,
          0.6900000000000001,
          0.7,
          0.71,
          0.71,
          0.71,
          0.74,
          0.74,
          0.7400000000000001,
          0.75,
          0.75,
          0.75,
          0.76,
          0.76,
          0.77,
          0.77,
          0.77,
          0.78,
          0.79,
          0.79,
          0.7999999999999999,
          0.8,
          0.8100000000000002,
          0.82,
          0.8200000000000001,
          0.83,
          0.86,
          0.86,
          0.87,
          0.8700000000000001,
          0.88,
          0.8899999999999999,
          0.92,
          0.93,
          0.95,
          0.98,
          0.98,
          0.99,
          1,
          1.02,
          1.04,
          1.05,
          1.07,
          1.07,
          1.07,
          1.08,
          1.0899999999999999,
          1.1,
          1.12,
          1.1400000000000001,
          1.15,
          1.1600000000000001,
          1.17,
          1.19,
          1.19,
          1.2,
          1.2,
          1.2100000000000002,
          1.23,
          1.32,
          1.34,
          1.35,
          1.35,
          1.37,
          1.3900000000000001,
          1.4000000000000001,
          1.42,
          1.48,
          1.6800000000000002,
          1.96,
          2.05,
          2.0700000000000003,
          2.08,
          2.13,
          2.23,
          2.42,
          2.54,
          2.5700000000000003,
          2.64,
          3.1700000000000004,
          3.18,
          3.65
         ]
        },
        {
         "name": "WiiU",
         "type": "box",
         "y": [
          0.01,
          0.01,
          0.01,
          0.01,
          0.02,
          0.02,
          0.02,
          0.03,
          0.04,
          0.06,
          0.06999999999999999,
          0.06999999999999999,
          0.08,
          0.09,
          0.09,
          0.09999999999999999,
          0.09999999999999999,
          0.11,
          0.11,
          0.11,
          0.12,
          0.12000000000000001,
          0.12000000000000001,
          0.13,
          0.13,
          0.14,
          0.15000000000000002,
          0.15000000000000002,
          0.18000000000000002,
          0.18999999999999997,
          0.18999999999999997,
          0.2,
          0.22999999999999998,
          0.23,
          0.24,
          0.27,
          0.27,
          0.29000000000000004,
          0.31000000000000005,
          0.31000000000000005,
          0.35,
          0.35,
          0.35,
          0.37,
          0.37,
          0.37,
          0.37,
          0.38,
          0.39,
          0.4,
          0.41000000000000003,
          0.42000000000000004,
          0.42000000000000004,
          0.44000000000000006,
          0.48,
          0.48000000000000004,
          0.51,
          0.52,
          0.53,
          0.5700000000000001,
          0.5800000000000001,
          0.5900000000000001,
          0.6000000000000001,
          0.6400000000000001,
          0.6600000000000001,
          0.7,
          0.73,
          0.74,
          0.76,
          0.84,
          0.8400000000000001,
          1.01,
          1.01,
          1.03,
          1.1,
          1.12,
          1.1900000000000002,
          1.23,
          1.3,
          1.5299999999999998,
          1.58,
          1.7500000000000002,
          2.2300000000000004,
          3.21
         ]
        },
        {
         "name": "GC",
         "type": "box",
         "y": [
          0.01,
          0.01,
          0.01,
          0.01,
          0.01,
          0.01,
          0.02,
          0.02,
          0.02,
          0.02,
          0.02,
          0.03,
          0.03,
          0.03,
          0.04,
          0.04,
          0.04,
          0.04,
          0.04,
          0.04,
          0.04,
          0.05,
          0.05,
          0.05,
          0.05,
          0.05,
          0.05,
          0.05,
          0.05,
          0.05,
          0.05,
          0.05,
          0.05,
          0.05,
          0.05,
          0.05,
          0.05,
          0.05,
          0.060000000000000005,
          0.060000000000000005,
          0.060000000000000005,
          0.060000000000000005,
          0.060000000000000005,
          0.060000000000000005,
          0.060000000000000005,
          0.060000000000000005,
          0.060000000000000005,
          0.060000000000000005,
          0.060000000000000005,
          0.060000000000000005,
          0.060000000000000005,
          0.06999999999999999,
          0.06999999999999999,
          0.06999999999999999,
          0.08,
          0.08,
          0.08,
          0.08,
          0.08,
          0.08,
          0.08,
          0.08,
          0.08,
          0.08,
          0.08,
          0.08,
          0.08,
          0.08,
          0.08,
          0.08,
          0.08,
          0.08,
          0.08,
          0.08,
          0.08,
          0.08,
          0.08,
          0.08,
          0.08,
          0.09000000000000001,
          0.09000000000000001,
          0.09000000000000001,
          0.09000000000000001,
          0.09000000000000001,
          0.09000000000000001,
          0.09000000000000001,
          0.09000000000000001,
          0.09000000000000001,
          0.1,
          0.1,
          0.1,
          0.1,
          0.1,
          0.1,
          0.1,
          0.1,
          0.1,
          0.1,
          0.1,
          0.11,
          0.11,
          0.11,
          0.11,
          0.11,
          0.11,
          0.11,
          0.11,
          0.11,
          0.11,
          0.11,
          0.11000000000000001,
          0.12000000000000001,
          0.13,
          0.13,
          0.13,
          0.13,
          0.13,
          0.13,
          0.13,
          0.13,
          0.13,
          0.14,
          0.14,
          0.14,
          0.14,
          0.14,
          0.14,
          0.14,
          0.14,
          0.14,
          0.14,
          0.14,
          0.14,
          0.15,
          0.15,
          0.15,
          0.15,
          0.15,
          0.15,
          0.15,
          0.15,
          0.15,
          0.15,
          0.15,
          0.15,
          0.15,
          0.15,
          0.16,
          0.16,
          0.16,
          0.16,
          0.16,
          0.16,
          0.16,
          0.16,
          0.16,
          0.16,
          0.16,
          0.16,
          0.18000000000000002,
          0.18000000000000002,
          0.18000000000000002,
          0.18000000000000002,
          0.18000000000000002,
          0.18000000000000002,
          0.2,
          0.2,
          0.2,
          0.2,
          0.2,
          0.2,
          0.2,
          0.2,
          0.21000000000000002,
          0.21000000000000002,
          0.21000000000000002,
          0.21000000000000002,
          0.21000000000000002,
          0.22000000000000003,
          0.22000000000000003,
          0.22000000000000003,
          0.22000000000000003,
          0.22000000000000003,
          0.22000000000000003,
          0.22000000000000003,
          0.22000000000000003,
          0.24,
          0.24,
          0.24,
          0.25,
          0.25,
          0.25,
          0.25,
          0.25,
          0.25,
          0.25,
          0.25,
          0.25,
          0.25,
          0.25,
          0.26,
          0.26,
          0.26,
          0.26,
          0.26,
          0.27,
          0.27,
          0.27,
          0.27,
          0.28,
          0.28,
          0.29000000000000004,
          0.29000000000000004,
          0.29000000000000004,
          0.30000000000000004,
          0.30000000000000004,
          0.31,
          0.32,
          0.33,
          0.33,
          0.33,
          0.33,
          0.34,
          0.34,
          0.34,
          0.34,
          0.34,
          0.35000000000000003,
          0.35000000000000003,
          0.35000000000000003,
          0.36000000000000004,
          0.36000000000000004,
          0.37,
          0.37,
          0.37,
          0.38,
          0.38,
          0.38,
          0.39,
          0.39,
          0.39,
          0.4,
          0.4,
          0.4,
          0.4,
          0.4,
          0.4,
          0.4,
          0.41000000000000003,
          0.41000000000000003,
          0.41000000000000003,
          0.42000000000000004,
          0.43000000000000005,
          0.43000000000000005,
          0.43000000000000005,
          0.44000000000000006,
          0.44000000000000006,
          0.44000000000000006,
          0.44999999999999996,
          0.44999999999999996,
          0.45999999999999996,
          0.46,
          0.4600000000000001,
          0.48,
          0.49,
          0.49,
          0.49,
          0.5,
          0.51,
          0.53,
          0.53,
          0.54,
          0.54,
          0.56,
          0.5700000000000001,
          0.5700000000000001,
          0.5900000000000001,
          0.6000000000000001,
          0.6000000000000001,
          0.61,
          0.62,
          0.63,
          0.66,
          0.66,
          0.6900000000000001,
          0.6900000000000001,
          0.6900000000000001,
          0.6900000000000001,
          0.7000000000000001,
          0.7100000000000001,
          0.7100000000000001,
          0.7300000000000001,
          0.78,
          0.79,
          0.79,
          0.8,
          0.81,
          0.8300000000000001,
          0.8400000000000001,
          0.8400000000000001,
          0.8899999999999999,
          0.9199999999999999,
          0.94,
          0.95,
          0.96,
          0.97,
          0.99,
          1.03,
          1.04,
          1.08,
          1.1,
          1.1500000000000001,
          1.18,
          1.2,
          1.21,
          1.23,
          1.24,
          1.26,
          1.33,
          1.34,
          1.46,
          1.46,
          1.5,
          1.5000000000000002,
          1.5200000000000002,
          1.53,
          1.56,
          1.5899999999999999,
          1.59,
          1.5999999999999999,
          1.61,
          1.6300000000000001,
          1.66,
          1.68,
          1.8800000000000001,
          1.9000000000000001,
          2.06,
          2.0900000000000003,
          2.25,
          2.4799999999999995,
          2.5499999999999994,
          2.57,
          2.82,
          3.16,
          3.61
         ]
        },
        {
         "name": "GBA",
         "type": "box",
         "y": [
          0.01,
          0.01,
          0.01,
          0.01,
          0.01,
          0.01,
          0.01,
          0.01,
          0.01,
          0.03,
          0.03,
          0.03,
          0.03,
          0.03,
          0.03,
          0.03,
          0.03,
          0.03,
          0.03,
          0.03,
          0.03,
          0.03,
          0.03,
          0.03,
          0.03,
          0.03,
          0.04,
          0.04,
          0.04,
          0.04,
          0.04,
          0.05,
          0.05,
          0.05,
          0.05,
          0.05,
          0.05,
          0.06,
          0.06,
          0.06,
          0.06,
          0.06,
          0.06,
          0.07,
          0.07,
          0.07,
          0.07,
          0.07,
          0.07,
          0.07,
          0.07,
          0.08,
          0.08,
          0.08,
          0.08,
          0.08,
          0.08,
          0.08,
          0.08,
          0.08,
          0.08,
          0.08,
          0.09000000000000001,
          0.1,
          0.1,
          0.1,
          0.1,
          0.1,
          0.1,
          0.11,
          0.11,
          0.11,
          0.11,
          0.11,
          0.11,
          0.11,
          0.11,
          0.13,
          0.13,
          0.14,
          0.14,
          0.14,
          0.14,
          0.14,
          0.14,
          0.14,
          0.14,
          0.15,
          0.15,
          0.15,
          0.15,
          0.16,
          0.16,
          0.16999999999999998,
          0.18,
          0.19,
          0.19,
          0.19,
          0.19,
          0.19,
          0.2,
          0.2,
          0.2,
          0.21,
          0.21,
          0.21,
          0.22,
          0.22,
          0.22,
          0.22,
          0.23,
          0.23,
          0.23,
          0.25,
          0.26,
          0.26,
          0.27,
          0.27,
          0.29000000000000004,
          0.29000000000000004,
          0.29000000000000004,
          0.29000000000000004,
          0.3,
          0.3,
          0.3,
          0.31,
          0.31,
          0.31,
          0.31,
          0.31,
          0.31,
          0.33,
          0.33999999999999997,
          0.33999999999999997,
          0.33999999999999997,
          0.33999999999999997,
          0.35,
          0.35,
          0.37,
          0.39,
          0.39,
          0.39,
          0.42,
          0.42000000000000004,
          0.43000000000000005,
          0.44,
          0.44,
          0.45,
          0.45,
          0.46,
          0.46,
          0.46,
          0.46,
          0.48000000000000004,
          0.49,
          0.5,
          0.5,
          0.5,
          0.52,
          0.52,
          0.52,
          0.53,
          0.55,
          0.55,
          0.56,
          0.56,
          0.56,
          0.57,
          0.57,
          0.5900000000000001,
          0.6,
          0.6,
          0.6,
          0.61,
          0.61,
          0.61,
          0.62,
          0.64,
          0.6499999999999999,
          0.65,
          0.65,
          0.6799999999999999,
          0.69,
          0.6900000000000001,
          0.7,
          0.71,
          0.72,
          0.7300000000000001,
          0.74,
          0.75,
          0.76,
          0.77,
          0.83,
          0.83,
          0.89,
          0.89,
          0.8999999999999999,
          0.9400000000000001,
          0.97,
          0.99,
          1.04,
          1.06,
          1.08,
          1.09,
          1.1300000000000001,
          1.1600000000000001,
          1.18,
          1.1900000000000002,
          1.2,
          1.22,
          1.2200000000000002,
          1.29,
          1.36,
          1.4000000000000001,
          1.42,
          1.4300000000000002,
          1.58,
          1.68,
          1.6900000000000002,
          1.6900000000000002,
          1.73,
          1.77,
          1.8,
          1.85,
          1.9900000000000002,
          2.04,
          2.13,
          2.23,
          2.25,
          2.26,
          2.27,
          2.7,
          2.9399999999999995
         ]
        },
        {
         "name": "XOne",
         "type": "box",
         "y": [
          0.01,
          0.01,
          0.01,
          0.01,
          0.01,
          0.01,
          0.01,
          0.02,
          0.02,
          0.02,
          0.02,
          0.02,
          0.03,
          0.03,
          0.03,
          0.04,
          0.04,
          0.04,
          0.04,
          0.04,
          0.04,
          0.05,
          0.05,
          0.05,
          0.06,
          0.060000000000000005,
          0.060000000000000005,
          0.060000000000000005,
          0.06999999999999999,
          0.08,
          0.09,
          0.09999999999999999,
          0.09999999999999999,
          0.1,
          0.10999999999999999,
          0.11,
          0.11,
          0.12,
          0.13,
          0.13,
          0.14,
          0.14,
          0.14,
          0.14,
          0.15000000000000002,
          0.15000000000000002,
          0.15000000000000002,
          0.16,
          0.16,
          0.16000000000000003,
          0.16999999999999998,
          0.18,
          0.18,
          0.18,
          0.19999999999999998,
          0.19999999999999998,
          0.19999999999999998,
          0.21,
          0.22,
          0.22,
          0.24,
          0.24000000000000002,
          0.24000000000000002,
          0.24000000000000002,
          0.24000000000000002,
          0.24999999999999997,
          0.26,
          0.26,
          0.27,
          0.27,
          0.28,
          0.29000000000000004,
          0.31000000000000005,
          0.31999999999999995,
          0.31999999999999995,
          0.33999999999999997,
          0.33999999999999997,
          0.33999999999999997,
          0.36,
          0.41,
          0.41,
          0.42,
          0.43,
          0.44,
          0.44999999999999996,
          0.45999999999999996,
          0.47,
          0.4799999999999999,
          0.48,
          0.49999999999999994,
          0.53,
          0.53,
          0.55,
          0.56,
          0.5700000000000001,
          0.5700000000000001,
          0.5900000000000001,
          0.6000000000000001,
          0.6200000000000001,
          0.6300000000000001,
          0.6400000000000001,
          0.6599999999999999,
          0.6599999999999999,
          0.6799999999999999,
          0.6800000000000002,
          0.7,
          0.75,
          0.79,
          0.8,
          0.88,
          0.8999999999999999,
          0.91,
          0.93,
          1.03,
          1.06,
          1.08,
          1.1300000000000001,
          1.1600000000000001,
          1.2000000000000002,
          1.21,
          1.23,
          1.2800000000000002,
          1.29,
          1.2900000000000003,
          1.3,
          1.3399999999999999,
          1.3399999999999999,
          1.3599999999999999,
          1.38,
          1.3800000000000001,
          1.3900000000000001,
          1.4000000000000001,
          1.4900000000000002,
          1.56,
          1.57,
          1.5700000000000003,
          1.6400000000000001,
          1.73,
          1.7999999999999998,
          2.02,
          2.1700000000000004,
          2.18,
          2.1999999999999997,
          2.25,
          2.34,
          2.42,
          2.4200000000000004,
          2.65,
          2.92,
          2.95,
          3.23,
          3.25,
          3.28,
          3.37,
          3.5
         ]
        },
        {
         "name": "PS",
         "type": "box",
         "y": [
          0.02,
          0.05,
          0.05,
          0.09,
          0.09,
          0.11,
          0.11,
          0.13,
          0.13,
          0.15000000000000002,
          0.15000000000000002,
          0.18000000000000002,
          0.18000000000000002,
          0.26,
          0.27,
          0.31000000000000005,
          0.36000000000000004,
          0.41000000000000003,
          0.42000000000000004,
          0.43000000000000005,
          0.43000000000000005,
          0.51,
          0.52,
          0.52,
          0.54,
          0.56,
          0.66,
          0.7200000000000001,
          0.79,
          0.8700000000000001,
          0.8800000000000001,
          1.4000000000000001,
          1.55,
          1.6700000000000002,
          3.7300000000000004
         ]
        },
        {
         "name": "PSV",
         "type": "box",
         "y": [
          0.01,
          0.01,
          0.01,
          0.02,
          0.02,
          0.02,
          0.03,
          0.03,
          0.03,
          0.04,
          0.05,
          0.05,
          0.06,
          0.06,
          0.060000000000000005,
          0.060000000000000005,
          0.06999999999999999,
          0.06999999999999999,
          0.06999999999999999,
          0.06999999999999999,
          0.06999999999999999,
          0.06999999999999999,
          0.07,
          0.08,
          0.08,
          0.09,
          0.09,
          0.09000000000000001,
          0.09000000000000001,
          0.09999999999999999,
          0.1,
          0.1,
          0.11,
          0.11,
          0.11,
          0.11,
          0.11,
          0.11,
          0.11,
          0.11,
          0.12000000000000001,
          0.12000000000000001,
          0.12000000000000001,
          0.12000000000000001,
          0.12000000000000001,
          0.13,
          0.13,
          0.13,
          0.13,
          0.13,
          0.14,
          0.14,
          0.15,
          0.15000000000000002,
          0.16,
          0.16999999999999998,
          0.17,
          0.17,
          0.17,
          0.17,
          0.17,
          0.17,
          0.18,
          0.18,
          0.18000000000000002,
          0.18000000000000002,
          0.19,
          0.19,
          0.19000000000000003,
          0.2,
          0.21,
          0.21,
          0.21000000000000002,
          0.22,
          0.22,
          0.22000000000000003,
          0.23,
          0.23,
          0.23,
          0.24,
          0.25,
          0.25,
          0.27999999999999997,
          0.28,
          0.29,
          0.3,
          0.3,
          0.30000000000000004,
          0.32,
          0.33,
          0.33,
          0.33,
          0.35000000000000003,
          0.35000000000000003,
          0.36,
          0.36,
          0.4,
          0.41,
          0.43000000000000005,
          0.44,
          0.44999999999999996,
          0.49,
          0.51,
          0.54,
          0.5499999999999999,
          0.56,
          0.58,
          0.6200000000000001,
          0.64,
          0.65,
          0.65,
          0.8,
          0.8000000000000002,
          1.1199999999999999,
          1.25,
          1.31,
          1.47,
          1.5399999999999998
         ]
        },
        {
         "name": "DC",
         "type": "box",
         "y": [
          0.07,
          0.12,
          0.15,
          0.19
         ]
        }
       ],
       "layout": {
        "template": {
         "data": {
          "bar": [
           {
            "error_x": {
             "color": "#2a3f5f"
            },
            "error_y": {
             "color": "#2a3f5f"
            },
            "marker": {
             "line": {
              "color": "#E5ECF6",
              "width": 0.5
             }
            },
            "type": "bar"
           }
          ],
          "barpolar": [
           {
            "marker": {
             "line": {
              "color": "#E5ECF6",
              "width": 0.5
             }
            },
            "type": "barpolar"
           }
          ],
          "carpet": [
           {
            "aaxis": {
             "endlinecolor": "#2a3f5f",
             "gridcolor": "white",
             "linecolor": "white",
             "minorgridcolor": "white",
             "startlinecolor": "#2a3f5f"
            },
            "baxis": {
             "endlinecolor": "#2a3f5f",
             "gridcolor": "white",
             "linecolor": "white",
             "minorgridcolor": "white",
             "startlinecolor": "#2a3f5f"
            },
            "type": "carpet"
           }
          ],
          "choropleth": [
           {
            "colorbar": {
             "outlinewidth": 0,
             "ticks": ""
            },
            "type": "choropleth"
           }
          ],
          "contour": [
           {
            "colorbar": {
             "outlinewidth": 0,
             "ticks": ""
            },
            "colorscale": [
             [
              0,
              "#0d0887"
             ],
             [
              0.1111111111111111,
              "#46039f"
             ],
             [
              0.2222222222222222,
              "#7201a8"
             ],
             [
              0.3333333333333333,
              "#9c179e"
             ],
             [
              0.4444444444444444,
              "#bd3786"
             ],
             [
              0.5555555555555556,
              "#d8576b"
             ],
             [
              0.6666666666666666,
              "#ed7953"
             ],
             [
              0.7777777777777778,
              "#fb9f3a"
             ],
             [
              0.8888888888888888,
              "#fdca26"
             ],
             [
              1,
              "#f0f921"
             ]
            ],
            "type": "contour"
           }
          ],
          "contourcarpet": [
           {
            "colorbar": {
             "outlinewidth": 0,
             "ticks": ""
            },
            "type": "contourcarpet"
           }
          ],
          "heatmap": [
           {
            "colorbar": {
             "outlinewidth": 0,
             "ticks": ""
            },
            "colorscale": [
             [
              0,
              "#0d0887"
             ],
             [
              0.1111111111111111,
              "#46039f"
             ],
             [
              0.2222222222222222,
              "#7201a8"
             ],
             [
              0.3333333333333333,
              "#9c179e"
             ],
             [
              0.4444444444444444,
              "#bd3786"
             ],
             [
              0.5555555555555556,
              "#d8576b"
             ],
             [
              0.6666666666666666,
              "#ed7953"
             ],
             [
              0.7777777777777778,
              "#fb9f3a"
             ],
             [
              0.8888888888888888,
              "#fdca26"
             ],
             [
              1,
              "#f0f921"
             ]
            ],
            "type": "heatmap"
           }
          ],
          "heatmapgl": [
           {
            "colorbar": {
             "outlinewidth": 0,
             "ticks": ""
            },
            "colorscale": [
             [
              0,
              "#0d0887"
             ],
             [
              0.1111111111111111,
              "#46039f"
             ],
             [
              0.2222222222222222,
              "#7201a8"
             ],
             [
              0.3333333333333333,
              "#9c179e"
             ],
             [
              0.4444444444444444,
              "#bd3786"
             ],
             [
              0.5555555555555556,
              "#d8576b"
             ],
             [
              0.6666666666666666,
              "#ed7953"
             ],
             [
              0.7777777777777778,
              "#fb9f3a"
             ],
             [
              0.8888888888888888,
              "#fdca26"
             ],
             [
              1,
              "#f0f921"
             ]
            ],
            "type": "heatmapgl"
           }
          ],
          "histogram": [
           {
            "marker": {
             "colorbar": {
              "outlinewidth": 0,
              "ticks": ""
             }
            },
            "type": "histogram"
           }
          ],
          "histogram2d": [
           {
            "colorbar": {
             "outlinewidth": 0,
             "ticks": ""
            },
            "colorscale": [
             [
              0,
              "#0d0887"
             ],
             [
              0.1111111111111111,
              "#46039f"
             ],
             [
              0.2222222222222222,
              "#7201a8"
             ],
             [
              0.3333333333333333,
              "#9c179e"
             ],
             [
              0.4444444444444444,
              "#bd3786"
             ],
             [
              0.5555555555555556,
              "#d8576b"
             ],
             [
              0.6666666666666666,
              "#ed7953"
             ],
             [
              0.7777777777777778,
              "#fb9f3a"
             ],
             [
              0.8888888888888888,
              "#fdca26"
             ],
             [
              1,
              "#f0f921"
             ]
            ],
            "type": "histogram2d"
           }
          ],
          "histogram2dcontour": [
           {
            "colorbar": {
             "outlinewidth": 0,
             "ticks": ""
            },
            "colorscale": [
             [
              0,
              "#0d0887"
             ],
             [
              0.1111111111111111,
              "#46039f"
             ],
             [
              0.2222222222222222,
              "#7201a8"
             ],
             [
              0.3333333333333333,
              "#9c179e"
             ],
             [
              0.4444444444444444,
              "#bd3786"
             ],
             [
              0.5555555555555556,
              "#d8576b"
             ],
             [
              0.6666666666666666,
              "#ed7953"
             ],
             [
              0.7777777777777778,
              "#fb9f3a"
             ],
             [
              0.8888888888888888,
              "#fdca26"
             ],
             [
              1,
              "#f0f921"
             ]
            ],
            "type": "histogram2dcontour"
           }
          ],
          "mesh3d": [
           {
            "colorbar": {
             "outlinewidth": 0,
             "ticks": ""
            },
            "type": "mesh3d"
           }
          ],
          "parcoords": [
           {
            "line": {
             "colorbar": {
              "outlinewidth": 0,
              "ticks": ""
             }
            },
            "type": "parcoords"
           }
          ],
          "scatter": [
           {
            "marker": {
             "colorbar": {
              "outlinewidth": 0,
              "ticks": ""
             }
            },
            "type": "scatter"
           }
          ],
          "scatter3d": [
           {
            "line": {
             "colorbar": {
              "outlinewidth": 0,
              "ticks": ""
             }
            },
            "marker": {
             "colorbar": {
              "outlinewidth": 0,
              "ticks": ""
             }
            },
            "type": "scatter3d"
           }
          ],
          "scattercarpet": [
           {
            "marker": {
             "colorbar": {
              "outlinewidth": 0,
              "ticks": ""
             }
            },
            "type": "scattercarpet"
           }
          ],
          "scattergeo": [
           {
            "marker": {
             "colorbar": {
              "outlinewidth": 0,
              "ticks": ""
             }
            },
            "type": "scattergeo"
           }
          ],
          "scattergl": [
           {
            "marker": {
             "colorbar": {
              "outlinewidth": 0,
              "ticks": ""
             }
            },
            "type": "scattergl"
           }
          ],
          "scattermapbox": [
           {
            "marker": {
             "colorbar": {
              "outlinewidth": 0,
              "ticks": ""
             }
            },
            "type": "scattermapbox"
           }
          ],
          "scatterpolar": [
           {
            "marker": {
             "colorbar": {
              "outlinewidth": 0,
              "ticks": ""
             }
            },
            "type": "scatterpolar"
           }
          ],
          "scatterpolargl": [
           {
            "marker": {
             "colorbar": {
              "outlinewidth": 0,
              "ticks": ""
             }
            },
            "type": "scatterpolargl"
           }
          ],
          "scatterternary": [
           {
            "marker": {
             "colorbar": {
              "outlinewidth": 0,
              "ticks": ""
             }
            },
            "type": "scatterternary"
           }
          ],
          "surface": [
           {
            "colorbar": {
             "outlinewidth": 0,
             "ticks": ""
            },
            "colorscale": [
             [
              0,
              "#0d0887"
             ],
             [
              0.1111111111111111,
              "#46039f"
             ],
             [
              0.2222222222222222,
              "#7201a8"
             ],
             [
              0.3333333333333333,
              "#9c179e"
             ],
             [
              0.4444444444444444,
              "#bd3786"
             ],
             [
              0.5555555555555556,
              "#d8576b"
             ],
             [
              0.6666666666666666,
              "#ed7953"
             ],
             [
              0.7777777777777778,
              "#fb9f3a"
             ],
             [
              0.8888888888888888,
              "#fdca26"
             ],
             [
              1,
              "#f0f921"
             ]
            ],
            "type": "surface"
           }
          ],
          "table": [
           {
            "cells": {
             "fill": {
              "color": "#EBF0F8"
             },
             "line": {
              "color": "white"
             }
            },
            "header": {
             "fill": {
              "color": "#C8D4E3"
             },
             "line": {
              "color": "white"
             }
            },
            "type": "table"
           }
          ]
         },
         "layout": {
          "annotationdefaults": {
           "arrowcolor": "#2a3f5f",
           "arrowhead": 0,
           "arrowwidth": 1
          },
          "colorscale": {
           "diverging": [
            [
             0,
             "#8e0152"
            ],
            [
             0.1,
             "#c51b7d"
            ],
            [
             0.2,
             "#de77ae"
            ],
            [
             0.3,
             "#f1b6da"
            ],
            [
             0.4,
             "#fde0ef"
            ],
            [
             0.5,
             "#f7f7f7"
            ],
            [
             0.6,
             "#e6f5d0"
            ],
            [
             0.7,
             "#b8e186"
            ],
            [
             0.8,
             "#7fbc41"
            ],
            [
             0.9,
             "#4d9221"
            ],
            [
             1,
             "#276419"
            ]
           ],
           "sequential": [
            [
             0,
             "#0d0887"
            ],
            [
             0.1111111111111111,
             "#46039f"
            ],
            [
             0.2222222222222222,
             "#7201a8"
            ],
            [
             0.3333333333333333,
             "#9c179e"
            ],
            [
             0.4444444444444444,
             "#bd3786"
            ],
            [
             0.5555555555555556,
             "#d8576b"
            ],
            [
             0.6666666666666666,
             "#ed7953"
            ],
            [
             0.7777777777777778,
             "#fb9f3a"
            ],
            [
             0.8888888888888888,
             "#fdca26"
            ],
            [
             1,
             "#f0f921"
            ]
           ],
           "sequentialminus": [
            [
             0,
             "#0d0887"
            ],
            [
             0.1111111111111111,
             "#46039f"
            ],
            [
             0.2222222222222222,
             "#7201a8"
            ],
            [
             0.3333333333333333,
             "#9c179e"
            ],
            [
             0.4444444444444444,
             "#bd3786"
            ],
            [
             0.5555555555555556,
             "#d8576b"
            ],
            [
             0.6666666666666666,
             "#ed7953"
            ],
            [
             0.7777777777777778,
             "#fb9f3a"
            ],
            [
             0.8888888888888888,
             "#fdca26"
            ],
            [
             1,
             "#f0f921"
            ]
           ]
          },
          "colorway": [
           "#636efa",
           "#EF553B",
           "#00cc96",
           "#ab63fa",
           "#FFA15A",
           "#19d3f3",
           "#FF6692",
           "#B6E880",
           "#FF97FF",
           "#FECB52"
          ],
          "font": {
           "color": "#2a3f5f"
          },
          "geo": {
           "bgcolor": "white",
           "lakecolor": "white",
           "landcolor": "#E5ECF6",
           "showlakes": true,
           "showland": true,
           "subunitcolor": "white"
          },
          "hoverlabel": {
           "align": "left"
          },
          "hovermode": "closest",
          "mapbox": {
           "style": "light"
          },
          "paper_bgcolor": "white",
          "plot_bgcolor": "#E5ECF6",
          "polar": {
           "angularaxis": {
            "gridcolor": "white",
            "linecolor": "white",
            "ticks": ""
           },
           "bgcolor": "#E5ECF6",
           "radialaxis": {
            "gridcolor": "white",
            "linecolor": "white",
            "ticks": ""
           }
          },
          "scene": {
           "xaxis": {
            "backgroundcolor": "#E5ECF6",
            "gridcolor": "white",
            "gridwidth": 2,
            "linecolor": "white",
            "showbackground": true,
            "ticks": "",
            "zerolinecolor": "white"
           },
           "yaxis": {
            "backgroundcolor": "#E5ECF6",
            "gridcolor": "white",
            "gridwidth": 2,
            "linecolor": "white",
            "showbackground": true,
            "ticks": "",
            "zerolinecolor": "white"
           },
           "zaxis": {
            "backgroundcolor": "#E5ECF6",
            "gridcolor": "white",
            "gridwidth": 2,
            "linecolor": "white",
            "showbackground": true,
            "ticks": "",
            "zerolinecolor": "white"
           }
          },
          "shapedefaults": {
           "line": {
            "color": "#2a3f5f"
           }
          },
          "ternary": {
           "aaxis": {
            "gridcolor": "white",
            "linecolor": "white",
            "ticks": ""
           },
           "baxis": {
            "gridcolor": "white",
            "linecolor": "white",
            "ticks": ""
           },
           "bgcolor": "#E5ECF6",
           "caxis": {
            "gridcolor": "white",
            "linecolor": "white",
            "ticks": ""
           }
          },
          "title": {
           "x": 0.05
          },
          "xaxis": {
           "automargin": true,
           "gridcolor": "white",
           "linecolor": "white",
           "ticks": "",
           "zerolinecolor": "white",
           "zerolinewidth": 2
          },
          "yaxis": {
           "automargin": true,
           "gridcolor": "white",
           "linecolor": "white",
           "ticks": "",
           "zerolinecolor": "white",
           "zerolinewidth": 2
          }
         }
        }
       }
      },
      "text/html": [
       "<div>\n",
       "        \n",
       "        \n",
       "            <div id=\"1b339a8f-82be-4cd8-9447-939423225008\" class=\"plotly-graph-div\" style=\"height:525px; width:100%;\"></div>\n",
       "            <script type=\"text/javascript\">\n",
       "                require([\"plotly\"], function(Plotly) {\n",
       "                    window.PLOTLYENV=window.PLOTLYENV || {};\n",
       "                    \n",
       "                if (document.getElementById(\"1b339a8f-82be-4cd8-9447-939423225008\")) {\n",
       "                    Plotly.newPlot(\n",
       "                        '1b339a8f-82be-4cd8-9447-939423225008',\n",
       "                        [{\"name\": \"Wii\", \"type\": \"box\", \"y\": [0.01, 0.02, 0.02, 0.02, 0.02, 0.02, 0.03, 0.03, 0.03, 0.04, 0.04, 0.04, 0.04, 0.04, 0.04, 0.04, 0.04, 0.04, 0.05, 0.05, 0.05, 0.05, 0.05, 0.05, 0.05, 0.05, 0.05, 0.05, 0.06, 0.06, 0.06, 0.06, 0.06, 0.06, 0.060000000000000005, 0.06999999999999999, 0.06999999999999999, 0.06999999999999999, 0.06999999999999999, 0.07, 0.07999999999999999, 0.07999999999999999, 0.07999999999999999, 0.07999999999999999, 0.08, 0.08, 0.08, 0.08, 0.08, 0.09, 0.09, 0.09, 0.09, 0.09, 0.09, 0.09, 0.09, 0.09, 0.09, 0.09, 0.09999999999999999, 0.09999999999999999, 0.09999999999999999, 0.09999999999999999, 0.09999999999999999, 0.09999999999999999, 0.09999999999999999, 0.09999999999999999, 0.09999999999999999, 0.09999999999999999, 0.09999999999999999, 0.1, 0.10999999999999999, 0.10999999999999999, 0.11, 0.11, 0.11, 0.11, 0.11, 0.12, 0.12, 0.12, 0.12, 0.12, 0.12, 0.12, 0.12, 0.12, 0.12, 0.12000000000000001, 0.13, 0.13, 0.13, 0.13, 0.13, 0.13, 0.13, 0.13, 0.13999999999999999, 0.14, 0.14, 0.14, 0.14, 0.14, 0.14, 0.14, 0.14, 0.14, 0.15000000000000002, 0.15000000000000002, 0.15000000000000002, 0.15000000000000002, 0.15000000000000002, 0.15000000000000002, 0.16, 0.16, 0.16, 0.16, 0.16, 0.16000000000000003, 0.16000000000000003, 0.16999999999999998, 0.17, 0.17, 0.18, 0.18, 0.18, 0.18000000000000002, 0.18000000000000002, 0.18000000000000002, 0.18000000000000002, 0.18000000000000002, 0.18999999999999997, 0.18999999999999997, 0.19, 0.19, 0.19, 0.19, 0.19999999999999998, 0.19999999999999998, 0.2, 0.2, 0.2, 0.2, 0.2, 0.21, 0.21, 0.21, 0.21000000000000002, 0.21999999999999997, 0.22, 0.22, 0.22, 0.22, 0.22, 0.22, 0.22, 0.22999999999999998, 0.22999999999999998, 0.22999999999999998, 0.23, 0.23, 0.23, 0.23000000000000004, 0.24, 0.24, 0.24, 0.24, 0.24000000000000002, 0.25, 0.25, 0.25, 0.26, 0.26, 0.26, 0.26, 0.27, 0.27, 0.27, 0.27, 0.28, 0.28, 0.28, 0.28, 0.28, 0.28, 0.28, 0.28, 0.29000000000000004, 0.29000000000000004, 0.29000000000000004, 0.29000000000000004, 0.29000000000000004, 0.29000000000000004, 0.29000000000000004, 0.29000000000000004, 0.30000000000000004, 0.30000000000000004, 0.31, 0.31000000000000005, 0.31000000000000005, 0.32, 0.32000000000000006, 0.32999999999999996, 0.32999999999999996, 0.32999999999999996, 0.33, 0.33000000000000007, 0.33000000000000007, 0.33999999999999997, 0.33999999999999997, 0.33999999999999997, 0.34, 0.34, 0.3500000000000001, 0.36, 0.36, 0.36, 0.36, 0.36, 0.36, 0.36, 0.36, 0.36, 0.36999999999999994, 0.37, 0.37, 0.37, 0.38, 0.38, 0.39, 0.39, 0.39, 0.39, 0.39999999999999997, 0.4, 0.4, 0.4, 0.41000000000000003, 0.41000000000000003, 0.42, 0.42000000000000004, 0.42999999999999994, 0.43, 0.43, 0.43000000000000005, 0.43000000000000005, 0.43999999999999995, 0.44, 0.44, 0.44, 0.44000000000000006, 0.44999999999999996, 0.45, 0.45, 0.45, 0.45999999999999996, 0.46, 0.46, 0.46, 0.46, 0.47, 0.47, 0.47000000000000003, 0.47000000000000003, 0.47000000000000003, 0.47000000000000003, 0.4700000000000001, 0.4799999999999999, 0.48, 0.49999999999999994, 0.49999999999999994, 0.5, 0.5, 0.5, 0.5, 0.5000000000000001, 0.51, 0.51, 0.51, 0.51, 0.51, 0.53, 0.53, 0.53, 0.53, 0.54, 0.54, 0.54, 0.54, 0.54, 0.5499999999999999, 0.55, 0.56, 0.56, 0.56, 0.56, 0.5700000000000001, 0.5700000000000001, 0.5800000000000001, 0.5800000000000001, 0.5800000000000001, 0.5900000000000001, 0.5900000000000001, 0.6, 0.61, 0.61, 0.6100000000000001, 0.6200000000000001, 0.6200000000000001, 0.6300000000000001, 0.65, 0.6500000000000001, 0.6500000000000001, 0.6500000000000001, 0.6600000000000001, 0.67, 0.68, 0.69, 0.71, 0.72, 0.72, 0.72, 0.73, 0.73, 0.7300000000000001, 0.75, 0.75, 0.75, 0.75, 0.76, 0.76, 0.77, 0.78, 0.79, 0.8, 0.81, 0.83, 0.83, 0.83, 0.8300000000000001, 0.8400000000000001, 0.85, 0.85, 0.8500000000000001, 0.8600000000000001, 0.87, 0.8700000000000001, 0.88, 0.88, 0.88, 0.8800000000000001, 0.9099999999999999, 0.91, 0.91, 0.92, 0.93, 0.94, 0.96, 0.96, 0.9699999999999999, 0.98, 0.99, 1.0, 1.01, 1.02, 1.02, 1.02, 1.02, 1.02, 1.02, 1.03, 1.03, 1.03, 1.04, 1.06, 1.06, 1.0699999999999998, 1.07, 1.07, 1.09, 1.09, 1.1, 1.13, 1.1700000000000002, 1.19, 1.21, 1.21, 1.2200000000000002, 1.2400000000000002, 1.2599999999999998, 1.26, 1.27, 1.27, 1.2799999999999998, 1.28, 1.29, 1.35, 1.35, 1.37, 1.4, 1.4100000000000001, 1.4100000000000001, 1.42, 1.43, 1.5099999999999998, 1.5300000000000002, 1.54, 1.54, 1.5499999999999998, 1.5499999999999998, 1.5499999999999998, 1.5799999999999998, 1.58, 1.65, 1.65, 1.6500000000000001, 1.6500000000000001, 1.6600000000000001, 1.67, 1.68, 1.71, 1.7599999999999998, 1.79, 1.8399999999999999, 1.85, 1.88, 1.8800000000000001, 1.89, 1.8900000000000001, 1.93, 2.0300000000000002, 2.06, 2.0700000000000003, 2.13, 2.16, 2.21, 2.24, 2.43, 2.4800000000000004, 2.5, 2.52, 2.58, 2.73, 2.78, 2.88, 2.8899999999999997, 3.0100000000000002, 3.1300000000000003, 3.2399999999999998, 3.6199999999999997, 3.71, 3.79, 3.9, 3.9399999999999995]}, {\"name\": \"DS\", \"type\": \"box\", \"y\": [0.01, 0.01, 0.01, 0.01, 0.01, 0.02, 0.02, 0.02, 0.02, 0.02, 0.02, 0.02, 0.02, 0.02, 0.03, 0.03, 0.03, 0.03, 0.03, 0.03, 0.03, 0.03, 0.03, 0.03, 0.03, 0.03, 0.03, 0.04, 0.04, 0.04, 0.04, 0.04, 0.04, 0.04, 0.04, 0.04, 0.04, 0.04, 0.04, 0.04, 0.04, 0.04, 0.05, 0.05, 0.05, 0.05, 0.05, 0.05, 0.05, 0.05, 0.05, 0.05, 0.05, 0.05, 0.05, 0.05, 0.05, 0.06, 0.06, 0.06, 0.06, 0.06, 0.06, 0.06, 0.06, 0.06, 0.06, 0.06, 0.06, 0.060000000000000005, 0.060000000000000005, 0.06999999999999999, 0.06999999999999999, 0.07, 0.07, 0.07, 0.07, 0.07999999999999999, 0.07999999999999999, 0.08, 0.08, 0.08, 0.08, 0.08, 0.08, 0.08, 0.08, 0.08, 0.08, 0.08, 0.08, 0.08, 0.08, 0.09, 0.09, 0.09, 0.09, 0.09, 0.09, 0.09, 0.09, 0.09, 0.09, 0.09, 0.09, 0.09, 0.09, 0.09, 0.09, 0.09999999999999999, 0.09999999999999999, 0.09999999999999999, 0.09999999999999999, 0.09999999999999999, 0.09999999999999999, 0.09999999999999999, 0.09999999999999999, 0.09999999999999999, 0.09999999999999999, 0.09999999999999999, 0.10999999999999999, 0.10999999999999999, 0.10999999999999999, 0.10999999999999999, 0.11, 0.11, 0.11, 0.11, 0.11, 0.11, 0.11, 0.11, 0.11, 0.11, 0.11, 0.11, 0.11, 0.11, 0.11, 0.12, 0.12, 0.12, 0.12, 0.12, 0.12, 0.12, 0.12, 0.12, 0.12, 0.12, 0.12, 0.12, 0.12, 0.12, 0.12000000000000001, 0.13, 0.13, 0.13, 0.13, 0.13, 0.13, 0.13, 0.13, 0.13, 0.13, 0.13, 0.13, 0.13, 0.14, 0.14, 0.14, 0.14, 0.14, 0.14, 0.14, 0.15, 0.15, 0.15, 0.15000000000000002, 0.15000000000000002, 0.15000000000000002, 0.15000000000000002, 0.15000000000000002, 0.15000000000000002, 0.15000000000000002, 0.15000000000000002, 0.15000000000000002, 0.16, 0.16, 0.16, 0.16000000000000003, 0.16000000000000003, 0.17, 0.17, 0.17, 0.17, 0.17, 0.17, 0.18, 0.18, 0.18, 0.18000000000000002, 0.18000000000000002, 0.19, 0.19, 0.19, 0.19, 0.19, 0.19000000000000003, 0.19000000000000003, 0.19999999999999998, 0.2, 0.2, 0.2, 0.21, 0.21, 0.21, 0.21, 0.21, 0.21000000000000002, 0.21999999999999997, 0.22, 0.22, 0.22, 0.22, 0.22, 0.22, 0.22, 0.22000000000000003, 0.22999999999999998, 0.23, 0.23, 0.23, 0.23, 0.23, 0.23000000000000004, 0.24, 0.24, 0.24, 0.24, 0.24999999999999997, 0.24999999999999997, 0.25, 0.25, 0.25, 0.26, 0.26, 0.26, 0.26, 0.26, 0.26, 0.26, 0.26, 0.26, 0.26, 0.27, 0.27, 0.27, 0.27, 0.28, 0.28, 0.28, 0.28, 0.29000000000000004, 0.29000000000000004, 0.29000000000000004, 0.29000000000000004, 0.29000000000000004, 0.29000000000000004, 0.30000000000000004, 0.30000000000000004, 0.31000000000000005, 0.31000000000000005, 0.32, 0.32, 0.32000000000000006, 0.32999999999999996, 0.33, 0.33, 0.33000000000000007, 0.33999999999999997, 0.33999999999999997, 0.35, 0.35, 0.36, 0.36, 0.36, 0.36, 0.36, 0.37, 0.37, 0.37, 0.37999999999999995, 0.38, 0.39, 0.39999999999999997, 0.39999999999999997, 0.4, 0.4, 0.41, 0.41000000000000003, 0.41000000000000003, 0.41000000000000003, 0.42000000000000004, 0.42000000000000004, 0.42000000000000004, 0.43, 0.43000000000000005, 0.43999999999999995, 0.44999999999999996, 0.44999999999999996, 0.45, 0.45, 0.45000000000000007, 0.46, 0.47, 0.47, 0.47000000000000003, 0.48, 0.48999999999999994, 0.49, 0.49, 0.49, 0.4900000000000001, 0.49999999999999994, 0.51, 0.51, 0.51, 0.52, 0.52, 0.53, 0.53, 0.53, 0.53, 0.53, 0.54, 0.55, 0.55, 0.55, 0.55, 0.5800000000000001, 0.5800000000000001, 0.5900000000000001, 0.5900000000000001, 0.5900000000000001, 0.5900000000000001, 0.6100000000000001, 0.6100000000000001, 0.6100000000000001, 0.6400000000000001, 0.6599999999999999, 0.6600000000000001, 0.67, 0.67, 0.6799999999999999, 0.68, 0.71, 0.71, 0.72, 0.73, 0.74, 0.75, 0.77, 0.78, 0.78, 0.78, 0.78, 0.78, 0.8, 0.84, 0.8500000000000001, 0.87, 0.88, 0.8899999999999999, 0.89, 0.9299999999999999, 0.93, 0.9300000000000002, 0.9400000000000001, 0.9500000000000001, 0.96, 0.98, 0.99, 1.0, 1.02, 1.03, 1.05, 1.06, 1.07, 1.1, 1.1400000000000001, 1.1900000000000002, 1.2100000000000002, 1.22, 1.2500000000000002, 1.2500000000000002, 1.29, 1.29, 1.29, 1.33, 1.34, 1.35, 1.3800000000000001, 1.3800000000000001, 1.42, 1.44, 1.4500000000000002, 1.4600000000000002, 1.4699999999999998, 1.5, 1.56, 1.5699999999999998, 1.57, 1.6, 1.62, 1.6999999999999997, 1.7200000000000002, 1.76, 1.8199999999999998, 1.8399999999999999, 1.9300000000000002, 1.98, 1.99, 2.02, 2.03, 2.0700000000000003, 2.09, 2.1100000000000003, 2.16, 2.17, 2.19, 2.27, 2.2800000000000002, 2.5199999999999996, 2.58, 2.67, 2.67, 2.77, 2.93, 3.05, 3.0999999999999996, 3.11, 3.12, 3.26, 3.3099999999999996, 3.4499999999999997, 3.47, 3.58, 3.66, 3.82, 3.95]}, {\"name\": \"X360\", \"type\": \"box\", \"y\": [0.01, 0.01, 0.02, 0.02, 0.02, 0.02, 0.03, 0.03, 0.04, 0.04, 0.04, 0.04, 0.04, 0.04, 0.04, 0.04, 0.04, 0.04, 0.04, 0.04, 0.04, 0.04, 0.05, 0.05, 0.05, 0.05, 0.05, 0.05, 0.05, 0.05, 0.05, 0.05, 0.05, 0.05, 0.06, 0.06, 0.06, 0.060000000000000005, 0.060000000000000005, 0.060000000000000005, 0.060000000000000005, 0.060000000000000005, 0.06999999999999999, 0.07, 0.07, 0.07, 0.07999999999999999, 0.07999999999999999, 0.07999999999999999, 0.07999999999999999, 0.07999999999999999, 0.07999999999999999, 0.07999999999999999, 0.08, 0.08, 0.08, 0.08, 0.08, 0.08, 0.08, 0.08, 0.09, 0.09, 0.09, 0.09, 0.09, 0.09, 0.09, 0.09, 0.09, 0.09, 0.09, 0.09, 0.09, 0.09, 0.09, 0.09, 0.09, 0.09, 0.09999999999999999, 0.09999999999999999, 0.09999999999999999, 0.09999999999999999, 0.09999999999999999, 0.09999999999999999, 0.09999999999999999, 0.09999999999999999, 0.09999999999999999, 0.09999999999999999, 0.09999999999999999, 0.09999999999999999, 0.09999999999999999, 0.1, 0.1, 0.1, 0.10999999999999999, 0.10999999999999999, 0.10999999999999999, 0.10999999999999999, 0.10999999999999999, 0.10999999999999999, 0.11, 0.11, 0.11, 0.11, 0.11, 0.11, 0.11, 0.11, 0.11, 0.11, 0.11, 0.11, 0.11, 0.11, 0.11, 0.11, 0.11, 0.12, 0.12, 0.12, 0.12, 0.12, 0.12, 0.12, 0.12, 0.12, 0.12, 0.12, 0.12, 0.12, 0.12, 0.12, 0.12000000000000001, 0.12000000000000001, 0.13, 0.13, 0.13, 0.13, 0.13, 0.13, 0.13, 0.13, 0.13, 0.13, 0.13, 0.13, 0.13, 0.13, 0.13, 0.14, 0.14, 0.14, 0.14, 0.14, 0.14, 0.14, 0.14, 0.14, 0.14, 0.14, 0.14, 0.15, 0.15000000000000002, 0.15000000000000002, 0.15000000000000002, 0.15000000000000002, 0.15000000000000002, 0.15000000000000002, 0.15000000000000002, 0.15000000000000002, 0.15000000000000002, 0.15000000000000002, 0.15000000000000002, 0.16, 0.16, 0.16, 0.16, 0.16, 0.16, 0.16, 0.16, 0.16, 0.16, 0.16, 0.16, 0.16000000000000003, 0.16000000000000003, 0.16000000000000003, 0.16000000000000003, 0.16000000000000003, 0.16000000000000003, 0.16999999999999998, 0.16999999999999998, 0.16999999999999998, 0.17, 0.17, 0.17, 0.17, 0.17, 0.17, 0.17, 0.17, 0.17, 0.17, 0.17, 0.18, 0.18, 0.18, 0.18, 0.18, 0.18, 0.18, 0.18000000000000002, 0.18000000000000002, 0.18000000000000002, 0.18000000000000002, 0.18000000000000002, 0.18000000000000002, 0.18000000000000002, 0.18999999999999997, 0.18999999999999997, 0.18999999999999997, 0.19, 0.19, 0.19, 0.19, 0.19, 0.19, 0.19000000000000003, 0.19999999999999998, 0.19999999999999998, 0.19999999999999998, 0.19999999999999998, 0.19999999999999998, 0.19999999999999998, 0.19999999999999998, 0.19999999999999998, 0.19999999999999998, 0.19999999999999998, 0.2, 0.2, 0.2, 0.2, 0.2, 0.2, 0.2, 0.20999999999999996, 0.21, 0.21, 0.21, 0.21, 0.21, 0.21, 0.21, 0.21, 0.21, 0.21000000000000002, 0.21000000000000002, 0.22, 0.22, 0.22, 0.22, 0.22, 0.22, 0.22, 0.22, 0.22, 0.22999999999999998, 0.22999999999999998, 0.22999999999999998, 0.23, 0.23, 0.23, 0.23, 0.23, 0.23, 0.24, 0.24, 0.24, 0.24, 0.24, 0.24, 0.24, 0.24, 0.24000000000000002, 0.24000000000000002, 0.24999999999999997, 0.24999999999999997, 0.24999999999999997, 0.24999999999999997, 0.24999999999999997, 0.24999999999999997, 0.24999999999999997, 0.24999999999999997, 0.25, 0.25, 0.25, 0.25, 0.25, 0.25, 0.25, 0.25, 0.25, 0.25, 0.26, 0.26, 0.26, 0.26, 0.26, 0.26, 0.26, 0.26, 0.26, 0.26, 0.26, 0.26, 0.27, 0.27, 0.27, 0.27, 0.27, 0.27, 0.27, 0.27, 0.27, 0.27, 0.27, 0.27999999999999997, 0.28, 0.28, 0.28, 0.28, 0.28, 0.28, 0.28, 0.28, 0.29000000000000004, 0.29000000000000004, 0.29000000000000004, 0.29000000000000004, 0.29000000000000004, 0.29000000000000004, 0.29000000000000004, 0.29000000000000004, 0.29000000000000004, 0.29000000000000004, 0.29000000000000004, 0.30000000000000004, 0.30000000000000004, 0.30000000000000004, 0.30000000000000004, 0.30000000000000004, 0.30000000000000004, 0.31, 0.31, 0.31, 0.31000000000000005, 0.31000000000000005, 0.31000000000000005, 0.31000000000000005, 0.31000000000000005, 0.31000000000000005, 0.31000000000000005, 0.31000000000000005, 0.31000000000000005, 0.31000000000000005, 0.31000000000000005, 0.32, 0.32, 0.32000000000000006, 0.32000000000000006, 0.32000000000000006, 0.32999999999999996, 0.32999999999999996, 0.32999999999999996, 0.32999999999999996, 0.33, 0.33, 0.33, 0.33, 0.33000000000000007, 0.33000000000000007, 0.33000000000000007, 0.33000000000000007, 0.33000000000000007, 0.33999999999999997, 0.33999999999999997, 0.33999999999999997, 0.33999999999999997, 0.34, 0.3400000000000001, 0.3400000000000001, 0.3400000000000001, 0.35, 0.35, 0.35, 0.35, 0.35, 0.36, 0.36, 0.36, 0.36999999999999994, 0.37, 0.37, 0.37, 0.37, 0.37, 0.37999999999999995, 0.38, 0.38, 0.38999999999999996, 0.38999999999999996, 0.38999999999999996, 0.38999999999999996, 0.38999999999999996, 0.38999999999999996, 0.39, 0.39, 0.39999999999999997, 0.39999999999999997, 0.4, 0.41, 0.41, 0.41000000000000003, 0.41000000000000003, 0.41000000000000003, 0.41000000000000003, 0.41000000000000003, 0.41000000000000003, 0.41000000000000003, 0.42, 0.42, 0.42, 0.43, 0.43, 0.43, 0.43000000000000005, 0.43000000000000005, 0.43000000000000005, 0.43999999999999995, 0.44, 0.44, 0.44, 0.44999999999999996, 0.45, 0.45, 0.45, 0.45, 0.45000000000000007, 0.45999999999999996, 0.45999999999999996, 0.45999999999999996, 0.45999999999999996, 0.46, 0.4600000000000001, 0.47, 0.47000000000000003, 0.47000000000000003, 0.47000000000000003, 0.47000000000000003, 0.48, 0.48, 0.48, 0.48000000000000004, 0.48000000000000004, 0.48000000000000004, 0.48000000000000004, 0.48999999999999994, 0.49, 0.49, 0.49, 0.49000000000000005, 0.49000000000000005, 0.49999999999999994, 0.49999999999999994, 0.5, 0.5, 0.5, 0.5, 0.5, 0.5, 0.5, 0.51, 0.51, 0.51, 0.51, 0.51, 0.51, 0.51, 0.51, 0.51, 0.52, 0.52, 0.52, 0.53, 0.53, 0.5399999999999999, 0.54, 0.54, 0.54, 0.54, 0.55, 0.55, 0.55, 0.55, 0.56, 0.56, 0.56, 0.56, 0.56, 0.5700000000000001, 0.5700000000000001, 0.5700000000000001, 0.5700000000000001, 0.5700000000000001, 0.5700000000000001, 0.5700000000000001, 0.5800000000000001, 0.5800000000000001, 0.5800000000000001, 0.5800000000000001, 0.5800000000000001, 0.5800000000000001, 0.5900000000000001, 0.6000000000000001, 0.6000000000000001, 0.6000000000000001, 0.6000000000000001, 0.6100000000000001, 0.6100000000000001, 0.6100000000000001, 0.6100000000000001, 0.6100000000000001, 0.62, 0.6200000000000001, 0.6200000000000001, 0.6200000000000001, 0.6300000000000001, 0.6300000000000001, 0.6300000000000001, 0.6300000000000001, 0.6300000000000001, 0.6300000000000001, 0.64, 0.6400000000000001, 0.6499999999999999, 0.65, 0.6500000000000001, 0.6500000000000001, 0.66, 0.6699999999999999, 0.6799999999999999, 0.69, 0.69, 0.69, 0.69, 0.7, 0.7, 0.7, 0.7, 0.7000000000000001, 0.7000000000000001, 0.7000000000000001, 0.71, 0.71, 0.71, 0.72, 0.72, 0.73, 0.73, 0.73, 0.73, 0.73, 0.73, 0.74, 0.74, 0.74, 0.77, 0.77, 0.77, 0.7799999999999999, 0.7799999999999999, 0.78, 0.78, 0.78, 0.78, 0.78, 0.78, 0.78, 0.7899999999999999, 0.79, 0.79, 0.79, 0.79, 0.79, 0.7999999999999999, 0.8, 0.8099999999999999, 0.81, 0.8200000000000001, 0.8200000000000001, 0.83, 0.8300000000000001, 0.8400000000000001, 0.85, 0.86, 0.86, 0.8600000000000001, 0.87, 0.87, 0.87, 0.87, 0.87, 0.8700000000000001, 0.8700000000000001, 0.8799999999999999, 0.88, 0.89, 0.8999999999999999, 0.9, 0.9099999999999999, 0.91, 0.91, 0.9199999999999999, 0.9199999999999999, 0.9199999999999999, 0.9200000000000002, 0.9299999999999999, 0.9299999999999999, 0.9299999999999999, 0.93, 0.94, 0.95, 0.9500000000000001, 0.97, 0.9700000000000001, 0.9799999999999999, 0.98, 0.98, 0.99, 0.9999999999999999, 1.0, 1.0, 1.0000000000000002, 1.01, 1.01, 1.02, 1.02, 1.02, 1.02, 1.02, 1.03, 1.04, 1.04, 1.04, 1.06, 1.06, 1.06, 1.06, 1.07, 1.07, 1.07, 1.07, 1.08, 1.09, 1.09, 1.09, 1.1, 1.11, 1.11, 1.11, 1.12, 1.1300000000000001, 1.1500000000000001, 1.1600000000000001, 1.1600000000000001, 1.1600000000000001, 1.1800000000000002, 1.23, 1.24, 1.25, 1.2600000000000002, 1.27, 1.27, 1.27, 1.29, 1.3, 1.31, 1.31, 1.31, 1.3199999999999998, 1.32, 1.3300000000000003, 1.3399999999999999, 1.3400000000000003, 1.3400000000000003, 1.3499999999999999, 1.35, 1.35, 1.3599999999999999, 1.37, 1.37, 1.3800000000000001, 1.4100000000000001, 1.4100000000000001, 1.4100000000000001, 1.4100000000000001, 1.43, 1.4300000000000002, 1.4300000000000002, 1.44, 1.4500000000000002, 1.46, 1.4700000000000002, 1.4700000000000002, 1.48, 1.48, 1.48, 1.5099999999999998, 1.54, 1.5499999999999998, 1.5499999999999998, 1.5599999999999998, 1.5699999999999998, 1.57, 1.5999999999999999, 1.5999999999999999, 1.6099999999999999, 1.6099999999999999, 1.6199999999999999, 1.62, 1.64, 1.65, 1.65, 1.66, 1.68, 1.71, 1.74, 1.74, 1.7400000000000002, 1.7999999999999998, 1.81, 1.88, 1.92, 1.92, 1.94, 1.94, 1.9500000000000002, 1.9600000000000002, 1.97, 2.02, 2.03, 2.0300000000000002, 2.0500000000000003, 2.06, 2.08, 2.08, 2.1, 2.1, 2.1700000000000004, 2.18, 2.1999999999999997, 2.1999999999999997, 2.2, 2.2, 2.22, 2.23, 2.2800000000000002, 2.34, 2.3499999999999996, 2.35, 2.37, 2.37, 2.37, 2.4, 2.41, 2.4699999999999998, 2.5, 2.52, 2.5300000000000002, 2.56, 2.58, 2.6100000000000003, 2.6199999999999997, 2.62, 2.62, 2.6399999999999997, 2.66, 2.68, 2.69, 2.7, 2.7, 2.7599999999999993, 2.7699999999999996, 2.83, 2.83, 2.8499999999999996, 2.8899999999999997, 2.92, 2.9299999999999997, 3.0, 3.0, 3.0300000000000002, 3.04, 3.05, 3.06, 3.0999999999999996, 3.1799999999999997, 3.3099999999999996, 3.38, 3.4299999999999997, 3.47, 3.4800000000000004, 3.49, 3.5, 3.5, 3.5, 3.52, 3.77, 3.9699999999999998]}, {\"name\": \"PS3\", \"type\": \"box\", \"y\": [0.01, 0.01, 0.01, 0.02, 0.02, 0.02, 0.02, 0.02, 0.03, 0.03, 0.03, 0.03, 0.03, 0.03, 0.04, 0.04, 0.04, 0.05, 0.05, 0.05, 0.05, 0.06, 0.060000000000000005, 0.060000000000000005, 0.060000000000000005, 0.060000000000000005, 0.06999999999999999, 0.06999999999999999, 0.06999999999999999, 0.06999999999999999, 0.07, 0.08, 0.08, 0.08, 0.08, 0.08, 0.08, 0.08, 0.08, 0.08, 0.08, 0.08999999999999998, 0.09, 0.09, 0.09, 0.09, 0.09, 0.09, 0.09, 0.09, 0.09999999999999999, 0.1, 0.1, 0.1, 0.10999999999999999, 0.10999999999999999, 0.10999999999999999, 0.11, 0.11, 0.11, 0.11, 0.11, 0.11, 0.12, 0.12, 0.12, 0.12, 0.12, 0.12000000000000001, 0.12000000000000001, 0.12000000000000001, 0.12000000000000001, 0.13, 0.13, 0.13, 0.13, 0.13, 0.13, 0.13, 0.13, 0.13, 0.13, 0.13, 0.13, 0.13999999999999999, 0.14, 0.14, 0.14, 0.14, 0.14, 0.14, 0.14, 0.14, 0.15, 0.15, 0.15, 0.15, 0.15000000000000002, 0.15000000000000002, 0.15000000000000002, 0.15000000000000002, 0.15000000000000002, 0.15000000000000002, 0.15999999999999998, 0.15999999999999998, 0.16, 0.16, 0.16, 0.16, 0.16, 0.16, 0.16, 0.16, 0.16, 0.16, 0.16, 0.16, 0.16000000000000003, 0.16999999999999998, 0.16999999999999998, 0.16999999999999998, 0.16999999999999998, 0.16999999999999998, 0.16999999999999998, 0.16999999999999998, 0.16999999999999998, 0.17, 0.17, 0.17, 0.17, 0.17, 0.17, 0.17, 0.17, 0.17, 0.17, 0.17, 0.18, 0.18, 0.18, 0.18, 0.18, 0.18000000000000002, 0.18000000000000002, 0.18000000000000002, 0.18999999999999997, 0.19, 0.19, 0.19, 0.19, 0.19, 0.19, 0.19, 0.19, 0.19, 0.19, 0.19999999999999998, 0.19999999999999998, 0.19999999999999998, 0.19999999999999998, 0.19999999999999998, 0.19999999999999998, 0.19999999999999998, 0.19999999999999998, 0.19999999999999998, 0.19999999999999998, 0.19999999999999998, 0.2, 0.2, 0.2, 0.2, 0.2, 0.2, 0.2, 0.21, 0.21, 0.21, 0.21, 0.21, 0.21, 0.21, 0.21000000000000002, 0.21000000000000002, 0.21000000000000002, 0.22, 0.22, 0.22, 0.22000000000000003, 0.22999999999999998, 0.23, 0.23, 0.23, 0.23, 0.23, 0.23, 0.23, 0.23, 0.23, 0.23, 0.23, 0.23, 0.23, 0.23, 0.23, 0.24, 0.24, 0.24, 0.24, 0.24, 0.24, 0.24000000000000002, 0.24000000000000002, 0.24999999999999997, 0.25, 0.25, 0.25, 0.25, 0.25, 0.25, 0.25, 0.25, 0.25, 0.26, 0.26, 0.26, 0.26, 0.26, 0.26, 0.26, 0.26, 0.26, 0.27, 0.27, 0.27, 0.27, 0.27, 0.27999999999999997, 0.27999999999999997, 0.27999999999999997, 0.28, 0.28, 0.28, 0.28, 0.29, 0.29, 0.29, 0.29, 0.29000000000000004, 0.29000000000000004, 0.29000000000000004, 0.29000000000000004, 0.29000000000000004, 0.29000000000000004, 0.29000000000000004, 0.3, 0.3, 0.3, 0.3, 0.3, 0.30000000000000004, 0.31, 0.31, 0.31, 0.31, 0.31000000000000005, 0.31000000000000005, 0.31000000000000005, 0.31999999999999995, 0.32, 0.32, 0.32, 0.32, 0.32, 0.32, 0.32, 0.32000000000000006, 0.32000000000000006, 0.32999999999999996, 0.33, 0.33, 0.33, 0.33, 0.33000000000000007, 0.33000000000000007, 0.33999999999999997, 0.33999999999999997, 0.33999999999999997, 0.34, 0.34, 0.34, 0.34, 0.34, 0.35, 0.35, 0.35000000000000003, 0.35000000000000003, 0.36, 0.36, 0.36000000000000004, 0.36000000000000004, 0.37, 0.37, 0.37000000000000005, 0.37000000000000005, 0.37000000000000005, 0.38, 0.38, 0.38, 0.38, 0.38000000000000006, 0.38000000000000006, 0.38000000000000006, 0.39, 0.39, 0.39, 0.39, 0.39, 0.39, 0.39999999999999997, 0.39999999999999997, 0.39999999999999997, 0.4, 0.4, 0.41, 0.41, 0.41, 0.41, 0.41, 0.41, 0.41, 0.41, 0.41000000000000003, 0.41000000000000003, 0.42, 0.42, 0.42, 0.42000000000000004, 0.43, 0.43, 0.43, 0.43, 0.43, 0.43, 0.43, 0.43999999999999995, 0.44, 0.44, 0.44, 0.44, 0.44, 0.44, 0.44, 0.45, 0.45, 0.45, 0.45999999999999996, 0.45999999999999996, 0.46, 0.47, 0.47000000000000003, 0.47000000000000003, 0.48000000000000004, 0.48000000000000004, 0.48000000000000004, 0.48000000000000004, 0.49, 0.5, 0.5, 0.5, 0.51, 0.51, 0.51, 0.51, 0.51, 0.51, 0.52, 0.52, 0.52, 0.52, 0.52, 0.52, 0.52, 0.5299999999999999, 0.53, 0.53, 0.53, 0.53, 0.54, 0.54, 0.54, 0.54, 0.54, 0.5499999999999999, 0.5499999999999999, 0.55, 0.5599999999999999, 0.56, 0.56, 0.56, 0.57, 0.57, 0.57, 0.5700000000000001, 0.5700000000000001, 0.5700000000000001, 0.58, 0.5800000000000001, 0.5800000000000001, 0.5800000000000001, 0.5800000000000001, 0.5800000000000001, 0.5800000000000001, 0.5800000000000001, 0.59, 0.59, 0.5900000000000001, 0.5900000000000001, 0.6, 0.6, 0.61, 0.61, 0.61, 0.61, 0.61, 0.61, 0.6100000000000001, 0.6100000000000001, 0.6100000000000001, 0.62, 0.62, 0.62, 0.62, 0.6200000000000001, 0.63, 0.63, 0.63, 0.63, 0.63, 0.6300000000000001, 0.6300000000000001, 0.6400000000000001, 0.6400000000000001, 0.65, 0.65, 0.66, 0.66, 0.66, 0.66, 0.66, 0.66, 0.6699999999999999, 0.6699999999999999, 0.68, 0.68, 0.68, 0.69, 0.6900000000000001, 0.6900000000000001, 0.6900000000000001, 0.6900000000000001, 0.7, 0.7, 0.72, 0.72, 0.72, 0.72, 0.72, 0.73, 0.73, 0.73, 0.73, 0.73, 0.73, 0.7399999999999999, 0.74, 0.74, 0.74, 0.74, 0.74, 0.74, 0.7400000000000001, 0.75, 0.7500000000000001, 0.7599999999999999, 0.76, 0.77, 0.7799999999999999, 0.7799999999999999, 0.7799999999999999, 0.78, 0.7800000000000001, 0.7899999999999999, 0.7999999999999999, 0.8, 0.8099999999999999, 0.81, 0.82, 0.8200000000000001, 0.83, 0.8300000000000001, 0.8300000000000001, 0.84, 0.84, 0.84, 0.84, 0.8400000000000001, 0.8400000000000001, 0.85, 0.85, 0.8500000000000001, 0.8500000000000001, 0.8599999999999999, 0.86, 0.86, 0.87, 0.88, 0.88, 0.88, 0.88, 0.8899999999999999, 0.89, 0.89, 0.89, 0.89, 0.89, 0.9, 0.9, 0.9000000000000001, 0.91, 0.9100000000000001, 0.9199999999999999, 0.92, 0.9299999999999999, 0.93, 0.93, 0.93, 0.93, 0.94, 0.9400000000000001, 0.9400000000000001, 0.9400000000000001, 0.9400000000000001, 0.9400000000000001, 0.95, 0.95, 0.9500000000000001, 0.9500000000000001, 0.9600000000000001, 0.9600000000000001, 0.9600000000000001, 0.97, 0.9700000000000001, 0.98, 0.98, 0.99, 0.99, 0.9900000000000001, 1.0, 1.02, 1.03, 1.03, 1.03, 1.0300000000000002, 1.0300000000000002, 1.04, 1.05, 1.05, 1.05, 1.05, 1.05, 1.05, 1.05, 1.07, 1.07, 1.07, 1.07, 1.08, 1.09, 1.09, 1.09, 1.0999999999999999, 1.1, 1.1099999999999999, 1.11, 1.1199999999999999, 1.1199999999999999, 1.13, 1.13, 1.13, 1.14, 1.14, 1.1400000000000001, 1.15, 1.17, 1.17, 1.17, 1.17, 1.17, 1.1800000000000002, 1.1800000000000002, 1.19, 1.19, 1.2, 1.21, 1.21, 1.22, 1.22, 1.23, 1.2300000000000002, 1.24, 1.24, 1.25, 1.25, 1.25, 1.26, 1.27, 1.27, 1.27, 1.2799999999999998, 1.28, 1.29, 1.2999999999999998, 1.3099999999999998, 1.31, 1.3199999999999998, 1.3399999999999999, 1.34, 1.3400000000000003, 1.3499999999999999, 1.35, 1.35, 1.3599999999999999, 1.3599999999999999, 1.38, 1.39, 1.4000000000000001, 1.42, 1.42, 1.42, 1.42, 1.4200000000000002, 1.45, 1.4600000000000002, 1.48, 1.4899999999999998, 1.49, 1.5, 1.5099999999999998, 1.51, 1.52, 1.53, 1.54, 1.55, 1.57, 1.57, 1.5900000000000003, 1.6400000000000001, 1.6400000000000001, 1.6600000000000001, 1.67, 1.69, 1.69, 1.6900000000000002, 1.7399999999999998, 1.7400000000000002, 1.7500000000000002, 1.76, 1.7999999999999998, 1.8199999999999998, 1.82, 1.83, 1.84, 1.87, 1.8800000000000001, 1.91, 1.9200000000000002, 1.94, 1.9400000000000002, 1.99, 1.99, 2.0, 2.0100000000000002, 2.02, 2.04, 2.06, 2.09, 2.11, 2.1100000000000003, 2.1500000000000004, 2.18, 2.21, 2.22, 2.25, 2.25, 2.25, 2.25, 2.27, 2.28, 2.29, 2.29, 2.3699999999999997, 2.39, 2.41, 2.4499999999999997, 2.46, 2.4699999999999998, 2.48, 2.56, 2.58, 2.6, 2.63, 2.65, 2.76, 2.78, 2.7800000000000002, 2.81, 2.82, 2.8499999999999996, 2.93, 2.95, 3.01, 3.0300000000000002, 3.0999999999999996, 3.11, 3.1100000000000003, 3.17, 3.2299999999999995, 3.35, 3.4, 3.4899999999999998, 3.62, 3.7099999999999995, 3.85, 3.86, 3.9399999999999995]}, {\"name\": \"PS2\", \"type\": \"box\", \"y\": [0.01, 0.01, 0.01, 0.02, 0.02, 0.02, 0.02, 0.02, 0.02, 0.02, 0.02, 0.02, 0.02, 0.02, 0.02, 0.02, 0.02, 0.02, 0.02, 0.02, 0.02, 0.02, 0.03, 0.03, 0.03, 0.03, 0.03, 0.03, 0.03, 0.03, 0.03, 0.03, 0.03, 0.03, 0.03, 0.03, 0.03, 0.03, 0.03, 0.04, 0.04, 0.04, 0.05, 0.05, 0.05, 0.05, 0.05, 0.05, 0.05, 0.05, 0.05, 0.05, 0.05, 0.05, 0.05, 0.05, 0.05, 0.05, 0.060000000000000005, 0.060000000000000005, 0.060000000000000005, 0.060000000000000005, 0.060000000000000005, 0.060000000000000005, 0.060000000000000005, 0.060000000000000005, 0.060000000000000005, 0.060000000000000005, 0.060000000000000005, 0.060000000000000005, 0.060000000000000005, 0.060000000000000005, 0.060000000000000005, 0.060000000000000005, 0.060000000000000005, 0.060000000000000005, 0.060000000000000005, 0.060000000000000005, 0.060000000000000005, 0.060000000000000005, 0.060000000000000005, 0.060000000000000005, 0.060000000000000005, 0.060000000000000005, 0.060000000000000005, 0.060000000000000005, 0.060000000000000005, 0.060000000000000005, 0.060000000000000005, 0.060000000000000005, 0.06999999999999999, 0.06999999999999999, 0.06999999999999999, 0.06999999999999999, 0.06999999999999999, 0.06999999999999999, 0.06999999999999999, 0.06999999999999999, 0.06999999999999999, 0.06999999999999999, 0.06999999999999999, 0.06999999999999999, 0.06999999999999999, 0.06999999999999999, 0.06999999999999999, 0.06999999999999999, 0.06999999999999999, 0.07, 0.07, 0.07, 0.08, 0.08, 0.08, 0.08, 0.08, 0.08, 0.08, 0.08, 0.08, 0.08, 0.08, 0.08, 0.08, 0.08, 0.08, 0.08, 0.08, 0.08, 0.08, 0.08, 0.08, 0.08, 0.08, 0.08, 0.08, 0.08, 0.08, 0.08, 0.08, 0.08, 0.08, 0.08, 0.08, 0.08, 0.08, 0.08, 0.08, 0.08, 0.08, 0.08, 0.08, 0.09, 0.09, 0.09999999999999999, 0.09999999999999999, 0.09999999999999999, 0.09999999999999999, 0.09999999999999999, 0.09999999999999999, 0.09999999999999999, 0.09999999999999999, 0.09999999999999999, 0.09999999999999999, 0.09999999999999999, 0.09999999999999999, 0.09999999999999999, 0.09999999999999999, 0.09999999999999999, 0.09999999999999999, 0.09999999999999999, 0.09999999999999999, 0.09999999999999999, 0.09999999999999999, 0.09999999999999999, 0.09999999999999999, 0.09999999999999999, 0.09999999999999999, 0.09999999999999999, 0.09999999999999999, 0.09999999999999999, 0.09999999999999999, 0.09999999999999999, 0.09999999999999999, 0.09999999999999999, 0.09999999999999999, 0.09999999999999999, 0.09999999999999999, 0.09999999999999999, 0.09999999999999999, 0.09999999999999999, 0.09999999999999999, 0.09999999999999999, 0.1, 0.1, 0.1, 0.1, 0.11, 0.11, 0.11, 0.11, 0.11, 0.11, 0.11, 0.11, 0.11, 0.11, 0.12, 0.12, 0.12, 0.13, 0.13, 0.13, 0.13, 0.13, 0.13, 0.13, 0.13, 0.13, 0.13, 0.13, 0.13, 0.13, 0.13, 0.13, 0.13, 0.13, 0.13, 0.13, 0.13, 0.13, 0.13, 0.13, 0.13, 0.13, 0.13, 0.14, 0.14, 0.14, 0.14, 0.14, 0.14, 0.14, 0.14, 0.14, 0.14, 0.14, 0.14, 0.14, 0.14, 0.14, 0.14, 0.14, 0.14, 0.14, 0.14, 0.14, 0.14, 0.14, 0.15, 0.15, 0.15, 0.15, 0.15, 0.15, 0.15, 0.15, 0.15, 0.15, 0.15, 0.15, 0.15000000000000002, 0.16, 0.16, 0.16, 0.16, 0.16, 0.16, 0.16, 0.16, 0.16, 0.16, 0.16, 0.16, 0.16, 0.16, 0.16, 0.16, 0.16, 0.16, 0.16, 0.16, 0.16, 0.16, 0.16999999999999998, 0.16999999999999998, 0.17, 0.17, 0.17, 0.17, 0.17, 0.17, 0.18, 0.18, 0.18, 0.18, 0.18, 0.18, 0.18, 0.18, 0.18, 0.18, 0.18, 0.18, 0.18, 0.18, 0.18, 0.18, 0.18, 0.18, 0.18, 0.18, 0.18, 0.18, 0.18, 0.18, 0.18, 0.18, 0.18, 0.18, 0.18, 0.18, 0.18, 0.18, 0.18000000000000002, 0.19, 0.19, 0.19, 0.19, 0.19, 0.19, 0.19, 0.19999999999999998, 0.19999999999999998, 0.2, 0.2, 0.2, 0.21, 0.21, 0.21, 0.21, 0.21, 0.21, 0.21, 0.21, 0.21, 0.21, 0.21, 0.21, 0.21, 0.21, 0.21, 0.21, 0.21, 0.21, 0.21, 0.21, 0.21, 0.21, 0.21, 0.21, 0.21, 0.21000000000000002, 0.22, 0.22, 0.22, 0.22, 0.22, 0.22, 0.22, 0.22, 0.23, 0.23, 0.23, 0.23, 0.23, 0.23, 0.23, 0.23, 0.23, 0.23, 0.23, 0.23, 0.23, 0.23, 0.23, 0.23, 0.23, 0.23, 0.23000000000000004, 0.24, 0.24, 0.24, 0.24, 0.24, 0.24, 0.24, 0.24, 0.24, 0.24, 0.24, 0.24, 0.25, 0.25, 0.25, 0.25, 0.25, 0.26, 0.26, 0.26, 0.26, 0.26, 0.26, 0.26, 0.26, 0.26, 0.26, 0.26, 0.26, 0.26, 0.26, 0.26, 0.26, 0.26, 0.26, 0.26, 0.26, 0.26, 0.26, 0.26, 0.26, 0.27, 0.27, 0.28, 0.28, 0.28, 0.29, 0.29, 0.29, 0.29, 0.29, 0.29, 0.29, 0.29, 0.29, 0.29, 0.29, 0.29, 0.29, 0.29, 0.29, 0.29, 0.29, 0.29, 0.29, 0.29, 0.29, 0.29, 0.29000000000000004, 0.29000000000000004, 0.29000000000000004, 0.3, 0.3, 0.3, 0.30000000000000004, 0.31, 0.31, 0.31, 0.31, 0.31, 0.31, 0.31, 0.31, 0.31, 0.32, 0.32, 0.32, 0.32, 0.32, 0.32, 0.32, 0.32, 0.32, 0.32999999999999996, 0.32999999999999996, 0.33, 0.33, 0.33, 0.33, 0.33, 0.33, 0.33, 0.33, 0.33, 0.34, 0.34, 0.34, 0.34, 0.34, 0.34, 0.34, 0.34, 0.34, 0.34, 0.34, 0.35, 0.35, 0.35, 0.35000000000000003, 0.35000000000000003, 0.35000000000000003, 0.36, 0.36, 0.36000000000000004, 0.36000000000000004, 0.37, 0.37, 0.37, 0.37, 0.37, 0.37, 0.37, 0.37, 0.37, 0.37, 0.37, 0.37, 0.37, 0.37, 0.37, 0.38, 0.38, 0.38, 0.38, 0.38, 0.38999999999999996, 0.38999999999999996, 0.38999999999999996, 0.38999999999999996, 0.38999999999999996, 0.38999999999999996, 0.38999999999999996, 0.38999999999999996, 0.38999999999999996, 0.38999999999999996, 0.38999999999999996, 0.38999999999999996, 0.38999999999999996, 0.39, 0.39, 0.39, 0.39, 0.39, 0.39999999999999997, 0.39999999999999997, 0.39999999999999997, 0.39999999999999997, 0.39999999999999997, 0.39999999999999997, 0.41, 0.41, 0.41, 0.41, 0.41, 0.41, 0.41, 0.41, 0.41000000000000003, 0.41000000000000003, 0.41000000000000003, 0.41000000000000003, 0.42, 0.42, 0.42, 0.42, 0.42, 0.42, 0.42, 0.42, 0.42, 0.42, 0.42, 0.42, 0.42, 0.43, 0.43, 0.43, 0.43, 0.43, 0.43, 0.43000000000000005, 0.44, 0.44, 0.44, 0.44, 0.44, 0.44, 0.44, 0.45, 0.45, 0.45, 0.45, 0.45, 0.45, 0.45, 0.45, 0.45, 0.45, 0.45, 0.45, 0.45, 0.45, 0.45, 0.45999999999999996, 0.46, 0.46, 0.46, 0.4600000000000001, 0.47000000000000003, 0.47000000000000003, 0.47000000000000003, 0.47000000000000003, 0.47000000000000003, 0.47000000000000003, 0.47000000000000003, 0.47000000000000003, 0.47000000000000003, 0.47000000000000003, 0.48, 0.49, 0.49, 0.49, 0.49, 0.49, 0.49, 0.49, 0.49, 0.49, 0.49, 0.49000000000000005, 0.5, 0.5, 0.5, 0.5, 0.5, 0.5, 0.5, 0.5, 0.5, 0.51, 0.51, 0.51, 0.51, 0.52, 0.52, 0.52, 0.52, 0.52, 0.52, 0.52, 0.53, 0.53, 0.53, 0.53, 0.53, 0.53, 0.53, 0.53, 0.53, 0.53, 0.53, 0.53, 0.53, 0.53, 0.53, 0.53, 0.54, 0.54, 0.54, 0.54, 0.54, 0.54, 0.55, 0.55, 0.55, 0.55, 0.55, 0.55, 0.55, 0.55, 0.55, 0.55, 0.55, 0.55, 0.56, 0.56, 0.56, 0.56, 0.57, 0.57, 0.57, 0.5700000000000001, 0.5700000000000001, 0.5700000000000001, 0.5700000000000001, 0.5700000000000001, 0.5700000000000001, 0.5700000000000001, 0.5700000000000001, 0.5700000000000001, 0.58, 0.58, 0.59, 0.59, 0.59, 0.5900000000000001, 0.6, 0.6, 0.6, 0.6, 0.6, 0.6, 0.6, 0.6, 0.6000000000000001, 0.61, 0.61, 0.61, 0.62, 0.62, 0.62, 0.62, 0.62, 0.6200000000000001, 0.63, 0.63, 0.63, 0.6300000000000001, 0.6300000000000001, 0.64, 0.64, 0.6499999999999999, 0.65, 0.65, 0.65, 0.65, 0.65, 0.65, 0.65, 0.65, 0.65, 0.65, 0.65, 0.6500000000000001, 0.6500000000000001, 0.66, 0.66, 0.66, 0.6700000000000002, 0.6799999999999999, 0.6799999999999999, 0.69, 0.6900000000000001, 0.7000000000000001, 0.7000000000000001, 0.7000000000000001, 0.7000000000000001, 0.71, 0.71, 0.71, 0.71, 0.72, 0.72, 0.72, 0.73, 0.74, 0.74, 0.74, 0.75, 0.75, 0.75, 0.7599999999999999, 0.7599999999999999, 0.76, 0.7699999999999999, 0.7699999999999999, 0.77, 0.77, 0.78, 0.79, 0.79, 0.79, 0.7999999999999999, 0.8, 0.8099999999999999, 0.81, 0.82, 0.83, 0.83, 0.84, 0.84, 0.8400000000000001, 0.8400000000000001, 0.85, 0.8500000000000001, 0.86, 0.87, 0.87, 0.87, 0.8700000000000001, 0.88, 0.88, 0.89, 0.89, 0.89, 0.89, 0.9, 0.9, 0.9000000000000001, 0.91, 0.91, 0.9199999999999999, 0.92, 0.92, 0.92, 0.93, 0.9400000000000001, 0.9400000000000001, 0.9400000000000001, 0.9400000000000001, 0.95, 0.9500000000000001, 0.9500000000000001, 0.96, 0.96, 0.9600000000000001, 0.9700000000000001, 1.0, 1.0, 1.02, 1.02, 1.03, 1.04, 1.04, 1.04, 1.06, 1.06, 1.0699999999999998, 1.0699999999999998, 1.0699999999999998, 1.07, 1.07, 1.08, 1.08, 1.08, 1.0899999999999999, 1.0899999999999999, 1.11, 1.12, 1.12, 1.1300000000000001, 1.1400000000000001, 1.1400000000000001, 1.15, 1.15, 1.15, 1.15, 1.16, 1.16, 1.17, 1.17, 1.17, 1.18, 1.19, 1.2, 1.2, 1.2, 1.21, 1.21, 1.21, 1.2299999999999998, 1.2299999999999998, 1.24, 1.24, 1.2400000000000002, 1.2499999999999998, 1.2499999999999998, 1.25, 1.25, 1.2599999999999998, 1.2699999999999998, 1.27, 1.28, 1.28, 1.28, 1.3, 1.3, 1.31, 1.31, 1.32, 1.33, 1.33, 1.33, 1.34, 1.3499999999999999, 1.35, 1.3599999999999999, 1.37, 1.3800000000000001, 1.3900000000000001, 1.4000000000000001, 1.41, 1.41, 1.42, 1.42, 1.43, 1.4400000000000002, 1.4400000000000002, 1.45, 1.45, 1.4500000000000002, 1.47, 1.48, 1.48, 1.49, 1.5, 1.5099999999999998, 1.52, 1.53, 1.54, 1.55, 1.57, 1.57, 1.5700000000000003, 1.5899999999999999, 1.62, 1.62, 1.6300000000000001, 1.64, 1.6400000000000001, 1.65, 1.65, 1.6600000000000001, 1.67, 1.67, 1.6700000000000002, 1.6700000000000002, 1.69, 1.7000000000000002, 1.71, 1.72, 1.73, 1.74, 1.74, 1.75, 1.75, 1.76, 1.76, 1.76, 1.7699999999999998, 1.7799999999999998, 1.78, 1.7999999999999998, 1.82, 1.82, 1.82, 1.83, 1.85, 1.86, 1.86, 1.8600000000000003, 1.8800000000000001, 1.92, 1.92, 1.93, 1.9300000000000002, 1.94, 1.94, 1.95, 1.95, 1.97, 1.97, 2.02, 2.04, 2.04, 2.06, 2.09, 2.0999999999999996, 2.0999999999999996, 2.1, 2.12, 2.18, 2.22, 2.25, 2.2800000000000002, 2.32, 2.33, 2.34, 2.3799999999999994, 2.38, 2.38, 2.41, 2.41, 2.42, 2.44, 2.48, 2.5300000000000002, 2.5699999999999994, 2.5700000000000003, 2.59, 2.6, 2.63, 2.6599999999999997, 2.67, 2.6799999999999997, 2.69, 2.7, 2.7700000000000005, 2.78, 2.79, 2.88, 2.89, 2.9, 2.9000000000000004, 2.9400000000000004, 2.96, 2.96, 2.99, 2.99, 3.0, 3.08, 3.09, 3.14, 3.17, 3.18, 3.27, 3.29, 3.31, 3.32, 3.3200000000000003, 3.3999999999999995, 3.4000000000000004, 3.4400000000000004, 3.53, 3.54, 3.54, 3.6, 3.61, 3.6199999999999997, 3.62, 3.62, 3.6399999999999997, 3.65, 3.6699999999999995, 3.69, 3.85, 3.88, 3.8899999999999997]}, {\"name\": \"3DS\", \"type\": \"box\", \"y\": [0.01, 0.02, 0.02, 0.03, 0.03, 0.03, 0.03, 0.03, 0.04, 0.04, 0.04, 0.04, 0.06, 0.06, 0.07, 0.08, 0.08, 0.08, 0.09, 0.09, 0.09, 0.09000000000000001, 0.09999999999999999, 0.09999999999999999, 0.09999999999999999, 0.09999999999999999, 0.09999999999999999, 0.09999999999999999, 0.1, 0.11, 0.11, 0.11, 0.12, 0.12000000000000001, 0.13, 0.13, 0.14, 0.14, 0.14, 0.14, 0.15, 0.15000000000000002, 0.15000000000000002, 0.15000000000000002, 0.16, 0.16, 0.16000000000000003, 0.16000000000000003, 0.17, 0.18000000000000002, 0.19, 0.19999999999999998, 0.19999999999999998, 0.2, 0.2, 0.21, 0.21, 0.21000000000000002, 0.22, 0.22, 0.22, 0.22999999999999998, 0.23, 0.24, 0.24, 0.24000000000000002, 0.25, 0.25, 0.26, 0.26, 0.27, 0.29000000000000004, 0.29000000000000004, 0.30000000000000004, 0.31000000000000005, 0.31000000000000005, 0.31999999999999995, 0.32000000000000006, 0.33, 0.33999999999999997, 0.36, 0.37, 0.38, 0.38, 0.38, 0.38, 0.38, 0.39, 0.39, 0.39, 0.4, 0.42, 0.42000000000000004, 0.42000000000000004, 0.42999999999999994, 0.43999999999999995, 0.47000000000000003, 0.48, 0.48, 0.48, 0.48, 0.4800000000000001, 0.49, 0.49, 0.49000000000000005, 0.49000000000000005, 0.5, 0.53, 0.56, 0.5700000000000001, 0.5800000000000001, 0.6200000000000001, 0.6200000000000001, 0.6200000000000001, 0.6300000000000001, 0.6399999999999999, 0.72, 0.7200000000000001, 0.75, 0.76, 0.77, 0.8, 0.8200000000000001, 0.8700000000000001, 0.8900000000000001, 0.9299999999999999, 0.93, 0.93, 0.94, 0.9400000000000002, 0.96, 1.01, 1.11, 1.13, 1.1300000000000001, 1.1500000000000001, 1.22, 1.25, 1.26, 1.27, 1.3800000000000001, 1.5800000000000003, 1.83, 1.9200000000000002, 2.02, 2.31, 2.34, 3.05, 3.1, 3.89]}, {\"name\": \"PS4\", \"type\": \"box\", \"y\": [0.01, 0.01, 0.01, 0.01, 0.01, 0.01, 0.01, 0.02, 0.02, 0.02, 0.02, 0.02, 0.02, 0.02, 0.02, 0.02, 0.02, 0.02, 0.02, 0.03, 0.03, 0.03, 0.03, 0.03, 0.03, 0.04, 0.04, 0.04, 0.04, 0.04, 0.04, 0.04, 0.05, 0.05, 0.05, 0.05, 0.05, 0.05, 0.05, 0.05, 0.05, 0.05, 0.060000000000000005, 0.060000000000000005, 0.060000000000000005, 0.060000000000000005, 0.060000000000000005, 0.06999999999999999, 0.06999999999999999, 0.06999999999999999, 0.06999999999999999, 0.06999999999999999, 0.06999999999999999, 0.07, 0.07, 0.07, 0.07, 0.08, 0.08, 0.08, 0.08, 0.08, 0.09, 0.09, 0.09, 0.09, 0.09000000000000001, 0.09000000000000001, 0.09999999999999999, 0.09999999999999999, 0.1, 0.1, 0.11, 0.12, 0.12, 0.12000000000000001, 0.12000000000000001, 0.12000000000000001, 0.13, 0.13, 0.13, 0.13999999999999999, 0.13999999999999999, 0.13999999999999999, 0.13999999999999999, 0.14, 0.15, 0.16, 0.16, 0.16999999999999998, 0.17, 0.18, 0.18, 0.18, 0.19, 0.19999999999999998, 0.19999999999999998, 0.19999999999999998, 0.2, 0.2, 0.21000000000000002, 0.22, 0.23, 0.23, 0.24000000000000002, 0.24000000000000002, 0.24000000000000002, 0.25, 0.25, 0.26, 0.26, 0.26, 0.27, 0.29, 0.3, 0.3, 0.3, 0.31, 0.32, 0.32, 0.33, 0.34, 0.34, 0.34, 0.35000000000000003, 0.36, 0.36, 0.36000000000000004, 0.36000000000000004, 0.37000000000000005, 0.38, 0.38, 0.38, 0.38999999999999996, 0.39, 0.39999999999999997, 0.4, 0.42, 0.42, 0.43, 0.44, 0.45, 0.47000000000000003, 0.49000000000000005, 0.51, 0.52, 0.54, 0.6, 0.6, 0.6, 0.61, 0.63, 0.64, 0.67, 0.67, 0.6900000000000001, 0.7, 0.71, 0.72, 0.73, 0.73, 0.75, 0.7600000000000001, 0.78, 0.86, 0.88, 0.9, 0.9, 0.91, 0.92, 0.93, 0.93, 0.9700000000000001, 1.02, 1.05, 1.0799999999999998, 1.1, 1.1199999999999999, 1.13, 1.14, 1.15, 1.21, 1.2699999999999998, 1.44, 1.54, 1.62, 1.6600000000000001, 1.6600000000000001, 1.6900000000000002, 1.7200000000000002, 1.7200000000000002, 1.73, 1.74, 1.7900000000000003, 1.81, 1.85, 1.8800000000000001, 1.9100000000000001, 1.9200000000000002, 1.98, 2.01, 2.07, 2.09, 2.11, 2.14, 2.19, 2.21, 2.2600000000000002, 2.4499999999999997, 2.48, 2.6900000000000004, 2.78, 2.7899999999999996, 2.86, 2.96, 3.01, 3.2399999999999998, 3.3899999999999997, 3.4200000000000004, 3.58, 3.8, 3.8299999999999996, 3.87, 3.96, 3.96, 3.9699999999999998]}, {\"name\": \"XB\", \"type\": \"box\", \"y\": [0.01, 0.01, 0.01, 0.01, 0.01, 0.01, 0.01, 0.01, 0.01, 0.01, 0.01, 0.01, 0.01, 0.01, 0.01, 0.01, 0.01, 0.01, 0.01, 0.02, 0.02, 0.02, 0.02, 0.02, 0.02, 0.02, 0.02, 0.02, 0.03, 0.03, 0.03, 0.03, 0.03, 0.03, 0.03, 0.03, 0.03, 0.03, 0.03, 0.03, 0.03, 0.04, 0.04, 0.04, 0.04, 0.04, 0.04, 0.04, 0.04, 0.04, 0.04, 0.04, 0.04, 0.04, 0.04, 0.04, 0.04, 0.04, 0.04, 0.04, 0.04, 0.04, 0.04, 0.04, 0.04, 0.04, 0.05, 0.05, 0.05, 0.05, 0.05, 0.05, 0.05, 0.05, 0.05, 0.05, 0.05, 0.05, 0.05, 0.05, 0.05, 0.05, 0.05, 0.05, 0.05, 0.05, 0.05, 0.05, 0.05, 0.05, 0.05, 0.060000000000000005, 0.060000000000000005, 0.060000000000000005, 0.060000000000000005, 0.060000000000000005, 0.060000000000000005, 0.060000000000000005, 0.060000000000000005, 0.060000000000000005, 0.060000000000000005, 0.060000000000000005, 0.060000000000000005, 0.060000000000000005, 0.060000000000000005, 0.060000000000000005, 0.060000000000000005, 0.060000000000000005, 0.060000000000000005, 0.07, 0.07, 0.07, 0.07, 0.07, 0.07, 0.07, 0.07, 0.07, 0.07, 0.07, 0.08, 0.08, 0.08, 0.08, 0.08, 0.08, 0.08, 0.08, 0.08, 0.08, 0.08, 0.08, 0.08, 0.08, 0.08, 0.08, 0.08, 0.09, 0.09000000000000001, 0.09000000000000001, 0.09000000000000001, 0.09000000000000001, 0.09000000000000001, 0.09000000000000001, 0.09000000000000001, 0.09000000000000001, 0.09000000000000001, 0.09000000000000001, 0.09000000000000001, 0.09000000000000001, 0.09000000000000001, 0.09000000000000001, 0.09000000000000001, 0.09000000000000001, 0.09000000000000001, 0.09000000000000001, 0.09000000000000001, 0.1, 0.1, 0.1, 0.1, 0.1, 0.1, 0.1, 0.1, 0.1, 0.1, 0.1, 0.1, 0.1, 0.1, 0.1, 0.1, 0.1, 0.1, 0.1, 0.1, 0.1, 0.1, 0.1, 0.1, 0.1, 0.1, 0.1, 0.1, 0.1, 0.1, 0.1, 0.11, 0.11, 0.11, 0.11, 0.11, 0.12, 0.12, 0.12, 0.12, 0.12, 0.12, 0.12, 0.12, 0.12, 0.12, 0.12, 0.12, 0.12, 0.12, 0.12, 0.13, 0.13, 0.13, 0.13, 0.13, 0.13, 0.13, 0.13, 0.13, 0.13, 0.13, 0.13, 0.13, 0.13, 0.13, 0.13, 0.13, 0.13, 0.13, 0.13, 0.13, 0.14, 0.15000000000000002, 0.15000000000000002, 0.15000000000000002, 0.15000000000000002, 0.15000000000000002, 0.15000000000000002, 0.15000000000000002, 0.15000000000000002, 0.15000000000000002, 0.15000000000000002, 0.15000000000000002, 0.15000000000000002, 0.15000000000000002, 0.15000000000000002, 0.15000000000000002, 0.15000000000000002, 0.15000000000000002, 0.15000000000000002, 0.15000000000000002, 0.15000000000000002, 0.15000000000000002, 0.15000000000000002, 0.15000000000000002, 0.15000000000000002, 0.16, 0.16, 0.16, 0.17, 0.17, 0.17, 0.18000000000000002, 0.18000000000000002, 0.18000000000000002, 0.18000000000000002, 0.18000000000000002, 0.18000000000000002, 0.18000000000000002, 0.18000000000000002, 0.18000000000000002, 0.18000000000000002, 0.18000000000000002, 0.18000000000000002, 0.18000000000000002, 0.18000000000000002, 0.18000000000000002, 0.18000000000000002, 0.19, 0.19, 0.19, 0.19000000000000003, 0.19000000000000003, 0.19000000000000003, 0.19000000000000003, 0.19000000000000003, 0.19000000000000003, 0.19000000000000003, 0.19000000000000003, 0.19000000000000003, 0.19000000000000003, 0.19000000000000003, 0.19000000000000003, 0.19000000000000003, 0.19000000000000003, 0.19000000000000003, 0.2, 0.2, 0.2, 0.2, 0.2, 0.2, 0.2, 0.2, 0.2, 0.2, 0.2, 0.2, 0.2, 0.2, 0.21000000000000002, 0.21000000000000002, 0.21000000000000002, 0.22000000000000003, 0.22000000000000003, 0.22000000000000003, 0.22000000000000003, 0.22000000000000003, 0.22000000000000003, 0.22000000000000003, 0.22000000000000003, 0.22000000000000003, 0.23000000000000004, 0.23000000000000004, 0.23000000000000004, 0.23000000000000004, 0.23000000000000004, 0.23000000000000004, 0.24, 0.24, 0.24, 0.24, 0.24, 0.24, 0.24, 0.24, 0.24, 0.24, 0.24000000000000005, 0.25, 0.25, 0.25, 0.25, 0.25, 0.25, 0.25, 0.26, 0.26, 0.26, 0.26, 0.26, 0.27, 0.27, 0.27, 0.27, 0.27, 0.27, 0.27, 0.28, 0.28, 0.28, 0.28, 0.28, 0.28, 0.28, 0.28, 0.28, 0.29000000000000004, 0.29000000000000004, 0.29000000000000004, 0.29000000000000004, 0.29000000000000004, 0.3, 0.31, 0.31000000000000005, 0.31000000000000005, 0.31000000000000005, 0.31000000000000005, 0.31000000000000005, 0.31000000000000005, 0.32, 0.32, 0.32, 0.32, 0.32, 0.32000000000000006, 0.33, 0.33, 0.33, 0.33, 0.33, 0.33, 0.34, 0.34, 0.36, 0.36000000000000004, 0.36000000000000004, 0.36000000000000004, 0.36000000000000004, 0.37000000000000005, 0.37000000000000005, 0.38, 0.38, 0.38, 0.38, 0.39, 0.4, 0.4, 0.41000000000000003, 0.41000000000000003, 0.42, 0.42000000000000004, 0.43000000000000005, 0.43000000000000005, 0.43000000000000005, 0.44, 0.44, 0.44, 0.44000000000000006, 0.44000000000000006, 0.44000000000000006, 0.45000000000000007, 0.45000000000000007, 0.46, 0.4600000000000001, 0.4600000000000001, 0.47, 0.48, 0.49, 0.49000000000000005, 0.5, 0.5, 0.5, 0.5, 0.5, 0.52, 0.52, 0.52, 0.53, 0.53, 0.53, 0.53, 0.54, 0.54, 0.54, 0.54, 0.55, 0.55, 0.55, 0.55, 0.55, 0.56, 0.56, 0.56, 0.56, 0.56, 0.5700000000000001, 0.5700000000000001, 0.5700000000000001, 0.5700000000000001, 0.5800000000000001, 0.5800000000000001, 0.5900000000000001, 0.6, 0.6000000000000001, 0.61, 0.6100000000000001, 0.62, 0.63, 0.63, 0.6300000000000001, 0.64, 0.64, 0.64, 0.6400000000000001, 0.65, 0.66, 0.67, 0.67, 0.6799999999999999, 0.68, 0.68, 0.68, 0.6900000000000001, 0.7, 0.7000000000000001, 0.7100000000000001, 0.72, 0.7200000000000001, 0.7300000000000001, 0.7300000000000001, 0.7300000000000001, 0.74, 0.74, 0.75, 0.76, 0.77, 0.78, 0.8, 0.82, 0.8200000000000001, 0.83, 0.8400000000000001, 0.8500000000000001, 0.87, 0.8700000000000001, 0.88, 0.9, 0.9, 0.9, 0.9000000000000001, 0.91, 0.9299999999999999, 0.94, 0.9600000000000001, 0.9600000000000001, 0.97, 0.97, 0.99, 1.03, 1.04, 1.05, 1.05, 1.09, 1.11, 1.11, 1.12, 1.12, 1.13, 1.14, 1.1400000000000001, 1.1700000000000002, 1.2, 1.21, 1.22, 1.2200000000000002, 1.23, 1.2300000000000002, 1.24, 1.27, 1.31, 1.34, 1.37, 1.37, 1.3800000000000001, 1.4000000000000001, 1.48, 1.49, 1.55, 1.6300000000000001, 1.67, 1.7100000000000002, 1.7200000000000002, 1.76, 1.76, 1.78, 1.86, 1.9600000000000002, 2.1199999999999997, 2.2, 2.28, 2.6599999999999997, 2.8599999999999994, 3.02]}, {\"name\": \"PC\", \"type\": \"box\", \"y\": [0.01, 0.01, 0.01, 0.01, 0.01, 0.01, 0.01, 0.01, 0.01, 0.01, 0.01, 0.01, 0.01, 0.01, 0.01, 0.01, 0.01, 0.01, 0.01, 0.01, 0.01, 0.01, 0.01, 0.01, 0.01, 0.01, 0.01, 0.01, 0.01, 0.01, 0.01, 0.01, 0.01, 0.01, 0.01, 0.01, 0.01, 0.01, 0.01, 0.01, 0.01, 0.01, 0.01, 0.01, 0.01, 0.01, 0.01, 0.01, 0.01, 0.01, 0.01, 0.01, 0.01, 0.01, 0.01, 0.01, 0.01, 0.01, 0.01, 0.01, 0.01, 0.01, 0.01, 0.01, 0.01, 0.01, 0.01, 0.01, 0.01, 0.01, 0.01, 0.01, 0.01, 0.01, 0.01, 0.01, 0.01, 0.01, 0.01, 0.01, 0.01, 0.02, 0.02, 0.02, 0.02, 0.02, 0.02, 0.02, 0.02, 0.02, 0.02, 0.02, 0.02, 0.02, 0.02, 0.02, 0.02, 0.02, 0.02, 0.02, 0.02, 0.02, 0.02, 0.02, 0.02, 0.02, 0.02, 0.02, 0.02, 0.02, 0.02, 0.02, 0.02, 0.02, 0.02, 0.02, 0.02, 0.02, 0.02, 0.02, 0.02, 0.02, 0.02, 0.02, 0.02, 0.02, 0.02, 0.02, 0.02, 0.02, 0.02, 0.02, 0.02, 0.02, 0.02, 0.02, 0.02, 0.02, 0.02, 0.02, 0.02, 0.02, 0.02, 0.02, 0.02, 0.02, 0.02, 0.02, 0.02, 0.02, 0.02, 0.02, 0.02, 0.02, 0.02, 0.02, 0.02, 0.02, 0.02, 0.02, 0.02, 0.02, 0.02, 0.02, 0.02, 0.02, 0.02, 0.02, 0.02, 0.02, 0.02, 0.02, 0.02, 0.02, 0.02, 0.02, 0.02, 0.02, 0.02, 0.02, 0.02, 0.02, 0.02, 0.02, 0.02, 0.03, 0.03, 0.03, 0.03, 0.03, 0.03, 0.03, 0.03, 0.03, 0.03, 0.03, 0.03, 0.03, 0.03, 0.03, 0.03, 0.03, 0.03, 0.03, 0.03, 0.03, 0.03, 0.03, 0.03, 0.03, 0.03, 0.03, 0.03, 0.03, 0.03, 0.03, 0.03, 0.03, 0.03, 0.03, 0.03, 0.03, 0.03, 0.03, 0.03, 0.03, 0.04, 0.04, 0.04, 0.04, 0.04, 0.04, 0.04, 0.04, 0.04, 0.04, 0.04, 0.04, 0.04, 0.04, 0.04, 0.04, 0.04, 0.04, 0.04, 0.04, 0.04, 0.04, 0.04, 0.04, 0.04, 0.04, 0.04, 0.04, 0.04, 0.04, 0.04, 0.04, 0.04, 0.04, 0.04, 0.04, 0.04, 0.04, 0.04, 0.04, 0.04, 0.04, 0.04, 0.04, 0.04, 0.04, 0.04, 0.05, 0.05, 0.05, 0.05, 0.05, 0.05, 0.05, 0.05, 0.05, 0.05, 0.05, 0.05, 0.05, 0.05, 0.05, 0.05, 0.05, 0.05, 0.05, 0.05, 0.05, 0.05, 0.05, 0.05, 0.05, 0.05, 0.05, 0.05, 0.05, 0.05, 0.05, 0.05, 0.05, 0.05, 0.05, 0.05, 0.05, 0.05, 0.05, 0.05, 0.05, 0.05, 0.05, 0.05, 0.06, 0.06, 0.060000000000000005, 0.060000000000000005, 0.060000000000000005, 0.060000000000000005, 0.060000000000000005, 0.060000000000000005, 0.060000000000000005, 0.060000000000000005, 0.060000000000000005, 0.060000000000000005, 0.060000000000000005, 0.060000000000000005, 0.060000000000000005, 0.060000000000000005, 0.060000000000000005, 0.060000000000000005, 0.060000000000000005, 0.060000000000000005, 0.060000000000000005, 0.060000000000000005, 0.060000000000000005, 0.060000000000000005, 0.060000000000000005, 0.060000000000000005, 0.060000000000000005, 0.060000000000000005, 0.060000000000000005, 0.060000000000000005, 0.06999999999999999, 0.06999999999999999, 0.06999999999999999, 0.06999999999999999, 0.06999999999999999, 0.06999999999999999, 0.06999999999999999, 0.06999999999999999, 0.06999999999999999, 0.06999999999999999, 0.06999999999999999, 0.06999999999999999, 0.07, 0.07, 0.07, 0.07, 0.07, 0.07999999999999999, 0.07999999999999999, 0.07999999999999999, 0.07999999999999999, 0.08, 0.08, 0.08, 0.08, 0.08, 0.08, 0.08, 0.08, 0.08, 0.08, 0.08, 0.08, 0.08, 0.08, 0.08, 0.08, 0.08, 0.08, 0.09, 0.09, 0.09, 0.09, 0.09000000000000001, 0.09999999999999999, 0.09999999999999999, 0.09999999999999999, 0.09999999999999999, 0.1, 0.1, 0.1, 0.1, 0.1, 0.11, 0.11, 0.11, 0.11, 0.11, 0.11, 0.11, 0.11, 0.11, 0.11000000000000001, 0.12, 0.12, 0.12, 0.12, 0.12000000000000001, 0.12000000000000001, 0.12000000000000001, 0.12000000000000001, 0.13, 0.13, 0.13, 0.13, 0.13, 0.13, 0.13, 0.13, 0.13999999999999999, 0.13999999999999999, 0.13999999999999999, 0.14, 0.14, 0.14, 0.14, 0.14, 0.15, 0.15, 0.15, 0.15, 0.15000000000000002, 0.15000000000000002, 0.16, 0.16, 0.16, 0.16, 0.16, 0.16, 0.16, 0.16000000000000003, 0.16999999999999998, 0.16999999999999998, 0.17, 0.17, 0.17, 0.17, 0.18, 0.18, 0.18, 0.18000000000000002, 0.18000000000000002, 0.18000000000000002, 0.18000000000000002, 0.18000000000000002, 0.18999999999999997, 0.18999999999999997, 0.18999999999999997, 0.19, 0.19, 0.19, 0.19, 0.19, 0.19, 0.19999999999999998, 0.19999999999999998, 0.19999999999999998, 0.19999999999999998, 0.2, 0.2, 0.2, 0.21, 0.22, 0.22, 0.22, 0.22, 0.22, 0.22, 0.22999999999999998, 0.23, 0.23, 0.24, 0.24, 0.24, 0.24, 0.24000000000000002, 0.24000000000000002, 0.24000000000000002, 0.25, 0.25, 0.26, 0.26, 0.26, 0.27, 0.27, 0.27, 0.28, 0.28, 0.28, 0.28, 0.29, 0.29, 0.29000000000000004, 0.3, 0.30000000000000004, 0.31000000000000005, 0.32, 0.32, 0.32, 0.32000000000000006, 0.33, 0.33, 0.33, 0.35, 0.35, 0.35000000000000003, 0.36, 0.36, 0.37, 0.37, 0.38, 0.38, 0.38, 0.38, 0.38, 0.39, 0.39, 0.4, 0.4, 0.41, 0.41, 0.41000000000000003, 0.42000000000000004, 0.43, 0.43, 0.44000000000000006, 0.44999999999999996, 0.45999999999999996, 0.47, 0.47000000000000003, 0.48, 0.49, 0.49000000000000005, 0.51, 0.51, 0.52, 0.53, 0.53, 0.55, 0.55, 0.56, 0.58, 0.58, 0.59, 0.59, 0.5900000000000001, 0.63, 0.63, 0.63, 0.6300000000000001, 0.64, 0.65, 0.65, 0.6599999999999999, 0.6699999999999999, 0.6699999999999999, 0.67, 0.6900000000000001, 0.71, 0.71, 0.72, 0.72, 0.7200000000000001, 0.73, 0.74, 0.74, 0.75, 0.8700000000000001, 0.89, 0.9000000000000001, 0.9299999999999999, 0.93, 0.9500000000000001, 0.96, 0.9600000000000001, 0.9600000000000001, 0.9700000000000001, 0.98, 1.05, 1.08, 1.12, 1.15, 1.1500000000000001, 1.1700000000000002, 1.1700000000000002, 1.1800000000000002, 1.24, 1.26, 1.27, 1.2800000000000002, 1.3199999999999998, 1.36, 1.42, 1.42, 1.51, 1.52, 1.54, 1.67, 1.67, 1.67, 1.69, 1.71, 1.81, 1.82, 1.9200000000000002, 2.09, 2.16, 2.3000000000000003, 2.38, 2.78, 2.9699999999999998, 3.0500000000000003, 3.07, 3.76, 3.8800000000000003]}, {\"name\": \"PSP\", \"type\": \"box\", \"y\": [0.01, 0.01, 0.01, 0.01, 0.01, 0.01, 0.02, 0.02, 0.02, 0.02, 0.02, 0.03, 0.03, 0.03, 0.03, 0.03, 0.03, 0.03, 0.03, 0.03, 0.03, 0.03, 0.03, 0.03, 0.03, 0.03, 0.04, 0.04, 0.04, 0.04, 0.04, 0.04, 0.04, 0.04, 0.04, 0.04, 0.04, 0.04, 0.05, 0.05, 0.05, 0.05, 0.05, 0.05, 0.05, 0.05, 0.05, 0.06, 0.06, 0.06, 0.06, 0.06, 0.06, 0.060000000000000005, 0.060000000000000005, 0.060000000000000005, 0.06999999999999999, 0.06999999999999999, 0.06999999999999999, 0.06999999999999999, 0.07, 0.07, 0.07, 0.07, 0.08, 0.08, 0.08, 0.08, 0.08, 0.08, 0.08, 0.08, 0.08, 0.08, 0.08, 0.08999999999999998, 0.09, 0.09, 0.09, 0.09, 0.09, 0.09, 0.09, 0.09, 0.09, 0.09, 0.09, 0.09, 0.09, 0.09, 0.09, 0.09999999999999999, 0.09999999999999999, 0.09999999999999999, 0.09999999999999999, 0.09999999999999999, 0.09999999999999999, 0.09999999999999999, 0.09999999999999999, 0.09999999999999999, 0.09999999999999999, 0.09999999999999999, 0.1, 0.1, 0.10999999999999999, 0.11, 0.11, 0.11, 0.11, 0.11, 0.11, 0.11, 0.11, 0.11, 0.11, 0.12, 0.12, 0.12, 0.12, 0.12, 0.12, 0.12, 0.12, 0.12000000000000001, 0.12000000000000001, 0.12000000000000001, 0.12000000000000001, 0.13, 0.13, 0.13, 0.13, 0.13, 0.14, 0.14, 0.14, 0.14, 0.14, 0.14, 0.14, 0.14, 0.15, 0.15, 0.15, 0.15, 0.15000000000000002, 0.15000000000000002, 0.15000000000000002, 0.15000000000000002, 0.15000000000000002, 0.15000000000000002, 0.15000000000000002, 0.15000000000000002, 0.16, 0.16, 0.16, 0.16, 0.16000000000000003, 0.16999999999999998, 0.16999999999999998, 0.16999999999999998, 0.17, 0.17, 0.17, 0.18, 0.18000000000000002, 0.18000000000000002, 0.19, 0.19, 0.19, 0.19, 0.19, 0.19, 0.19, 0.19999999999999998, 0.19999999999999998, 0.19999999999999998, 0.19999999999999998, 0.19999999999999998, 0.2, 0.21, 0.21, 0.21, 0.21, 0.21000000000000002, 0.21999999999999997, 0.22, 0.22, 0.22, 0.22, 0.22, 0.22, 0.22, 0.22000000000000003, 0.22999999999999998, 0.22999999999999998, 0.23, 0.23, 0.23, 0.24, 0.24, 0.24, 0.24000000000000002, 0.24000000000000002, 0.24000000000000002, 0.24999999999999997, 0.25, 0.25, 0.25, 0.26, 0.26, 0.26, 0.26, 0.27, 0.27, 0.27, 0.28, 0.28, 0.29000000000000004, 0.29000000000000004, 0.29000000000000004, 0.29000000000000004, 0.29000000000000004, 0.30000000000000004, 0.30000000000000004, 0.30000000000000004, 0.30000000000000004, 0.31, 0.31, 0.31000000000000005, 0.31000000000000005, 0.31000000000000005, 0.32, 0.32, 0.32, 0.32000000000000006, 0.32000000000000006, 0.33, 0.33, 0.33, 0.33000000000000007, 0.33000000000000007, 0.34, 0.35, 0.35, 0.35, 0.35, 0.35, 0.36, 0.36000000000000004, 0.37, 0.37, 0.37, 0.37, 0.37, 0.38, 0.39, 0.39, 0.41000000000000003, 0.42, 0.42000000000000004, 0.42000000000000004, 0.42000000000000004, 0.43, 0.43000000000000005, 0.44, 0.44000000000000006, 0.44999999999999996, 0.45, 0.45999999999999996, 0.45999999999999996, 0.45999999999999996, 0.46, 0.46, 0.48, 0.49, 0.5, 0.5, 0.51, 0.51, 0.51, 0.51, 0.5199999999999999, 0.52, 0.53, 0.53, 0.54, 0.54, 0.54, 0.55, 0.55, 0.55, 0.56, 0.56, 0.5700000000000001, 0.5800000000000001, 0.6, 0.6300000000000001, 0.64, 0.64, 0.65, 0.65, 0.67, 0.68, 0.6900000000000001, 0.6900000000000001, 0.6900000000000001, 0.7, 0.71, 0.71, 0.71, 0.74, 0.74, 0.7400000000000001, 0.75, 0.75, 0.75, 0.76, 0.76, 0.77, 0.77, 0.77, 0.78, 0.79, 0.79, 0.7999999999999999, 0.8, 0.8100000000000002, 0.82, 0.8200000000000001, 0.83, 0.86, 0.86, 0.87, 0.8700000000000001, 0.88, 0.8899999999999999, 0.92, 0.93, 0.95, 0.98, 0.98, 0.99, 1.0, 1.02, 1.04, 1.05, 1.07, 1.07, 1.07, 1.08, 1.0899999999999999, 1.1, 1.12, 1.1400000000000001, 1.15, 1.1600000000000001, 1.17, 1.19, 1.19, 1.2, 1.2, 1.2100000000000002, 1.23, 1.32, 1.34, 1.35, 1.35, 1.37, 1.3900000000000001, 1.4000000000000001, 1.42, 1.48, 1.6800000000000002, 1.96, 2.05, 2.0700000000000003, 2.08, 2.13, 2.23, 2.42, 2.54, 2.5700000000000003, 2.64, 3.1700000000000004, 3.18, 3.65]}, {\"name\": \"WiiU\", \"type\": \"box\", \"y\": [0.01, 0.01, 0.01, 0.01, 0.02, 0.02, 0.02, 0.03, 0.04, 0.06, 0.06999999999999999, 0.06999999999999999, 0.08, 0.09, 0.09, 0.09999999999999999, 0.09999999999999999, 0.11, 0.11, 0.11, 0.12, 0.12000000000000001, 0.12000000000000001, 0.13, 0.13, 0.14, 0.15000000000000002, 0.15000000000000002, 0.18000000000000002, 0.18999999999999997, 0.18999999999999997, 0.2, 0.22999999999999998, 0.23, 0.24, 0.27, 0.27, 0.29000000000000004, 0.31000000000000005, 0.31000000000000005, 0.35, 0.35, 0.35, 0.37, 0.37, 0.37, 0.37, 0.38, 0.39, 0.4, 0.41000000000000003, 0.42000000000000004, 0.42000000000000004, 0.44000000000000006, 0.48, 0.48000000000000004, 0.51, 0.52, 0.53, 0.5700000000000001, 0.5800000000000001, 0.5900000000000001, 0.6000000000000001, 0.6400000000000001, 0.6600000000000001, 0.7, 0.73, 0.74, 0.76, 0.84, 0.8400000000000001, 1.01, 1.01, 1.03, 1.1, 1.12, 1.1900000000000002, 1.23, 1.3, 1.5299999999999998, 1.58, 1.7500000000000002, 2.2300000000000004, 3.21]}, {\"name\": \"GC\", \"type\": \"box\", \"y\": [0.01, 0.01, 0.01, 0.01, 0.01, 0.01, 0.02, 0.02, 0.02, 0.02, 0.02, 0.03, 0.03, 0.03, 0.04, 0.04, 0.04, 0.04, 0.04, 0.04, 0.04, 0.05, 0.05, 0.05, 0.05, 0.05, 0.05, 0.05, 0.05, 0.05, 0.05, 0.05, 0.05, 0.05, 0.05, 0.05, 0.05, 0.05, 0.060000000000000005, 0.060000000000000005, 0.060000000000000005, 0.060000000000000005, 0.060000000000000005, 0.060000000000000005, 0.060000000000000005, 0.060000000000000005, 0.060000000000000005, 0.060000000000000005, 0.060000000000000005, 0.060000000000000005, 0.060000000000000005, 0.06999999999999999, 0.06999999999999999, 0.06999999999999999, 0.08, 0.08, 0.08, 0.08, 0.08, 0.08, 0.08, 0.08, 0.08, 0.08, 0.08, 0.08, 0.08, 0.08, 0.08, 0.08, 0.08, 0.08, 0.08, 0.08, 0.08, 0.08, 0.08, 0.08, 0.08, 0.09000000000000001, 0.09000000000000001, 0.09000000000000001, 0.09000000000000001, 0.09000000000000001, 0.09000000000000001, 0.09000000000000001, 0.09000000000000001, 0.09000000000000001, 0.1, 0.1, 0.1, 0.1, 0.1, 0.1, 0.1, 0.1, 0.1, 0.1, 0.1, 0.11, 0.11, 0.11, 0.11, 0.11, 0.11, 0.11, 0.11, 0.11, 0.11, 0.11, 0.11000000000000001, 0.12000000000000001, 0.13, 0.13, 0.13, 0.13, 0.13, 0.13, 0.13, 0.13, 0.13, 0.14, 0.14, 0.14, 0.14, 0.14, 0.14, 0.14, 0.14, 0.14, 0.14, 0.14, 0.14, 0.15, 0.15, 0.15, 0.15, 0.15, 0.15, 0.15, 0.15, 0.15, 0.15, 0.15, 0.15, 0.15, 0.15, 0.16, 0.16, 0.16, 0.16, 0.16, 0.16, 0.16, 0.16, 0.16, 0.16, 0.16, 0.16, 0.18000000000000002, 0.18000000000000002, 0.18000000000000002, 0.18000000000000002, 0.18000000000000002, 0.18000000000000002, 0.2, 0.2, 0.2, 0.2, 0.2, 0.2, 0.2, 0.2, 0.21000000000000002, 0.21000000000000002, 0.21000000000000002, 0.21000000000000002, 0.21000000000000002, 0.22000000000000003, 0.22000000000000003, 0.22000000000000003, 0.22000000000000003, 0.22000000000000003, 0.22000000000000003, 0.22000000000000003, 0.22000000000000003, 0.24, 0.24, 0.24, 0.25, 0.25, 0.25, 0.25, 0.25, 0.25, 0.25, 0.25, 0.25, 0.25, 0.25, 0.26, 0.26, 0.26, 0.26, 0.26, 0.27, 0.27, 0.27, 0.27, 0.28, 0.28, 0.29000000000000004, 0.29000000000000004, 0.29000000000000004, 0.30000000000000004, 0.30000000000000004, 0.31, 0.32, 0.33, 0.33, 0.33, 0.33, 0.34, 0.34, 0.34, 0.34, 0.34, 0.35000000000000003, 0.35000000000000003, 0.35000000000000003, 0.36000000000000004, 0.36000000000000004, 0.37, 0.37, 0.37, 0.38, 0.38, 0.38, 0.39, 0.39, 0.39, 0.4, 0.4, 0.4, 0.4, 0.4, 0.4, 0.4, 0.41000000000000003, 0.41000000000000003, 0.41000000000000003, 0.42000000000000004, 0.43000000000000005, 0.43000000000000005, 0.43000000000000005, 0.44000000000000006, 0.44000000000000006, 0.44000000000000006, 0.44999999999999996, 0.44999999999999996, 0.45999999999999996, 0.46, 0.4600000000000001, 0.48, 0.49, 0.49, 0.49, 0.5, 0.51, 0.53, 0.53, 0.54, 0.54, 0.56, 0.5700000000000001, 0.5700000000000001, 0.5900000000000001, 0.6000000000000001, 0.6000000000000001, 0.61, 0.62, 0.63, 0.66, 0.66, 0.6900000000000001, 0.6900000000000001, 0.6900000000000001, 0.6900000000000001, 0.7000000000000001, 0.7100000000000001, 0.7100000000000001, 0.7300000000000001, 0.78, 0.79, 0.79, 0.8, 0.81, 0.8300000000000001, 0.8400000000000001, 0.8400000000000001, 0.8899999999999999, 0.9199999999999999, 0.94, 0.95, 0.96, 0.97, 0.99, 1.03, 1.04, 1.08, 1.1, 1.1500000000000001, 1.18, 1.2, 1.21, 1.23, 1.24, 1.26, 1.33, 1.34, 1.46, 1.46, 1.5, 1.5000000000000002, 1.5200000000000002, 1.53, 1.56, 1.5899999999999999, 1.59, 1.5999999999999999, 1.61, 1.6300000000000001, 1.66, 1.68, 1.8800000000000001, 1.9000000000000001, 2.06, 2.0900000000000003, 2.25, 2.4799999999999995, 2.5499999999999994, 2.57, 2.82, 3.16, 3.61]}, {\"name\": \"GBA\", \"type\": \"box\", \"y\": [0.01, 0.01, 0.01, 0.01, 0.01, 0.01, 0.01, 0.01, 0.01, 0.03, 0.03, 0.03, 0.03, 0.03, 0.03, 0.03, 0.03, 0.03, 0.03, 0.03, 0.03, 0.03, 0.03, 0.03, 0.03, 0.03, 0.04, 0.04, 0.04, 0.04, 0.04, 0.05, 0.05, 0.05, 0.05, 0.05, 0.05, 0.06, 0.06, 0.06, 0.06, 0.06, 0.06, 0.07, 0.07, 0.07, 0.07, 0.07, 0.07, 0.07, 0.07, 0.08, 0.08, 0.08, 0.08, 0.08, 0.08, 0.08, 0.08, 0.08, 0.08, 0.08, 0.09000000000000001, 0.1, 0.1, 0.1, 0.1, 0.1, 0.1, 0.11, 0.11, 0.11, 0.11, 0.11, 0.11, 0.11, 0.11, 0.13, 0.13, 0.14, 0.14, 0.14, 0.14, 0.14, 0.14, 0.14, 0.14, 0.15, 0.15, 0.15, 0.15, 0.16, 0.16, 0.16999999999999998, 0.18, 0.19, 0.19, 0.19, 0.19, 0.19, 0.2, 0.2, 0.2, 0.21, 0.21, 0.21, 0.22, 0.22, 0.22, 0.22, 0.23, 0.23, 0.23, 0.25, 0.26, 0.26, 0.27, 0.27, 0.29000000000000004, 0.29000000000000004, 0.29000000000000004, 0.29000000000000004, 0.3, 0.3, 0.3, 0.31, 0.31, 0.31, 0.31, 0.31, 0.31, 0.33, 0.33999999999999997, 0.33999999999999997, 0.33999999999999997, 0.33999999999999997, 0.35, 0.35, 0.37, 0.39, 0.39, 0.39, 0.42, 0.42000000000000004, 0.43000000000000005, 0.44, 0.44, 0.45, 0.45, 0.46, 0.46, 0.46, 0.46, 0.48000000000000004, 0.49, 0.5, 0.5, 0.5, 0.52, 0.52, 0.52, 0.53, 0.55, 0.55, 0.56, 0.56, 0.56, 0.57, 0.57, 0.5900000000000001, 0.6, 0.6, 0.6, 0.61, 0.61, 0.61, 0.62, 0.64, 0.6499999999999999, 0.65, 0.65, 0.6799999999999999, 0.69, 0.6900000000000001, 0.7, 0.71, 0.72, 0.7300000000000001, 0.74, 0.75, 0.76, 0.77, 0.83, 0.83, 0.89, 0.89, 0.8999999999999999, 0.9400000000000001, 0.97, 0.99, 1.04, 1.06, 1.08, 1.09, 1.1300000000000001, 1.1600000000000001, 1.18, 1.1900000000000002, 1.2, 1.22, 1.2200000000000002, 1.29, 1.36, 1.4000000000000001, 1.42, 1.4300000000000002, 1.58, 1.68, 1.6900000000000002, 1.6900000000000002, 1.73, 1.77, 1.8, 1.85, 1.9900000000000002, 2.04, 2.13, 2.23, 2.25, 2.26, 2.27, 2.7, 2.9399999999999995]}, {\"name\": \"XOne\", \"type\": \"box\", \"y\": [0.01, 0.01, 0.01, 0.01, 0.01, 0.01, 0.01, 0.02, 0.02, 0.02, 0.02, 0.02, 0.03, 0.03, 0.03, 0.04, 0.04, 0.04, 0.04, 0.04, 0.04, 0.05, 0.05, 0.05, 0.06, 0.060000000000000005, 0.060000000000000005, 0.060000000000000005, 0.06999999999999999, 0.08, 0.09, 0.09999999999999999, 0.09999999999999999, 0.1, 0.10999999999999999, 0.11, 0.11, 0.12, 0.13, 0.13, 0.14, 0.14, 0.14, 0.14, 0.15000000000000002, 0.15000000000000002, 0.15000000000000002, 0.16, 0.16, 0.16000000000000003, 0.16999999999999998, 0.18, 0.18, 0.18, 0.19999999999999998, 0.19999999999999998, 0.19999999999999998, 0.21, 0.22, 0.22, 0.24, 0.24000000000000002, 0.24000000000000002, 0.24000000000000002, 0.24000000000000002, 0.24999999999999997, 0.26, 0.26, 0.27, 0.27, 0.28, 0.29000000000000004, 0.31000000000000005, 0.31999999999999995, 0.31999999999999995, 0.33999999999999997, 0.33999999999999997, 0.33999999999999997, 0.36, 0.41, 0.41, 0.42, 0.43, 0.44, 0.44999999999999996, 0.45999999999999996, 0.47, 0.4799999999999999, 0.48, 0.49999999999999994, 0.53, 0.53, 0.55, 0.56, 0.5700000000000001, 0.5700000000000001, 0.5900000000000001, 0.6000000000000001, 0.6200000000000001, 0.6300000000000001, 0.6400000000000001, 0.6599999999999999, 0.6599999999999999, 0.6799999999999999, 0.6800000000000002, 0.7, 0.75, 0.79, 0.8, 0.88, 0.8999999999999999, 0.91, 0.93, 1.03, 1.06, 1.08, 1.1300000000000001, 1.1600000000000001, 1.2000000000000002, 1.21, 1.23, 1.2800000000000002, 1.29, 1.2900000000000003, 1.3, 1.3399999999999999, 1.3399999999999999, 1.3599999999999999, 1.38, 1.3800000000000001, 1.3900000000000001, 1.4000000000000001, 1.4900000000000002, 1.56, 1.57, 1.5700000000000003, 1.6400000000000001, 1.73, 1.7999999999999998, 2.02, 2.1700000000000004, 2.18, 2.1999999999999997, 2.25, 2.34, 2.42, 2.4200000000000004, 2.65, 2.92, 2.95, 3.23, 3.25, 3.28, 3.37, 3.5]}, {\"name\": \"PS\", \"type\": \"box\", \"y\": [0.02, 0.05, 0.05, 0.09, 0.09, 0.11, 0.11, 0.13, 0.13, 0.15000000000000002, 0.15000000000000002, 0.18000000000000002, 0.18000000000000002, 0.26, 0.27, 0.31000000000000005, 0.36000000000000004, 0.41000000000000003, 0.42000000000000004, 0.43000000000000005, 0.43000000000000005, 0.51, 0.52, 0.52, 0.54, 0.56, 0.66, 0.7200000000000001, 0.79, 0.8700000000000001, 0.8800000000000001, 1.4000000000000001, 1.55, 1.6700000000000002, 3.7300000000000004]}, {\"name\": \"PSV\", \"type\": \"box\", \"y\": [0.01, 0.01, 0.01, 0.02, 0.02, 0.02, 0.03, 0.03, 0.03, 0.04, 0.05, 0.05, 0.06, 0.06, 0.060000000000000005, 0.060000000000000005, 0.06999999999999999, 0.06999999999999999, 0.06999999999999999, 0.06999999999999999, 0.06999999999999999, 0.06999999999999999, 0.07, 0.08, 0.08, 0.09, 0.09, 0.09000000000000001, 0.09000000000000001, 0.09999999999999999, 0.1, 0.1, 0.11, 0.11, 0.11, 0.11, 0.11, 0.11, 0.11, 0.11, 0.12000000000000001, 0.12000000000000001, 0.12000000000000001, 0.12000000000000001, 0.12000000000000001, 0.13, 0.13, 0.13, 0.13, 0.13, 0.14, 0.14, 0.15, 0.15000000000000002, 0.16, 0.16999999999999998, 0.17, 0.17, 0.17, 0.17, 0.17, 0.17, 0.18, 0.18, 0.18000000000000002, 0.18000000000000002, 0.19, 0.19, 0.19000000000000003, 0.2, 0.21, 0.21, 0.21000000000000002, 0.22, 0.22, 0.22000000000000003, 0.23, 0.23, 0.23, 0.24, 0.25, 0.25, 0.27999999999999997, 0.28, 0.29, 0.3, 0.3, 0.30000000000000004, 0.32, 0.33, 0.33, 0.33, 0.35000000000000003, 0.35000000000000003, 0.36, 0.36, 0.4, 0.41, 0.43000000000000005, 0.44, 0.44999999999999996, 0.49, 0.51, 0.54, 0.5499999999999999, 0.56, 0.58, 0.6200000000000001, 0.64, 0.65, 0.65, 0.8, 0.8000000000000002, 1.1199999999999999, 1.25, 1.31, 1.47, 1.5399999999999998]}, {\"name\": \"DC\", \"type\": \"box\", \"y\": [0.07, 0.12, 0.15, 0.19]}],\n",
       "                        {\"template\": {\"data\": {\"bar\": [{\"error_x\": {\"color\": \"#2a3f5f\"}, \"error_y\": {\"color\": \"#2a3f5f\"}, \"marker\": {\"line\": {\"color\": \"#E5ECF6\", \"width\": 0.5}}, \"type\": \"bar\"}], \"barpolar\": [{\"marker\": {\"line\": {\"color\": \"#E5ECF6\", \"width\": 0.5}}, \"type\": \"barpolar\"}], \"carpet\": [{\"aaxis\": {\"endlinecolor\": \"#2a3f5f\", \"gridcolor\": \"white\", \"linecolor\": \"white\", \"minorgridcolor\": \"white\", \"startlinecolor\": \"#2a3f5f\"}, \"baxis\": {\"endlinecolor\": \"#2a3f5f\", \"gridcolor\": \"white\", \"linecolor\": \"white\", \"minorgridcolor\": \"white\", \"startlinecolor\": \"#2a3f5f\"}, \"type\": \"carpet\"}], \"choropleth\": [{\"colorbar\": {\"outlinewidth\": 0, \"ticks\": \"\"}, \"type\": \"choropleth\"}], \"contour\": [{\"colorbar\": {\"outlinewidth\": 0, \"ticks\": \"\"}, \"colorscale\": [[0.0, \"#0d0887\"], [0.1111111111111111, \"#46039f\"], [0.2222222222222222, \"#7201a8\"], [0.3333333333333333, \"#9c179e\"], [0.4444444444444444, \"#bd3786\"], [0.5555555555555556, \"#d8576b\"], [0.6666666666666666, \"#ed7953\"], [0.7777777777777778, \"#fb9f3a\"], [0.8888888888888888, \"#fdca26\"], [1.0, \"#f0f921\"]], \"type\": \"contour\"}], \"contourcarpet\": [{\"colorbar\": {\"outlinewidth\": 0, \"ticks\": \"\"}, \"type\": \"contourcarpet\"}], \"heatmap\": [{\"colorbar\": {\"outlinewidth\": 0, \"ticks\": \"\"}, \"colorscale\": [[0.0, \"#0d0887\"], [0.1111111111111111, \"#46039f\"], [0.2222222222222222, \"#7201a8\"], [0.3333333333333333, \"#9c179e\"], [0.4444444444444444, \"#bd3786\"], [0.5555555555555556, \"#d8576b\"], [0.6666666666666666, \"#ed7953\"], [0.7777777777777778, \"#fb9f3a\"], [0.8888888888888888, \"#fdca26\"], [1.0, \"#f0f921\"]], \"type\": \"heatmap\"}], \"heatmapgl\": [{\"colorbar\": {\"outlinewidth\": 0, \"ticks\": \"\"}, \"colorscale\": [[0.0, \"#0d0887\"], [0.1111111111111111, \"#46039f\"], [0.2222222222222222, \"#7201a8\"], [0.3333333333333333, \"#9c179e\"], [0.4444444444444444, \"#bd3786\"], [0.5555555555555556, \"#d8576b\"], [0.6666666666666666, \"#ed7953\"], [0.7777777777777778, \"#fb9f3a\"], [0.8888888888888888, \"#fdca26\"], [1.0, \"#f0f921\"]], \"type\": \"heatmapgl\"}], \"histogram\": [{\"marker\": {\"colorbar\": {\"outlinewidth\": 0, \"ticks\": \"\"}}, \"type\": \"histogram\"}], \"histogram2d\": [{\"colorbar\": {\"outlinewidth\": 0, \"ticks\": \"\"}, \"colorscale\": [[0.0, \"#0d0887\"], [0.1111111111111111, \"#46039f\"], [0.2222222222222222, \"#7201a8\"], [0.3333333333333333, \"#9c179e\"], [0.4444444444444444, \"#bd3786\"], [0.5555555555555556, \"#d8576b\"], [0.6666666666666666, \"#ed7953\"], [0.7777777777777778, \"#fb9f3a\"], [0.8888888888888888, \"#fdca26\"], [1.0, \"#f0f921\"]], \"type\": \"histogram2d\"}], \"histogram2dcontour\": [{\"colorbar\": {\"outlinewidth\": 0, \"ticks\": \"\"}, \"colorscale\": [[0.0, \"#0d0887\"], [0.1111111111111111, \"#46039f\"], [0.2222222222222222, \"#7201a8\"], [0.3333333333333333, \"#9c179e\"], [0.4444444444444444, \"#bd3786\"], [0.5555555555555556, \"#d8576b\"], [0.6666666666666666, \"#ed7953\"], [0.7777777777777778, \"#fb9f3a\"], [0.8888888888888888, \"#fdca26\"], [1.0, \"#f0f921\"]], \"type\": \"histogram2dcontour\"}], \"mesh3d\": [{\"colorbar\": {\"outlinewidth\": 0, \"ticks\": \"\"}, \"type\": \"mesh3d\"}], \"parcoords\": [{\"line\": {\"colorbar\": {\"outlinewidth\": 0, \"ticks\": \"\"}}, \"type\": \"parcoords\"}], \"scatter\": [{\"marker\": {\"colorbar\": {\"outlinewidth\": 0, \"ticks\": \"\"}}, \"type\": \"scatter\"}], \"scatter3d\": [{\"line\": {\"colorbar\": {\"outlinewidth\": 0, \"ticks\": \"\"}}, \"marker\": {\"colorbar\": {\"outlinewidth\": 0, \"ticks\": \"\"}}, \"type\": \"scatter3d\"}], \"scattercarpet\": [{\"marker\": {\"colorbar\": {\"outlinewidth\": 0, \"ticks\": \"\"}}, \"type\": \"scattercarpet\"}], \"scattergeo\": [{\"marker\": {\"colorbar\": {\"outlinewidth\": 0, \"ticks\": \"\"}}, \"type\": \"scattergeo\"}], \"scattergl\": [{\"marker\": {\"colorbar\": {\"outlinewidth\": 0, \"ticks\": \"\"}}, \"type\": \"scattergl\"}], \"scattermapbox\": [{\"marker\": {\"colorbar\": {\"outlinewidth\": 0, \"ticks\": \"\"}}, \"type\": \"scattermapbox\"}], \"scatterpolar\": [{\"marker\": {\"colorbar\": {\"outlinewidth\": 0, \"ticks\": \"\"}}, \"type\": \"scatterpolar\"}], \"scatterpolargl\": [{\"marker\": {\"colorbar\": {\"outlinewidth\": 0, \"ticks\": \"\"}}, \"type\": \"scatterpolargl\"}], \"scatterternary\": [{\"marker\": {\"colorbar\": {\"outlinewidth\": 0, \"ticks\": \"\"}}, \"type\": \"scatterternary\"}], \"surface\": [{\"colorbar\": {\"outlinewidth\": 0, \"ticks\": \"\"}, \"colorscale\": [[0.0, \"#0d0887\"], [0.1111111111111111, \"#46039f\"], [0.2222222222222222, \"#7201a8\"], [0.3333333333333333, \"#9c179e\"], [0.4444444444444444, \"#bd3786\"], [0.5555555555555556, \"#d8576b\"], [0.6666666666666666, \"#ed7953\"], [0.7777777777777778, \"#fb9f3a\"], [0.8888888888888888, \"#fdca26\"], [1.0, \"#f0f921\"]], \"type\": \"surface\"}], \"table\": [{\"cells\": {\"fill\": {\"color\": \"#EBF0F8\"}, \"line\": {\"color\": \"white\"}}, \"header\": {\"fill\": {\"color\": \"#C8D4E3\"}, \"line\": {\"color\": \"white\"}}, \"type\": \"table\"}]}, \"layout\": {\"annotationdefaults\": {\"arrowcolor\": \"#2a3f5f\", \"arrowhead\": 0, \"arrowwidth\": 1}, \"colorscale\": {\"diverging\": [[0, \"#8e0152\"], [0.1, \"#c51b7d\"], [0.2, \"#de77ae\"], [0.3, \"#f1b6da\"], [0.4, \"#fde0ef\"], [0.5, \"#f7f7f7\"], [0.6, \"#e6f5d0\"], [0.7, \"#b8e186\"], [0.8, \"#7fbc41\"], [0.9, \"#4d9221\"], [1, \"#276419\"]], \"sequential\": [[0.0, \"#0d0887\"], [0.1111111111111111, \"#46039f\"], [0.2222222222222222, \"#7201a8\"], [0.3333333333333333, \"#9c179e\"], [0.4444444444444444, \"#bd3786\"], [0.5555555555555556, \"#d8576b\"], [0.6666666666666666, \"#ed7953\"], [0.7777777777777778, \"#fb9f3a\"], [0.8888888888888888, \"#fdca26\"], [1.0, \"#f0f921\"]], \"sequentialminus\": [[0.0, \"#0d0887\"], [0.1111111111111111, \"#46039f\"], [0.2222222222222222, \"#7201a8\"], [0.3333333333333333, \"#9c179e\"], [0.4444444444444444, \"#bd3786\"], [0.5555555555555556, \"#d8576b\"], [0.6666666666666666, \"#ed7953\"], [0.7777777777777778, \"#fb9f3a\"], [0.8888888888888888, \"#fdca26\"], [1.0, \"#f0f921\"]]}, \"colorway\": [\"#636efa\", \"#EF553B\", \"#00cc96\", \"#ab63fa\", \"#FFA15A\", \"#19d3f3\", \"#FF6692\", \"#B6E880\", \"#FF97FF\", \"#FECB52\"], \"font\": {\"color\": \"#2a3f5f\"}, \"geo\": {\"bgcolor\": \"white\", \"lakecolor\": \"white\", \"landcolor\": \"#E5ECF6\", \"showlakes\": true, \"showland\": true, \"subunitcolor\": \"white\"}, \"hoverlabel\": {\"align\": \"left\"}, \"hovermode\": \"closest\", \"mapbox\": {\"style\": \"light\"}, \"paper_bgcolor\": \"white\", \"plot_bgcolor\": \"#E5ECF6\", \"polar\": {\"angularaxis\": {\"gridcolor\": \"white\", \"linecolor\": \"white\", \"ticks\": \"\"}, \"bgcolor\": \"#E5ECF6\", \"radialaxis\": {\"gridcolor\": \"white\", \"linecolor\": \"white\", \"ticks\": \"\"}}, \"scene\": {\"xaxis\": {\"backgroundcolor\": \"#E5ECF6\", \"gridcolor\": \"white\", \"gridwidth\": 2, \"linecolor\": \"white\", \"showbackground\": true, \"ticks\": \"\", \"zerolinecolor\": \"white\"}, \"yaxis\": {\"backgroundcolor\": \"#E5ECF6\", \"gridcolor\": \"white\", \"gridwidth\": 2, \"linecolor\": \"white\", \"showbackground\": true, \"ticks\": \"\", \"zerolinecolor\": \"white\"}, \"zaxis\": {\"backgroundcolor\": \"#E5ECF6\", \"gridcolor\": \"white\", \"gridwidth\": 2, \"linecolor\": \"white\", \"showbackground\": true, \"ticks\": \"\", \"zerolinecolor\": \"white\"}}, \"shapedefaults\": {\"line\": {\"color\": \"#2a3f5f\"}}, \"ternary\": {\"aaxis\": {\"gridcolor\": \"white\", \"linecolor\": \"white\", \"ticks\": \"\"}, \"baxis\": {\"gridcolor\": \"white\", \"linecolor\": \"white\", \"ticks\": \"\"}, \"bgcolor\": \"#E5ECF6\", \"caxis\": {\"gridcolor\": \"white\", \"linecolor\": \"white\", \"ticks\": \"\"}}, \"title\": {\"x\": 0.05}, \"xaxis\": {\"automargin\": true, \"gridcolor\": \"white\", \"linecolor\": \"white\", \"ticks\": \"\", \"zerolinecolor\": \"white\", \"zerolinewidth\": 2}, \"yaxis\": {\"automargin\": true, \"gridcolor\": \"white\", \"linecolor\": \"white\", \"ticks\": \"\", \"zerolinecolor\": \"white\", \"zerolinewidth\": 2}}}},\n",
       "                        {\"responsive\": true}\n",
       "                    ).then(function(){\n",
       "                            \n",
       "var gd = document.getElementById('1b339a8f-82be-4cd8-9447-939423225008');\n",
       "var x = new MutationObserver(function (mutations, observer) {{\n",
       "        var display = window.getComputedStyle(gd).display;\n",
       "        if (!display || display === 'none') {{\n",
       "            console.log([gd, 'removed!']);\n",
       "            Plotly.purge(gd);\n",
       "            observer.disconnect();\n",
       "        }}\n",
       "}});\n",
       "\n",
       "// Listen for the removal of the full notebook cells\n",
       "var notebookContainer = gd.closest('#notebook-container');\n",
       "if (notebookContainer) {{\n",
       "    x.observe(notebookContainer, {childList: true});\n",
       "}}\n",
       "\n",
       "// Listen for the clearing of the current output cell\n",
       "var outputEl = gd.closest('.output');\n",
       "if (outputEl) {{\n",
       "    x.observe(outputEl, {childList: true});\n",
       "}}\n",
       "\n",
       "                        })\n",
       "                };\n",
       "                });\n",
       "            </script>\n",
       "        </div>"
      ]
     },
     "metadata": {},
     "output_type": "display_data"
    }
   ],
   "source": [
    "#Обрезаю выбросы\n",
    "data_corr = data.query('world_sales < 4').sort_values(by='world_sales')\n",
    "\n",
    "# создаем ящик с усами для каждой платформы из наших данных\n",
    "data_box = []\n",
    "for platform in data.platform.unique():\n",
    "    data_box.append(go.Box(y=data_corr[data_corr.platform==platform].world_sales, name=platform))\n",
    "\n",
    "# визуализируем данные\n",
    "iplot(data_box, show_link = False)"
   ]
  },
  {
   "cell_type": "markdown",
   "metadata": {},
   "source": [
    "<font color='blue'> Медианна продаж выше всего у платформы PS3, меньше всего приносят игры выпущенные на PC и DC."
   ]
  },
  {
   "cell_type": "code",
   "execution_count": 18,
   "metadata": {},
   "outputs": [
    {
     "data": {
      "application/vnd.plotly.v1+json": {
       "config": {
        "plotlyServerURL": "https://plot.ly"
       },
       "data": [
        {
         "name": "PS2",
         "type": "scatter",
         "x": [
          2001,
          2002,
          2003,
          2004,
          2005,
          2006,
          2007,
          2008,
          2009,
          2010,
          2011,
          2012,
          2013,
          2014,
          2015,
          2016
         ],
         "y": [
          145.96000000000004,
          169.98999999999987,
          144.26999999999998,
          188.3399999999999,
          117.69999999999999,
          75.97999999999992,
          48.07999999999999,
          21.149999999999995,
          4.45,
          0.59,
          null,
          null,
          null,
          null,
          null,
          null
         ]
        },
        {
         "name": "X360",
         "type": "scatter",
         "x": [
          2001,
          2002,
          2003,
          2004,
          2005,
          2006,
          2007,
          2008,
          2009,
          2010,
          2011,
          2012,
          2013,
          2014,
          2015,
          2016
         ],
         "y": [
          null,
          null,
          null,
          null,
          7.6400000000000015,
          48.919999999999995,
          89.39,
          129.16000000000005,
          110.67000000000006,
          157.35999999999996,
          129.50000000000006,
          95.68000000000006,
          74.82000000000005,
          10.100000000000001,
          null,
          null
         ]
        },
        {
         "name": "PS3",
         "type": "scatter",
         "x": [
          2001,
          2002,
          2003,
          2004,
          2005,
          2006,
          2007,
          2008,
          2009,
          2010,
          2011,
          2012,
          2013,
          2014,
          2015,
          2016
         ],
         "y": [
          null,
          null,
          null,
          null,
          null,
          19.619999999999997,
          68.52000000000002,
          109.86,
          118.45999999999998,
          125.25000000000006,
          134.86999999999983,
          94.29999999999997,
          102.20999999999998,
          11.339999999999998,
          0.02,
          null
         ]
        },
        {
         "name": "Wii",
         "type": "scatter",
         "x": [
          2001,
          2002,
          2003,
          2004,
          2005,
          2006,
          2007,
          2008,
          2009,
          2010,
          2011,
          2012,
          2013,
          2014,
          2015,
          2016
         ],
         "y": [
          null,
          null,
          null,
          null,
          null,
          135.01999999999992,
          127.31000000000004,
          130.9900000000001,
          151.01000000000002,
          67.92,
          33.489999999999995,
          13.23,
          null,
          null,
          null,
          null
         ]
        },
        {
         "name": "DS",
         "type": "scatter",
         "x": [
          2001,
          2002,
          2003,
          2004,
          2005,
          2006,
          2007,
          2008,
          2009,
          2010,
          2011,
          2012,
          2013,
          2014,
          2015,
          2016
         ],
         "y": [
          null,
          null,
          null,
          3.38,
          96.03000000000003,
          72.56,
          77.47000000000006,
          62.69,
          39.419999999999995,
          25.289999999999996,
          4.36,
          1.02,
          null,
          null,
          null,
          null
         ]
        },
        {
         "name": "PS4",
         "type": "scatter",
         "x": [
          2001,
          2002,
          2003,
          2004,
          2005,
          2006,
          2007,
          2008,
          2009,
          2010,
          2011,
          2012,
          2013,
          2014,
          2015,
          2016
         ],
         "y": [
          null,
          null,
          null,
          null,
          null,
          null,
          null,
          null,
          null,
          null,
          null,
          null,
          25.07,
          80.75999999999995,
          80.01000000000003,
          57.16000000000003
         ]
        },
        {
         "name": "XOne",
         "type": "scatter",
         "x": [
          2001,
          2002,
          2003,
          2004,
          2005,
          2006,
          2007,
          2008,
          2009,
          2010,
          2011,
          2012,
          2013,
          2014,
          2015,
          2016
         ],
         "y": [
          null,
          null,
          null,
          null,
          null,
          null,
          null,
          null,
          null,
          null,
          null,
          null,
          14.919999999999998,
          47.010000000000005,
          44.26,
          23.289999999999996
         ]
        },
        {
         "name": "WiiU",
         "type": "scatter",
         "x": [
          2001,
          2002,
          2003,
          2004,
          2005,
          2006,
          2007,
          2008,
          2009,
          2010,
          2011,
          2012,
          2013,
          2014,
          2015,
          2016
         ],
         "y": [
          null,
          null,
          null,
          null,
          null,
          null,
          null,
          null,
          null,
          null,
          null,
          14.849999999999998,
          17.400000000000002,
          15.22,
          15.349999999999998,
          3.26
         ]
        }
       ],
       "layout": {
        "template": {
         "data": {
          "bar": [
           {
            "error_x": {
             "color": "#2a3f5f"
            },
            "error_y": {
             "color": "#2a3f5f"
            },
            "marker": {
             "line": {
              "color": "#E5ECF6",
              "width": 0.5
             }
            },
            "type": "bar"
           }
          ],
          "barpolar": [
           {
            "marker": {
             "line": {
              "color": "#E5ECF6",
              "width": 0.5
             }
            },
            "type": "barpolar"
           }
          ],
          "carpet": [
           {
            "aaxis": {
             "endlinecolor": "#2a3f5f",
             "gridcolor": "white",
             "linecolor": "white",
             "minorgridcolor": "white",
             "startlinecolor": "#2a3f5f"
            },
            "baxis": {
             "endlinecolor": "#2a3f5f",
             "gridcolor": "white",
             "linecolor": "white",
             "minorgridcolor": "white",
             "startlinecolor": "#2a3f5f"
            },
            "type": "carpet"
           }
          ],
          "choropleth": [
           {
            "colorbar": {
             "outlinewidth": 0,
             "ticks": ""
            },
            "type": "choropleth"
           }
          ],
          "contour": [
           {
            "colorbar": {
             "outlinewidth": 0,
             "ticks": ""
            },
            "colorscale": [
             [
              0,
              "#0d0887"
             ],
             [
              0.1111111111111111,
              "#46039f"
             ],
             [
              0.2222222222222222,
              "#7201a8"
             ],
             [
              0.3333333333333333,
              "#9c179e"
             ],
             [
              0.4444444444444444,
              "#bd3786"
             ],
             [
              0.5555555555555556,
              "#d8576b"
             ],
             [
              0.6666666666666666,
              "#ed7953"
             ],
             [
              0.7777777777777778,
              "#fb9f3a"
             ],
             [
              0.8888888888888888,
              "#fdca26"
             ],
             [
              1,
              "#f0f921"
             ]
            ],
            "type": "contour"
           }
          ],
          "contourcarpet": [
           {
            "colorbar": {
             "outlinewidth": 0,
             "ticks": ""
            },
            "type": "contourcarpet"
           }
          ],
          "heatmap": [
           {
            "colorbar": {
             "outlinewidth": 0,
             "ticks": ""
            },
            "colorscale": [
             [
              0,
              "#0d0887"
             ],
             [
              0.1111111111111111,
              "#46039f"
             ],
             [
              0.2222222222222222,
              "#7201a8"
             ],
             [
              0.3333333333333333,
              "#9c179e"
             ],
             [
              0.4444444444444444,
              "#bd3786"
             ],
             [
              0.5555555555555556,
              "#d8576b"
             ],
             [
              0.6666666666666666,
              "#ed7953"
             ],
             [
              0.7777777777777778,
              "#fb9f3a"
             ],
             [
              0.8888888888888888,
              "#fdca26"
             ],
             [
              1,
              "#f0f921"
             ]
            ],
            "type": "heatmap"
           }
          ],
          "heatmapgl": [
           {
            "colorbar": {
             "outlinewidth": 0,
             "ticks": ""
            },
            "colorscale": [
             [
              0,
              "#0d0887"
             ],
             [
              0.1111111111111111,
              "#46039f"
             ],
             [
              0.2222222222222222,
              "#7201a8"
             ],
             [
              0.3333333333333333,
              "#9c179e"
             ],
             [
              0.4444444444444444,
              "#bd3786"
             ],
             [
              0.5555555555555556,
              "#d8576b"
             ],
             [
              0.6666666666666666,
              "#ed7953"
             ],
             [
              0.7777777777777778,
              "#fb9f3a"
             ],
             [
              0.8888888888888888,
              "#fdca26"
             ],
             [
              1,
              "#f0f921"
             ]
            ],
            "type": "heatmapgl"
           }
          ],
          "histogram": [
           {
            "marker": {
             "colorbar": {
              "outlinewidth": 0,
              "ticks": ""
             }
            },
            "type": "histogram"
           }
          ],
          "histogram2d": [
           {
            "colorbar": {
             "outlinewidth": 0,
             "ticks": ""
            },
            "colorscale": [
             [
              0,
              "#0d0887"
             ],
             [
              0.1111111111111111,
              "#46039f"
             ],
             [
              0.2222222222222222,
              "#7201a8"
             ],
             [
              0.3333333333333333,
              "#9c179e"
             ],
             [
              0.4444444444444444,
              "#bd3786"
             ],
             [
              0.5555555555555556,
              "#d8576b"
             ],
             [
              0.6666666666666666,
              "#ed7953"
             ],
             [
              0.7777777777777778,
              "#fb9f3a"
             ],
             [
              0.8888888888888888,
              "#fdca26"
             ],
             [
              1,
              "#f0f921"
             ]
            ],
            "type": "histogram2d"
           }
          ],
          "histogram2dcontour": [
           {
            "colorbar": {
             "outlinewidth": 0,
             "ticks": ""
            },
            "colorscale": [
             [
              0,
              "#0d0887"
             ],
             [
              0.1111111111111111,
              "#46039f"
             ],
             [
              0.2222222222222222,
              "#7201a8"
             ],
             [
              0.3333333333333333,
              "#9c179e"
             ],
             [
              0.4444444444444444,
              "#bd3786"
             ],
             [
              0.5555555555555556,
              "#d8576b"
             ],
             [
              0.6666666666666666,
              "#ed7953"
             ],
             [
              0.7777777777777778,
              "#fb9f3a"
             ],
             [
              0.8888888888888888,
              "#fdca26"
             ],
             [
              1,
              "#f0f921"
             ]
            ],
            "type": "histogram2dcontour"
           }
          ],
          "mesh3d": [
           {
            "colorbar": {
             "outlinewidth": 0,
             "ticks": ""
            },
            "type": "mesh3d"
           }
          ],
          "parcoords": [
           {
            "line": {
             "colorbar": {
              "outlinewidth": 0,
              "ticks": ""
             }
            },
            "type": "parcoords"
           }
          ],
          "scatter": [
           {
            "marker": {
             "colorbar": {
              "outlinewidth": 0,
              "ticks": ""
             }
            },
            "type": "scatter"
           }
          ],
          "scatter3d": [
           {
            "line": {
             "colorbar": {
              "outlinewidth": 0,
              "ticks": ""
             }
            },
            "marker": {
             "colorbar": {
              "outlinewidth": 0,
              "ticks": ""
             }
            },
            "type": "scatter3d"
           }
          ],
          "scattercarpet": [
           {
            "marker": {
             "colorbar": {
              "outlinewidth": 0,
              "ticks": ""
             }
            },
            "type": "scattercarpet"
           }
          ],
          "scattergeo": [
           {
            "marker": {
             "colorbar": {
              "outlinewidth": 0,
              "ticks": ""
             }
            },
            "type": "scattergeo"
           }
          ],
          "scattergl": [
           {
            "marker": {
             "colorbar": {
              "outlinewidth": 0,
              "ticks": ""
             }
            },
            "type": "scattergl"
           }
          ],
          "scattermapbox": [
           {
            "marker": {
             "colorbar": {
              "outlinewidth": 0,
              "ticks": ""
             }
            },
            "type": "scattermapbox"
           }
          ],
          "scatterpolar": [
           {
            "marker": {
             "colorbar": {
              "outlinewidth": 0,
              "ticks": ""
             }
            },
            "type": "scatterpolar"
           }
          ],
          "scatterpolargl": [
           {
            "marker": {
             "colorbar": {
              "outlinewidth": 0,
              "ticks": ""
             }
            },
            "type": "scatterpolargl"
           }
          ],
          "scatterternary": [
           {
            "marker": {
             "colorbar": {
              "outlinewidth": 0,
              "ticks": ""
             }
            },
            "type": "scatterternary"
           }
          ],
          "surface": [
           {
            "colorbar": {
             "outlinewidth": 0,
             "ticks": ""
            },
            "colorscale": [
             [
              0,
              "#0d0887"
             ],
             [
              0.1111111111111111,
              "#46039f"
             ],
             [
              0.2222222222222222,
              "#7201a8"
             ],
             [
              0.3333333333333333,
              "#9c179e"
             ],
             [
              0.4444444444444444,
              "#bd3786"
             ],
             [
              0.5555555555555556,
              "#d8576b"
             ],
             [
              0.6666666666666666,
              "#ed7953"
             ],
             [
              0.7777777777777778,
              "#fb9f3a"
             ],
             [
              0.8888888888888888,
              "#fdca26"
             ],
             [
              1,
              "#f0f921"
             ]
            ],
            "type": "surface"
           }
          ],
          "table": [
           {
            "cells": {
             "fill": {
              "color": "#EBF0F8"
             },
             "line": {
              "color": "white"
             }
            },
            "header": {
             "fill": {
              "color": "#C8D4E3"
             },
             "line": {
              "color": "white"
             }
            },
            "type": "table"
           }
          ]
         },
         "layout": {
          "annotationdefaults": {
           "arrowcolor": "#2a3f5f",
           "arrowhead": 0,
           "arrowwidth": 1
          },
          "colorscale": {
           "diverging": [
            [
             0,
             "#8e0152"
            ],
            [
             0.1,
             "#c51b7d"
            ],
            [
             0.2,
             "#de77ae"
            ],
            [
             0.3,
             "#f1b6da"
            ],
            [
             0.4,
             "#fde0ef"
            ],
            [
             0.5,
             "#f7f7f7"
            ],
            [
             0.6,
             "#e6f5d0"
            ],
            [
             0.7,
             "#b8e186"
            ],
            [
             0.8,
             "#7fbc41"
            ],
            [
             0.9,
             "#4d9221"
            ],
            [
             1,
             "#276419"
            ]
           ],
           "sequential": [
            [
             0,
             "#0d0887"
            ],
            [
             0.1111111111111111,
             "#46039f"
            ],
            [
             0.2222222222222222,
             "#7201a8"
            ],
            [
             0.3333333333333333,
             "#9c179e"
            ],
            [
             0.4444444444444444,
             "#bd3786"
            ],
            [
             0.5555555555555556,
             "#d8576b"
            ],
            [
             0.6666666666666666,
             "#ed7953"
            ],
            [
             0.7777777777777778,
             "#fb9f3a"
            ],
            [
             0.8888888888888888,
             "#fdca26"
            ],
            [
             1,
             "#f0f921"
            ]
           ],
           "sequentialminus": [
            [
             0,
             "#0d0887"
            ],
            [
             0.1111111111111111,
             "#46039f"
            ],
            [
             0.2222222222222222,
             "#7201a8"
            ],
            [
             0.3333333333333333,
             "#9c179e"
            ],
            [
             0.4444444444444444,
             "#bd3786"
            ],
            [
             0.5555555555555556,
             "#d8576b"
            ],
            [
             0.6666666666666666,
             "#ed7953"
            ],
            [
             0.7777777777777778,
             "#fb9f3a"
            ],
            [
             0.8888888888888888,
             "#fdca26"
            ],
            [
             1,
             "#f0f921"
            ]
           ]
          },
          "colorway": [
           "#636efa",
           "#EF553B",
           "#00cc96",
           "#ab63fa",
           "#FFA15A",
           "#19d3f3",
           "#FF6692",
           "#B6E880",
           "#FF97FF",
           "#FECB52"
          ],
          "font": {
           "color": "#2a3f5f"
          },
          "geo": {
           "bgcolor": "white",
           "lakecolor": "white",
           "landcolor": "#E5ECF6",
           "showlakes": true,
           "showland": true,
           "subunitcolor": "white"
          },
          "hoverlabel": {
           "align": "left"
          },
          "hovermode": "closest",
          "mapbox": {
           "style": "light"
          },
          "paper_bgcolor": "white",
          "plot_bgcolor": "#E5ECF6",
          "polar": {
           "angularaxis": {
            "gridcolor": "white",
            "linecolor": "white",
            "ticks": ""
           },
           "bgcolor": "#E5ECF6",
           "radialaxis": {
            "gridcolor": "white",
            "linecolor": "white",
            "ticks": ""
           }
          },
          "scene": {
           "xaxis": {
            "backgroundcolor": "#E5ECF6",
            "gridcolor": "white",
            "gridwidth": 2,
            "linecolor": "white",
            "showbackground": true,
            "ticks": "",
            "zerolinecolor": "white"
           },
           "yaxis": {
            "backgroundcolor": "#E5ECF6",
            "gridcolor": "white",
            "gridwidth": 2,
            "linecolor": "white",
            "showbackground": true,
            "ticks": "",
            "zerolinecolor": "white"
           },
           "zaxis": {
            "backgroundcolor": "#E5ECF6",
            "gridcolor": "white",
            "gridwidth": 2,
            "linecolor": "white",
            "showbackground": true,
            "ticks": "",
            "zerolinecolor": "white"
           }
          },
          "shapedefaults": {
           "line": {
            "color": "#2a3f5f"
           }
          },
          "ternary": {
           "aaxis": {
            "gridcolor": "white",
            "linecolor": "white",
            "ticks": ""
           },
           "baxis": {
            "gridcolor": "white",
            "linecolor": "white",
            "ticks": ""
           },
           "bgcolor": "#E5ECF6",
           "caxis": {
            "gridcolor": "white",
            "linecolor": "white",
            "ticks": ""
           }
          },
          "title": {
           "x": 0.05
          },
          "xaxis": {
           "automargin": true,
           "gridcolor": "white",
           "linecolor": "white",
           "ticks": "",
           "zerolinecolor": "white",
           "zerolinewidth": 2
          },
          "yaxis": {
           "automargin": true,
           "gridcolor": "white",
           "linecolor": "white",
           "ticks": "",
           "zerolinecolor": "white",
           "zerolinewidth": 2
          }
         }
        },
        "title": {
         "text": "Продажи видеоигр на разных платформах в млн. $"
        }
       }
      },
      "text/html": [
       "<div>\n",
       "        \n",
       "        \n",
       "            <div id=\"4392aad5-8b40-4e9d-818b-54a0681a61be\" class=\"plotly-graph-div\" style=\"height:525px; width:100%;\"></div>\n",
       "            <script type=\"text/javascript\">\n",
       "                require([\"plotly\"], function(Plotly) {\n",
       "                    window.PLOTLYENV=window.PLOTLYENV || {};\n",
       "                    \n",
       "                if (document.getElementById(\"4392aad5-8b40-4e9d-818b-54a0681a61be\")) {\n",
       "                    Plotly.newPlot(\n",
       "                        '4392aad5-8b40-4e9d-818b-54a0681a61be',\n",
       "                        [{\"name\": \"PS2\", \"type\": \"scatter\", \"x\": [2001, 2002, 2003, 2004, 2005, 2006, 2007, 2008, 2009, 2010, 2011, 2012, 2013, 2014, 2015, 2016], \"y\": [145.96000000000004, 169.98999999999987, 144.26999999999998, 188.3399999999999, 117.69999999999999, 75.97999999999992, 48.07999999999999, 21.149999999999995, 4.45, 0.59, null, null, null, null, null, null]}, {\"name\": \"X360\", \"type\": \"scatter\", \"x\": [2001, 2002, 2003, 2004, 2005, 2006, 2007, 2008, 2009, 2010, 2011, 2012, 2013, 2014, 2015, 2016], \"y\": [null, null, null, null, 7.6400000000000015, 48.919999999999995, 89.39, 129.16000000000005, 110.67000000000006, 157.35999999999996, 129.50000000000006, 95.68000000000006, 74.82000000000005, 10.100000000000001, null, null]}, {\"name\": \"PS3\", \"type\": \"scatter\", \"x\": [2001, 2002, 2003, 2004, 2005, 2006, 2007, 2008, 2009, 2010, 2011, 2012, 2013, 2014, 2015, 2016], \"y\": [null, null, null, null, null, 19.619999999999997, 68.52000000000002, 109.86, 118.45999999999998, 125.25000000000006, 134.86999999999983, 94.29999999999997, 102.20999999999998, 11.339999999999998, 0.02, null]}, {\"name\": \"Wii\", \"type\": \"scatter\", \"x\": [2001, 2002, 2003, 2004, 2005, 2006, 2007, 2008, 2009, 2010, 2011, 2012, 2013, 2014, 2015, 2016], \"y\": [null, null, null, null, null, 135.01999999999992, 127.31000000000004, 130.9900000000001, 151.01000000000002, 67.92, 33.489999999999995, 13.23, null, null, null, null]}, {\"name\": \"DS\", \"type\": \"scatter\", \"x\": [2001, 2002, 2003, 2004, 2005, 2006, 2007, 2008, 2009, 2010, 2011, 2012, 2013, 2014, 2015, 2016], \"y\": [null, null, null, 3.38, 96.03000000000003, 72.56, 77.47000000000006, 62.69, 39.419999999999995, 25.289999999999996, 4.36, 1.02, null, null, null, null]}, {\"name\": \"PS4\", \"type\": \"scatter\", \"x\": [2001, 2002, 2003, 2004, 2005, 2006, 2007, 2008, 2009, 2010, 2011, 2012, 2013, 2014, 2015, 2016], \"y\": [null, null, null, null, null, null, null, null, null, null, null, null, 25.07, 80.75999999999995, 80.01000000000003, 57.16000000000003]}, {\"name\": \"XOne\", \"type\": \"scatter\", \"x\": [2001, 2002, 2003, 2004, 2005, 2006, 2007, 2008, 2009, 2010, 2011, 2012, 2013, 2014, 2015, 2016], \"y\": [null, null, null, null, null, null, null, null, null, null, null, null, 14.919999999999998, 47.010000000000005, 44.26, 23.289999999999996]}, {\"name\": \"WiiU\", \"type\": \"scatter\", \"x\": [2001, 2002, 2003, 2004, 2005, 2006, 2007, 2008, 2009, 2010, 2011, 2012, 2013, 2014, 2015, 2016], \"y\": [null, null, null, null, null, null, null, null, null, null, null, 14.849999999999998, 17.400000000000002, 15.22, 15.349999999999998, 3.26]}],\n",
       "                        {\"template\": {\"data\": {\"bar\": [{\"error_x\": {\"color\": \"#2a3f5f\"}, \"error_y\": {\"color\": \"#2a3f5f\"}, \"marker\": {\"line\": {\"color\": \"#E5ECF6\", \"width\": 0.5}}, \"type\": \"bar\"}], \"barpolar\": [{\"marker\": {\"line\": {\"color\": \"#E5ECF6\", \"width\": 0.5}}, \"type\": \"barpolar\"}], \"carpet\": [{\"aaxis\": {\"endlinecolor\": \"#2a3f5f\", \"gridcolor\": \"white\", \"linecolor\": \"white\", \"minorgridcolor\": \"white\", \"startlinecolor\": \"#2a3f5f\"}, \"baxis\": {\"endlinecolor\": \"#2a3f5f\", \"gridcolor\": \"white\", \"linecolor\": \"white\", \"minorgridcolor\": \"white\", \"startlinecolor\": \"#2a3f5f\"}, \"type\": \"carpet\"}], \"choropleth\": [{\"colorbar\": {\"outlinewidth\": 0, \"ticks\": \"\"}, \"type\": \"choropleth\"}], \"contour\": [{\"colorbar\": {\"outlinewidth\": 0, \"ticks\": \"\"}, \"colorscale\": [[0.0, \"#0d0887\"], [0.1111111111111111, \"#46039f\"], [0.2222222222222222, \"#7201a8\"], [0.3333333333333333, \"#9c179e\"], [0.4444444444444444, \"#bd3786\"], [0.5555555555555556, \"#d8576b\"], [0.6666666666666666, \"#ed7953\"], [0.7777777777777778, \"#fb9f3a\"], [0.8888888888888888, \"#fdca26\"], [1.0, \"#f0f921\"]], \"type\": \"contour\"}], \"contourcarpet\": [{\"colorbar\": {\"outlinewidth\": 0, \"ticks\": \"\"}, \"type\": \"contourcarpet\"}], \"heatmap\": [{\"colorbar\": {\"outlinewidth\": 0, \"ticks\": \"\"}, \"colorscale\": [[0.0, \"#0d0887\"], [0.1111111111111111, \"#46039f\"], [0.2222222222222222, \"#7201a8\"], [0.3333333333333333, \"#9c179e\"], [0.4444444444444444, \"#bd3786\"], [0.5555555555555556, \"#d8576b\"], [0.6666666666666666, \"#ed7953\"], [0.7777777777777778, \"#fb9f3a\"], [0.8888888888888888, \"#fdca26\"], [1.0, \"#f0f921\"]], \"type\": \"heatmap\"}], \"heatmapgl\": [{\"colorbar\": {\"outlinewidth\": 0, \"ticks\": \"\"}, \"colorscale\": [[0.0, \"#0d0887\"], [0.1111111111111111, \"#46039f\"], [0.2222222222222222, \"#7201a8\"], [0.3333333333333333, \"#9c179e\"], [0.4444444444444444, \"#bd3786\"], [0.5555555555555556, \"#d8576b\"], [0.6666666666666666, \"#ed7953\"], [0.7777777777777778, \"#fb9f3a\"], [0.8888888888888888, \"#fdca26\"], [1.0, \"#f0f921\"]], \"type\": \"heatmapgl\"}], \"histogram\": [{\"marker\": {\"colorbar\": {\"outlinewidth\": 0, \"ticks\": \"\"}}, \"type\": \"histogram\"}], \"histogram2d\": [{\"colorbar\": {\"outlinewidth\": 0, \"ticks\": \"\"}, \"colorscale\": [[0.0, \"#0d0887\"], [0.1111111111111111, \"#46039f\"], [0.2222222222222222, \"#7201a8\"], [0.3333333333333333, \"#9c179e\"], [0.4444444444444444, \"#bd3786\"], [0.5555555555555556, \"#d8576b\"], [0.6666666666666666, \"#ed7953\"], [0.7777777777777778, \"#fb9f3a\"], [0.8888888888888888, \"#fdca26\"], [1.0, \"#f0f921\"]], \"type\": \"histogram2d\"}], \"histogram2dcontour\": [{\"colorbar\": {\"outlinewidth\": 0, \"ticks\": \"\"}, \"colorscale\": [[0.0, \"#0d0887\"], [0.1111111111111111, \"#46039f\"], [0.2222222222222222, \"#7201a8\"], [0.3333333333333333, \"#9c179e\"], [0.4444444444444444, \"#bd3786\"], [0.5555555555555556, \"#d8576b\"], [0.6666666666666666, \"#ed7953\"], [0.7777777777777778, \"#fb9f3a\"], [0.8888888888888888, \"#fdca26\"], [1.0, \"#f0f921\"]], \"type\": \"histogram2dcontour\"}], \"mesh3d\": [{\"colorbar\": {\"outlinewidth\": 0, \"ticks\": \"\"}, \"type\": \"mesh3d\"}], \"parcoords\": [{\"line\": {\"colorbar\": {\"outlinewidth\": 0, \"ticks\": \"\"}}, \"type\": \"parcoords\"}], \"scatter\": [{\"marker\": {\"colorbar\": {\"outlinewidth\": 0, \"ticks\": \"\"}}, \"type\": \"scatter\"}], \"scatter3d\": [{\"line\": {\"colorbar\": {\"outlinewidth\": 0, \"ticks\": \"\"}}, \"marker\": {\"colorbar\": {\"outlinewidth\": 0, \"ticks\": \"\"}}, \"type\": \"scatter3d\"}], \"scattercarpet\": [{\"marker\": {\"colorbar\": {\"outlinewidth\": 0, \"ticks\": \"\"}}, \"type\": \"scattercarpet\"}], \"scattergeo\": [{\"marker\": {\"colorbar\": {\"outlinewidth\": 0, \"ticks\": \"\"}}, \"type\": \"scattergeo\"}], \"scattergl\": [{\"marker\": {\"colorbar\": {\"outlinewidth\": 0, \"ticks\": \"\"}}, \"type\": \"scattergl\"}], \"scattermapbox\": [{\"marker\": {\"colorbar\": {\"outlinewidth\": 0, \"ticks\": \"\"}}, \"type\": \"scattermapbox\"}], \"scatterpolar\": [{\"marker\": {\"colorbar\": {\"outlinewidth\": 0, \"ticks\": \"\"}}, \"type\": \"scatterpolar\"}], \"scatterpolargl\": [{\"marker\": {\"colorbar\": {\"outlinewidth\": 0, \"ticks\": \"\"}}, \"type\": \"scatterpolargl\"}], \"scatterternary\": [{\"marker\": {\"colorbar\": {\"outlinewidth\": 0, \"ticks\": \"\"}}, \"type\": \"scatterternary\"}], \"surface\": [{\"colorbar\": {\"outlinewidth\": 0, \"ticks\": \"\"}, \"colorscale\": [[0.0, \"#0d0887\"], [0.1111111111111111, \"#46039f\"], [0.2222222222222222, \"#7201a8\"], [0.3333333333333333, \"#9c179e\"], [0.4444444444444444, \"#bd3786\"], [0.5555555555555556, \"#d8576b\"], [0.6666666666666666, \"#ed7953\"], [0.7777777777777778, \"#fb9f3a\"], [0.8888888888888888, \"#fdca26\"], [1.0, \"#f0f921\"]], \"type\": \"surface\"}], \"table\": [{\"cells\": {\"fill\": {\"color\": \"#EBF0F8\"}, \"line\": {\"color\": \"white\"}}, \"header\": {\"fill\": {\"color\": \"#C8D4E3\"}, \"line\": {\"color\": \"white\"}}, \"type\": \"table\"}]}, \"layout\": {\"annotationdefaults\": {\"arrowcolor\": \"#2a3f5f\", \"arrowhead\": 0, \"arrowwidth\": 1}, \"colorscale\": {\"diverging\": [[0, \"#8e0152\"], [0.1, \"#c51b7d\"], [0.2, \"#de77ae\"], [0.3, \"#f1b6da\"], [0.4, \"#fde0ef\"], [0.5, \"#f7f7f7\"], [0.6, \"#e6f5d0\"], [0.7, \"#b8e186\"], [0.8, \"#7fbc41\"], [0.9, \"#4d9221\"], [1, \"#276419\"]], \"sequential\": [[0.0, \"#0d0887\"], [0.1111111111111111, \"#46039f\"], [0.2222222222222222, \"#7201a8\"], [0.3333333333333333, \"#9c179e\"], [0.4444444444444444, \"#bd3786\"], [0.5555555555555556, \"#d8576b\"], [0.6666666666666666, \"#ed7953\"], [0.7777777777777778, \"#fb9f3a\"], [0.8888888888888888, \"#fdca26\"], [1.0, \"#f0f921\"]], \"sequentialminus\": [[0.0, \"#0d0887\"], [0.1111111111111111, \"#46039f\"], [0.2222222222222222, \"#7201a8\"], [0.3333333333333333, \"#9c179e\"], [0.4444444444444444, \"#bd3786\"], [0.5555555555555556, \"#d8576b\"], [0.6666666666666666, \"#ed7953\"], [0.7777777777777778, \"#fb9f3a\"], [0.8888888888888888, \"#fdca26\"], [1.0, \"#f0f921\"]]}, \"colorway\": [\"#636efa\", \"#EF553B\", \"#00cc96\", \"#ab63fa\", \"#FFA15A\", \"#19d3f3\", \"#FF6692\", \"#B6E880\", \"#FF97FF\", \"#FECB52\"], \"font\": {\"color\": \"#2a3f5f\"}, \"geo\": {\"bgcolor\": \"white\", \"lakecolor\": \"white\", \"landcolor\": \"#E5ECF6\", \"showlakes\": true, \"showland\": true, \"subunitcolor\": \"white\"}, \"hoverlabel\": {\"align\": \"left\"}, \"hovermode\": \"closest\", \"mapbox\": {\"style\": \"light\"}, \"paper_bgcolor\": \"white\", \"plot_bgcolor\": \"#E5ECF6\", \"polar\": {\"angularaxis\": {\"gridcolor\": \"white\", \"linecolor\": \"white\", \"ticks\": \"\"}, \"bgcolor\": \"#E5ECF6\", \"radialaxis\": {\"gridcolor\": \"white\", \"linecolor\": \"white\", \"ticks\": \"\"}}, \"scene\": {\"xaxis\": {\"backgroundcolor\": \"#E5ECF6\", \"gridcolor\": \"white\", \"gridwidth\": 2, \"linecolor\": \"white\", \"showbackground\": true, \"ticks\": \"\", \"zerolinecolor\": \"white\"}, \"yaxis\": {\"backgroundcolor\": \"#E5ECF6\", \"gridcolor\": \"white\", \"gridwidth\": 2, \"linecolor\": \"white\", \"showbackground\": true, \"ticks\": \"\", \"zerolinecolor\": \"white\"}, \"zaxis\": {\"backgroundcolor\": \"#E5ECF6\", \"gridcolor\": \"white\", \"gridwidth\": 2, \"linecolor\": \"white\", \"showbackground\": true, \"ticks\": \"\", \"zerolinecolor\": \"white\"}}, \"shapedefaults\": {\"line\": {\"color\": \"#2a3f5f\"}}, \"ternary\": {\"aaxis\": {\"gridcolor\": \"white\", \"linecolor\": \"white\", \"ticks\": \"\"}, \"baxis\": {\"gridcolor\": \"white\", \"linecolor\": \"white\", \"ticks\": \"\"}, \"bgcolor\": \"#E5ECF6\", \"caxis\": {\"gridcolor\": \"white\", \"linecolor\": \"white\", \"ticks\": \"\"}}, \"title\": {\"x\": 0.05}, \"xaxis\": {\"automargin\": true, \"gridcolor\": \"white\", \"linecolor\": \"white\", \"ticks\": \"\", \"zerolinecolor\": \"white\", \"zerolinewidth\": 2}, \"yaxis\": {\"automargin\": true, \"gridcolor\": \"white\", \"linecolor\": \"white\", \"ticks\": \"\", \"zerolinecolor\": \"white\", \"zerolinewidth\": 2}}}, \"title\": {\"text\": \"\\u041f\\u0440\\u043e\\u0434\\u0430\\u0436\\u0438 \\u0432\\u0438\\u0434\\u0435\\u043e\\u0438\\u0433\\u0440 \\u043d\\u0430 \\u0440\\u0430\\u0437\\u043d\\u044b\\u0445 \\u043f\\u043b\\u0430\\u0442\\u0444\\u043e\\u0440\\u043c\\u0430\\u0445 \\u0432 \\u043c\\u043b\\u043d. $\"}},\n",
       "                        {\"responsive\": true}\n",
       "                    ).then(function(){\n",
       "                            \n",
       "var gd = document.getElementById('4392aad5-8b40-4e9d-818b-54a0681a61be');\n",
       "var x = new MutationObserver(function (mutations, observer) {{\n",
       "        var display = window.getComputedStyle(gd).display;\n",
       "        if (!display || display === 'none') {{\n",
       "            console.log([gd, 'removed!']);\n",
       "            Plotly.purge(gd);\n",
       "            observer.disconnect();\n",
       "        }}\n",
       "}});\n",
       "\n",
       "// Listen for the removal of the full notebook cells\n",
       "var notebookContainer = gd.closest('#notebook-container');\n",
       "if (notebookContainer) {{\n",
       "    x.observe(notebookContainer, {childList: true});\n",
       "}}\n",
       "\n",
       "// Listen for the clearing of the current output cell\n",
       "var outputEl = gd.closest('.output');\n",
       "if (outputEl) {{\n",
       "    x.observe(outputEl, {childList: true});\n",
       "}}\n",
       "\n",
       "                        })\n",
       "                };\n",
       "                });\n",
       "            </script>\n",
       "        </div>"
      ]
     },
     "metadata": {},
     "output_type": "display_data"
    }
   ],
   "source": [
    "data_top_platform = data.pivot_table(index='year_of_release',\n",
    "                                      columns='platform', values='world_sales',\n",
    "                                      aggfunc='sum')\n",
    "\n",
    "#Собираем графики для каждой плотформы отдельно\n",
    "PS2 = go.Scatter(\n",
    "    x=data_top_platform.index,\n",
    "    y=data_top_platform.PS2,\n",
    "    name='PS2'\n",
    ")\n",
    "\n",
    "X360 = go.Scatter(\n",
    "    x=data_top_platform.index,\n",
    "    y=data_top_platform.X360,\n",
    "    name='X360'\n",
    ")\n",
    "\n",
    "PS3 = go.Scatter(\n",
    "    x=data_top_platform.index,\n",
    "    y=data_top_platform.PS3,\n",
    "    name='PS3'\n",
    ")\n",
    "\n",
    "Wii = go.Scatter(\n",
    "    x=data_top_platform.index,\n",
    "    y=data_top_platform.Wii,\n",
    "    name='Wii'\n",
    ")\n",
    "\n",
    "\n",
    "\n",
    "DS = go.Scatter(\n",
    "    x=data_top_platform.index,\n",
    "    y=data_top_platform.DS,\n",
    "    name='DS'\n",
    ")\n",
    "\n",
    "PS4 = go.Scatter(\n",
    "    x=data_top_platform.index,\n",
    "    y=data_top_platform.PS4,\n",
    "    name='PS4'\n",
    ")\n",
    "\n",
    "XOne = go.Scatter(\n",
    "    x=data_top_platform.index,\n",
    "    y=data_top_platform.XOne,\n",
    "    name='XOne'\n",
    ")\n",
    "\n",
    "WiiU = go.Scatter(\n",
    "    x=data_top_platform.index,\n",
    "    y=data_top_platform.WiiU,\n",
    "    name='WiiU'\n",
    ")\n",
    "\n",
    "# определяем массив данных и задаем title графика в layout\n",
    "data_for_plot2 = [PS2, X360, PS3, Wii, DS, PS4, XOne, WiiU]\n",
    "layout = {'title': 'Продажи видеоигр на разных платформах в млн. $'}\n",
    "# cоздаем объект Figure и визуализируем его\n",
    "fig = go.Figure(data=data_for_plot2, layout=layout)\n",
    "fig"
   ]
  },
  {
   "cell_type": "markdown",
   "metadata": {},
   "source": [
    "<font color='blue'> Срок жизни платформы примерно 10 лет. Самая кассовая платформа PS2."
   ]
  },
  {
   "cell_type": "code",
   "execution_count": 19,
   "metadata": {},
   "outputs": [
    {
     "data": {
      "text/plain": [
       "<matplotlib.axes._subplots.AxesSubplot at 0x7f619f421d10>"
      ]
     },
     "execution_count": 19,
     "metadata": {},
     "output_type": "execute_result"
    },
    {
     "data": {
      "image/png": "[encoded data removed]",
      "text/plain": [
       "<Figure size 576x360 with 2 Axes>"
      ]
     },
     "metadata": {
      "needs_background": "light"
     },
     "output_type": "display_data"
    }
   ],
   "source": [
    "corr_matrix = data.query('platform ==\"PS2\"').drop(['name', 'platform', 'genre', 'rating'], axis=1).corr()\n",
    "sns.heatmap(corr_matrix)"
   ]
  },
  {
   "cell_type": "code",
   "execution_count": 20,
   "metadata": {},
   "outputs": [
    {
     "data": {
      "text/html": [
       "<div>\n",
       "<style scoped>\n",
       "    .dataframe tbody tr th:only-of-type {\n",
       "        vertical-align: middle;\n",
       "    }\n",
       "\n",
       "    .dataframe tbody tr th {\n",
       "        vertical-align: top;\n",
       "    }\n",
       "\n",
       "    .dataframe thead th {\n",
       "        text-align: right;\n",
       "    }\n",
       "</style>\n",
       "<table border=\"1\" class=\"dataframe\">\n",
       "  <thead>\n",
       "    <tr style=\"text-align: right;\">\n",
       "      <th></th>\n",
       "      <th>year_of_release</th>\n",
       "      <th>na_sales</th>\n",
       "      <th>eu_sales</th>\n",
       "      <th>jp_sales</th>\n",
       "      <th>other_sales</th>\n",
       "      <th>critic_score</th>\n",
       "      <th>user_score</th>\n",
       "      <th>world_sales</th>\n",
       "    </tr>\n",
       "  </thead>\n",
       "  <tbody>\n",
       "    <tr>\n",
       "      <td>year_of_release</td>\n",
       "      <td>1.000000</td>\n",
       "      <td>-0.079234</td>\n",
       "      <td>-0.192082</td>\n",
       "      <td>-0.054619</td>\n",
       "      <td>0.054596</td>\n",
       "      <td>-0.106342</td>\n",
       "      <td>-0.062957</td>\n",
       "      <td>-0.090986</td>\n",
       "    </tr>\n",
       "    <tr>\n",
       "      <td>na_sales</td>\n",
       "      <td>-0.079234</td>\n",
       "      <td>1.000000</td>\n",
       "      <td>0.654116</td>\n",
       "      <td>0.265271</td>\n",
       "      <td>0.576571</td>\n",
       "      <td>0.390701</td>\n",
       "      <td>0.168165</td>\n",
       "      <td>0.927518</td>\n",
       "    </tr>\n",
       "    <tr>\n",
       "      <td>eu_sales</td>\n",
       "      <td>-0.192082</td>\n",
       "      <td>0.654116</td>\n",
       "      <td>1.000000</td>\n",
       "      <td>0.283590</td>\n",
       "      <td>0.263679</td>\n",
       "      <td>0.290712</td>\n",
       "      <td>0.122524</td>\n",
       "      <td>0.765060</td>\n",
       "    </tr>\n",
       "    <tr>\n",
       "      <td>jp_sales</td>\n",
       "      <td>-0.054619</td>\n",
       "      <td>0.265271</td>\n",
       "      <td>0.283590</td>\n",
       "      <td>1.000000</td>\n",
       "      <td>0.216031</td>\n",
       "      <td>0.215623</td>\n",
       "      <td>0.145848</td>\n",
       "      <td>0.454422</td>\n",
       "    </tr>\n",
       "    <tr>\n",
       "      <td>other_sales</td>\n",
       "      <td>0.054596</td>\n",
       "      <td>0.576571</td>\n",
       "      <td>0.263679</td>\n",
       "      <td>0.216031</td>\n",
       "      <td>1.000000</td>\n",
       "      <td>0.208706</td>\n",
       "      <td>0.074225</td>\n",
       "      <td>0.717207</td>\n",
       "    </tr>\n",
       "    <tr>\n",
       "      <td>critic_score</td>\n",
       "      <td>-0.106342</td>\n",
       "      <td>0.390701</td>\n",
       "      <td>0.290712</td>\n",
       "      <td>0.215623</td>\n",
       "      <td>0.208706</td>\n",
       "      <td>1.000000</td>\n",
       "      <td>0.568082</td>\n",
       "      <td>0.386704</td>\n",
       "    </tr>\n",
       "    <tr>\n",
       "      <td>user_score</td>\n",
       "      <td>-0.062957</td>\n",
       "      <td>0.168165</td>\n",
       "      <td>0.122524</td>\n",
       "      <td>0.145848</td>\n",
       "      <td>0.074225</td>\n",
       "      <td>0.568082</td>\n",
       "      <td>1.000000</td>\n",
       "      <td>0.169670</td>\n",
       "    </tr>\n",
       "    <tr>\n",
       "      <td>world_sales</td>\n",
       "      <td>-0.090986</td>\n",
       "      <td>0.927518</td>\n",
       "      <td>0.765060</td>\n",
       "      <td>0.454422</td>\n",
       "      <td>0.717207</td>\n",
       "      <td>0.386704</td>\n",
       "      <td>0.169670</td>\n",
       "      <td>1.000000</td>\n",
       "    </tr>\n",
       "  </tbody>\n",
       "</table>\n",
       "</div>"
      ],
      "text/plain": [
       "                 year_of_release  na_sales  eu_sales  jp_sales  other_sales  \\\n",
       "year_of_release         1.000000 -0.079234 -0.192082 -0.054619     0.054596   \n",
       "na_sales               -0.079234  1.000000  0.654116  0.265271     0.576571   \n",
       "eu_sales               -0.192082  0.654116  1.000000  0.283590     0.263679   \n",
       "jp_sales               -0.054619  0.265271  0.283590  1.000000     0.216031   \n",
       "other_sales             0.054596  0.576571  0.263679  0.216031     1.000000   \n",
       "critic_score           -0.106342  0.390701  0.290712  0.215623     0.208706   \n",
       "user_score             -0.062957  0.168165  0.122524  0.145848     0.074225   \n",
       "world_sales            -0.090986  0.927518  0.765060  0.454422     0.717207   \n",
       "\n",
       "                 critic_score  user_score  world_sales  \n",
       "year_of_release     -0.106342   -0.062957    -0.090986  \n",
       "na_sales             0.390701    0.168165     0.927518  \n",
       "eu_sales             0.290712    0.122524     0.765060  \n",
       "jp_sales             0.215623    0.145848     0.454422  \n",
       "other_sales          0.208706    0.074225     0.717207  \n",
       "critic_score         1.000000    0.568082     0.386704  \n",
       "user_score           0.568082    1.000000     0.169670  \n",
       "world_sales          0.386704    0.169670     1.000000  "
      ]
     },
     "execution_count": 20,
     "metadata": {},
     "output_type": "execute_result"
    }
   ],
   "source": [
    "corr_matrix"
   ]
  },
  {
   "cell_type": "code",
   "execution_count": 21,
   "metadata": {},
   "outputs": [
    {
     "data": {
      "text/plain": [
       "<seaborn.axisgrid.PairGrid at 0x7f619f3951d0>"
      ]
     },
     "execution_count": 21,
     "metadata": {},
     "output_type": "execute_result"
    },
    {
     "data": {
      "image/png": "[encoded data removed]",
      "text/plain": [
       "<Figure size 540x540 with 12 Axes>"
      ]
     },
     "metadata": {
      "needs_background": "light"
     },
     "output_type": "display_data"
    }
   ],
   "source": [
    "sns.pairplot(data.drop(['name', 'platform', 'genre', \n",
    "                    'rating', 'year_of_release', 'eu_sales', 'na_sales', 'jp_sales', 'other_sales'], axis=1))"
   ]
  },
  {
   "cell_type": "markdown",
   "metadata": {},
   "source": [
    "<font color='blue'> Коореляция много инсайтов нам не даёт. Интересно, что если игра популярна в Северной Америке, то она популярна и в Европе, но совсем не в Японии. "
   ]
  },
  {
   "cell_type": "code",
   "execution_count": 22,
   "metadata": {},
   "outputs": [
    {
     "data": {
      "application/vnd.plotly.v1+json": {
       "config": {
        "linkText": "Export to plot.ly",
        "plotlyServerURL": "https://plot.ly",
        "showLink": false
       },
       "data": [
        {
         "name": "Продажи в Северной Америке",
         "type": "bar",
         "x": [
          "Action",
          "Sports",
          "Shooter",
          "Role-Playing",
          "Racing",
          "Misc",
          "Platform",
          "Fighting",
          "Simulation",
          "Adventure",
          "Puzzle",
          "Strategy"
         ],
         "y": [
          567.3199999999957,
          442.9099999999989,
          441.67999999999915,
          204.29000000000025,
          207.8200000000004,
          218.52000000000032,
          184.2300000000001,
          126.59999999999997,
          90.97999999999996,
          37.880000000000024,
          33.210000000000015,
          32.51999999999998
         ]
        },
        {
         "name": "Продажи в Европе",
         "type": "bar",
         "x": [
          "Action",
          "Sports",
          "Shooter",
          "Role-Playing",
          "Racing",
          "Misc",
          "Platform",
          "Fighting",
          "Simulation",
          "Adventure",
          "Puzzle",
          "Strategy"
         ],
         "y": [
          369.1399999999936,
          242.16000000000037,
          258.85999999999865,
          108.32000000000016,
          151.18000000000026,
          117.6200000000002,
          102.71000000000019,
          53.220000000000084,
          66.3800000000001,
          24.530000000000047,
          23.83000000000002,
          24.58000000000005
         ]
        },
        {
         "name": "Продажи в Японии",
         "type": "bar",
         "x": [
          "Action",
          "Sports",
          "Shooter",
          "Role-Playing",
          "Racing",
          "Misc",
          "Platform",
          "Fighting",
          "Simulation",
          "Adventure",
          "Puzzle",
          "Strategy"
         ],
         "y": [
          69.46000000000011,
          33.68000000000004,
          18.430000000000017,
          103.13000000000007,
          22.630000000000038,
          31.390000000000022,
          40.939999999999976,
          21.810000000000016,
          24.370000000000008,
          8.129999999999999,
          14.790000000000001,
          3.769999999999998
         ]
        },
        {
         "name": "Продажи других регионах",
         "type": "bar",
         "x": [
          "Action",
          "Sports",
          "Shooter",
          "Role-Playing",
          "Racing",
          "Misc",
          "Platform",
          "Fighting",
          "Simulation",
          "Adventure",
          "Puzzle",
          "Strategy"
         ],
         "y": [
          143.97999999999882,
          92.75000000000068,
          87.48000000000066,
          37.61999999999996,
          56.04999999999993,
          40.06,
          31.570000000000135,
          23.84000000000009,
          16.85000000000006,
          7.9399999999999675,
          6.269999999999988,
          6.4199999999999715
         ]
        }
       ],
       "layout": {
        "template": {
         "data": {
          "bar": [
           {
            "error_x": {
             "color": "#2a3f5f"
            },
            "error_y": {
             "color": "#2a3f5f"
            },
            "marker": {
             "line": {
              "color": "#E5ECF6",
              "width": 0.5
             }
            },
            "type": "bar"
           }
          ],
          "barpolar": [
           {
            "marker": {
             "line": {
              "color": "#E5ECF6",
              "width": 0.5
             }
            },
            "type": "barpolar"
           }
          ],
          "carpet": [
           {
            "aaxis": {
             "endlinecolor": "#2a3f5f",
             "gridcolor": "white",
             "linecolor": "white",
             "minorgridcolor": "white",
             "startlinecolor": "#2a3f5f"
            },
            "baxis": {
             "endlinecolor": "#2a3f5f",
             "gridcolor": "white",
             "linecolor": "white",
             "minorgridcolor": "white",
             "startlinecolor": "#2a3f5f"
            },
            "type": "carpet"
           }
          ],
          "choropleth": [
           {
            "colorbar": {
             "outlinewidth": 0,
             "ticks": ""
            },
            "type": "choropleth"
           }
          ],
          "contour": [
           {
            "colorbar": {
             "outlinewidth": 0,
             "ticks": ""
            },
            "colorscale": [
             [
              0,
              "#0d0887"
             ],
             [
              0.1111111111111111,
              "#46039f"
             ],
             [
              0.2222222222222222,
              "#7201a8"
             ],
             [
              0.3333333333333333,
              "#9c179e"
             ],
             [
              0.4444444444444444,
              "#bd3786"
             ],
             [
              0.5555555555555556,
              "#d8576b"
             ],
             [
              0.6666666666666666,
              "#ed7953"
             ],
             [
              0.7777777777777778,
              "#fb9f3a"
             ],
             [
              0.8888888888888888,
              "#fdca26"
             ],
             [
              1,
              "#f0f921"
             ]
            ],
            "type": "contour"
           }
          ],
          "contourcarpet": [
           {
            "colorbar": {
             "outlinewidth": 0,
             "ticks": ""
            },
            "type": "contourcarpet"
           }
          ],
          "heatmap": [
           {
            "colorbar": {
             "outlinewidth": 0,
             "ticks": ""
            },
            "colorscale": [
             [
              0,
              "#0d0887"
             ],
             [
              0.1111111111111111,
              "#46039f"
             ],
             [
              0.2222222222222222,
              "#7201a8"
             ],
             [
              0.3333333333333333,
              "#9c179e"
             ],
             [
              0.4444444444444444,
              "#bd3786"
             ],
             [
              0.5555555555555556,
              "#d8576b"
             ],
             [
              0.6666666666666666,
              "#ed7953"
             ],
             [
              0.7777777777777778,
              "#fb9f3a"
             ],
             [
              0.8888888888888888,
              "#fdca26"
             ],
             [
              1,
              "#f0f921"
             ]
            ],
            "type": "heatmap"
           }
          ],
          "heatmapgl": [
           {
            "colorbar": {
             "outlinewidth": 0,
             "ticks": ""
            },
            "colorscale": [
             [
              0,
              "#0d0887"
             ],
             [
              0.1111111111111111,
              "#46039f"
             ],
             [
              0.2222222222222222,
              "#7201a8"
             ],
             [
              0.3333333333333333,
              "#9c179e"
             ],
             [
              0.4444444444444444,
              "#bd3786"
             ],
             [
              0.5555555555555556,
              "#d8576b"
             ],
             [
              0.6666666666666666,
              "#ed7953"
             ],
             [
              0.7777777777777778,
              "#fb9f3a"
             ],
             [
              0.8888888888888888,
              "#fdca26"
             ],
             [
              1,
              "#f0f921"
             ]
            ],
            "type": "heatmapgl"
           }
          ],
          "histogram": [
           {
            "marker": {
             "colorbar": {
              "outlinewidth": 0,
              "ticks": ""
             }
            },
            "type": "histogram"
           }
          ],
          "histogram2d": [
           {
            "colorbar": {
             "outlinewidth": 0,
             "ticks": ""
            },
            "colorscale": [
             [
              0,
              "#0d0887"
             ],
             [
              0.1111111111111111,
              "#46039f"
             ],
             [
              0.2222222222222222,
              "#7201a8"
             ],
             [
              0.3333333333333333,
              "#9c179e"
             ],
             [
              0.4444444444444444,
              "#bd3786"
             ],
             [
              0.5555555555555556,
              "#d8576b"
             ],
             [
              0.6666666666666666,
              "#ed7953"
             ],
             [
              0.7777777777777778,
              "#fb9f3a"
             ],
             [
              0.8888888888888888,
              "#fdca26"
             ],
             [
              1,
              "#f0f921"
             ]
            ],
            "type": "histogram2d"
           }
          ],
          "histogram2dcontour": [
           {
            "colorbar": {
             "outlinewidth": 0,
             "ticks": ""
            },
            "colorscale": [
             [
              0,
              "#0d0887"
             ],
             [
              0.1111111111111111,
              "#46039f"
             ],
             [
              0.2222222222222222,
              "#7201a8"
             ],
             [
              0.3333333333333333,
              "#9c179e"
             ],
             [
              0.4444444444444444,
              "#bd3786"
             ],
             [
              0.5555555555555556,
              "#d8576b"
             ],
             [
              0.6666666666666666,
              "#ed7953"
             ],
             [
              0.7777777777777778,
              "#fb9f3a"
             ],
             [
              0.8888888888888888,
              "#fdca26"
             ],
             [
              1,
              "#f0f921"
             ]
            ],
            "type": "histogram2dcontour"
           }
          ],
          "mesh3d": [
           {
            "colorbar": {
             "outlinewidth": 0,
             "ticks": ""
            },
            "type": "mesh3d"
           }
          ],
          "parcoords": [
           {
            "line": {
             "colorbar": {
              "outlinewidth": 0,
              "ticks": ""
             }
            },
            "type": "parcoords"
           }
          ],
          "scatter": [
           {
            "marker": {
             "colorbar": {
              "outlinewidth": 0,
              "ticks": ""
             }
            },
            "type": "scatter"
           }
          ],
          "scatter3d": [
           {
            "line": {
             "colorbar": {
              "outlinewidth": 0,
              "ticks": ""
             }
            },
            "marker": {
             "colorbar": {
              "outlinewidth": 0,
              "ticks": ""
             }
            },
            "type": "scatter3d"
           }
          ],
          "scattercarpet": [
           {
            "marker": {
             "colorbar": {
              "outlinewidth": 0,
              "ticks": ""
             }
            },
            "type": "scattercarpet"
           }
          ],
          "scattergeo": [
           {
            "marker": {
             "colorbar": {
              "outlinewidth": 0,
              "ticks": ""
             }
            },
            "type": "scattergeo"
           }
          ],
          "scattergl": [
           {
            "marker": {
             "colorbar": {
              "outlinewidth": 0,
              "ticks": ""
             }
            },
            "type": "scattergl"
           }
          ],
          "scattermapbox": [
           {
            "marker": {
             "colorbar": {
              "outlinewidth": 0,
              "ticks": ""
             }
            },
            "type": "scattermapbox"
           }
          ],
          "scatterpolar": [
           {
            "marker": {
             "colorbar": {
              "outlinewidth": 0,
              "ticks": ""
             }
            },
            "type": "scatterpolar"
           }
          ],
          "scatterpolargl": [
           {
            "marker": {
             "colorbar": {
              "outlinewidth": 0,
              "ticks": ""
             }
            },
            "type": "scatterpolargl"
           }
          ],
          "scatterternary": [
           {
            "marker": {
             "colorbar": {
              "outlinewidth": 0,
              "ticks": ""
             }
            },
            "type": "scatterternary"
           }
          ],
          "surface": [
           {
            "colorbar": {
             "outlinewidth": 0,
             "ticks": ""
            },
            "colorscale": [
             [
              0,
              "#0d0887"
             ],
             [
              0.1111111111111111,
              "#46039f"
             ],
             [
              0.2222222222222222,
              "#7201a8"
             ],
             [
              0.3333333333333333,
              "#9c179e"
             ],
             [
              0.4444444444444444,
              "#bd3786"
             ],
             [
              0.5555555555555556,
              "#d8576b"
             ],
             [
              0.6666666666666666,
              "#ed7953"
             ],
             [
              0.7777777777777778,
              "#fb9f3a"
             ],
             [
              0.8888888888888888,
              "#fdca26"
             ],
             [
              1,
              "#f0f921"
             ]
            ],
            "type": "surface"
           }
          ],
          "table": [
           {
            "cells": {
             "fill": {
              "color": "#EBF0F8"
             },
             "line": {
              "color": "white"
             }
            },
            "header": {
             "fill": {
              "color": "#C8D4E3"
             },
             "line": {
              "color": "white"
             }
            },
            "type": "table"
           }
          ]
         },
         "layout": {
          "annotationdefaults": {
           "arrowcolor": "#2a3f5f",
           "arrowhead": 0,
           "arrowwidth": 1
          },
          "colorscale": {
           "diverging": [
            [
             0,
             "#8e0152"
            ],
            [
             0.1,
             "#c51b7d"
            ],
            [
             0.2,
             "#de77ae"
            ],
            [
             0.3,
             "#f1b6da"
            ],
            [
             0.4,
             "#fde0ef"
            ],
            [
             0.5,
             "#f7f7f7"
            ],
            [
             0.6,
             "#e6f5d0"
            ],
            [
             0.7,
             "#b8e186"
            ],
            [
             0.8,
             "#7fbc41"
            ],
            [
             0.9,
             "#4d9221"
            ],
            [
             1,
             "#276419"
            ]
           ],
           "sequential": [
            [
             0,
             "#0d0887"
            ],
            [
             0.1111111111111111,
             "#46039f"
            ],
            [
             0.2222222222222222,
             "#7201a8"
            ],
            [
             0.3333333333333333,
             "#9c179e"
            ],
            [
             0.4444444444444444,
             "#bd3786"
            ],
            [
             0.5555555555555556,
             "#d8576b"
            ],
            [
             0.6666666666666666,
             "#ed7953"
            ],
            [
             0.7777777777777778,
             "#fb9f3a"
            ],
            [
             0.8888888888888888,
             "#fdca26"
            ],
            [
             1,
             "#f0f921"
            ]
           ],
           "sequentialminus": [
            [
             0,
             "#0d0887"
            ],
            [
             0.1111111111111111,
             "#46039f"
            ],
            [
             0.2222222222222222,
             "#7201a8"
            ],
            [
             0.3333333333333333,
             "#9c179e"
            ],
            [
             0.4444444444444444,
             "#bd3786"
            ],
            [
             0.5555555555555556,
             "#d8576b"
            ],
            [
             0.6666666666666666,
             "#ed7953"
            ],
            [
             0.7777777777777778,
             "#fb9f3a"
            ],
            [
             0.8888888888888888,
             "#fdca26"
            ],
            [
             1,
             "#f0f921"
            ]
           ]
          },
          "colorway": [
           "#636efa",
           "#EF553B",
           "#00cc96",
           "#ab63fa",
           "#FFA15A",
           "#19d3f3",
           "#FF6692",
           "#B6E880",
           "#FF97FF",
           "#FECB52"
          ],
          "font": {
           "color": "#2a3f5f"
          },
          "geo": {
           "bgcolor": "white",
           "lakecolor": "white",
           "landcolor": "#E5ECF6",
           "showlakes": true,
           "showland": true,
           "subunitcolor": "white"
          },
          "hoverlabel": {
           "align": "left"
          },
          "hovermode": "closest",
          "mapbox": {
           "style": "light"
          },
          "paper_bgcolor": "white",
          "plot_bgcolor": "#E5ECF6",
          "polar": {
           "angularaxis": {
            "gridcolor": "white",
            "linecolor": "white",
            "ticks": ""
           },
           "bgcolor": "#E5ECF6",
           "radialaxis": {
            "gridcolor": "white",
            "linecolor": "white",
            "ticks": ""
           }
          },
          "scene": {
           "xaxis": {
            "backgroundcolor": "#E5ECF6",
            "gridcolor": "white",
            "gridwidth": 2,
            "linecolor": "white",
            "showbackground": true,
            "ticks": "",
            "zerolinecolor": "white"
           },
           "yaxis": {
            "backgroundcolor": "#E5ECF6",
            "gridcolor": "white",
            "gridwidth": 2,
            "linecolor": "white",
            "showbackground": true,
            "ticks": "",
            "zerolinecolor": "white"
           },
           "zaxis": {
            "backgroundcolor": "#E5ECF6",
            "gridcolor": "white",
            "gridwidth": 2,
            "linecolor": "white",
            "showbackground": true,
            "ticks": "",
            "zerolinecolor": "white"
           }
          },
          "shapedefaults": {
           "line": {
            "color": "#2a3f5f"
           }
          },
          "ternary": {
           "aaxis": {
            "gridcolor": "white",
            "linecolor": "white",
            "ticks": ""
           },
           "baxis": {
            "gridcolor": "white",
            "linecolor": "white",
            "ticks": ""
           },
           "bgcolor": "#E5ECF6",
           "caxis": {
            "gridcolor": "white",
            "linecolor": "white",
            "ticks": ""
           }
          },
          "title": {
           "x": 0.05
          },
          "xaxis": {
           "automargin": true,
           "gridcolor": "white",
           "linecolor": "white",
           "ticks": "",
           "zerolinecolor": "white",
           "zerolinewidth": 2
          },
          "yaxis": {
           "automargin": true,
           "gridcolor": "white",
           "linecolor": "white",
           "ticks": "",
           "zerolinecolor": "white",
           "zerolinewidth": 2
          }
         }
        },
        "title": {
         "text": "Продажи игр на разных жанров по регионам"
        },
        "xaxis": {
         "title": {
          "text": "Жанры"
         }
        }
       }
      },
      "text/html": [
       "<div>\n",
       "        \n",
       "        \n",
       "            <div id=\"9a9bbd9c-46da-43b2-932b-72e3e00bf43c\" class=\"plotly-graph-div\" style=\"height:525px; width:100%;\"></div>\n",
       "            <script type=\"text/javascript\">\n",
       "                require([\"plotly\"], function(Plotly) {\n",
       "                    window.PLOTLYENV=window.PLOTLYENV || {};\n",
       "                    \n",
       "                if (document.getElementById(\"9a9bbd9c-46da-43b2-932b-72e3e00bf43c\")) {\n",
       "                    Plotly.newPlot(\n",
       "                        '9a9bbd9c-46da-43b2-932b-72e3e00bf43c',\n",
       "                        [{\"name\": \"\\u041f\\u0440\\u043e\\u0434\\u0430\\u0436\\u0438 \\u0432 \\u0421\\u0435\\u0432\\u0435\\u0440\\u043d\\u043e\\u0439 \\u0410\\u043c\\u0435\\u0440\\u0438\\u043a\\u0435\", \"type\": \"bar\", \"x\": [\"Action\", \"Sports\", \"Shooter\", \"Role-Playing\", \"Racing\", \"Misc\", \"Platform\", \"Fighting\", \"Simulation\", \"Adventure\", \"Puzzle\", \"Strategy\"], \"y\": [567.3199999999957, 442.9099999999989, 441.67999999999915, 204.29000000000025, 207.8200000000004, 218.52000000000032, 184.2300000000001, 126.59999999999997, 90.97999999999996, 37.880000000000024, 33.210000000000015, 32.51999999999998]}, {\"name\": \"\\u041f\\u0440\\u043e\\u0434\\u0430\\u0436\\u0438 \\u0432 \\u0415\\u0432\\u0440\\u043e\\u043f\\u0435\", \"type\": \"bar\", \"x\": [\"Action\", \"Sports\", \"Shooter\", \"Role-Playing\", \"Racing\", \"Misc\", \"Platform\", \"Fighting\", \"Simulation\", \"Adventure\", \"Puzzle\", \"Strategy\"], \"y\": [369.1399999999936, 242.16000000000037, 258.85999999999865, 108.32000000000016, 151.18000000000026, 117.6200000000002, 102.71000000000019, 53.220000000000084, 66.3800000000001, 24.530000000000047, 23.83000000000002, 24.58000000000005]}, {\"name\": \"\\u041f\\u0440\\u043e\\u0434\\u0430\\u0436\\u0438 \\u0432 \\u042f\\u043f\\u043e\\u043d\\u0438\\u0438\", \"type\": \"bar\", \"x\": [\"Action\", \"Sports\", \"Shooter\", \"Role-Playing\", \"Racing\", \"Misc\", \"Platform\", \"Fighting\", \"Simulation\", \"Adventure\", \"Puzzle\", \"Strategy\"], \"y\": [69.46000000000011, 33.68000000000004, 18.430000000000017, 103.13000000000007, 22.630000000000038, 31.390000000000022, 40.939999999999976, 21.810000000000016, 24.370000000000008, 8.129999999999999, 14.790000000000001, 3.769999999999998]}, {\"name\": \"\\u041f\\u0440\\u043e\\u0434\\u0430\\u0436\\u0438 \\u0434\\u0440\\u0443\\u0433\\u0438\\u0445 \\u0440\\u0435\\u0433\\u0438\\u043e\\u043d\\u0430\\u0445\", \"type\": \"bar\", \"x\": [\"Action\", \"Sports\", \"Shooter\", \"Role-Playing\", \"Racing\", \"Misc\", \"Platform\", \"Fighting\", \"Simulation\", \"Adventure\", \"Puzzle\", \"Strategy\"], \"y\": [143.97999999999882, 92.75000000000068, 87.48000000000066, 37.61999999999996, 56.04999999999993, 40.06, 31.570000000000135, 23.84000000000009, 16.85000000000006, 7.9399999999999675, 6.269999999999988, 6.4199999999999715]}],\n",
       "                        {\"template\": {\"data\": {\"bar\": [{\"error_x\": {\"color\": \"#2a3f5f\"}, \"error_y\": {\"color\": \"#2a3f5f\"}, \"marker\": {\"line\": {\"color\": \"#E5ECF6\", \"width\": 0.5}}, \"type\": \"bar\"}], \"barpolar\": [{\"marker\": {\"line\": {\"color\": \"#E5ECF6\", \"width\": 0.5}}, \"type\": \"barpolar\"}], \"carpet\": [{\"aaxis\": {\"endlinecolor\": \"#2a3f5f\", \"gridcolor\": \"white\", \"linecolor\": \"white\", \"minorgridcolor\": \"white\", \"startlinecolor\": \"#2a3f5f\"}, \"baxis\": {\"endlinecolor\": \"#2a3f5f\", \"gridcolor\": \"white\", \"linecolor\": \"white\", \"minorgridcolor\": \"white\", \"startlinecolor\": \"#2a3f5f\"}, \"type\": \"carpet\"}], \"choropleth\": [{\"colorbar\": {\"outlinewidth\": 0, \"ticks\": \"\"}, \"type\": \"choropleth\"}], \"contour\": [{\"colorbar\": {\"outlinewidth\": 0, \"ticks\": \"\"}, \"colorscale\": [[0.0, \"#0d0887\"], [0.1111111111111111, \"#46039f\"], [0.2222222222222222, \"#7201a8\"], [0.3333333333333333, \"#9c179e\"], [0.4444444444444444, \"#bd3786\"], [0.5555555555555556, \"#d8576b\"], [0.6666666666666666, \"#ed7953\"], [0.7777777777777778, \"#fb9f3a\"], [0.8888888888888888, \"#fdca26\"], [1.0, \"#f0f921\"]], \"type\": \"contour\"}], \"contourcarpet\": [{\"colorbar\": {\"outlinewidth\": 0, \"ticks\": \"\"}, \"type\": \"contourcarpet\"}], \"heatmap\": [{\"colorbar\": {\"outlinewidth\": 0, \"ticks\": \"\"}, \"colorscale\": [[0.0, \"#0d0887\"], [0.1111111111111111, \"#46039f\"], [0.2222222222222222, \"#7201a8\"], [0.3333333333333333, \"#9c179e\"], [0.4444444444444444, \"#bd3786\"], [0.5555555555555556, \"#d8576b\"], [0.6666666666666666, \"#ed7953\"], [0.7777777777777778, \"#fb9f3a\"], [0.8888888888888888, \"#fdca26\"], [1.0, \"#f0f921\"]], \"type\": \"heatmap\"}], \"heatmapgl\": [{\"colorbar\": {\"outlinewidth\": 0, \"ticks\": \"\"}, \"colorscale\": [[0.0, \"#0d0887\"], [0.1111111111111111, \"#46039f\"], [0.2222222222222222, \"#7201a8\"], [0.3333333333333333, \"#9c179e\"], [0.4444444444444444, \"#bd3786\"], [0.5555555555555556, \"#d8576b\"], [0.6666666666666666, \"#ed7953\"], [0.7777777777777778, \"#fb9f3a\"], [0.8888888888888888, \"#fdca26\"], [1.0, \"#f0f921\"]], \"type\": \"heatmapgl\"}], \"histogram\": [{\"marker\": {\"colorbar\": {\"outlinewidth\": 0, \"ticks\": \"\"}}, \"type\": \"histogram\"}], \"histogram2d\": [{\"colorbar\": {\"outlinewidth\": 0, \"ticks\": \"\"}, \"colorscale\": [[0.0, \"#0d0887\"], [0.1111111111111111, \"#46039f\"], [0.2222222222222222, \"#7201a8\"], [0.3333333333333333, \"#9c179e\"], [0.4444444444444444, \"#bd3786\"], [0.5555555555555556, \"#d8576b\"], [0.6666666666666666, \"#ed7953\"], [0.7777777777777778, \"#fb9f3a\"], [0.8888888888888888, \"#fdca26\"], [1.0, \"#f0f921\"]], \"type\": \"histogram2d\"}], \"histogram2dcontour\": [{\"colorbar\": {\"outlinewidth\": 0, \"ticks\": \"\"}, \"colorscale\": [[0.0, \"#0d0887\"], [0.1111111111111111, \"#46039f\"], [0.2222222222222222, \"#7201a8\"], [0.3333333333333333, \"#9c179e\"], [0.4444444444444444, \"#bd3786\"], [0.5555555555555556, \"#d8576b\"], [0.6666666666666666, \"#ed7953\"], [0.7777777777777778, \"#fb9f3a\"], [0.8888888888888888, \"#fdca26\"], [1.0, \"#f0f921\"]], \"type\": \"histogram2dcontour\"}], \"mesh3d\": [{\"colorbar\": {\"outlinewidth\": 0, \"ticks\": \"\"}, \"type\": \"mesh3d\"}], \"parcoords\": [{\"line\": {\"colorbar\": {\"outlinewidth\": 0, \"ticks\": \"\"}}, \"type\": \"parcoords\"}], \"scatter\": [{\"marker\": {\"colorbar\": {\"outlinewidth\": 0, \"ticks\": \"\"}}, \"type\": \"scatter\"}], \"scatter3d\": [{\"line\": {\"colorbar\": {\"outlinewidth\": 0, \"ticks\": \"\"}}, \"marker\": {\"colorbar\": {\"outlinewidth\": 0, \"ticks\": \"\"}}, \"type\": \"scatter3d\"}], \"scattercarpet\": [{\"marker\": {\"colorbar\": {\"outlinewidth\": 0, \"ticks\": \"\"}}, \"type\": \"scattercarpet\"}], \"scattergeo\": [{\"marker\": {\"colorbar\": {\"outlinewidth\": 0, \"ticks\": \"\"}}, \"type\": \"scattergeo\"}], \"scattergl\": [{\"marker\": {\"colorbar\": {\"outlinewidth\": 0, \"ticks\": \"\"}}, \"type\": \"scattergl\"}], \"scattermapbox\": [{\"marker\": {\"colorbar\": {\"outlinewidth\": 0, \"ticks\": \"\"}}, \"type\": \"scattermapbox\"}], \"scatterpolar\": [{\"marker\": {\"colorbar\": {\"outlinewidth\": 0, \"ticks\": \"\"}}, \"type\": \"scatterpolar\"}], \"scatterpolargl\": [{\"marker\": {\"colorbar\": {\"outlinewidth\": 0, \"ticks\": \"\"}}, \"type\": \"scatterpolargl\"}], \"scatterternary\": [{\"marker\": {\"colorbar\": {\"outlinewidth\": 0, \"ticks\": \"\"}}, \"type\": \"scatterternary\"}], \"surface\": [{\"colorbar\": {\"outlinewidth\": 0, \"ticks\": \"\"}, \"colorscale\": [[0.0, \"#0d0887\"], [0.1111111111111111, \"#46039f\"], [0.2222222222222222, \"#7201a8\"], [0.3333333333333333, \"#9c179e\"], [0.4444444444444444, \"#bd3786\"], [0.5555555555555556, \"#d8576b\"], [0.6666666666666666, \"#ed7953\"], [0.7777777777777778, \"#fb9f3a\"], [0.8888888888888888, \"#fdca26\"], [1.0, \"#f0f921\"]], \"type\": \"surface\"}], \"table\": [{\"cells\": {\"fill\": {\"color\": \"#EBF0F8\"}, \"line\": {\"color\": \"white\"}}, \"header\": {\"fill\": {\"color\": \"#C8D4E3\"}, \"line\": {\"color\": \"white\"}}, \"type\": \"table\"}]}, \"layout\": {\"annotationdefaults\": {\"arrowcolor\": \"#2a3f5f\", \"arrowhead\": 0, \"arrowwidth\": 1}, \"colorscale\": {\"diverging\": [[0, \"#8e0152\"], [0.1, \"#c51b7d\"], [0.2, \"#de77ae\"], [0.3, \"#f1b6da\"], [0.4, \"#fde0ef\"], [0.5, \"#f7f7f7\"], [0.6, \"#e6f5d0\"], [0.7, \"#b8e186\"], [0.8, \"#7fbc41\"], [0.9, \"#4d9221\"], [1, \"#276419\"]], \"sequential\": [[0.0, \"#0d0887\"], [0.1111111111111111, \"#46039f\"], [0.2222222222222222, \"#7201a8\"], [0.3333333333333333, \"#9c179e\"], [0.4444444444444444, \"#bd3786\"], [0.5555555555555556, \"#d8576b\"], [0.6666666666666666, \"#ed7953\"], [0.7777777777777778, \"#fb9f3a\"], [0.8888888888888888, \"#fdca26\"], [1.0, \"#f0f921\"]], \"sequentialminus\": [[0.0, \"#0d0887\"], [0.1111111111111111, \"#46039f\"], [0.2222222222222222, \"#7201a8\"], [0.3333333333333333, \"#9c179e\"], [0.4444444444444444, \"#bd3786\"], [0.5555555555555556, \"#d8576b\"], [0.6666666666666666, \"#ed7953\"], [0.7777777777777778, \"#fb9f3a\"], [0.8888888888888888, \"#fdca26\"], [1.0, \"#f0f921\"]]}, \"colorway\": [\"#636efa\", \"#EF553B\", \"#00cc96\", \"#ab63fa\", \"#FFA15A\", \"#19d3f3\", \"#FF6692\", \"#B6E880\", \"#FF97FF\", \"#FECB52\"], \"font\": {\"color\": \"#2a3f5f\"}, \"geo\": {\"bgcolor\": \"white\", \"lakecolor\": \"white\", \"landcolor\": \"#E5ECF6\", \"showlakes\": true, \"showland\": true, \"subunitcolor\": \"white\"}, \"hoverlabel\": {\"align\": \"left\"}, \"hovermode\": \"closest\", \"mapbox\": {\"style\": \"light\"}, \"paper_bgcolor\": \"white\", \"plot_bgcolor\": \"#E5ECF6\", \"polar\": {\"angularaxis\": {\"gridcolor\": \"white\", \"linecolor\": \"white\", \"ticks\": \"\"}, \"bgcolor\": \"#E5ECF6\", \"radialaxis\": {\"gridcolor\": \"white\", \"linecolor\": \"white\", \"ticks\": \"\"}}, \"scene\": {\"xaxis\": {\"backgroundcolor\": \"#E5ECF6\", \"gridcolor\": \"white\", \"gridwidth\": 2, \"linecolor\": \"white\", \"showbackground\": true, \"ticks\": \"\", \"zerolinecolor\": \"white\"}, \"yaxis\": {\"backgroundcolor\": \"#E5ECF6\", \"gridcolor\": \"white\", \"gridwidth\": 2, \"linecolor\": \"white\", \"showbackground\": true, \"ticks\": \"\", \"zerolinecolor\": \"white\"}, \"zaxis\": {\"backgroundcolor\": \"#E5ECF6\", \"gridcolor\": \"white\", \"gridwidth\": 2, \"linecolor\": \"white\", \"showbackground\": true, \"ticks\": \"\", \"zerolinecolor\": \"white\"}}, \"shapedefaults\": {\"line\": {\"color\": \"#2a3f5f\"}}, \"ternary\": {\"aaxis\": {\"gridcolor\": \"white\", \"linecolor\": \"white\", \"ticks\": \"\"}, \"baxis\": {\"gridcolor\": \"white\", \"linecolor\": \"white\", \"ticks\": \"\"}, \"bgcolor\": \"#E5ECF6\", \"caxis\": {\"gridcolor\": \"white\", \"linecolor\": \"white\", \"ticks\": \"\"}}, \"title\": {\"x\": 0.05}, \"xaxis\": {\"automargin\": true, \"gridcolor\": \"white\", \"linecolor\": \"white\", \"ticks\": \"\", \"zerolinecolor\": \"white\", \"zerolinewidth\": 2}, \"yaxis\": {\"automargin\": true, \"gridcolor\": \"white\", \"linecolor\": \"white\", \"ticks\": \"\", \"zerolinecolor\": \"white\", \"zerolinewidth\": 2}}}, \"title\": {\"text\": \"\\u041f\\u0440\\u043e\\u0434\\u0430\\u0436\\u0438 \\u0438\\u0433\\u0440 \\u043d\\u0430 \\u0440\\u0430\\u0437\\u043d\\u044b\\u0445 \\u0436\\u0430\\u043d\\u0440\\u043e\\u0432 \\u043f\\u043e \\u0440\\u0435\\u0433\\u0438\\u043e\\u043d\\u0430\\u043c\"}, \"xaxis\": {\"title\": {\"text\": \"\\u0416\\u0430\\u043d\\u0440\\u044b\"}}},\n",
       "                        {\"responsive\": true}\n",
       "                    ).then(function(){\n",
       "                            \n",
       "var gd = document.getElementById('9a9bbd9c-46da-43b2-932b-72e3e00bf43c');\n",
       "var x = new MutationObserver(function (mutations, observer) {{\n",
       "        var display = window.getComputedStyle(gd).display;\n",
       "        if (!display || display === 'none') {{\n",
       "            console.log([gd, 'removed!']);\n",
       "            Plotly.purge(gd);\n",
       "            observer.disconnect();\n",
       "        }}\n",
       "}});\n",
       "\n",
       "// Listen for the removal of the full notebook cells\n",
       "var notebookContainer = gd.closest('#notebook-container');\n",
       "if (notebookContainer) {{\n",
       "    x.observe(notebookContainer, {childList: true});\n",
       "}}\n",
       "\n",
       "// Listen for the clearing of the current output cell\n",
       "var outputEl = gd.closest('.output');\n",
       "if (outputEl) {{\n",
       "    x.observe(outputEl, {childList: true});\n",
       "}}\n",
       "\n",
       "                        })\n",
       "                };\n",
       "                });\n",
       "            </script>\n",
       "        </div>"
      ]
     },
     "metadata": {},
     "output_type": "display_data"
    }
   ],
   "source": [
    "platforms_data = data.pivot_table(index='genre', values=('na_sales', 'eu_sales',\n",
    "       'jp_sales', 'other_sales', 'world_sales'), aggfunc='sum').sort_values(by='world_sales', ascending=False)\n",
    "\n",
    "\n",
    "# создаем traces для визуализации\n",
    "trace0 = go.Bar(\n",
    "    x=platforms_data.index,\n",
    "    y=platforms_data.na_sales,\n",
    "    name='Продажи в Северной Америке'\n",
    ")\n",
    "\n",
    "trace1 = go.Bar(\n",
    "    x=platforms_data.index,\n",
    "    y=platforms_data.eu_sales,\n",
    "    name='Продажи в Европе'\n",
    ")\n",
    "\n",
    "trace2 = go.Bar(\n",
    "    x=platforms_data.index,\n",
    "    y=platforms_data.jp_sales,\n",
    "    name='Продажи в Японии'\n",
    ")\n",
    "\n",
    "trace3 = go.Bar(\n",
    "    x=platforms_data.index,\n",
    "    y=platforms_data.other_sales,\n",
    "    name='Продажи других регионах'\n",
    ")\n",
    "\n",
    "\n",
    "# создаем массив с данными и задаем title для графика и оси x в layout\n",
    "data_for_plot = [trace0, trace1, trace2, trace3]\n",
    "layout = {'title': 'Продажи игр на разных жанров по регионам', 'xaxis': {'title': 'Жанры'}}\n",
    "\n",
    "# создаем объект Figure и визуализируем его\n",
    "fig = go.Figure(data=data_for_plot, layout=layout)\n",
    "iplot(fig, show_link=False)"
   ]
  },
  {
   "cell_type": "markdown",
   "metadata": {},
   "source": [
    "<font color='blue'> Уже понятно, что у геймеров из Японии другие вкусы. В мире самые популярные жанры экшн, спорт, шутер, а у японцев ролевые, экшн и платформ."
   ]
  },
  {
   "cell_type": "markdown",
   "metadata": {},
   "source": [
    "## Шаг 4 – Портрет пользователя"
   ]
  },
  {
   "cell_type": "code",
   "execution_count": 23,
   "metadata": {},
   "outputs": [
    {
     "data": {
      "application/vnd.plotly.v1+json": {
       "config": {
        "plotlyServerURL": "https://plot.ly"
       },
       "data": [
        {
         "domain": {
          "x": [
           0,
           0.45
          ],
          "y": [
           0.625,
           1
          ]
         },
         "labels": [
          "X360",
          "PS2",
          "Wii",
          "PS3",
          "DS"
         ],
         "name": "Северная Америка",
         "scalegroup": "one",
         "type": "pie",
         "values": [
          533.4300000000001,
          459.2699999999985,
          342.9100000000005,
          341.6199999999998,
          173.4000000000003
         ]
        },
        {
         "domain": {
          "x": [
           0.55,
           1
          ],
          "y": [
           0.625,
           1
          ]
         },
         "labels": [
          "PS3",
          "PS2",
          "X360",
          "Wii",
          "PS4"
         ],
         "name": "Европа",
         "scalegroup": "one",
         "type": "pie",
         "values": [
          273.4999999999988,
          246.62000000000063,
          234.33000000000007,
          204.12999999999994,
          111.7799999999999
         ]
        },
        {
         "domain": {
          "x": [
           0,
           0.45
          ],
          "y": [
           0,
           0.375
          ]
         },
         "labels": [
          "DS",
          "PS2",
          "PS3",
          "Wii",
          "3DS"
         ],
         "name": "Япония",
         "scalegroup": "one",
         "type": "pie",
         "values": [
          83.66,
          71.08999999999999,
          54.52000000000006,
          52.36999999999995,
          33.57000000000001
         ]
        }
       ],
       "layout": {
        "annotations": [
         {
          "font": {
           "size": 16
          },
          "showarrow": false,
          "text": "Северная Америка",
          "x": 0.225,
          "xanchor": "center",
          "xref": "paper",
          "y": 1,
          "yanchor": "bottom",
          "yref": "paper"
         },
         {
          "font": {
           "size": 16
          },
          "showarrow": false,
          "text": "Европа",
          "x": 0.775,
          "xanchor": "center",
          "xref": "paper",
          "y": 1,
          "yanchor": "bottom",
          "yref": "paper"
         },
         {
          "font": {
           "size": 16
          },
          "showarrow": false,
          "text": "Япония",
          "x": 0.225,
          "xanchor": "center",
          "xref": "paper",
          "y": 0.375,
          "yanchor": "bottom",
          "yref": "paper"
         }
        ],
        "template": {
         "data": {
          "bar": [
           {
            "error_x": {
             "color": "#2a3f5f"
            },
            "error_y": {
             "color": "#2a3f5f"
            },
            "marker": {
             "line": {
              "color": "#E5ECF6",
              "width": 0.5
             }
            },
            "type": "bar"
           }
          ],
          "barpolar": [
           {
            "marker": {
             "line": {
              "color": "#E5ECF6",
              "width": 0.5
             }
            },
            "type": "barpolar"
           }
          ],
          "carpet": [
           {
            "aaxis": {
             "endlinecolor": "#2a3f5f",
             "gridcolor": "white",
             "linecolor": "white",
             "minorgridcolor": "white",
             "startlinecolor": "#2a3f5f"
            },
            "baxis": {
             "endlinecolor": "#2a3f5f",
             "gridcolor": "white",
             "linecolor": "white",
             "minorgridcolor": "white",
             "startlinecolor": "#2a3f5f"
            },
            "type": "carpet"
           }
          ],
          "choropleth": [
           {
            "colorbar": {
             "outlinewidth": 0,
             "ticks": ""
            },
            "type": "choropleth"
           }
          ],
          "contour": [
           {
            "colorbar": {
             "outlinewidth": 0,
             "ticks": ""
            },
            "colorscale": [
             [
              0,
              "#0d0887"
             ],
             [
              0.1111111111111111,
              "#46039f"
             ],
             [
              0.2222222222222222,
              "#7201a8"
             ],
             [
              0.3333333333333333,
              "#9c179e"
             ],
             [
              0.4444444444444444,
              "#bd3786"
             ],
             [
              0.5555555555555556,
              "#d8576b"
             ],
             [
              0.6666666666666666,
              "#ed7953"
             ],
             [
              0.7777777777777778,
              "#fb9f3a"
             ],
             [
              0.8888888888888888,
              "#fdca26"
             ],
             [
              1,
              "#f0f921"
             ]
            ],
            "type": "contour"
           }
          ],
          "contourcarpet": [
           {
            "colorbar": {
             "outlinewidth": 0,
             "ticks": ""
            },
            "type": "contourcarpet"
           }
          ],
          "heatmap": [
           {
            "colorbar": {
             "outlinewidth": 0,
             "ticks": ""
            },
            "colorscale": [
             [
              0,
              "#0d0887"
             ],
             [
              0.1111111111111111,
              "#46039f"
             ],
             [
              0.2222222222222222,
              "#7201a8"
             ],
             [
              0.3333333333333333,
              "#9c179e"
             ],
             [
              0.4444444444444444,
              "#bd3786"
             ],
             [
              0.5555555555555556,
              "#d8576b"
             ],
             [
              0.6666666666666666,
              "#ed7953"
             ],
             [
              0.7777777777777778,
              "#fb9f3a"
             ],
             [
              0.8888888888888888,
              "#fdca26"
             ],
             [
              1,
              "#f0f921"
             ]
            ],
            "type": "heatmap"
           }
          ],
          "heatmapgl": [
           {
            "colorbar": {
             "outlinewidth": 0,
             "ticks": ""
            },
            "colorscale": [
             [
              0,
              "#0d0887"
             ],
             [
              0.1111111111111111,
              "#46039f"
             ],
             [
              0.2222222222222222,
              "#7201a8"
             ],
             [
              0.3333333333333333,
              "#9c179e"
             ],
             [
              0.4444444444444444,
              "#bd3786"
             ],
             [
              0.5555555555555556,
              "#d8576b"
             ],
             [
              0.6666666666666666,
              "#ed7953"
             ],
             [
              0.7777777777777778,
              "#fb9f3a"
             ],
             [
              0.8888888888888888,
              "#fdca26"
             ],
             [
              1,
              "#f0f921"
             ]
            ],
            "type": "heatmapgl"
           }
          ],
          "histogram": [
           {
            "marker": {
             "colorbar": {
              "outlinewidth": 0,
              "ticks": ""
             }
            },
            "type": "histogram"
           }
          ],
          "histogram2d": [
           {
            "colorbar": {
             "outlinewidth": 0,
             "ticks": ""
            },
            "colorscale": [
             [
              0,
              "#0d0887"
             ],
             [
              0.1111111111111111,
              "#46039f"
             ],
             [
              0.2222222222222222,
              "#7201a8"
             ],
             [
              0.3333333333333333,
              "#9c179e"
             ],
             [
              0.4444444444444444,
              "#bd3786"
             ],
             [
              0.5555555555555556,
              "#d8576b"
             ],
             [
              0.6666666666666666,
              "#ed7953"
             ],
             [
              0.7777777777777778,
              "#fb9f3a"
             ],
             [
              0.8888888888888888,
              "#fdca26"
             ],
             [
              1,
              "#f0f921"
             ]
            ],
            "type": "histogram2d"
           }
          ],
          "histogram2dcontour": [
           {
            "colorbar": {
             "outlinewidth": 0,
             "ticks": ""
            },
            "colorscale": [
             [
              0,
              "#0d0887"
             ],
             [
              0.1111111111111111,
              "#46039f"
             ],
             [
              0.2222222222222222,
              "#7201a8"
             ],
             [
              0.3333333333333333,
              "#9c179e"
             ],
             [
              0.4444444444444444,
              "#bd3786"
             ],
             [
              0.5555555555555556,
              "#d8576b"
             ],
             [
              0.6666666666666666,
              "#ed7953"
             ],
             [
              0.7777777777777778,
              "#fb9f3a"
             ],
             [
              0.8888888888888888,
              "#fdca26"
             ],
             [
              1,
              "#f0f921"
             ]
            ],
            "type": "histogram2dcontour"
           }
          ],
          "mesh3d": [
           {
            "colorbar": {
             "outlinewidth": 0,
             "ticks": ""
            },
            "type": "mesh3d"
           }
          ],
          "parcoords": [
           {
            "line": {
             "colorbar": {
              "outlinewidth": 0,
              "ticks": ""
             }
            },
            "type": "parcoords"
           }
          ],
          "scatter": [
           {
            "marker": {
             "colorbar": {
              "outlinewidth": 0,
              "ticks": ""
             }
            },
            "type": "scatter"
           }
          ],
          "scatter3d": [
           {
            "line": {
             "colorbar": {
              "outlinewidth": 0,
              "ticks": ""
             }
            },
            "marker": {
             "colorbar": {
              "outlinewidth": 0,
              "ticks": ""
             }
            },
            "type": "scatter3d"
           }
          ],
          "scattercarpet": [
           {
            "marker": {
             "colorbar": {
              "outlinewidth": 0,
              "ticks": ""
             }
            },
            "type": "scattercarpet"
           }
          ],
          "scattergeo": [
           {
            "marker": {
             "colorbar": {
              "outlinewidth": 0,
              "ticks": ""
             }
            },
            "type": "scattergeo"
           }
          ],
          "scattergl": [
           {
            "marker": {
             "colorbar": {
              "outlinewidth": 0,
              "ticks": ""
             }
            },
            "type": "scattergl"
           }
          ],
          "scattermapbox": [
           {
            "marker": {
             "colorbar": {
              "outlinewidth": 0,
              "ticks": ""
             }
            },
            "type": "scattermapbox"
           }
          ],
          "scatterpolar": [
           {
            "marker": {
             "colorbar": {
              "outlinewidth": 0,
              "ticks": ""
             }
            },
            "type": "scatterpolar"
           }
          ],
          "scatterpolargl": [
           {
            "marker": {
             "colorbar": {
              "outlinewidth": 0,
              "ticks": ""
             }
            },
            "type": "scatterpolargl"
           }
          ],
          "scatterternary": [
           {
            "marker": {
             "colorbar": {
              "outlinewidth": 0,
              "ticks": ""
             }
            },
            "type": "scatterternary"
           }
          ],
          "surface": [
           {
            "colorbar": {
             "outlinewidth": 0,
             "ticks": ""
            },
            "colorscale": [
             [
              0,
              "#0d0887"
             ],
             [
              0.1111111111111111,
              "#46039f"
             ],
             [
              0.2222222222222222,
              "#7201a8"
             ],
             [
              0.3333333333333333,
              "#9c179e"
             ],
             [
              0.4444444444444444,
              "#bd3786"
             ],
             [
              0.5555555555555556,
              "#d8576b"
             ],
             [
              0.6666666666666666,
              "#ed7953"
             ],
             [
              0.7777777777777778,
              "#fb9f3a"
             ],
             [
              0.8888888888888888,
              "#fdca26"
             ],
             [
              1,
              "#f0f921"
             ]
            ],
            "type": "surface"
           }
          ],
          "table": [
           {
            "cells": {
             "fill": {
              "color": "#EBF0F8"
             },
             "line": {
              "color": "white"
             }
            },
            "header": {
             "fill": {
              "color": "#C8D4E3"
             },
             "line": {
              "color": "white"
             }
            },
            "type": "table"
           }
          ]
         },
         "layout": {
          "annotationdefaults": {
           "arrowcolor": "#2a3f5f",
           "arrowhead": 0,
           "arrowwidth": 1
          },
          "colorscale": {
           "diverging": [
            [
             0,
             "#8e0152"
            ],
            [
             0.1,
             "#c51b7d"
            ],
            [
             0.2,
             "#de77ae"
            ],
            [
             0.3,
             "#f1b6da"
            ],
            [
             0.4,
             "#fde0ef"
            ],
            [
             0.5,
             "#f7f7f7"
            ],
            [
             0.6,
             "#e6f5d0"
            ],
            [
             0.7,
             "#b8e186"
            ],
            [
             0.8,
             "#7fbc41"
            ],
            [
             0.9,
             "#4d9221"
            ],
            [
             1,
             "#276419"
            ]
           ],
           "sequential": [
            [
             0,
             "#0d0887"
            ],
            [
             0.1111111111111111,
             "#46039f"
            ],
            [
             0.2222222222222222,
             "#7201a8"
            ],
            [
             0.3333333333333333,
             "#9c179e"
            ],
            [
             0.4444444444444444,
             "#bd3786"
            ],
            [
             0.5555555555555556,
             "#d8576b"
            ],
            [
             0.6666666666666666,
             "#ed7953"
            ],
            [
             0.7777777777777778,
             "#fb9f3a"
            ],
            [
             0.8888888888888888,
             "#fdca26"
            ],
            [
             1,
             "#f0f921"
            ]
           ],
           "sequentialminus": [
            [
             0,
             "#0d0887"
            ],
            [
             0.1111111111111111,
             "#46039f"
            ],
            [
             0.2222222222222222,
             "#7201a8"
            ],
            [
             0.3333333333333333,
             "#9c179e"
            ],
            [
             0.4444444444444444,
             "#bd3786"
            ],
            [
             0.5555555555555556,
             "#d8576b"
            ],
            [
             0.6666666666666666,
             "#ed7953"
            ],
            [
             0.7777777777777778,
             "#fb9f3a"
            ],
            [
             0.8888888888888888,
             "#fdca26"
            ],
            [
             1,
             "#f0f921"
            ]
           ]
          },
          "colorway": [
           "#636efa",
           "#EF553B",
           "#00cc96",
           "#ab63fa",
           "#FFA15A",
           "#19d3f3",
           "#FF6692",
           "#B6E880",
           "#FF97FF",
           "#FECB52"
          ],
          "font": {
           "color": "#2a3f5f"
          },
          "geo": {
           "bgcolor": "white",
           "lakecolor": "white",
           "landcolor": "#E5ECF6",
           "showlakes": true,
           "showland": true,
           "subunitcolor": "white"
          },
          "hoverlabel": {
           "align": "left"
          },
          "hovermode": "closest",
          "mapbox": {
           "style": "light"
          },
          "paper_bgcolor": "white",
          "plot_bgcolor": "#E5ECF6",
          "polar": {
           "angularaxis": {
            "gridcolor": "white",
            "linecolor": "white",
            "ticks": ""
           },
           "bgcolor": "#E5ECF6",
           "radialaxis": {
            "gridcolor": "white",
            "linecolor": "white",
            "ticks": ""
           }
          },
          "scene": {
           "xaxis": {
            "backgroundcolor": "#E5ECF6",
            "gridcolor": "white",
            "gridwidth": 2,
            "linecolor": "white",
            "showbackground": true,
            "ticks": "",
            "zerolinecolor": "white"
           },
           "yaxis": {
            "backgroundcolor": "#E5ECF6",
            "gridcolor": "white",
            "gridwidth": 2,
            "linecolor": "white",
            "showbackground": true,
            "ticks": "",
            "zerolinecolor": "white"
           },
           "zaxis": {
            "backgroundcolor": "#E5ECF6",
            "gridcolor": "white",
            "gridwidth": 2,
            "linecolor": "white",
            "showbackground": true,
            "ticks": "",
            "zerolinecolor": "white"
           }
          },
          "shapedefaults": {
           "line": {
            "color": "#2a3f5f"
           }
          },
          "ternary": {
           "aaxis": {
            "gridcolor": "white",
            "linecolor": "white",
            "ticks": ""
           },
           "baxis": {
            "gridcolor": "white",
            "linecolor": "white",
            "ticks": ""
           },
           "bgcolor": "#E5ECF6",
           "caxis": {
            "gridcolor": "white",
            "linecolor": "white",
            "ticks": ""
           }
          },
          "title": {
           "x": 0.05
          },
          "xaxis": {
           "automargin": true,
           "gridcolor": "white",
           "linecolor": "white",
           "ticks": "",
           "zerolinecolor": "white",
           "zerolinewidth": 2
          },
          "yaxis": {
           "automargin": true,
           "gridcolor": "white",
           "linecolor": "white",
           "ticks": "",
           "zerolinecolor": "white",
           "zerolinewidth": 2
          }
         }
        },
        "title": {
         "text": "ТОП5 платформ в разных регионах"
        }
       }
      },
      "text/html": [
       "<div>\n",
       "        \n",
       "        \n",
       "            <div id=\"6d90d54b-a19a-473d-ad76-a213d79ecd93\" class=\"plotly-graph-div\" style=\"height:525px; width:100%;\"></div>\n",
       "            <script type=\"text/javascript\">\n",
       "                require([\"plotly\"], function(Plotly) {\n",
       "                    window.PLOTLYENV=window.PLOTLYENV || {};\n",
       "                    \n",
       "                if (document.getElementById(\"6d90d54b-a19a-473d-ad76-a213d79ecd93\")) {\n",
       "                    Plotly.newPlot(\n",
       "                        '6d90d54b-a19a-473d-ad76-a213d79ecd93',\n",
       "                        [{\"domain\": {\"x\": [0.0, 0.45], \"y\": [0.625, 1.0]}, \"labels\": [\"X360\", \"PS2\", \"Wii\", \"PS3\", \"DS\"], \"name\": \"\\u0421\\u0435\\u0432\\u0435\\u0440\\u043d\\u0430\\u044f \\u0410\\u043c\\u0435\\u0440\\u0438\\u043a\\u0430\", \"scalegroup\": \"one\", \"type\": \"pie\", \"values\": [533.4300000000001, 459.2699999999985, 342.9100000000005, 341.6199999999998, 173.4000000000003]}, {\"domain\": {\"x\": [0.55, 1.0], \"y\": [0.625, 1.0]}, \"labels\": [\"PS3\", \"PS2\", \"X360\", \"Wii\", \"PS4\"], \"name\": \"\\u0415\\u0432\\u0440\\u043e\\u043f\\u0430\", \"scalegroup\": \"one\", \"type\": \"pie\", \"values\": [273.4999999999988, 246.62000000000063, 234.33000000000007, 204.12999999999994, 111.7799999999999]}, {\"domain\": {\"x\": [0.0, 0.45], \"y\": [0.0, 0.375]}, \"labels\": [\"DS\", \"PS2\", \"PS3\", \"Wii\", \"3DS\"], \"name\": \"\\u042f\\u043f\\u043e\\u043d\\u0438\\u044f\", \"scalegroup\": \"one\", \"type\": \"pie\", \"values\": [83.66, 71.08999999999999, 54.52000000000006, 52.36999999999995, 33.57000000000001]}],\n",
       "                        {\"annotations\": [{\"font\": {\"size\": 16}, \"showarrow\": false, \"text\": \"\\u0421\\u0435\\u0432\\u0435\\u0440\\u043d\\u0430\\u044f \\u0410\\u043c\\u0435\\u0440\\u0438\\u043a\\u0430\", \"x\": 0.225, \"xanchor\": \"center\", \"xref\": \"paper\", \"y\": 1.0, \"yanchor\": \"bottom\", \"yref\": \"paper\"}, {\"font\": {\"size\": 16}, \"showarrow\": false, \"text\": \"\\u0415\\u0432\\u0440\\u043e\\u043f\\u0430\", \"x\": 0.775, \"xanchor\": \"center\", \"xref\": \"paper\", \"y\": 1.0, \"yanchor\": \"bottom\", \"yref\": \"paper\"}, {\"font\": {\"size\": 16}, \"showarrow\": false, \"text\": \"\\u042f\\u043f\\u043e\\u043d\\u0438\\u044f\", \"x\": 0.225, \"xanchor\": \"center\", \"xref\": \"paper\", \"y\": 0.375, \"yanchor\": \"bottom\", \"yref\": \"paper\"}], \"template\": {\"data\": {\"bar\": [{\"error_x\": {\"color\": \"#2a3f5f\"}, \"error_y\": {\"color\": \"#2a3f5f\"}, \"marker\": {\"line\": {\"color\": \"#E5ECF6\", \"width\": 0.5}}, \"type\": \"bar\"}], \"barpolar\": [{\"marker\": {\"line\": {\"color\": \"#E5ECF6\", \"width\": 0.5}}, \"type\": \"barpolar\"}], \"carpet\": [{\"aaxis\": {\"endlinecolor\": \"#2a3f5f\", \"gridcolor\": \"white\", \"linecolor\": \"white\", \"minorgridcolor\": \"white\", \"startlinecolor\": \"#2a3f5f\"}, \"baxis\": {\"endlinecolor\": \"#2a3f5f\", \"gridcolor\": \"white\", \"linecolor\": \"white\", \"minorgridcolor\": \"white\", \"startlinecolor\": \"#2a3f5f\"}, \"type\": \"carpet\"}], \"choropleth\": [{\"colorbar\": {\"outlinewidth\": 0, \"ticks\": \"\"}, \"type\": \"choropleth\"}], \"contour\": [{\"colorbar\": {\"outlinewidth\": 0, \"ticks\": \"\"}, \"colorscale\": [[0.0, \"#0d0887\"], [0.1111111111111111, \"#46039f\"], [0.2222222222222222, \"#7201a8\"], [0.3333333333333333, \"#9c179e\"], [0.4444444444444444, \"#bd3786\"], [0.5555555555555556, \"#d8576b\"], [0.6666666666666666, \"#ed7953\"], [0.7777777777777778, \"#fb9f3a\"], [0.8888888888888888, \"#fdca26\"], [1.0, \"#f0f921\"]], \"type\": \"contour\"}], \"contourcarpet\": [{\"colorbar\": {\"outlinewidth\": 0, \"ticks\": \"\"}, \"type\": \"contourcarpet\"}], \"heatmap\": [{\"colorbar\": {\"outlinewidth\": 0, \"ticks\": \"\"}, \"colorscale\": [[0.0, \"#0d0887\"], [0.1111111111111111, \"#46039f\"], [0.2222222222222222, \"#7201a8\"], [0.3333333333333333, \"#9c179e\"], [0.4444444444444444, \"#bd3786\"], [0.5555555555555556, \"#d8576b\"], [0.6666666666666666, \"#ed7953\"], [0.7777777777777778, \"#fb9f3a\"], [0.8888888888888888, \"#fdca26\"], [1.0, \"#f0f921\"]], \"type\": \"heatmap\"}], \"heatmapgl\": [{\"colorbar\": {\"outlinewidth\": 0, \"ticks\": \"\"}, \"colorscale\": [[0.0, \"#0d0887\"], [0.1111111111111111, \"#46039f\"], [0.2222222222222222, \"#7201a8\"], [0.3333333333333333, \"#9c179e\"], [0.4444444444444444, \"#bd3786\"], [0.5555555555555556, \"#d8576b\"], [0.6666666666666666, \"#ed7953\"], [0.7777777777777778, \"#fb9f3a\"], [0.8888888888888888, \"#fdca26\"], [1.0, \"#f0f921\"]], \"type\": \"heatmapgl\"}], \"histogram\": [{\"marker\": {\"colorbar\": {\"outlinewidth\": 0, \"ticks\": \"\"}}, \"type\": \"histogram\"}], \"histogram2d\": [{\"colorbar\": {\"outlinewidth\": 0, \"ticks\": \"\"}, \"colorscale\": [[0.0, \"#0d0887\"], [0.1111111111111111, \"#46039f\"], [0.2222222222222222, \"#7201a8\"], [0.3333333333333333, \"#9c179e\"], [0.4444444444444444, \"#bd3786\"], [0.5555555555555556, \"#d8576b\"], [0.6666666666666666, \"#ed7953\"], [0.7777777777777778, \"#fb9f3a\"], [0.8888888888888888, \"#fdca26\"], [1.0, \"#f0f921\"]], \"type\": \"histogram2d\"}], \"histogram2dcontour\": [{\"colorbar\": {\"outlinewidth\": 0, \"ticks\": \"\"}, \"colorscale\": [[0.0, \"#0d0887\"], [0.1111111111111111, \"#46039f\"], [0.2222222222222222, \"#7201a8\"], [0.3333333333333333, \"#9c179e\"], [0.4444444444444444, \"#bd3786\"], [0.5555555555555556, \"#d8576b\"], [0.6666666666666666, \"#ed7953\"], [0.7777777777777778, \"#fb9f3a\"], [0.8888888888888888, \"#fdca26\"], [1.0, \"#f0f921\"]], \"type\": \"histogram2dcontour\"}], \"mesh3d\": [{\"colorbar\": {\"outlinewidth\": 0, \"ticks\": \"\"}, \"type\": \"mesh3d\"}], \"parcoords\": [{\"line\": {\"colorbar\": {\"outlinewidth\": 0, \"ticks\": \"\"}}, \"type\": \"parcoords\"}], \"scatter\": [{\"marker\": {\"colorbar\": {\"outlinewidth\": 0, \"ticks\": \"\"}}, \"type\": \"scatter\"}], \"scatter3d\": [{\"line\": {\"colorbar\": {\"outlinewidth\": 0, \"ticks\": \"\"}}, \"marker\": {\"colorbar\": {\"outlinewidth\": 0, \"ticks\": \"\"}}, \"type\": \"scatter3d\"}], \"scattercarpet\": [{\"marker\": {\"colorbar\": {\"outlinewidth\": 0, \"ticks\": \"\"}}, \"type\": \"scattercarpet\"}], \"scattergeo\": [{\"marker\": {\"colorbar\": {\"outlinewidth\": 0, \"ticks\": \"\"}}, \"type\": \"scattergeo\"}], \"scattergl\": [{\"marker\": {\"colorbar\": {\"outlinewidth\": 0, \"ticks\": \"\"}}, \"type\": \"scattergl\"}], \"scattermapbox\": [{\"marker\": {\"colorbar\": {\"outlinewidth\": 0, \"ticks\": \"\"}}, \"type\": \"scattermapbox\"}], \"scatterpolar\": [{\"marker\": {\"colorbar\": {\"outlinewidth\": 0, \"ticks\": \"\"}}, \"type\": \"scatterpolar\"}], \"scatterpolargl\": [{\"marker\": {\"colorbar\": {\"outlinewidth\": 0, \"ticks\": \"\"}}, \"type\": \"scatterpolargl\"}], \"scatterternary\": [{\"marker\": {\"colorbar\": {\"outlinewidth\": 0, \"ticks\": \"\"}}, \"type\": \"scatterternary\"}], \"surface\": [{\"colorbar\": {\"outlinewidth\": 0, \"ticks\": \"\"}, \"colorscale\": [[0.0, \"#0d0887\"], [0.1111111111111111, \"#46039f\"], [0.2222222222222222, \"#7201a8\"], [0.3333333333333333, \"#9c179e\"], [0.4444444444444444, \"#bd3786\"], [0.5555555555555556, \"#d8576b\"], [0.6666666666666666, \"#ed7953\"], [0.7777777777777778, \"#fb9f3a\"], [0.8888888888888888, \"#fdca26\"], [1.0, \"#f0f921\"]], \"type\": \"surface\"}], \"table\": [{\"cells\": {\"fill\": {\"color\": \"#EBF0F8\"}, \"line\": {\"color\": \"white\"}}, \"header\": {\"fill\": {\"color\": \"#C8D4E3\"}, \"line\": {\"color\": \"white\"}}, \"type\": \"table\"}]}, \"layout\": {\"annotationdefaults\": {\"arrowcolor\": \"#2a3f5f\", \"arrowhead\": 0, \"arrowwidth\": 1}, \"colorscale\": {\"diverging\": [[0, \"#8e0152\"], [0.1, \"#c51b7d\"], [0.2, \"#de77ae\"], [0.3, \"#f1b6da\"], [0.4, \"#fde0ef\"], [0.5, \"#f7f7f7\"], [0.6, \"#e6f5d0\"], [0.7, \"#b8e186\"], [0.8, \"#7fbc41\"], [0.9, \"#4d9221\"], [1, \"#276419\"]], \"sequential\": [[0.0, \"#0d0887\"], [0.1111111111111111, \"#46039f\"], [0.2222222222222222, \"#7201a8\"], [0.3333333333333333, \"#9c179e\"], [0.4444444444444444, \"#bd3786\"], [0.5555555555555556, \"#d8576b\"], [0.6666666666666666, \"#ed7953\"], [0.7777777777777778, \"#fb9f3a\"], [0.8888888888888888, \"#fdca26\"], [1.0, \"#f0f921\"]], \"sequentialminus\": [[0.0, \"#0d0887\"], [0.1111111111111111, \"#46039f\"], [0.2222222222222222, \"#7201a8\"], [0.3333333333333333, \"#9c179e\"], [0.4444444444444444, \"#bd3786\"], [0.5555555555555556, \"#d8576b\"], [0.6666666666666666, \"#ed7953\"], [0.7777777777777778, \"#fb9f3a\"], [0.8888888888888888, \"#fdca26\"], [1.0, \"#f0f921\"]]}, \"colorway\": [\"#636efa\", \"#EF553B\", \"#00cc96\", \"#ab63fa\", \"#FFA15A\", \"#19d3f3\", \"#FF6692\", \"#B6E880\", \"#FF97FF\", \"#FECB52\"], \"font\": {\"color\": \"#2a3f5f\"}, \"geo\": {\"bgcolor\": \"white\", \"lakecolor\": \"white\", \"landcolor\": \"#E5ECF6\", \"showlakes\": true, \"showland\": true, \"subunitcolor\": \"white\"}, \"hoverlabel\": {\"align\": \"left\"}, \"hovermode\": \"closest\", \"mapbox\": {\"style\": \"light\"}, \"paper_bgcolor\": \"white\", \"plot_bgcolor\": \"#E5ECF6\", \"polar\": {\"angularaxis\": {\"gridcolor\": \"white\", \"linecolor\": \"white\", \"ticks\": \"\"}, \"bgcolor\": \"#E5ECF6\", \"radialaxis\": {\"gridcolor\": \"white\", \"linecolor\": \"white\", \"ticks\": \"\"}}, \"scene\": {\"xaxis\": {\"backgroundcolor\": \"#E5ECF6\", \"gridcolor\": \"white\", \"gridwidth\": 2, \"linecolor\": \"white\", \"showbackground\": true, \"ticks\": \"\", \"zerolinecolor\": \"white\"}, \"yaxis\": {\"backgroundcolor\": \"#E5ECF6\", \"gridcolor\": \"white\", \"gridwidth\": 2, \"linecolor\": \"white\", \"showbackground\": true, \"ticks\": \"\", \"zerolinecolor\": \"white\"}, \"zaxis\": {\"backgroundcolor\": \"#E5ECF6\", \"gridcolor\": \"white\", \"gridwidth\": 2, \"linecolor\": \"white\", \"showbackground\": true, \"ticks\": \"\", \"zerolinecolor\": \"white\"}}, \"shapedefaults\": {\"line\": {\"color\": \"#2a3f5f\"}}, \"ternary\": {\"aaxis\": {\"gridcolor\": \"white\", \"linecolor\": \"white\", \"ticks\": \"\"}, \"baxis\": {\"gridcolor\": \"white\", \"linecolor\": \"white\", \"ticks\": \"\"}, \"bgcolor\": \"#E5ECF6\", \"caxis\": {\"gridcolor\": \"white\", \"linecolor\": \"white\", \"ticks\": \"\"}}, \"title\": {\"x\": 0.05}, \"xaxis\": {\"automargin\": true, \"gridcolor\": \"white\", \"linecolor\": \"white\", \"ticks\": \"\", \"zerolinecolor\": \"white\", \"zerolinewidth\": 2}, \"yaxis\": {\"automargin\": true, \"gridcolor\": \"white\", \"linecolor\": \"white\", \"ticks\": \"\", \"zerolinecolor\": \"white\", \"zerolinewidth\": 2}}}, \"title\": {\"text\": \"\\u0422\\u041e\\u041f5 \\u043f\\u043b\\u0430\\u0442\\u0444\\u043e\\u0440\\u043c \\u0432 \\u0440\\u0430\\u0437\\u043d\\u044b\\u0445 \\u0440\\u0435\\u0433\\u0438\\u043e\\u043d\\u0430\\u0445\"}},\n",
       "                        {\"responsive\": true}\n",
       "                    ).then(function(){\n",
       "                            \n",
       "var gd = document.getElementById('6d90d54b-a19a-473d-ad76-a213d79ecd93');\n",
       "var x = new MutationObserver(function (mutations, observer) {{\n",
       "        var display = window.getComputedStyle(gd).display;\n",
       "        if (!display || display === 'none') {{\n",
       "            console.log([gd, 'removed!']);\n",
       "            Plotly.purge(gd);\n",
       "            observer.disconnect();\n",
       "        }}\n",
       "}});\n",
       "\n",
       "// Listen for the removal of the full notebook cells\n",
       "var notebookContainer = gd.closest('#notebook-container');\n",
       "if (notebookContainer) {{\n",
       "    x.observe(notebookContainer, {childList: true});\n",
       "}}\n",
       "\n",
       "// Listen for the clearing of the current output cell\n",
       "var outputEl = gd.closest('.output');\n",
       "if (outputEl) {{\n",
       "    x.observe(outputEl, {childList: true});\n",
       "}}\n",
       "\n",
       "                        })\n",
       "                };\n",
       "                });\n",
       "            </script>\n",
       "        </div>"
      ]
     },
     "metadata": {},
     "output_type": "display_data"
    }
   ],
   "source": [
    "na_platform = data.pivot_table(index='platform', \n",
    "                               values='na_sales', aggfunc='sum').sort_values(by='na_sales', ascending=False).head(5)\n",
    "\n",
    "eu_platform = data.pivot_table(index='platform', \n",
    "                               values='eu_sales', aggfunc='sum').sort_values(by='eu_sales', ascending=False).head(5)\n",
    "\n",
    "jp_platform = data.pivot_table(index='platform', \n",
    "                               values='jp_sales', aggfunc='sum').sort_values(by='jp_sales', ascending=False).head(5)\n",
    "\n",
    "#Создаём переменные для лэйблов и значений\n",
    "na_labels = na_platform.index\n",
    "na_values = na_platform.na_sales\n",
    "\n",
    "eu_labels = eu_platform.index\n",
    "eu_values = eu_platform.eu_sales\n",
    "\n",
    "jp_labels = jp_platform.index\n",
    "jp_values = jp_platform.jp_sales\n",
    "\n",
    "\n",
    "\n",
    "#Создаём сабплоты\n",
    "fig = make_subplots(2, 2, \n",
    "                    specs=[[{'type':'domain'}, {'type':'domain'}], [{'type':'domain'}, {'type':'domain'}]],\n",
    "                    subplot_titles=['Северная Америка', 'Европа', 'Япония'])\n",
    "\n",
    "fig.add_trace(go.Pie(labels=na_labels, values=na_values, scalegroup='one',\n",
    "                     name=\"Северная Америка\"), 1, 1)\n",
    "\n",
    "fig.add_trace(go.Pie(labels=eu_labels, values=eu_values, scalegroup='one',\n",
    "                     name=\"Европа\"), 1, 2)\n",
    "\n",
    "fig.add_trace(go.Pie(labels=jp_labels, values=jp_values, scalegroup='one',\n",
    "                     name=\"Япония\"), 2, 1)\n",
    "\n",
    "\n",
    "\n",
    "\n",
    "\n",
    "fig.update_layout(title_text='ТОП5 платформ в разных регионах')\n",
    "fig.show()"
   ]
  },
  {
   "cell_type": "code",
   "execution_count": 24,
   "metadata": {},
   "outputs": [
    {
     "data": {
      "application/vnd.plotly.v1+json": {
       "config": {
        "plotlyServerURL": "https://plot.ly"
       },
       "data": [
        {
         "domain": {
          "x": [
           0,
           0.45
          ],
          "y": [
           0.625,
           1
          ]
         },
         "labels": [
          "Action",
          "Sports",
          "Shooter",
          "Misc",
          "Racing"
         ],
         "name": "Северная Америка",
         "scalegroup": "one",
         "type": "pie",
         "values": [
          567.3199999999957,
          442.9099999999989,
          441.67999999999915,
          218.52000000000032,
          207.8200000000004
         ]
        },
        {
         "domain": {
          "x": [
           0.55,
           1
          ],
          "y": [
           0.625,
           1
          ]
         },
         "labels": [
          "Action",
          "Shooter",
          "Sports",
          "Racing",
          "Misc"
         ],
         "name": "Европа",
         "scalegroup": "one",
         "type": "pie",
         "values": [
          369.1399999999936,
          258.85999999999865,
          242.16000000000037,
          151.18000000000026,
          117.6200000000002
         ]
        },
        {
         "domain": {
          "x": [
           0,
           0.45
          ],
          "y": [
           0,
           0.375
          ]
         },
         "labels": [
          "Role-Playing",
          "Action",
          "Platform",
          "Sports",
          "Misc"
         ],
         "name": "Япония",
         "scalegroup": "one",
         "type": "pie",
         "values": [
          103.13000000000007,
          69.46000000000011,
          40.939999999999976,
          33.68000000000004,
          31.390000000000022
         ]
        }
       ],
       "layout": {
        "annotations": [
         {
          "font": {
           "size": 16
          },
          "showarrow": false,
          "text": "Северная Америка",
          "x": 0.225,
          "xanchor": "center",
          "xref": "paper",
          "y": 1,
          "yanchor": "bottom",
          "yref": "paper"
         },
         {
          "font": {
           "size": 16
          },
          "showarrow": false,
          "text": "Европа",
          "x": 0.775,
          "xanchor": "center",
          "xref": "paper",
          "y": 1,
          "yanchor": "bottom",
          "yref": "paper"
         },
         {
          "font": {
           "size": 16
          },
          "showarrow": false,
          "text": "Япония",
          "x": 0.225,
          "xanchor": "center",
          "xref": "paper",
          "y": 0.375,
          "yanchor": "bottom",
          "yref": "paper"
         }
        ],
        "template": {
         "data": {
          "bar": [
           {
            "error_x": {
             "color": "#2a3f5f"
            },
            "error_y": {
             "color": "#2a3f5f"
            },
            "marker": {
             "line": {
              "color": "#E5ECF6",
              "width": 0.5
             }
            },
            "type": "bar"
           }
          ],
          "barpolar": [
           {
            "marker": {
             "line": {
              "color": "#E5ECF6",
              "width": 0.5
             }
            },
            "type": "barpolar"
           }
          ],
          "carpet": [
           {
            "aaxis": {
             "endlinecolor": "#2a3f5f",
             "gridcolor": "white",
             "linecolor": "white",
             "minorgridcolor": "white",
             "startlinecolor": "#2a3f5f"
            },
            "baxis": {
             "endlinecolor": "#2a3f5f",
             "gridcolor": "white",
             "linecolor": "white",
             "minorgridcolor": "white",
             "startlinecolor": "#2a3f5f"
            },
            "type": "carpet"
           }
          ],
          "choropleth": [
           {
            "colorbar": {
             "outlinewidth": 0,
             "ticks": ""
            },
            "type": "choropleth"
           }
          ],
          "contour": [
           {
            "colorbar": {
             "outlinewidth": 0,
             "ticks": ""
            },
            "colorscale": [
             [
              0,
              "#0d0887"
             ],
             [
              0.1111111111111111,
              "#46039f"
             ],
             [
              0.2222222222222222,
              "#7201a8"
             ],
             [
              0.3333333333333333,
              "#9c179e"
             ],
             [
              0.4444444444444444,
              "#bd3786"
             ],
             [
              0.5555555555555556,
              "#d8576b"
             ],
             [
              0.6666666666666666,
              "#ed7953"
             ],
             [
              0.7777777777777778,
              "#fb9f3a"
             ],
             [
              0.8888888888888888,
              "#fdca26"
             ],
             [
              1,
              "#f0f921"
             ]
            ],
            "type": "contour"
           }
          ],
          "contourcarpet": [
           {
            "colorbar": {
             "outlinewidth": 0,
             "ticks": ""
            },
            "type": "contourcarpet"
           }
          ],
          "heatmap": [
           {
            "colorbar": {
             "outlinewidth": 0,
             "ticks": ""
            },
            "colorscale": [
             [
              0,
              "#0d0887"
             ],
             [
              0.1111111111111111,
              "#46039f"
             ],
             [
              0.2222222222222222,
              "#7201a8"
             ],
             [
              0.3333333333333333,
              "#9c179e"
             ],
             [
              0.4444444444444444,
              "#bd3786"
             ],
             [
              0.5555555555555556,
              "#d8576b"
             ],
             [
              0.6666666666666666,
              "#ed7953"
             ],
             [
              0.7777777777777778,
              "#fb9f3a"
             ],
             [
              0.8888888888888888,
              "#fdca26"
             ],
             [
              1,
              "#f0f921"
             ]
            ],
            "type": "heatmap"
           }
          ],
          "heatmapgl": [
           {
            "colorbar": {
             "outlinewidth": 0,
             "ticks": ""
            },
            "colorscale": [
             [
              0,
              "#0d0887"
             ],
             [
              0.1111111111111111,
              "#46039f"
             ],
             [
              0.2222222222222222,
              "#7201a8"
             ],
             [
              0.3333333333333333,
              "#9c179e"
             ],
             [
              0.4444444444444444,
              "#bd3786"
             ],
             [
              0.5555555555555556,
              "#d8576b"
             ],
             [
              0.6666666666666666,
              "#ed7953"
             ],
             [
              0.7777777777777778,
              "#fb9f3a"
             ],
             [
              0.8888888888888888,
              "#fdca26"
             ],
             [
              1,
              "#f0f921"
             ]
            ],
            "type": "heatmapgl"
           }
          ],
          "histogram": [
           {
            "marker": {
             "colorbar": {
              "outlinewidth": 0,
              "ticks": ""
             }
            },
            "type": "histogram"
           }
          ],
          "histogram2d": [
           {
            "colorbar": {
             "outlinewidth": 0,
             "ticks": ""
            },
            "colorscale": [
             [
              0,
              "#0d0887"
             ],
             [
              0.1111111111111111,
              "#46039f"
             ],
             [
              0.2222222222222222,
              "#7201a8"
             ],
             [
              0.3333333333333333,
              "#9c179e"
             ],
             [
              0.4444444444444444,
              "#bd3786"
             ],
             [
              0.5555555555555556,
              "#d8576b"
             ],
             [
              0.6666666666666666,
              "#ed7953"
             ],
             [
              0.7777777777777778,
              "#fb9f3a"
             ],
             [
              0.8888888888888888,
              "#fdca26"
             ],
             [
              1,
              "#f0f921"
             ]
            ],
            "type": "histogram2d"
           }
          ],
          "histogram2dcontour": [
           {
            "colorbar": {
             "outlinewidth": 0,
             "ticks": ""
            },
            "colorscale": [
             [
              0,
              "#0d0887"
             ],
             [
              0.1111111111111111,
              "#46039f"
             ],
             [
              0.2222222222222222,
              "#7201a8"
             ],
             [
              0.3333333333333333,
              "#9c179e"
             ],
             [
              0.4444444444444444,
              "#bd3786"
             ],
             [
              0.5555555555555556,
              "#d8576b"
             ],
             [
              0.6666666666666666,
              "#ed7953"
             ],
             [
              0.7777777777777778,
              "#fb9f3a"
             ],
             [
              0.8888888888888888,
              "#fdca26"
             ],
             [
              1,
              "#f0f921"
             ]
            ],
            "type": "histogram2dcontour"
           }
          ],
          "mesh3d": [
           {
            "colorbar": {
             "outlinewidth": 0,
             "ticks": ""
            },
            "type": "mesh3d"
           }
          ],
          "parcoords": [
           {
            "line": {
             "colorbar": {
              "outlinewidth": 0,
              "ticks": ""
             }
            },
            "type": "parcoords"
           }
          ],
          "scatter": [
           {
            "marker": {
             "colorbar": {
              "outlinewidth": 0,
              "ticks": ""
             }
            },
            "type": "scatter"
           }
          ],
          "scatter3d": [
           {
            "line": {
             "colorbar": {
              "outlinewidth": 0,
              "ticks": ""
             }
            },
            "marker": {
             "colorbar": {
              "outlinewidth": 0,
              "ticks": ""
             }
            },
            "type": "scatter3d"
           }
          ],
          "scattercarpet": [
           {
            "marker": {
             "colorbar": {
              "outlinewidth": 0,
              "ticks": ""
             }
            },
            "type": "scattercarpet"
           }
          ],
          "scattergeo": [
           {
            "marker": {
             "colorbar": {
              "outlinewidth": 0,
              "ticks": ""
             }
            },
            "type": "scattergeo"
           }
          ],
          "scattergl": [
           {
            "marker": {
             "colorbar": {
              "outlinewidth": 0,
              "ticks": ""
             }
            },
            "type": "scattergl"
           }
          ],
          "scattermapbox": [
           {
            "marker": {
             "colorbar": {
              "outlinewidth": 0,
              "ticks": ""
             }
            },
            "type": "scattermapbox"
           }
          ],
          "scatterpolar": [
           {
            "marker": {
             "colorbar": {
              "outlinewidth": 0,
              "ticks": ""
             }
            },
            "type": "scatterpolar"
           }
          ],
          "scatterpolargl": [
           {
            "marker": {
             "colorbar": {
              "outlinewidth": 0,
              "ticks": ""
             }
            },
            "type": "scatterpolargl"
           }
          ],
          "scatterternary": [
           {
            "marker": {
             "colorbar": {
              "outlinewidth": 0,
              "ticks": ""
             }
            },
            "type": "scatterternary"
           }
          ],
          "surface": [
           {
            "colorbar": {
             "outlinewidth": 0,
             "ticks": ""
            },
            "colorscale": [
             [
              0,
              "#0d0887"
             ],
             [
              0.1111111111111111,
              "#46039f"
             ],
             [
              0.2222222222222222,
              "#7201a8"
             ],
             [
              0.3333333333333333,
              "#9c179e"
             ],
             [
              0.4444444444444444,
              "#bd3786"
             ],
             [
              0.5555555555555556,
              "#d8576b"
             ],
             [
              0.6666666666666666,
              "#ed7953"
             ],
             [
              0.7777777777777778,
              "#fb9f3a"
             ],
             [
              0.8888888888888888,
              "#fdca26"
             ],
             [
              1,
              "#f0f921"
             ]
            ],
            "type": "surface"
           }
          ],
          "table": [
           {
            "cells": {
             "fill": {
              "color": "#EBF0F8"
             },
             "line": {
              "color": "white"
             }
            },
            "header": {
             "fill": {
              "color": "#C8D4E3"
             },
             "line": {
              "color": "white"
             }
            },
            "type": "table"
           }
          ]
         },
         "layout": {
          "annotationdefaults": {
           "arrowcolor": "#2a3f5f",
           "arrowhead": 0,
           "arrowwidth": 1
          },
          "colorscale": {
           "diverging": [
            [
             0,
             "#8e0152"
            ],
            [
             0.1,
             "#c51b7d"
            ],
            [
             0.2,
             "#de77ae"
            ],
            [
             0.3,
             "#f1b6da"
            ],
            [
             0.4,
             "#fde0ef"
            ],
            [
             0.5,
             "#f7f7f7"
            ],
            [
             0.6,
             "#e6f5d0"
            ],
            [
             0.7,
             "#b8e186"
            ],
            [
             0.8,
             "#7fbc41"
            ],
            [
             0.9,
             "#4d9221"
            ],
            [
             1,
             "#276419"
            ]
           ],
           "sequential": [
            [
             0,
             "#0d0887"
            ],
            [
             0.1111111111111111,
             "#46039f"
            ],
            [
             0.2222222222222222,
             "#7201a8"
            ],
            [
             0.3333333333333333,
             "#9c179e"
            ],
            [
             0.4444444444444444,
             "#bd3786"
            ],
            [
             0.5555555555555556,
             "#d8576b"
            ],
            [
             0.6666666666666666,
             "#ed7953"
            ],
            [
             0.7777777777777778,
             "#fb9f3a"
            ],
            [
             0.8888888888888888,
             "#fdca26"
            ],
            [
             1,
             "#f0f921"
            ]
           ],
           "sequentialminus": [
            [
             0,
             "#0d0887"
            ],
            [
             0.1111111111111111,
             "#46039f"
            ],
            [
             0.2222222222222222,
             "#7201a8"
            ],
            [
             0.3333333333333333,
             "#9c179e"
            ],
            [
             0.4444444444444444,
             "#bd3786"
            ],
            [
             0.5555555555555556,
             "#d8576b"
            ],
            [
             0.6666666666666666,
             "#ed7953"
            ],
            [
             0.7777777777777778,
             "#fb9f3a"
            ],
            [
             0.8888888888888888,
             "#fdca26"
            ],
            [
             1,
             "#f0f921"
            ]
           ]
          },
          "colorway": [
           "#636efa",
           "#EF553B",
           "#00cc96",
           "#ab63fa",
           "#FFA15A",
           "#19d3f3",
           "#FF6692",
           "#B6E880",
           "#FF97FF",
           "#FECB52"
          ],
          "font": {
           "color": "#2a3f5f"
          },
          "geo": {
           "bgcolor": "white",
           "lakecolor": "white",
           "landcolor": "#E5ECF6",
           "showlakes": true,
           "showland": true,
           "subunitcolor": "white"
          },
          "hoverlabel": {
           "align": "left"
          },
          "hovermode": "closest",
          "mapbox": {
           "style": "light"
          },
          "paper_bgcolor": "white",
          "plot_bgcolor": "#E5ECF6",
          "polar": {
           "angularaxis": {
            "gridcolor": "white",
            "linecolor": "white",
            "ticks": ""
           },
           "bgcolor": "#E5ECF6",
           "radialaxis": {
            "gridcolor": "white",
            "linecolor": "white",
            "ticks": ""
           }
          },
          "scene": {
           "xaxis": {
            "backgroundcolor": "#E5ECF6",
            "gridcolor": "white",
            "gridwidth": 2,
            "linecolor": "white",
            "showbackground": true,
            "ticks": "",
            "zerolinecolor": "white"
           },
           "yaxis": {
            "backgroundcolor": "#E5ECF6",
            "gridcolor": "white",
            "gridwidth": 2,
            "linecolor": "white",
            "showbackground": true,
            "ticks": "",
            "zerolinecolor": "white"
           },
           "zaxis": {
            "backgroundcolor": "#E5ECF6",
            "gridcolor": "white",
            "gridwidth": 2,
            "linecolor": "white",
            "showbackground": true,
            "ticks": "",
            "zerolinecolor": "white"
           }
          },
          "shapedefaults": {
           "line": {
            "color": "#2a3f5f"
           }
          },
          "ternary": {
           "aaxis": {
            "gridcolor": "white",
            "linecolor": "white",
            "ticks": ""
           },
           "baxis": {
            "gridcolor": "white",
            "linecolor": "white",
            "ticks": ""
           },
           "bgcolor": "#E5ECF6",
           "caxis": {
            "gridcolor": "white",
            "linecolor": "white",
            "ticks": ""
           }
          },
          "title": {
           "x": 0.05
          },
          "xaxis": {
           "automargin": true,
           "gridcolor": "white",
           "linecolor": "white",
           "ticks": "",
           "zerolinecolor": "white",
           "zerolinewidth": 2
          },
          "yaxis": {
           "automargin": true,
           "gridcolor": "white",
           "linecolor": "white",
           "ticks": "",
           "zerolinecolor": "white",
           "zerolinewidth": 2
          }
         }
        },
        "title": {
         "text": "ТОП5 жанров в разных регионах"
        }
       }
      },
      "text/html": [
       "<div>\n",
       "        \n",
       "        \n",
       "            <div id=\"7cbb924a-4f8d-4a92-8506-6f2b6b7d487e\" class=\"plotly-graph-div\" style=\"height:525px; width:100%;\"></div>\n",
       "            <script type=\"text/javascript\">\n",
       "                require([\"plotly\"], function(Plotly) {\n",
       "                    window.PLOTLYENV=window.PLOTLYENV || {};\n",
       "                    \n",
       "                if (document.getElementById(\"7cbb924a-4f8d-4a92-8506-6f2b6b7d487e\")) {\n",
       "                    Plotly.newPlot(\n",
       "                        '7cbb924a-4f8d-4a92-8506-6f2b6b7d487e',\n",
       "                        [{\"domain\": {\"x\": [0.0, 0.45], \"y\": [0.625, 1.0]}, \"labels\": [\"Action\", \"Sports\", \"Shooter\", \"Misc\", \"Racing\"], \"name\": \"\\u0421\\u0435\\u0432\\u0435\\u0440\\u043d\\u0430\\u044f \\u0410\\u043c\\u0435\\u0440\\u0438\\u043a\\u0430\", \"scalegroup\": \"one\", \"type\": \"pie\", \"values\": [567.3199999999957, 442.9099999999989, 441.67999999999915, 218.52000000000032, 207.8200000000004]}, {\"domain\": {\"x\": [0.55, 1.0], \"y\": [0.625, 1.0]}, \"labels\": [\"Action\", \"Shooter\", \"Sports\", \"Racing\", \"Misc\"], \"name\": \"\\u0415\\u0432\\u0440\\u043e\\u043f\\u0430\", \"scalegroup\": \"one\", \"type\": \"pie\", \"values\": [369.1399999999936, 258.85999999999865, 242.16000000000037, 151.18000000000026, 117.6200000000002]}, {\"domain\": {\"x\": [0.0, 0.45], \"y\": [0.0, 0.375]}, \"labels\": [\"Role-Playing\", \"Action\", \"Platform\", \"Sports\", \"Misc\"], \"name\": \"\\u042f\\u043f\\u043e\\u043d\\u0438\\u044f\", \"scalegroup\": \"one\", \"type\": \"pie\", \"values\": [103.13000000000007, 69.46000000000011, 40.939999999999976, 33.68000000000004, 31.390000000000022]}],\n",
       "                        {\"annotations\": [{\"font\": {\"size\": 16}, \"showarrow\": false, \"text\": \"\\u0421\\u0435\\u0432\\u0435\\u0440\\u043d\\u0430\\u044f \\u0410\\u043c\\u0435\\u0440\\u0438\\u043a\\u0430\", \"x\": 0.225, \"xanchor\": \"center\", \"xref\": \"paper\", \"y\": 1.0, \"yanchor\": \"bottom\", \"yref\": \"paper\"}, {\"font\": {\"size\": 16}, \"showarrow\": false, \"text\": \"\\u0415\\u0432\\u0440\\u043e\\u043f\\u0430\", \"x\": 0.775, \"xanchor\": \"center\", \"xref\": \"paper\", \"y\": 1.0, \"yanchor\": \"bottom\", \"yref\": \"paper\"}, {\"font\": {\"size\": 16}, \"showarrow\": false, \"text\": \"\\u042f\\u043f\\u043e\\u043d\\u0438\\u044f\", \"x\": 0.225, \"xanchor\": \"center\", \"xref\": \"paper\", \"y\": 0.375, \"yanchor\": \"bottom\", \"yref\": \"paper\"}], \"template\": {\"data\": {\"bar\": [{\"error_x\": {\"color\": \"#2a3f5f\"}, \"error_y\": {\"color\": \"#2a3f5f\"}, \"marker\": {\"line\": {\"color\": \"#E5ECF6\", \"width\": 0.5}}, \"type\": \"bar\"}], \"barpolar\": [{\"marker\": {\"line\": {\"color\": \"#E5ECF6\", \"width\": 0.5}}, \"type\": \"barpolar\"}], \"carpet\": [{\"aaxis\": {\"endlinecolor\": \"#2a3f5f\", \"gridcolor\": \"white\", \"linecolor\": \"white\", \"minorgridcolor\": \"white\", \"startlinecolor\": \"#2a3f5f\"}, \"baxis\": {\"endlinecolor\": \"#2a3f5f\", \"gridcolor\": \"white\", \"linecolor\": \"white\", \"minorgridcolor\": \"white\", \"startlinecolor\": \"#2a3f5f\"}, \"type\": \"carpet\"}], \"choropleth\": [{\"colorbar\": {\"outlinewidth\": 0, \"ticks\": \"\"}, \"type\": \"choropleth\"}], \"contour\": [{\"colorbar\": {\"outlinewidth\": 0, \"ticks\": \"\"}, \"colorscale\": [[0.0, \"#0d0887\"], [0.1111111111111111, \"#46039f\"], [0.2222222222222222, \"#7201a8\"], [0.3333333333333333, \"#9c179e\"], [0.4444444444444444, \"#bd3786\"], [0.5555555555555556, \"#d8576b\"], [0.6666666666666666, \"#ed7953\"], [0.7777777777777778, \"#fb9f3a\"], [0.8888888888888888, \"#fdca26\"], [1.0, \"#f0f921\"]], \"type\": \"contour\"}], \"contourcarpet\": [{\"colorbar\": {\"outlinewidth\": 0, \"ticks\": \"\"}, \"type\": \"contourcarpet\"}], \"heatmap\": [{\"colorbar\": {\"outlinewidth\": 0, \"ticks\": \"\"}, \"colorscale\": [[0.0, \"#0d0887\"], [0.1111111111111111, \"#46039f\"], [0.2222222222222222, \"#7201a8\"], [0.3333333333333333, \"#9c179e\"], [0.4444444444444444, \"#bd3786\"], [0.5555555555555556, \"#d8576b\"], [0.6666666666666666, \"#ed7953\"], [0.7777777777777778, \"#fb9f3a\"], [0.8888888888888888, \"#fdca26\"], [1.0, \"#f0f921\"]], \"type\": \"heatmap\"}], \"heatmapgl\": [{\"colorbar\": {\"outlinewidth\": 0, \"ticks\": \"\"}, \"colorscale\": [[0.0, \"#0d0887\"], [0.1111111111111111, \"#46039f\"], [0.2222222222222222, \"#7201a8\"], [0.3333333333333333, \"#9c179e\"], [0.4444444444444444, \"#bd3786\"], [0.5555555555555556, \"#d8576b\"], [0.6666666666666666, \"#ed7953\"], [0.7777777777777778, \"#fb9f3a\"], [0.8888888888888888, \"#fdca26\"], [1.0, \"#f0f921\"]], \"type\": \"heatmapgl\"}], \"histogram\": [{\"marker\": {\"colorbar\": {\"outlinewidth\": 0, \"ticks\": \"\"}}, \"type\": \"histogram\"}], \"histogram2d\": [{\"colorbar\": {\"outlinewidth\": 0, \"ticks\": \"\"}, \"colorscale\": [[0.0, \"#0d0887\"], [0.1111111111111111, \"#46039f\"], [0.2222222222222222, \"#7201a8\"], [0.3333333333333333, \"#9c179e\"], [0.4444444444444444, \"#bd3786\"], [0.5555555555555556, \"#d8576b\"], [0.6666666666666666, \"#ed7953\"], [0.7777777777777778, \"#fb9f3a\"], [0.8888888888888888, \"#fdca26\"], [1.0, \"#f0f921\"]], \"type\": \"histogram2d\"}], \"histogram2dcontour\": [{\"colorbar\": {\"outlinewidth\": 0, \"ticks\": \"\"}, \"colorscale\": [[0.0, \"#0d0887\"], [0.1111111111111111, \"#46039f\"], [0.2222222222222222, \"#7201a8\"], [0.3333333333333333, \"#9c179e\"], [0.4444444444444444, \"#bd3786\"], [0.5555555555555556, \"#d8576b\"], [0.6666666666666666, \"#ed7953\"], [0.7777777777777778, \"#fb9f3a\"], [0.8888888888888888, \"#fdca26\"], [1.0, \"#f0f921\"]], \"type\": \"histogram2dcontour\"}], \"mesh3d\": [{\"colorbar\": {\"outlinewidth\": 0, \"ticks\": \"\"}, \"type\": \"mesh3d\"}], \"parcoords\": [{\"line\": {\"colorbar\": {\"outlinewidth\": 0, \"ticks\": \"\"}}, \"type\": \"parcoords\"}], \"scatter\": [{\"marker\": {\"colorbar\": {\"outlinewidth\": 0, \"ticks\": \"\"}}, \"type\": \"scatter\"}], \"scatter3d\": [{\"line\": {\"colorbar\": {\"outlinewidth\": 0, \"ticks\": \"\"}}, \"marker\": {\"colorbar\": {\"outlinewidth\": 0, \"ticks\": \"\"}}, \"type\": \"scatter3d\"}], \"scattercarpet\": [{\"marker\": {\"colorbar\": {\"outlinewidth\": 0, \"ticks\": \"\"}}, \"type\": \"scattercarpet\"}], \"scattergeo\": [{\"marker\": {\"colorbar\": {\"outlinewidth\": 0, \"ticks\": \"\"}}, \"type\": \"scattergeo\"}], \"scattergl\": [{\"marker\": {\"colorbar\": {\"outlinewidth\": 0, \"ticks\": \"\"}}, \"type\": \"scattergl\"}], \"scattermapbox\": [{\"marker\": {\"colorbar\": {\"outlinewidth\": 0, \"ticks\": \"\"}}, \"type\": \"scattermapbox\"}], \"scatterpolar\": [{\"marker\": {\"colorbar\": {\"outlinewidth\": 0, \"ticks\": \"\"}}, \"type\": \"scatterpolar\"}], \"scatterpolargl\": [{\"marker\": {\"colorbar\": {\"outlinewidth\": 0, \"ticks\": \"\"}}, \"type\": \"scatterpolargl\"}], \"scatterternary\": [{\"marker\": {\"colorbar\": {\"outlinewidth\": 0, \"ticks\": \"\"}}, \"type\": \"scatterternary\"}], \"surface\": [{\"colorbar\": {\"outlinewidth\": 0, \"ticks\": \"\"}, \"colorscale\": [[0.0, \"#0d0887\"], [0.1111111111111111, \"#46039f\"], [0.2222222222222222, \"#7201a8\"], [0.3333333333333333, \"#9c179e\"], [0.4444444444444444, \"#bd3786\"], [0.5555555555555556, \"#d8576b\"], [0.6666666666666666, \"#ed7953\"], [0.7777777777777778, \"#fb9f3a\"], [0.8888888888888888, \"#fdca26\"], [1.0, \"#f0f921\"]], \"type\": \"surface\"}], \"table\": [{\"cells\": {\"fill\": {\"color\": \"#EBF0F8\"}, \"line\": {\"color\": \"white\"}}, \"header\": {\"fill\": {\"color\": \"#C8D4E3\"}, \"line\": {\"color\": \"white\"}}, \"type\": \"table\"}]}, \"layout\": {\"annotationdefaults\": {\"arrowcolor\": \"#2a3f5f\", \"arrowhead\": 0, \"arrowwidth\": 1}, \"colorscale\": {\"diverging\": [[0, \"#8e0152\"], [0.1, \"#c51b7d\"], [0.2, \"#de77ae\"], [0.3, \"#f1b6da\"], [0.4, \"#fde0ef\"], [0.5, \"#f7f7f7\"], [0.6, \"#e6f5d0\"], [0.7, \"#b8e186\"], [0.8, \"#7fbc41\"], [0.9, \"#4d9221\"], [1, \"#276419\"]], \"sequential\": [[0.0, \"#0d0887\"], [0.1111111111111111, \"#46039f\"], [0.2222222222222222, \"#7201a8\"], [0.3333333333333333, \"#9c179e\"], [0.4444444444444444, \"#bd3786\"], [0.5555555555555556, \"#d8576b\"], [0.6666666666666666, \"#ed7953\"], [0.7777777777777778, \"#fb9f3a\"], [0.8888888888888888, \"#fdca26\"], [1.0, \"#f0f921\"]], \"sequentialminus\": [[0.0, \"#0d0887\"], [0.1111111111111111, \"#46039f\"], [0.2222222222222222, \"#7201a8\"], [0.3333333333333333, \"#9c179e\"], [0.4444444444444444, \"#bd3786\"], [0.5555555555555556, \"#d8576b\"], [0.6666666666666666, \"#ed7953\"], [0.7777777777777778, \"#fb9f3a\"], [0.8888888888888888, \"#fdca26\"], [1.0, \"#f0f921\"]]}, \"colorway\": [\"#636efa\", \"#EF553B\", \"#00cc96\", \"#ab63fa\", \"#FFA15A\", \"#19d3f3\", \"#FF6692\", \"#B6E880\", \"#FF97FF\", \"#FECB52\"], \"font\": {\"color\": \"#2a3f5f\"}, \"geo\": {\"bgcolor\": \"white\", \"lakecolor\": \"white\", \"landcolor\": \"#E5ECF6\", \"showlakes\": true, \"showland\": true, \"subunitcolor\": \"white\"}, \"hoverlabel\": {\"align\": \"left\"}, \"hovermode\": \"closest\", \"mapbox\": {\"style\": \"light\"}, \"paper_bgcolor\": \"white\", \"plot_bgcolor\": \"#E5ECF6\", \"polar\": {\"angularaxis\": {\"gridcolor\": \"white\", \"linecolor\": \"white\", \"ticks\": \"\"}, \"bgcolor\": \"#E5ECF6\", \"radialaxis\": {\"gridcolor\": \"white\", \"linecolor\": \"white\", \"ticks\": \"\"}}, \"scene\": {\"xaxis\": {\"backgroundcolor\": \"#E5ECF6\", \"gridcolor\": \"white\", \"gridwidth\": 2, \"linecolor\": \"white\", \"showbackground\": true, \"ticks\": \"\", \"zerolinecolor\": \"white\"}, \"yaxis\": {\"backgroundcolor\": \"#E5ECF6\", \"gridcolor\": \"white\", \"gridwidth\": 2, \"linecolor\": \"white\", \"showbackground\": true, \"ticks\": \"\", \"zerolinecolor\": \"white\"}, \"zaxis\": {\"backgroundcolor\": \"#E5ECF6\", \"gridcolor\": \"white\", \"gridwidth\": 2, \"linecolor\": \"white\", \"showbackground\": true, \"ticks\": \"\", \"zerolinecolor\": \"white\"}}, \"shapedefaults\": {\"line\": {\"color\": \"#2a3f5f\"}}, \"ternary\": {\"aaxis\": {\"gridcolor\": \"white\", \"linecolor\": \"white\", \"ticks\": \"\"}, \"baxis\": {\"gridcolor\": \"white\", \"linecolor\": \"white\", \"ticks\": \"\"}, \"bgcolor\": \"#E5ECF6\", \"caxis\": {\"gridcolor\": \"white\", \"linecolor\": \"white\", \"ticks\": \"\"}}, \"title\": {\"x\": 0.05}, \"xaxis\": {\"automargin\": true, \"gridcolor\": \"white\", \"linecolor\": \"white\", \"ticks\": \"\", \"zerolinecolor\": \"white\", \"zerolinewidth\": 2}, \"yaxis\": {\"automargin\": true, \"gridcolor\": \"white\", \"linecolor\": \"white\", \"ticks\": \"\", \"zerolinecolor\": \"white\", \"zerolinewidth\": 2}}}, \"title\": {\"text\": \"\\u0422\\u041e\\u041f5 \\u0436\\u0430\\u043d\\u0440\\u043e\\u0432 \\u0432 \\u0440\\u0430\\u0437\\u043d\\u044b\\u0445 \\u0440\\u0435\\u0433\\u0438\\u043e\\u043d\\u0430\\u0445\"}},\n",
       "                        {\"responsive\": true}\n",
       "                    ).then(function(){\n",
       "                            \n",
       "var gd = document.getElementById('7cbb924a-4f8d-4a92-8506-6f2b6b7d487e');\n",
       "var x = new MutationObserver(function (mutations, observer) {{\n",
       "        var display = window.getComputedStyle(gd).display;\n",
       "        if (!display || display === 'none') {{\n",
       "            console.log([gd, 'removed!']);\n",
       "            Plotly.purge(gd);\n",
       "            observer.disconnect();\n",
       "        }}\n",
       "}});\n",
       "\n",
       "// Listen for the removal of the full notebook cells\n",
       "var notebookContainer = gd.closest('#notebook-container');\n",
       "if (notebookContainer) {{\n",
       "    x.observe(notebookContainer, {childList: true});\n",
       "}}\n",
       "\n",
       "// Listen for the clearing of the current output cell\n",
       "var outputEl = gd.closest('.output');\n",
       "if (outputEl) {{\n",
       "    x.observe(outputEl, {childList: true});\n",
       "}}\n",
       "\n",
       "                        })\n",
       "                };\n",
       "                });\n",
       "            </script>\n",
       "        </div>"
      ]
     },
     "metadata": {},
     "output_type": "display_data"
    }
   ],
   "source": [
    "na_platform = data.pivot_table(index='genre', \n",
    "                               values='na_sales', aggfunc='sum').sort_values(by='na_sales', ascending=False).head(5)\n",
    "\n",
    "eu_platform = data.pivot_table(index='genre', \n",
    "                               values='eu_sales', aggfunc='sum').sort_values(by='eu_sales', ascending=False).head(5)\n",
    "\n",
    "jp_platform = data.pivot_table(index='genre', \n",
    "                               values='jp_sales', aggfunc='sum').sort_values(by='jp_sales', ascending=False).head(5)\n",
    "\n",
    "#Создаём переменные для лэйблов и значений\n",
    "na_labels = na_platform.index\n",
    "na_values = na_platform.na_sales\n",
    "\n",
    "eu_labels = eu_platform.index\n",
    "eu_values = eu_platform.eu_sales\n",
    "\n",
    "jp_labels = jp_platform.index\n",
    "jp_values = jp_platform.jp_sales\n",
    "\n",
    "\n",
    "\n",
    "#Создаём сабплоты\n",
    "\n",
    "fig = make_subplots(2, 2, \n",
    "                    specs=[[{'type':'domain'}, {'type':'domain'}], [{'type':'domain'}, {'type':'domain'}]],\n",
    "                    subplot_titles=['Северная Америка', 'Европа', 'Япония'])\n",
    "\n",
    "fig.add_trace(go.Pie(labels=na_labels, values=na_values, scalegroup='one',\n",
    "                     name=\"Северная Америка\"), 1, 1)\n",
    "\n",
    "fig.add_trace(go.Pie(labels=eu_labels, values=eu_values, scalegroup='one',\n",
    "                     name=\"Европа\"), 1, 2)\n",
    "\n",
    "fig.add_trace(go.Pie(labels=jp_labels, values=jp_values, scalegroup='one',\n",
    "                     name=\"Япония\"), 2, 1)\n",
    "\n",
    "\n",
    "\n",
    "\n",
    "\n",
    "fig.update_layout(title_text='ТОП5 жанров в разных регионах')\n",
    "fig.show()"
   ]
  },
  {
   "cell_type": "code",
   "execution_count": 25,
   "metadata": {},
   "outputs": [
    {
     "data": {
      "application/vnd.plotly.v1+json": {
       "config": {
        "linkText": "Export to plot.ly",
        "plotlyServerURL": "https://plot.ly",
        "showLink": false
       },
       "data": [
        {
         "name": "Продажи в Северной Америке",
         "type": "bar",
         "x": [
          "E",
          "M",
          "T",
          "E10+",
          "AO",
          "RP"
         ],
         "y": [
          952.6699999999976,
          707.7999999999976,
          640.1999999999952,
          286.02999999999906,
          1.26,
          0
         ]
        },
        {
         "name": "Продажи в Европе",
         "type": "bar",
         "x": [
          "E",
          "M",
          "T",
          "E10+",
          "AO",
          "RP"
         ],
         "y": [
          569.6599999999875,
          457.93999999999494,
          358.3699999999923,
          155.92000000000004,
          0.61,
          0.03
         ]
        },
        {
         "name": "Продажи в Японии",
         "type": "bar",
         "x": [
          "E",
          "M",
          "T",
          "E10+",
          "AO",
          "RP"
         ],
         "y": [
          180.96000000000012,
          55.85999999999999,
          116.90000000000028,
          38.81,
          0,
          0
         ]
        },
        {
         "name": "Продажи других регионах",
         "type": "bar",
         "x": [
          "E",
          "M",
          "T",
          "E10+",
          "AO",
          "RP"
         ],
         "y": [
          187.80999999999878,
          169.63999999999947,
          133.68999999999804,
          59.58999999999985,
          0.09,
          0.01
         ]
        }
       ],
       "layout": {
        "template": {
         "data": {
          "bar": [
           {
            "error_x": {
             "color": "#2a3f5f"
            },
            "error_y": {
             "color": "#2a3f5f"
            },
            "marker": {
             "line": {
              "color": "#E5ECF6",
              "width": 0.5
             }
            },
            "type": "bar"
           }
          ],
          "barpolar": [
           {
            "marker": {
             "line": {
              "color": "#E5ECF6",
              "width": 0.5
             }
            },
            "type": "barpolar"
           }
          ],
          "carpet": [
           {
            "aaxis": {
             "endlinecolor": "#2a3f5f",
             "gridcolor": "white",
             "linecolor": "white",
             "minorgridcolor": "white",
             "startlinecolor": "#2a3f5f"
            },
            "baxis": {
             "endlinecolor": "#2a3f5f",
             "gridcolor": "white",
             "linecolor": "white",
             "minorgridcolor": "white",
             "startlinecolor": "#2a3f5f"
            },
            "type": "carpet"
           }
          ],
          "choropleth": [
           {
            "colorbar": {
             "outlinewidth": 0,
             "ticks": ""
            },
            "type": "choropleth"
           }
          ],
          "contour": [
           {
            "colorbar": {
             "outlinewidth": 0,
             "ticks": ""
            },
            "colorscale": [
             [
              0,
              "#0d0887"
             ],
             [
              0.1111111111111111,
              "#46039f"
             ],
             [
              0.2222222222222222,
              "#7201a8"
             ],
             [
              0.3333333333333333,
              "#9c179e"
             ],
             [
              0.4444444444444444,
              "#bd3786"
             ],
             [
              0.5555555555555556,
              "#d8576b"
             ],
             [
              0.6666666666666666,
              "#ed7953"
             ],
             [
              0.7777777777777778,
              "#fb9f3a"
             ],
             [
              0.8888888888888888,
              "#fdca26"
             ],
             [
              1,
              "#f0f921"
             ]
            ],
            "type": "contour"
           }
          ],
          "contourcarpet": [
           {
            "colorbar": {
             "outlinewidth": 0,
             "ticks": ""
            },
            "type": "contourcarpet"
           }
          ],
          "heatmap": [
           {
            "colorbar": {
             "outlinewidth": 0,
             "ticks": ""
            },
            "colorscale": [
             [
              0,
              "#0d0887"
             ],
             [
              0.1111111111111111,
              "#46039f"
             ],
             [
              0.2222222222222222,
              "#7201a8"
             ],
             [
              0.3333333333333333,
              "#9c179e"
             ],
             [
              0.4444444444444444,
              "#bd3786"
             ],
             [
              0.5555555555555556,
              "#d8576b"
             ],
             [
              0.6666666666666666,
              "#ed7953"
             ],
             [
              0.7777777777777778,
              "#fb9f3a"
             ],
             [
              0.8888888888888888,
              "#fdca26"
             ],
             [
              1,
              "#f0f921"
             ]
            ],
            "type": "heatmap"
           }
          ],
          "heatmapgl": [
           {
            "colorbar": {
             "outlinewidth": 0,
             "ticks": ""
            },
            "colorscale": [
             [
              0,
              "#0d0887"
             ],
             [
              0.1111111111111111,
              "#46039f"
             ],
             [
              0.2222222222222222,
              "#7201a8"
             ],
             [
              0.3333333333333333,
              "#9c179e"
             ],
             [
              0.4444444444444444,
              "#bd3786"
             ],
             [
              0.5555555555555556,
              "#d8576b"
             ],
             [
              0.6666666666666666,
              "#ed7953"
             ],
             [
              0.7777777777777778,
              "#fb9f3a"
             ],
             [
              0.8888888888888888,
              "#fdca26"
             ],
             [
              1,
              "#f0f921"
             ]
            ],
            "type": "heatmapgl"
           }
          ],
          "histogram": [
           {
            "marker": {
             "colorbar": {
              "outlinewidth": 0,
              "ticks": ""
             }
            },
            "type": "histogram"
           }
          ],
          "histogram2d": [
           {
            "colorbar": {
             "outlinewidth": 0,
             "ticks": ""
            },
            "colorscale": [
             [
              0,
              "#0d0887"
             ],
             [
              0.1111111111111111,
              "#46039f"
             ],
             [
              0.2222222222222222,
              "#7201a8"
             ],
             [
              0.3333333333333333,
              "#9c179e"
             ],
             [
              0.4444444444444444,
              "#bd3786"
             ],
             [
              0.5555555555555556,
              "#d8576b"
             ],
             [
              0.6666666666666666,
              "#ed7953"
             ],
             [
              0.7777777777777778,
              "#fb9f3a"
             ],
             [
              0.8888888888888888,
              "#fdca26"
             ],
             [
              1,
              "#f0f921"
             ]
            ],
            "type": "histogram2d"
           }
          ],
          "histogram2dcontour": [
           {
            "colorbar": {
             "outlinewidth": 0,
             "ticks": ""
            },
            "colorscale": [
             [
              0,
              "#0d0887"
             ],
             [
              0.1111111111111111,
              "#46039f"
             ],
             [
              0.2222222222222222,
              "#7201a8"
             ],
             [
              0.3333333333333333,
              "#9c179e"
             ],
             [
              0.4444444444444444,
              "#bd3786"
             ],
             [
              0.5555555555555556,
              "#d8576b"
             ],
             [
              0.6666666666666666,
              "#ed7953"
             ],
             [
              0.7777777777777778,
              "#fb9f3a"
             ],
             [
              0.8888888888888888,
              "#fdca26"
             ],
             [
              1,
              "#f0f921"
             ]
            ],
            "type": "histogram2dcontour"
           }
          ],
          "mesh3d": [
           {
            "colorbar": {
             "outlinewidth": 0,
             "ticks": ""
            },
            "type": "mesh3d"
           }
          ],
          "parcoords": [
           {
            "line": {
             "colorbar": {
              "outlinewidth": 0,
              "ticks": ""
             }
            },
            "type": "parcoords"
           }
          ],
          "scatter": [
           {
            "marker": {
             "colorbar": {
              "outlinewidth": 0,
              "ticks": ""
             }
            },
            "type": "scatter"
           }
          ],
          "scatter3d": [
           {
            "line": {
             "colorbar": {
              "outlinewidth": 0,
              "ticks": ""
             }
            },
            "marker": {
             "colorbar": {
              "outlinewidth": 0,
              "ticks": ""
             }
            },
            "type": "scatter3d"
           }
          ],
          "scattercarpet": [
           {
            "marker": {
             "colorbar": {
              "outlinewidth": 0,
              "ticks": ""
             }
            },
            "type": "scattercarpet"
           }
          ],
          "scattergeo": [
           {
            "marker": {
             "colorbar": {
              "outlinewidth": 0,
              "ticks": ""
             }
            },
            "type": "scattergeo"
           }
          ],
          "scattergl": [
           {
            "marker": {
             "colorbar": {
              "outlinewidth": 0,
              "ticks": ""
             }
            },
            "type": "scattergl"
           }
          ],
          "scattermapbox": [
           {
            "marker": {
             "colorbar": {
              "outlinewidth": 0,
              "ticks": ""
             }
            },
            "type": "scattermapbox"
           }
          ],
          "scatterpolar": [
           {
            "marker": {
             "colorbar": {
              "outlinewidth": 0,
              "ticks": ""
             }
            },
            "type": "scatterpolar"
           }
          ],
          "scatterpolargl": [
           {
            "marker": {
             "colorbar": {
              "outlinewidth": 0,
              "ticks": ""
             }
            },
            "type": "scatterpolargl"
           }
          ],
          "scatterternary": [
           {
            "marker": {
             "colorbar": {
              "outlinewidth": 0,
              "ticks": ""
             }
            },
            "type": "scatterternary"
           }
          ],
          "surface": [
           {
            "colorbar": {
             "outlinewidth": 0,
             "ticks": ""
            },
            "colorscale": [
             [
              0,
              "#0d0887"
             ],
             [
              0.1111111111111111,
              "#46039f"
             ],
             [
              0.2222222222222222,
              "#7201a8"
             ],
             [
              0.3333333333333333,
              "#9c179e"
             ],
             [
              0.4444444444444444,
              "#bd3786"
             ],
             [
              0.5555555555555556,
              "#d8576b"
             ],
             [
              0.6666666666666666,
              "#ed7953"
             ],
             [
              0.7777777777777778,
              "#fb9f3a"
             ],
             [
              0.8888888888888888,
              "#fdca26"
             ],
             [
              1,
              "#f0f921"
             ]
            ],
            "type": "surface"
           }
          ],
          "table": [
           {
            "cells": {
             "fill": {
              "color": "#EBF0F8"
             },
             "line": {
              "color": "white"
             }
            },
            "header": {
             "fill": {
              "color": "#C8D4E3"
             },
             "line": {
              "color": "white"
             }
            },
            "type": "table"
           }
          ]
         },
         "layout": {
          "annotationdefaults": {
           "arrowcolor": "#2a3f5f",
           "arrowhead": 0,
           "arrowwidth": 1
          },
          "colorscale": {
           "diverging": [
            [
             0,
             "#8e0152"
            ],
            [
             0.1,
             "#c51b7d"
            ],
            [
             0.2,
             "#de77ae"
            ],
            [
             0.3,
             "#f1b6da"
            ],
            [
             0.4,
             "#fde0ef"
            ],
            [
             0.5,
             "#f7f7f7"
            ],
            [
             0.6,
             "#e6f5d0"
            ],
            [
             0.7,
             "#b8e186"
            ],
            [
             0.8,
             "#7fbc41"
            ],
            [
             0.9,
             "#4d9221"
            ],
            [
             1,
             "#276419"
            ]
           ],
           "sequential": [
            [
             0,
             "#0d0887"
            ],
            [
             0.1111111111111111,
             "#46039f"
            ],
            [
             0.2222222222222222,
             "#7201a8"
            ],
            [
             0.3333333333333333,
             "#9c179e"
            ],
            [
             0.4444444444444444,
             "#bd3786"
            ],
            [
             0.5555555555555556,
             "#d8576b"
            ],
            [
             0.6666666666666666,
             "#ed7953"
            ],
            [
             0.7777777777777778,
             "#fb9f3a"
            ],
            [
             0.8888888888888888,
             "#fdca26"
            ],
            [
             1,
             "#f0f921"
            ]
           ],
           "sequentialminus": [
            [
             0,
             "#0d0887"
            ],
            [
             0.1111111111111111,
             "#46039f"
            ],
            [
             0.2222222222222222,
             "#7201a8"
            ],
            [
             0.3333333333333333,
             "#9c179e"
            ],
            [
             0.4444444444444444,
             "#bd3786"
            ],
            [
             0.5555555555555556,
             "#d8576b"
            ],
            [
             0.6666666666666666,
             "#ed7953"
            ],
            [
             0.7777777777777778,
             "#fb9f3a"
            ],
            [
             0.8888888888888888,
             "#fdca26"
            ],
            [
             1,
             "#f0f921"
            ]
           ]
          },
          "colorway": [
           "#636efa",
           "#EF553B",
           "#00cc96",
           "#ab63fa",
           "#FFA15A",
           "#19d3f3",
           "#FF6692",
           "#B6E880",
           "#FF97FF",
           "#FECB52"
          ],
          "font": {
           "color": "#2a3f5f"
          },
          "geo": {
           "bgcolor": "white",
           "lakecolor": "white",
           "landcolor": "#E5ECF6",
           "showlakes": true,
           "showland": true,
           "subunitcolor": "white"
          },
          "hoverlabel": {
           "align": "left"
          },
          "hovermode": "closest",
          "mapbox": {
           "style": "light"
          },
          "paper_bgcolor": "white",
          "plot_bgcolor": "#E5ECF6",
          "polar": {
           "angularaxis": {
            "gridcolor": "white",
            "linecolor": "white",
            "ticks": ""
           },
           "bgcolor": "#E5ECF6",
           "radialaxis": {
            "gridcolor": "white",
            "linecolor": "white",
            "ticks": ""
           }
          },
          "scene": {
           "xaxis": {
            "backgroundcolor": "#E5ECF6",
            "gridcolor": "white",
            "gridwidth": 2,
            "linecolor": "white",
            "showbackground": true,
            "ticks": "",
            "zerolinecolor": "white"
           },
           "yaxis": {
            "backgroundcolor": "#E5ECF6",
            "gridcolor": "white",
            "gridwidth": 2,
            "linecolor": "white",
            "showbackground": true,
            "ticks": "",
            "zerolinecolor": "white"
           },
           "zaxis": {
            "backgroundcolor": "#E5ECF6",
            "gridcolor": "white",
            "gridwidth": 2,
            "linecolor": "white",
            "showbackground": true,
            "ticks": "",
            "zerolinecolor": "white"
           }
          },
          "shapedefaults": {
           "line": {
            "color": "#2a3f5f"
           }
          },
          "ternary": {
           "aaxis": {
            "gridcolor": "white",
            "linecolor": "white",
            "ticks": ""
           },
           "baxis": {
            "gridcolor": "white",
            "linecolor": "white",
            "ticks": ""
           },
           "bgcolor": "#E5ECF6",
           "caxis": {
            "gridcolor": "white",
            "linecolor": "white",
            "ticks": ""
           }
          },
          "title": {
           "x": 0.05
          },
          "xaxis": {
           "automargin": true,
           "gridcolor": "white",
           "linecolor": "white",
           "ticks": "",
           "zerolinecolor": "white",
           "zerolinewidth": 2
          },
          "yaxis": {
           "automargin": true,
           "gridcolor": "white",
           "linecolor": "white",
           "ticks": "",
           "zerolinecolor": "white",
           "zerolinewidth": 2
          }
         }
        },
        "title": {
         "text": "Влияние рейтинга ESRB на объём продаж по регионам"
        },
        "xaxis": {
         "title": {
          "text": "Жанры"
         }
        }
       }
      },
      "text/html": [
       "<div>\n",
       "        \n",
       "        \n",
       "            <div id=\"7d0b24de-d6ef-48ba-a046-8083fcedd857\" class=\"plotly-graph-div\" style=\"height:525px; width:100%;\"></div>\n",
       "            <script type=\"text/javascript\">\n",
       "                require([\"plotly\"], function(Plotly) {\n",
       "                    window.PLOTLYENV=window.PLOTLYENV || {};\n",
       "                    \n",
       "                if (document.getElementById(\"7d0b24de-d6ef-48ba-a046-8083fcedd857\")) {\n",
       "                    Plotly.newPlot(\n",
       "                        '7d0b24de-d6ef-48ba-a046-8083fcedd857',\n",
       "                        [{\"name\": \"\\u041f\\u0440\\u043e\\u0434\\u0430\\u0436\\u0438 \\u0432 \\u0421\\u0435\\u0432\\u0435\\u0440\\u043d\\u043e\\u0439 \\u0410\\u043c\\u0435\\u0440\\u0438\\u043a\\u0435\", \"type\": \"bar\", \"x\": [\"E\", \"M\", \"T\", \"E10+\", \"AO\", \"RP\"], \"y\": [952.6699999999976, 707.7999999999976, 640.1999999999952, 286.02999999999906, 1.26, 0.0]}, {\"name\": \"\\u041f\\u0440\\u043e\\u0434\\u0430\\u0436\\u0438 \\u0432 \\u0415\\u0432\\u0440\\u043e\\u043f\\u0435\", \"type\": \"bar\", \"x\": [\"E\", \"M\", \"T\", \"E10+\", \"AO\", \"RP\"], \"y\": [569.6599999999875, 457.93999999999494, 358.3699999999923, 155.92000000000004, 0.61, 0.03]}, {\"name\": \"\\u041f\\u0440\\u043e\\u0434\\u0430\\u0436\\u0438 \\u0432 \\u042f\\u043f\\u043e\\u043d\\u0438\\u0438\", \"type\": \"bar\", \"x\": [\"E\", \"M\", \"T\", \"E10+\", \"AO\", \"RP\"], \"y\": [180.96000000000012, 55.85999999999999, 116.90000000000028, 38.81, 0.0, 0.0]}, {\"name\": \"\\u041f\\u0440\\u043e\\u0434\\u0430\\u0436\\u0438 \\u0434\\u0440\\u0443\\u0433\\u0438\\u0445 \\u0440\\u0435\\u0433\\u0438\\u043e\\u043d\\u0430\\u0445\", \"type\": \"bar\", \"x\": [\"E\", \"M\", \"T\", \"E10+\", \"AO\", \"RP\"], \"y\": [187.80999999999878, 169.63999999999947, 133.68999999999804, 59.58999999999985, 0.09, 0.01]}],\n",
       "                        {\"template\": {\"data\": {\"bar\": [{\"error_x\": {\"color\": \"#2a3f5f\"}, \"error_y\": {\"color\": \"#2a3f5f\"}, \"marker\": {\"line\": {\"color\": \"#E5ECF6\", \"width\": 0.5}}, \"type\": \"bar\"}], \"barpolar\": [{\"marker\": {\"line\": {\"color\": \"#E5ECF6\", \"width\": 0.5}}, \"type\": \"barpolar\"}], \"carpet\": [{\"aaxis\": {\"endlinecolor\": \"#2a3f5f\", \"gridcolor\": \"white\", \"linecolor\": \"white\", \"minorgridcolor\": \"white\", \"startlinecolor\": \"#2a3f5f\"}, \"baxis\": {\"endlinecolor\": \"#2a3f5f\", \"gridcolor\": \"white\", \"linecolor\": \"white\", \"minorgridcolor\": \"white\", \"startlinecolor\": \"#2a3f5f\"}, \"type\": \"carpet\"}], \"choropleth\": [{\"colorbar\": {\"outlinewidth\": 0, \"ticks\": \"\"}, \"type\": \"choropleth\"}], \"contour\": [{\"colorbar\": {\"outlinewidth\": 0, \"ticks\": \"\"}, \"colorscale\": [[0.0, \"#0d0887\"], [0.1111111111111111, \"#46039f\"], [0.2222222222222222, \"#7201a8\"], [0.3333333333333333, \"#9c179e\"], [0.4444444444444444, \"#bd3786\"], [0.5555555555555556, \"#d8576b\"], [0.6666666666666666, \"#ed7953\"], [0.7777777777777778, \"#fb9f3a\"], [0.8888888888888888, \"#fdca26\"], [1.0, \"#f0f921\"]], \"type\": \"contour\"}], \"contourcarpet\": [{\"colorbar\": {\"outlinewidth\": 0, \"ticks\": \"\"}, \"type\": \"contourcarpet\"}], \"heatmap\": [{\"colorbar\": {\"outlinewidth\": 0, \"ticks\": \"\"}, \"colorscale\": [[0.0, \"#0d0887\"], [0.1111111111111111, \"#46039f\"], [0.2222222222222222, \"#7201a8\"], [0.3333333333333333, \"#9c179e\"], [0.4444444444444444, \"#bd3786\"], [0.5555555555555556, \"#d8576b\"], [0.6666666666666666, \"#ed7953\"], [0.7777777777777778, \"#fb9f3a\"], [0.8888888888888888, \"#fdca26\"], [1.0, \"#f0f921\"]], \"type\": \"heatmap\"}], \"heatmapgl\": [{\"colorbar\": {\"outlinewidth\": 0, \"ticks\": \"\"}, \"colorscale\": [[0.0, \"#0d0887\"], [0.1111111111111111, \"#46039f\"], [0.2222222222222222, \"#7201a8\"], [0.3333333333333333, \"#9c179e\"], [0.4444444444444444, \"#bd3786\"], [0.5555555555555556, \"#d8576b\"], [0.6666666666666666, \"#ed7953\"], [0.7777777777777778, \"#fb9f3a\"], [0.8888888888888888, \"#fdca26\"], [1.0, \"#f0f921\"]], \"type\": \"heatmapgl\"}], \"histogram\": [{\"marker\": {\"colorbar\": {\"outlinewidth\": 0, \"ticks\": \"\"}}, \"type\": \"histogram\"}], \"histogram2d\": [{\"colorbar\": {\"outlinewidth\": 0, \"ticks\": \"\"}, \"colorscale\": [[0.0, \"#0d0887\"], [0.1111111111111111, \"#46039f\"], [0.2222222222222222, \"#7201a8\"], [0.3333333333333333, \"#9c179e\"], [0.4444444444444444, \"#bd3786\"], [0.5555555555555556, \"#d8576b\"], [0.6666666666666666, \"#ed7953\"], [0.7777777777777778, \"#fb9f3a\"], [0.8888888888888888, \"#fdca26\"], [1.0, \"#f0f921\"]], \"type\": \"histogram2d\"}], \"histogram2dcontour\": [{\"colorbar\": {\"outlinewidth\": 0, \"ticks\": \"\"}, \"colorscale\": [[0.0, \"#0d0887\"], [0.1111111111111111, \"#46039f\"], [0.2222222222222222, \"#7201a8\"], [0.3333333333333333, \"#9c179e\"], [0.4444444444444444, \"#bd3786\"], [0.5555555555555556, \"#d8576b\"], [0.6666666666666666, \"#ed7953\"], [0.7777777777777778, \"#fb9f3a\"], [0.8888888888888888, \"#fdca26\"], [1.0, \"#f0f921\"]], \"type\": \"histogram2dcontour\"}], \"mesh3d\": [{\"colorbar\": {\"outlinewidth\": 0, \"ticks\": \"\"}, \"type\": \"mesh3d\"}], \"parcoords\": [{\"line\": {\"colorbar\": {\"outlinewidth\": 0, \"ticks\": \"\"}}, \"type\": \"parcoords\"}], \"scatter\": [{\"marker\": {\"colorbar\": {\"outlinewidth\": 0, \"ticks\": \"\"}}, \"type\": \"scatter\"}], \"scatter3d\": [{\"line\": {\"colorbar\": {\"outlinewidth\": 0, \"ticks\": \"\"}}, \"marker\": {\"colorbar\": {\"outlinewidth\": 0, \"ticks\": \"\"}}, \"type\": \"scatter3d\"}], \"scattercarpet\": [{\"marker\": {\"colorbar\": {\"outlinewidth\": 0, \"ticks\": \"\"}}, \"type\": \"scattercarpet\"}], \"scattergeo\": [{\"marker\": {\"colorbar\": {\"outlinewidth\": 0, \"ticks\": \"\"}}, \"type\": \"scattergeo\"}], \"scattergl\": [{\"marker\": {\"colorbar\": {\"outlinewidth\": 0, \"ticks\": \"\"}}, \"type\": \"scattergl\"}], \"scattermapbox\": [{\"marker\": {\"colorbar\": {\"outlinewidth\": 0, \"ticks\": \"\"}}, \"type\": \"scattermapbox\"}], \"scatterpolar\": [{\"marker\": {\"colorbar\": {\"outlinewidth\": 0, \"ticks\": \"\"}}, \"type\": \"scatterpolar\"}], \"scatterpolargl\": [{\"marker\": {\"colorbar\": {\"outlinewidth\": 0, \"ticks\": \"\"}}, \"type\": \"scatterpolargl\"}], \"scatterternary\": [{\"marker\": {\"colorbar\": {\"outlinewidth\": 0, \"ticks\": \"\"}}, \"type\": \"scatterternary\"}], \"surface\": [{\"colorbar\": {\"outlinewidth\": 0, \"ticks\": \"\"}, \"colorscale\": [[0.0, \"#0d0887\"], [0.1111111111111111, \"#46039f\"], [0.2222222222222222, \"#7201a8\"], [0.3333333333333333, \"#9c179e\"], [0.4444444444444444, \"#bd3786\"], [0.5555555555555556, \"#d8576b\"], [0.6666666666666666, \"#ed7953\"], [0.7777777777777778, \"#fb9f3a\"], [0.8888888888888888, \"#fdca26\"], [1.0, \"#f0f921\"]], \"type\": \"surface\"}], \"table\": [{\"cells\": {\"fill\": {\"color\": \"#EBF0F8\"}, \"line\": {\"color\": \"white\"}}, \"header\": {\"fill\": {\"color\": \"#C8D4E3\"}, \"line\": {\"color\": \"white\"}}, \"type\": \"table\"}]}, \"layout\": {\"annotationdefaults\": {\"arrowcolor\": \"#2a3f5f\", \"arrowhead\": 0, \"arrowwidth\": 1}, \"colorscale\": {\"diverging\": [[0, \"#8e0152\"], [0.1, \"#c51b7d\"], [0.2, \"#de77ae\"], [0.3, \"#f1b6da\"], [0.4, \"#fde0ef\"], [0.5, \"#f7f7f7\"], [0.6, \"#e6f5d0\"], [0.7, \"#b8e186\"], [0.8, \"#7fbc41\"], [0.9, \"#4d9221\"], [1, \"#276419\"]], \"sequential\": [[0.0, \"#0d0887\"], [0.1111111111111111, \"#46039f\"], [0.2222222222222222, \"#7201a8\"], [0.3333333333333333, \"#9c179e\"], [0.4444444444444444, \"#bd3786\"], [0.5555555555555556, \"#d8576b\"], [0.6666666666666666, \"#ed7953\"], [0.7777777777777778, \"#fb9f3a\"], [0.8888888888888888, \"#fdca26\"], [1.0, \"#f0f921\"]], \"sequentialminus\": [[0.0, \"#0d0887\"], [0.1111111111111111, \"#46039f\"], [0.2222222222222222, \"#7201a8\"], [0.3333333333333333, \"#9c179e\"], [0.4444444444444444, \"#bd3786\"], [0.5555555555555556, \"#d8576b\"], [0.6666666666666666, \"#ed7953\"], [0.7777777777777778, \"#fb9f3a\"], [0.8888888888888888, \"#fdca26\"], [1.0, \"#f0f921\"]]}, \"colorway\": [\"#636efa\", \"#EF553B\", \"#00cc96\", \"#ab63fa\", \"#FFA15A\", \"#19d3f3\", \"#FF6692\", \"#B6E880\", \"#FF97FF\", \"#FECB52\"], \"font\": {\"color\": \"#2a3f5f\"}, \"geo\": {\"bgcolor\": \"white\", \"lakecolor\": \"white\", \"landcolor\": \"#E5ECF6\", \"showlakes\": true, \"showland\": true, \"subunitcolor\": \"white\"}, \"hoverlabel\": {\"align\": \"left\"}, \"hovermode\": \"closest\", \"mapbox\": {\"style\": \"light\"}, \"paper_bgcolor\": \"white\", \"plot_bgcolor\": \"#E5ECF6\", \"polar\": {\"angularaxis\": {\"gridcolor\": \"white\", \"linecolor\": \"white\", \"ticks\": \"\"}, \"bgcolor\": \"#E5ECF6\", \"radialaxis\": {\"gridcolor\": \"white\", \"linecolor\": \"white\", \"ticks\": \"\"}}, \"scene\": {\"xaxis\": {\"backgroundcolor\": \"#E5ECF6\", \"gridcolor\": \"white\", \"gridwidth\": 2, \"linecolor\": \"white\", \"showbackground\": true, \"ticks\": \"\", \"zerolinecolor\": \"white\"}, \"yaxis\": {\"backgroundcolor\": \"#E5ECF6\", \"gridcolor\": \"white\", \"gridwidth\": 2, \"linecolor\": \"white\", \"showbackground\": true, \"ticks\": \"\", \"zerolinecolor\": \"white\"}, \"zaxis\": {\"backgroundcolor\": \"#E5ECF6\", \"gridcolor\": \"white\", \"gridwidth\": 2, \"linecolor\": \"white\", \"showbackground\": true, \"ticks\": \"\", \"zerolinecolor\": \"white\"}}, \"shapedefaults\": {\"line\": {\"color\": \"#2a3f5f\"}}, \"ternary\": {\"aaxis\": {\"gridcolor\": \"white\", \"linecolor\": \"white\", \"ticks\": \"\"}, \"baxis\": {\"gridcolor\": \"white\", \"linecolor\": \"white\", \"ticks\": \"\"}, \"bgcolor\": \"#E5ECF6\", \"caxis\": {\"gridcolor\": \"white\", \"linecolor\": \"white\", \"ticks\": \"\"}}, \"title\": {\"x\": 0.05}, \"xaxis\": {\"automargin\": true, \"gridcolor\": \"white\", \"linecolor\": \"white\", \"ticks\": \"\", \"zerolinecolor\": \"white\", \"zerolinewidth\": 2}, \"yaxis\": {\"automargin\": true, \"gridcolor\": \"white\", \"linecolor\": \"white\", \"ticks\": \"\", \"zerolinecolor\": \"white\", \"zerolinewidth\": 2}}}, \"title\": {\"text\": \"\\u0412\\u043b\\u0438\\u044f\\u043d\\u0438\\u0435 \\u0440\\u0435\\u0439\\u0442\\u0438\\u043d\\u0433\\u0430 ESRB \\u043d\\u0430 \\u043e\\u0431\\u044a\\u0451\\u043c \\u043f\\u0440\\u043e\\u0434\\u0430\\u0436 \\u043f\\u043e \\u0440\\u0435\\u0433\\u0438\\u043e\\u043d\\u0430\\u043c\"}, \"xaxis\": {\"title\": {\"text\": \"\\u0416\\u0430\\u043d\\u0440\\u044b\"}}},\n",
       "                        {\"responsive\": true}\n",
       "                    ).then(function(){\n",
       "                            \n",
       "var gd = document.getElementById('7d0b24de-d6ef-48ba-a046-8083fcedd857');\n",
       "var x = new MutationObserver(function (mutations, observer) {{\n",
       "        var display = window.getComputedStyle(gd).display;\n",
       "        if (!display || display === 'none') {{\n",
       "            console.log([gd, 'removed!']);\n",
       "            Plotly.purge(gd);\n",
       "            observer.disconnect();\n",
       "        }}\n",
       "}});\n",
       "\n",
       "// Listen for the removal of the full notebook cells\n",
       "var notebookContainer = gd.closest('#notebook-container');\n",
       "if (notebookContainer) {{\n",
       "    x.observe(notebookContainer, {childList: true});\n",
       "}}\n",
       "\n",
       "// Listen for the clearing of the current output cell\n",
       "var outputEl = gd.closest('.output');\n",
       "if (outputEl) {{\n",
       "    x.observe(outputEl, {childList: true});\n",
       "}}\n",
       "\n",
       "                        })\n",
       "                };\n",
       "                });\n",
       "            </script>\n",
       "        </div>"
      ]
     },
     "metadata": {},
     "output_type": "display_data"
    }
   ],
   "source": [
    "platforms_data = data.pivot_table(index='rating', values=('na_sales', 'eu_sales',\n",
    "       'jp_sales', 'other_sales', 'world_sales'), aggfunc='sum').sort_values(by='world_sales', ascending=False)\n",
    "\n",
    "\n",
    "# создаем traces для визуализации\n",
    "trace0 = go.Bar(\n",
    "    x=platforms_data.index,\n",
    "    y=platforms_data.na_sales,\n",
    "    name='Продажи в Северной Америке'\n",
    ")\n",
    "\n",
    "trace1 = go.Bar(\n",
    "    x=platforms_data.index,\n",
    "    y=platforms_data.eu_sales,\n",
    "    name='Продажи в Европе'\n",
    ")\n",
    "\n",
    "trace2 = go.Bar(\n",
    "    x=platforms_data.index,\n",
    "    y=platforms_data.jp_sales,\n",
    "    name='Продажи в Японии'\n",
    ")\n",
    "\n",
    "trace3 = go.Bar(\n",
    "    x=platforms_data.index,\n",
    "    y=platforms_data.other_sales,\n",
    "    name='Продажи других регионах'\n",
    ")\n",
    "\n",
    "\n",
    "# создаем массив с данными и задаем title для графика и оси x в layout\n",
    "data_for_plot = [trace0, trace1, trace2, trace3]\n",
    "layout = {'title': 'Влияние рейтинга ESRB на объём продаж по регионам', 'xaxis': {'title': 'Жанры'}}\n",
    "\n",
    "# создаем объект Figure и визуализируем его\n",
    "fig = go.Figure(data=data_for_plot, layout=layout)\n",
    "iplot(fig, show_link=False)"
   ]
  },
  {
   "cell_type": "markdown",
   "metadata": {},
   "source": [
    "«E» («Everyone») — «Для всех»: Содержание вполне подходит для возрастной категории от 6 лет и старше; такие игры могут понравиться и взрослым. Игры с этим рейтингом могут содержать минимальное насилие, в основном «мультяшного» характера. Первой игрой, которая получила данный рейтинг, стала The Simpsons Cartoon Studio, выпущенная в 1996 году. Первоначально \"K-A\" (\"Kids to Adults\")\n",
    "\n",
    "«M» («Mature») — «Для взрослых»: Материалы игры не подходят для подростков младше 17 лет. Проекты с данным рейтингом могут содержать достаточно жестокое насилие, большое количество крови с расчленением, непристойные сексуальные сцены или грубую ненормативную лексику, нежелательную для младшей аудитории.\n",
    "\n",
    "«T» («Teen») — «Подросткам»: Игра подходит для лиц от 13 лет и старше. Проекты из данной категории могут содержать насилие, непристойные сцены, грубый юмор, в меру откровенное сексуальное содержимое, кровь или нечастое использование ненормативной лексики.\n",
    "\n",
    "«E10+» («Everyone 10 and older») — «Для всех от 10 лет и старше»: Проекты с данным рейтингом могут содержать немного больше мультипликационного или мягкого насилия, или несколько откровенные сцены или минимальное количество крови. Рейтинг был принят ESRB 2 марта 2005 года. Первой игрой, которая получила данный рейтинг, стала Donkey Kong: Jungle Beat.\n",
    "\n",
    "«AO» («Adults Only 18+») — «Только для взрослых»: Содержание игры только для взрослых старше 18 лет. Продукты из данной категории могут содержать длительные сцены жестокого насилия и/или очень откровенное сексуальное содержимое, а также сцены с обнажением. Большинство таких игр предназначены для персональных компьютеров под управлением Microsoft Windows и Apple Macintosh. Рейтинг «Только для взрослых» является предметом многочисленных дискуссий, так как накладывает серьёзные ограничения на продажи игры.\n",
    "\n",
    "«RP» («Rating Pending») — «Рейтинг ожидается»: Продукт был отправлен в ESRB и ожидает присвоения рейтинга. Данный логотип используется только на рекламных презентациях и в демо-версиях игр до официальной даты выпуска в продажу. "
   ]
  },
  {
   "cell_type": "markdown",
   "metadata": {},
   "source": [
    "## Шаг 5 – Проверка гипотез"
   ]
  },
  {
   "cell_type": "markdown",
   "metadata": {},
   "source": [
    "У нас на проверку есть 2 гипотезы.\n",
    "\n",
    " №1 – Средние пользовательские рейтинги платформ Xbox One и PC одинаковые.\n",
    " \n",
    " №2 – Средние пользовательские рейтинги жанров Action (англ. «действие») и Sports (англ. «виды спорта») разные."
   ]
  },
  {
   "cell_type": "markdown",
   "metadata": {},
   "source": [
    "**Проверяем гипотезу №1** – Средние пользовательские рейтинги платформ Xbox One и PC одинаковые.\n",
    "\n",
    "Выдвигаем H0: Средние пользовательские рейтинги платформ Xbox One и PC одинаковые"
   ]
  },
  {
   "cell_type": "code",
   "execution_count": 27,
   "metadata": {},
   "outputs": [
    {
     "name": "stdout",
     "output_type": "stream",
     "text": [
      "p-значение: 4.6582580354628004e-05\n",
      "Отвергаем нулевую гипотезу\n"
     ]
    }
   ],
   "source": [
    "data_xone = data.query('platform == \"XOne\"')\n",
    "data_pc = data.query('platform == \"PC\"')\n",
    "\n",
    "alpha = .05 # критический уровень статистической значимости\n",
    "            # если p-value окажется меньше него - отвергнем гипотезу\n",
    "\n",
    "results = st.ttest_ind(\n",
    "    data_xone['user_score'], \n",
    "    data_pc['user_score'])\n",
    "\n",
    "print('p-значение:', results.pvalue)\n",
    "\n",
    "if (results.pvalue < alpha):\n",
    "    print(\"Отвергаем нулевую гипотезу\")\n",
    "else:\n",
    "    print(\"Не получилось отвергнуть нулевую гипотезу\")"
   ]
  },
  {
   "cell_type": "markdown",
   "metadata": {},
   "source": [
    "**Проверяем гипотезу №2** – Средние пользовательские рейтинги жанров Action (англ. «действие») и Sports (англ. «виды спорта») разные.\n",
    "\n",
    "Выдвигаем H0: Средние пользовательские рейтинги жанров Action (англ. «действие») и Sports (англ. «виды спорта») одинаковые."
   ]
  },
  {
   "cell_type": "code",
   "execution_count": 23,
   "metadata": {},
   "outputs": [
    {
     "name": "stdout",
     "output_type": "stream",
     "text": [
      "p-значение: 0.7961627772270626\n",
      "Не получилось отвергнуть нулевую гипотезу\n"
     ]
    }
   ],
   "source": [
    "data_action = data.query('genre == \"Action\"')\n",
    "data_sport = data.query('genre == \"Sports\"')\n",
    "\n",
    "alpha = .05 # критический уровень статистической значимости\n",
    "            # если p-value окажется меньше него - отвергнем гипотезу\n",
    "\n",
    "results = st.ttest_ind(\n",
    "    data_action['user_score'], \n",
    "    data_sport['user_score'])\n",
    "\n",
    "print('p-значение:', results.pvalue)\n",
    "\n",
    "if (results.pvalue < alpha):\n",
    "    print(\"Отвергаем нулевую гипотезу\")\n",
    "else:\n",
    "    print(\"Не получилось отвергнуть нулевую гипотезу\")"
   ]
  },
  {
   "cell_type": "markdown",
   "metadata": {},
   "source": [
    "### Общий вывод"
   ]
  },
  {
   "cell_type": "markdown",
   "metadata": {},
   "source": [
    "1. Рынок видеоигр переживает не лучше времена. Большие продажи были с 2005 по 2014. В 2008 был пик продажи и с того года рынок движется вниз.\n",
    "2. Срок жизни новой платформы около 10 лет. \n",
    "3. PS4 и XOne платформы, которые появились в 2013 году и имеют потенциал для роста в 2017 году.\n",
    "4. ТОП5 платформ по продажам в мире 1-PS2, 2-X360, 3-PS3, 4-Wii, 5-DS. При этом в разных регионах состав пятёрки меняется.\n",
    "5. Сильной коореляции между рейтингом критиков, пользователей и продажами не замечено.\n",
    "6. В Японии лучше всего продаются игры жанров: Role-Playing, Action, Platform.\n",
    "7. В Северной Америке  ТОП3 жанра: Action, Sports, Shooter.\n",
    "8. В Европе  ТОП3 жанра: Action, Shooter, Sports.\n",
    "9. Больше продаж у игр с рейтингом  E, M, T. Плохо продаются игры с рейтингом: E10+, AO, RP."
   ]
  },
  {
   "cell_type": "markdown",
   "metadata": {},
   "source": [
    "**Дополнительные выводы**\n",
    "\n",
    "Геймеры их Северной Америки, Европы и других стран солидарны в своих вкусах. Геймеры в Японии совершенно но похожи на геймеров из другого мира. Поэтому в Японии нужно менять ассортимент игр.\n",
    "\n",
    "Самый большой рынок в Северной Америке и Европе. Там много денег. Много продаж.\n",
    "\n",
    "Люди практически не покупают игры для взрослыз с рейтингом «AO» («Adults Only 18+»)."
   ]
  }
 ],
 "metadata": {
  "kernelspec": {
   "display_name": "Python 3",
   "language": "python",
   "name": "python3"
  },
  "language_info": {
   "codemirror_mode": {
    "name": "ipython",
    "version": 3
   },
   "file_extension": ".py",
   "mimetype": "text/x-python",
   "name": "python",
   "nbconvert_exporter": "python",
   "pygments_lexer": "ipython3",
   "version": "3.7.6"
  }
 },
 "nbformat": 4,
 "nbformat_minor": 2
}
