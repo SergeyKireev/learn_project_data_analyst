{
 "cells": [
  {
   "cell_type": "markdown",
   "metadata": {},
   "source": [
    "# Определение перспективного тарифа для телеком компании \"Мегалайн\""
   ]
  },
  {
   "cell_type": "markdown",
   "metadata": {},
   "source": [
    "#### Учебный проект №3 | Выполнил: Сергей Киреев"
   ]
  },
  {
   "cell_type": "markdown",
   "metadata": {},
   "source": [
    "## Введение"
   ]
  },
  {
   "cell_type": "markdown",
   "metadata": {},
   "source": [
    "Клиентам федерального оператора сотовой связи \"Мегалайн\" предлагают два тарифных плана: «Смарт» и «Ультра». Чтобы скорректировать рекламный бюджет, нужно понять, какой тариф приносит больше денег.\n",
    "\n",
    "В данном проекте будет выполнен предварительный анализ тарифов на небольшой выборке клиентов. Я имею данные 500 пользователей «Мегалайна»: кто они, откуда, каким тарифом пользуются, сколько звонков и сообщений каждый отправил за 2018 год. Попробую проанализировать поведение клиентов и сделать вывод — какой тариф лучше."
   ]
  },
  {
   "cell_type": "markdown",
   "metadata": {},
   "source": [
    "##### Описание тарифов\n",
    "Тариф «Смарт»\n",
    "\n",
    "- Ежемесячная плата: 550 рублей\n",
    "- Включено 500 минут разговора, 50 сообщений и 15 Гб интернет-трафика\n",
    "- Стоимость услуг сверх тарифного пакета:\n",
    "- минута разговора: 3 рубля\n",
    "- сообщение: 3 рубля\n",
    "- 1 Гб интернет-трафика: 200 рублей\n",
    "\n",
    "Тариф «Ультра»\n",
    "\n",
    "- Ежемесячная плата: 1950 рублей\n",
    "- Включено 3000 минут разговора, 1000 сообщений и 30 Гб интернет-трафика\n",
    "- Стоимость услуг сверх тарифного пакета:\n",
    "- минута разговора: 1 рубль\n",
    "- сообщение: 1 рубль\n",
    "- 1 Гб интернет-трафика: 150 рублей\n",
    "\n",
    "Внимание: «Мегалайн» всегда округляет вверх значения минут и мегабайтов. Если пользователь проговорил всего 1 секунду, в тарифе засчитывается целая минута."
   ]
  },
  {
   "cell_type": "markdown",
   "metadata": {},
   "source": [
    "#### Импорт библиотек"
   ]
  },
  {
   "cell_type": "code",
   "execution_count": 3,
   "metadata": {},
   "outputs": [],
   "source": [
    "import pandas as pd\n",
    "import numpy as np\n",
    "from scipy import stats as st\n",
    "import seaborn as sns\n",
    "import matplotlib.pyplot as plt\n",
    "import math\n",
    "\n",
    "# будем отображать графики прямо в jupyter'e\n",
    "%matplotlib inline\n",
    "\n",
    "#графики в svg выглядят более четкими\n",
    "#%config InlineBackend.figure_format = 'svg' "
   ]
  },
  {
   "cell_type": "markdown",
   "metadata": {},
   "source": [
    "## Шаг 1 – Знакомство с данными"
   ]
  },
  {
   "cell_type": "code",
   "execution_count": 4,
   "metadata": {},
   "outputs": [],
   "source": [
    "#Сохраняем содержимое исходных CSV в DataFrame\n",
    "df_calls = pd.read_csv('/datasets/calls.csv')\n",
    "df_internet = pd.read_csv('/datasets/internet.csv')\n",
    "df_messages = pd.read_csv('/datasets/messages.csv')\n",
    "df_tariffs = pd.read_csv('/datasets/tariffs.csv')\n",
    "df_users = pd.read_csv('/datasets/users.csv')"
   ]
  },
  {
   "cell_type": "code",
   "execution_count": 5,
   "metadata": {},
   "outputs": [],
   "source": [
    "# #Сохраняем содержимое исходных CSV в DataFrame\n",
    "# df_calls = pd.read_csv('Desktop/Анализ данных – Яндекс Практикум/Проект №3/calls.csv')\n",
    "# df_internet = pd.read_csv('Desktop/Анализ данных – Яндекс Практикум/Проект №3/internet.csv')\n",
    "# df_messages = pd.read_csv('Desktop/Анализ данных – Яндекс Практикум/Проект №3/messages.csv')\n",
    "# df_tariffs = pd.read_csv('Desktop/Анализ данных – Яндекс Практикум/Проект №3/tariffs.csv')\n",
    "# df_users = pd.read_csv('Desktop/Анализ данных – Яндекс Практикум/Проект №3/users.csv')"
   ]
  },
  {
   "cell_type": "code",
   "execution_count": 6,
   "metadata": {},
   "outputs": [
    {
     "name": "stdout",
     "output_type": "stream",
     "text": [
      "<class 'pandas.core.frame.DataFrame'>\n",
      "RangeIndex: 202607 entries, 0 to 202606\n",
      "Data columns (total 4 columns):\n",
      "id           202607 non-null object\n",
      "call_date    202607 non-null object\n",
      "duration     202607 non-null float64\n",
      "user_id      202607 non-null int64\n",
      "dtypes: float64(1), int64(1), object(2)\n",
      "memory usage: 6.2+ MB\n"
     ]
    }
   ],
   "source": [
    "df_calls.info()"
   ]
  },
  {
   "cell_type": "code",
   "execution_count": 7,
   "metadata": {},
   "outputs": [
    {
     "name": "stdout",
     "output_type": "stream",
     "text": [
      "<class 'pandas.core.frame.DataFrame'>\n",
      "RangeIndex: 149396 entries, 0 to 149395\n",
      "Data columns (total 5 columns):\n",
      "Unnamed: 0      149396 non-null int64\n",
      "id              149396 non-null object\n",
      "mb_used         149396 non-null float64\n",
      "session_date    149396 non-null object\n",
      "user_id         149396 non-null int64\n",
      "dtypes: float64(1), int64(2), object(2)\n",
      "memory usage: 5.7+ MB\n"
     ]
    },
    {
     "data": {
      "text/html": [
       "<div>\n",
       "<style scoped>\n",
       "    .dataframe tbody tr th:only-of-type {\n",
       "        vertical-align: middle;\n",
       "    }\n",
       "\n",
       "    .dataframe tbody tr th {\n",
       "        vertical-align: top;\n",
       "    }\n",
       "\n",
       "    .dataframe thead th {\n",
       "        text-align: right;\n",
       "    }\n",
       "</style>\n",
       "<table border=\"1\" class=\"dataframe\">\n",
       "  <thead>\n",
       "    <tr style=\"text-align: right;\">\n",
       "      <th></th>\n",
       "      <th>Unnamed: 0</th>\n",
       "      <th>id</th>\n",
       "      <th>mb_used</th>\n",
       "      <th>session_date</th>\n",
       "      <th>user_id</th>\n",
       "    </tr>\n",
       "  </thead>\n",
       "  <tbody>\n",
       "    <tr>\n",
       "      <td>11</td>\n",
       "      <td>11</td>\n",
       "      <td>1000_11</td>\n",
       "      <td>0.0</td>\n",
       "      <td>2018-08-28</td>\n",
       "      <td>1000</td>\n",
       "    </tr>\n",
       "    <tr>\n",
       "      <td>38</td>\n",
       "      <td>38</td>\n",
       "      <td>1000_38</td>\n",
       "      <td>0.0</td>\n",
       "      <td>2018-11-27</td>\n",
       "      <td>1000</td>\n",
       "    </tr>\n",
       "    <tr>\n",
       "      <td>46</td>\n",
       "      <td>46</td>\n",
       "      <td>1000_46</td>\n",
       "      <td>0.0</td>\n",
       "      <td>2018-06-30</td>\n",
       "      <td>1000</td>\n",
       "    </tr>\n",
       "    <tr>\n",
       "      <td>67</td>\n",
       "      <td>67</td>\n",
       "      <td>1000_67</td>\n",
       "      <td>0.0</td>\n",
       "      <td>2018-06-16</td>\n",
       "      <td>1000</td>\n",
       "    </tr>\n",
       "    <tr>\n",
       "      <td>72</td>\n",
       "      <td>72</td>\n",
       "      <td>1000_72</td>\n",
       "      <td>0.0</td>\n",
       "      <td>2018-06-15</td>\n",
       "      <td>1000</td>\n",
       "    </tr>\n",
       "    <tr>\n",
       "      <td>...</td>\n",
       "      <td>...</td>\n",
       "      <td>...</td>\n",
       "      <td>...</td>\n",
       "      <td>...</td>\n",
       "      <td>...</td>\n",
       "    </tr>\n",
       "    <tr>\n",
       "      <td>149380</td>\n",
       "      <td>149380</td>\n",
       "      <td>1499_141</td>\n",
       "      <td>0.0</td>\n",
       "      <td>2018-12-11</td>\n",
       "      <td>1499</td>\n",
       "    </tr>\n",
       "    <tr>\n",
       "      <td>149381</td>\n",
       "      <td>149381</td>\n",
       "      <td>1499_142</td>\n",
       "      <td>0.0</td>\n",
       "      <td>2018-11-01</td>\n",
       "      <td>1499</td>\n",
       "    </tr>\n",
       "    <tr>\n",
       "      <td>149383</td>\n",
       "      <td>149383</td>\n",
       "      <td>1499_144</td>\n",
       "      <td>0.0</td>\n",
       "      <td>2018-11-27</td>\n",
       "      <td>1499</td>\n",
       "    </tr>\n",
       "    <tr>\n",
       "      <td>149386</td>\n",
       "      <td>149386</td>\n",
       "      <td>1499_147</td>\n",
       "      <td>0.0</td>\n",
       "      <td>2018-10-21</td>\n",
       "      <td>1499</td>\n",
       "    </tr>\n",
       "    <tr>\n",
       "      <td>149393</td>\n",
       "      <td>149393</td>\n",
       "      <td>1499_154</td>\n",
       "      <td>0.0</td>\n",
       "      <td>2018-10-27</td>\n",
       "      <td>1499</td>\n",
       "    </tr>\n",
       "  </tbody>\n",
       "</table>\n",
       "<p>19598 rows × 5 columns</p>\n",
       "</div>"
      ],
      "text/plain": [
       "        Unnamed: 0        id  mb_used session_date  user_id\n",
       "11              11   1000_11      0.0   2018-08-28     1000\n",
       "38              38   1000_38      0.0   2018-11-27     1000\n",
       "46              46   1000_46      0.0   2018-06-30     1000\n",
       "67              67   1000_67      0.0   2018-06-16     1000\n",
       "72              72   1000_72      0.0   2018-06-15     1000\n",
       "...            ...       ...      ...          ...      ...\n",
       "149380      149380  1499_141      0.0   2018-12-11     1499\n",
       "149381      149381  1499_142      0.0   2018-11-01     1499\n",
       "149383      149383  1499_144      0.0   2018-11-27     1499\n",
       "149386      149386  1499_147      0.0   2018-10-21     1499\n",
       "149393      149393  1499_154      0.0   2018-10-27     1499\n",
       "\n",
       "[19598 rows x 5 columns]"
      ]
     },
     "execution_count": 7,
     "metadata": {},
     "output_type": "execute_result"
    }
   ],
   "source": [
    "df_internet.info()\n",
    "df_internet.query('mb_used == 0').copy()"
   ]
  },
  {
   "cell_type": "code",
   "execution_count": 8,
   "metadata": {},
   "outputs": [
    {
     "name": "stdout",
     "output_type": "stream",
     "text": [
      "<class 'pandas.core.frame.DataFrame'>\n",
      "RangeIndex: 123036 entries, 0 to 123035\n",
      "Data columns (total 3 columns):\n",
      "id              123036 non-null object\n",
      "message_date    123036 non-null object\n",
      "user_id         123036 non-null int64\n",
      "dtypes: int64(1), object(2)\n",
      "memory usage: 2.8+ MB\n"
     ]
    }
   ],
   "source": [
    "df_messages.info()"
   ]
  },
  {
   "cell_type": "code",
   "execution_count": 9,
   "metadata": {},
   "outputs": [
    {
     "name": "stdout",
     "output_type": "stream",
     "text": [
      "<class 'pandas.core.frame.DataFrame'>\n",
      "RangeIndex: 2 entries, 0 to 1\n",
      "Data columns (total 8 columns):\n",
      "messages_included        2 non-null int64\n",
      "mb_per_month_included    2 non-null int64\n",
      "minutes_included         2 non-null int64\n",
      "rub_monthly_fee          2 non-null int64\n",
      "rub_per_gb               2 non-null int64\n",
      "rub_per_message          2 non-null int64\n",
      "rub_per_minute           2 non-null int64\n",
      "tariff_name              2 non-null object\n",
      "dtypes: int64(7), object(1)\n",
      "memory usage: 256.0+ bytes\n"
     ]
    }
   ],
   "source": [
    "df_tariffs.info()"
   ]
  },
  {
   "cell_type": "code",
   "execution_count": 10,
   "metadata": {},
   "outputs": [
    {
     "name": "stdout",
     "output_type": "stream",
     "text": [
      "<class 'pandas.core.frame.DataFrame'>\n",
      "RangeIndex: 500 entries, 0 to 499\n",
      "Data columns (total 8 columns):\n",
      "user_id       500 non-null int64\n",
      "age           500 non-null int64\n",
      "churn_date    38 non-null object\n",
      "city          500 non-null object\n",
      "first_name    500 non-null object\n",
      "last_name     500 non-null object\n",
      "reg_date      500 non-null object\n",
      "tariff        500 non-null object\n",
      "dtypes: int64(2), object(6)\n",
      "memory usage: 31.4+ KB\n"
     ]
    },
    {
     "data": {
      "text/html": [
       "<div>\n",
       "<style scoped>\n",
       "    .dataframe tbody tr th:only-of-type {\n",
       "        vertical-align: middle;\n",
       "    }\n",
       "\n",
       "    .dataframe tbody tr th {\n",
       "        vertical-align: top;\n",
       "    }\n",
       "\n",
       "    .dataframe thead th {\n",
       "        text-align: right;\n",
       "    }\n",
       "</style>\n",
       "<table border=\"1\" class=\"dataframe\">\n",
       "  <thead>\n",
       "    <tr style=\"text-align: right;\">\n",
       "      <th></th>\n",
       "      <th>user_id</th>\n",
       "      <th>age</th>\n",
       "      <th>churn_date</th>\n",
       "      <th>city</th>\n",
       "      <th>first_name</th>\n",
       "      <th>last_name</th>\n",
       "      <th>reg_date</th>\n",
       "      <th>tariff</th>\n",
       "    </tr>\n",
       "  </thead>\n",
       "  <tbody>\n",
       "    <tr>\n",
       "      <td>0</td>\n",
       "      <td>1000</td>\n",
       "      <td>52</td>\n",
       "      <td>NaN</td>\n",
       "      <td>Краснодар</td>\n",
       "      <td>Рафаил</td>\n",
       "      <td>Верещагин</td>\n",
       "      <td>2018-05-25</td>\n",
       "      <td>ultra</td>\n",
       "    </tr>\n",
       "    <tr>\n",
       "      <td>1</td>\n",
       "      <td>1001</td>\n",
       "      <td>41</td>\n",
       "      <td>NaN</td>\n",
       "      <td>Москва</td>\n",
       "      <td>Иван</td>\n",
       "      <td>Ежов</td>\n",
       "      <td>2018-11-01</td>\n",
       "      <td>smart</td>\n",
       "    </tr>\n",
       "    <tr>\n",
       "      <td>2</td>\n",
       "      <td>1002</td>\n",
       "      <td>59</td>\n",
       "      <td>NaN</td>\n",
       "      <td>Стерлитамак</td>\n",
       "      <td>Евгений</td>\n",
       "      <td>Абрамович</td>\n",
       "      <td>2018-06-17</td>\n",
       "      <td>smart</td>\n",
       "    </tr>\n",
       "    <tr>\n",
       "      <td>3</td>\n",
       "      <td>1003</td>\n",
       "      <td>23</td>\n",
       "      <td>NaN</td>\n",
       "      <td>Москва</td>\n",
       "      <td>Белла</td>\n",
       "      <td>Белякова</td>\n",
       "      <td>2018-08-17</td>\n",
       "      <td>ultra</td>\n",
       "    </tr>\n",
       "    <tr>\n",
       "      <td>4</td>\n",
       "      <td>1004</td>\n",
       "      <td>68</td>\n",
       "      <td>NaN</td>\n",
       "      <td>Новокузнецк</td>\n",
       "      <td>Татьяна</td>\n",
       "      <td>Авдеенко</td>\n",
       "      <td>2018-05-14</td>\n",
       "      <td>ultra</td>\n",
       "    </tr>\n",
       "    <tr>\n",
       "      <td>...</td>\n",
       "      <td>...</td>\n",
       "      <td>...</td>\n",
       "      <td>...</td>\n",
       "      <td>...</td>\n",
       "      <td>...</td>\n",
       "      <td>...</td>\n",
       "      <td>...</td>\n",
       "      <td>...</td>\n",
       "    </tr>\n",
       "    <tr>\n",
       "      <td>495</td>\n",
       "      <td>1495</td>\n",
       "      <td>65</td>\n",
       "      <td>NaN</td>\n",
       "      <td>Иркутск</td>\n",
       "      <td>Авксентий</td>\n",
       "      <td>Фокин</td>\n",
       "      <td>2018-08-28</td>\n",
       "      <td>ultra</td>\n",
       "    </tr>\n",
       "    <tr>\n",
       "      <td>496</td>\n",
       "      <td>1496</td>\n",
       "      <td>36</td>\n",
       "      <td>NaN</td>\n",
       "      <td>Вологда</td>\n",
       "      <td>Трифон</td>\n",
       "      <td>Блохин</td>\n",
       "      <td>2018-01-27</td>\n",
       "      <td>smart</td>\n",
       "    </tr>\n",
       "    <tr>\n",
       "      <td>497</td>\n",
       "      <td>1497</td>\n",
       "      <td>32</td>\n",
       "      <td>NaN</td>\n",
       "      <td>Челябинск</td>\n",
       "      <td>Каролина</td>\n",
       "      <td>Агеева</td>\n",
       "      <td>2018-10-09</td>\n",
       "      <td>smart</td>\n",
       "    </tr>\n",
       "    <tr>\n",
       "      <td>498</td>\n",
       "      <td>1498</td>\n",
       "      <td>68</td>\n",
       "      <td>2018-10-25</td>\n",
       "      <td>Владикавказ</td>\n",
       "      <td>Всеволод</td>\n",
       "      <td>Акимчин</td>\n",
       "      <td>2018-07-19</td>\n",
       "      <td>smart</td>\n",
       "    </tr>\n",
       "    <tr>\n",
       "      <td>499</td>\n",
       "      <td>1499</td>\n",
       "      <td>35</td>\n",
       "      <td>NaN</td>\n",
       "      <td>Пермь</td>\n",
       "      <td>Гектор</td>\n",
       "      <td>Корнилов</td>\n",
       "      <td>2018-09-27</td>\n",
       "      <td>smart</td>\n",
       "    </tr>\n",
       "  </tbody>\n",
       "</table>\n",
       "<p>500 rows × 8 columns</p>\n",
       "</div>"
      ],
      "text/plain": [
       "     user_id  age  churn_date         city first_name  last_name    reg_date  \\\n",
       "0       1000   52         NaN    Краснодар     Рафаил  Верещагин  2018-05-25   \n",
       "1       1001   41         NaN       Москва       Иван       Ежов  2018-11-01   \n",
       "2       1002   59         NaN  Стерлитамак    Евгений  Абрамович  2018-06-17   \n",
       "3       1003   23         NaN       Москва      Белла   Белякова  2018-08-17   \n",
       "4       1004   68         NaN  Новокузнецк    Татьяна   Авдеенко  2018-05-14   \n",
       "..       ...  ...         ...          ...        ...        ...         ...   \n",
       "495     1495   65         NaN      Иркутск  Авксентий      Фокин  2018-08-28   \n",
       "496     1496   36         NaN      Вологда     Трифон     Блохин  2018-01-27   \n",
       "497     1497   32         NaN    Челябинск   Каролина     Агеева  2018-10-09   \n",
       "498     1498   68  2018-10-25  Владикавказ   Всеволод    Акимчин  2018-07-19   \n",
       "499     1499   35         NaN        Пермь     Гектор   Корнилов  2018-09-27   \n",
       "\n",
       "    tariff  \n",
       "0    ultra  \n",
       "1    smart  \n",
       "2    smart  \n",
       "3    ultra  \n",
       "4    ultra  \n",
       "..     ...  \n",
       "495  ultra  \n",
       "496  smart  \n",
       "497  smart  \n",
       "498  smart  \n",
       "499  smart  \n",
       "\n",
       "[500 rows x 8 columns]"
      ]
     },
     "execution_count": 10,
     "metadata": {},
     "output_type": "execute_result"
    }
   ],
   "source": [
    "#df_users – дата прекращения пользования тарифом (если значение пропущено, то тариф ещё действовал на момент выгрузки данных)\n",
    "df_users.info()\n",
    "df_users"
   ]
  },
  {
   "cell_type": "markdown",
   "metadata": {},
   "source": [
    "#### Вывод\n",
    "В данных много нулевых значений. Есть пропуски. Во всех датафреймах требуется замена типа данных в столбце хранящем дату. В общем качество данных, на первый взгляд – приемлимое."
   ]
  },
  {
   "cell_type": "markdown",
   "metadata": {},
   "source": [
    "## Шаг 2 – Предобработка данных"
   ]
  },
  {
   "cell_type": "markdown",
   "metadata": {},
   "source": [
    "Считаю, что признак duration = 0 в датафрейме df_calls, означает, что звонок не состоялся, клиент не дозвонился.\n",
    "Признак mb_used = 0 в датафрейме df_internet, означает что подключение было, но абонет не пользовался интернетом.\n",
    "Если их удалить, мне кажется, это не повлияет на оценку тарифа. Удаляем."
   ]
  },
  {
   "cell_type": "code",
   "execution_count": 11,
   "metadata": {},
   "outputs": [],
   "source": [
    "#Удаляем нелевые значения минут и мегабайт\n",
    "df_calls = df_calls.query('duration != 0')\n",
    "df_internet = df_internet.query('mb_used != 0')"
   ]
  },
  {
   "cell_type": "code",
   "execution_count": 12,
   "metadata": {},
   "outputs": [],
   "source": [
    "#Преобразуем дату из строки в формат datetime\n",
    "df_calls['call_date'] = pd.to_datetime(df_calls['call_date'], format='%Y-%m-%d')\n",
    "df_internet['session_date'] = pd.to_datetime(df_internet['session_date'], format='%Y-%m-%d')\n",
    "df_messages['message_date'] = pd.to_datetime(df_messages['message_date'], format='%Y-%m-%d')\n",
    "df_users['churn_date'] = pd.to_datetime(df_users['churn_date'], format='%Y-%m-%d')\n",
    "df_users['reg_date'] = pd.to_datetime(df_users['reg_date'], format='%Y-%m-%d')"
   ]
  },
  {
   "cell_type": "code",
   "execution_count": 13,
   "metadata": {},
   "outputs": [],
   "source": [
    "#Округлим значения минут и мегабайтов до целых значений в большую сторону\n",
    "df_calls['duration'] = df_calls['duration'].apply(math.ceil).astype('int')\n",
    "df_internet['mb_used'] = df_internet['mb_used'].apply(math.ceil).astype('int')"
   ]
  },
  {
   "cell_type": "markdown",
   "metadata": {},
   "source": [
    "#### Сделаем сводные таблицы по звонкам сообщениям и интернет-трафику по месяцам"
   ]
  },
  {
   "cell_type": "code",
   "execution_count": 14,
   "metadata": {},
   "outputs": [],
   "source": [
    "#Добавим новый столбец с номером месяца в таблицы \n",
    "df_messages['month'] = pd.DatetimeIndex(df_messages['message_date']).month\n",
    "df_calls['month'] = pd.DatetimeIndex(df_calls['call_date']).month\n",
    "df_internet['month'] = pd.DatetimeIndex(df_internet['session_date']).month"
   ]
  },
  {
   "cell_type": "code",
   "execution_count": 15,
   "metadata": {},
   "outputs": [],
   "source": [
    "#Посчитаем количество сделанных звонков и израсходованных минут разговора по месяцам для каждого пользователя\n",
    "calls_pivot = df_calls.pivot_table(index = ['user_id', 'month'], values = 'duration', aggfunc = ['count', 'sum'])\n",
    "calls_pivot.columns = ['total_calls','sum_duration']"
   ]
  },
  {
   "cell_type": "code",
   "execution_count": 16,
   "metadata": {},
   "outputs": [],
   "source": [
    "#Посчитаем количество сообщений по месяцам для каждого пользователя\n",
    "messages_pivot = df_messages.pivot_table(index=['user_id', 'month'], values='id', aggfunc='count')\n",
    "messages_pivot.columns = ['total_messages']"
   ]
  },
  {
   "cell_type": "code",
   "execution_count": 17,
   "metadata": {},
   "outputs": [],
   "source": [
    "#Посчитаем объём израсходованного интернет-трафика по месяцам для каждого пользователя\n",
    "internet_pivot = df_internet.pivot_table(index=['user_id', 'month'], values='mb_used', aggfunc='sum')\n",
    "internet_pivot.columns = ['total_internet_traffic']"
   ]
  },
  {
   "cell_type": "code",
   "execution_count": 1,
   "metadata": {},
   "outputs": [
    {
     "ename": "NameError",
     "evalue": "name 'calls_pivot' is not defined",
     "output_type": "error",
     "traceback": [
      "\u001b[0;31m---------------------------------------------------------------------------\u001b[0m",
      "\u001b[0;31mNameError\u001b[0m                                 Traceback (most recent call last)",
      "\u001b[0;32m<ipython-input-1-65660a7d26d5>\u001b[0m in \u001b[0;36m<module>\u001b[0;34m\u001b[0m\n\u001b[1;32m      1\u001b[0m \u001b[0;31m#Склеиваем звонки, сообщения и интернет в общую таблицу по столбцу user_id\u001b[0m\u001b[0;34m\u001b[0m\u001b[0;34m\u001b[0m\u001b[0;34m\u001b[0m\u001b[0m\n\u001b[0;32m----> 2\u001b[0;31m \u001b[0mdf_common\u001b[0m \u001b[0;34m=\u001b[0m \u001b[0mcalls_pivot\u001b[0m\u001b[0;34m.\u001b[0m\u001b[0mmerge\u001b[0m\u001b[0;34m(\u001b[0m\u001b[0mmessages_pivot\u001b[0m\u001b[0;34m,\u001b[0m \u001b[0mon\u001b[0m\u001b[0;34m=\u001b[0m\u001b[0;34m[\u001b[0m\u001b[0;34m'user_id'\u001b[0m\u001b[0;34m,\u001b[0m \u001b[0;34m'month'\u001b[0m\u001b[0;34m]\u001b[0m\u001b[0;34m,\u001b[0m \u001b[0mhow\u001b[0m\u001b[0;34m=\u001b[0m\u001b[0;34m'outer'\u001b[0m\u001b[0;34m)\u001b[0m\u001b[0;34m\u001b[0m\u001b[0;34m\u001b[0m\u001b[0m\n\u001b[0m\u001b[1;32m      3\u001b[0m \u001b[0mdf_common\u001b[0m \u001b[0;34m=\u001b[0m \u001b[0mdf_common\u001b[0m\u001b[0;34m.\u001b[0m\u001b[0mmerge\u001b[0m\u001b[0;34m(\u001b[0m\u001b[0minternet_pivot\u001b[0m\u001b[0;34m,\u001b[0m \u001b[0mon\u001b[0m\u001b[0;34m=\u001b[0m\u001b[0;34m[\u001b[0m\u001b[0;34m'user_id'\u001b[0m\u001b[0;34m,\u001b[0m \u001b[0;34m'month'\u001b[0m\u001b[0;34m]\u001b[0m\u001b[0;34m,\u001b[0m \u001b[0mhow\u001b[0m\u001b[0;34m=\u001b[0m\u001b[0;34m'outer'\u001b[0m\u001b[0;34m)\u001b[0m\u001b[0;34m\u001b[0m\u001b[0;34m\u001b[0m\u001b[0m\n\u001b[1;32m      4\u001b[0m \u001b[0;34m\u001b[0m\u001b[0m\n\u001b[1;32m      5\u001b[0m \u001b[0;31m#а теперь применим черные приёмчики\u001b[0m\u001b[0;34m\u001b[0m\u001b[0;34m\u001b[0m\u001b[0;34m\u001b[0m\u001b[0m\n",
      "\u001b[0;31mNameError\u001b[0m: name 'calls_pivot' is not defined"
     ]
    }
   ],
   "source": [
    "#Склеиваем звонки, сообщения и интернет в общую таблицу по столбцу user_id\n",
    "df_common = calls_pivot.merge(messages_pivot, on=['user_id', 'month'], how='outer')\n",
    "df_common = df_common.merge(internet_pivot, on=['user_id', 'month'], how='outer')\n",
    "\n",
    "#а теперь применим черные приёмчики\n",
    "df_users.index = df_users['user_id']\n",
    "df_common = pd.merge(df_common, df_users['tariff'], left_index=True, right_index=True)\n",
    "df_common = pd.merge(df_common, df_users['city'], left_index=True, right_index=True)\n",
    "df_common.columns = ['total_calls', 'sum_duration', 'total_messages',\n",
    "       'total_internet_traffic', 'user_tariff', 'city']"
   ]
  },
  {
   "cell_type": "code",
   "execution_count": 162,
   "metadata": {},
   "outputs": [
    {
     "name": "stdout",
     "output_type": "stream",
     "text": [
      "Размеры датафреймов до слияния\n",
      "calls_pivot (3168, 2)\n",
      "messages_pivot (2717, 1)\n",
      "internet_pivot (3201, 1)\n",
      "\n",
      "\n",
      "Размеры датафрейма после слияния\n",
      "(3168, 7)\n"
     ]
    }
   ],
   "source": [
    "print('Размеры датафреймов до слияния')\n",
    "print('calls_pivot',calls_pivot.shape)\n",
    "print('messages_pivot', messages_pivot.shape)\n",
    "print('internet_pivot', internet_pivot.shape)\n",
    "print()\n",
    "print()\n",
    "print('Размеры датафрейма после слияния')\n",
    "print(df_common.shape)\n"
   ]
  },
  {
   "cell_type": "code",
   "execution_count": 85,
   "metadata": {},
   "outputs": [
    {
     "data": {
      "text/html": [
       "<div>\n",
       "<style scoped>\n",
       "    .dataframe tbody tr th:only-of-type {\n",
       "        vertical-align: middle;\n",
       "    }\n",
       "\n",
       "    .dataframe tbody tr th {\n",
       "        vertical-align: top;\n",
       "    }\n",
       "\n",
       "    .dataframe thead th {\n",
       "        text-align: right;\n",
       "    }\n",
       "</style>\n",
       "<table border=\"1\" class=\"dataframe\">\n",
       "  <thead>\n",
       "    <tr style=\"text-align: right;\">\n",
       "      <th></th>\n",
       "      <th>messages_included</th>\n",
       "      <th>mb_per_month_included</th>\n",
       "      <th>minutes_included</th>\n",
       "      <th>rub_monthly_fee</th>\n",
       "      <th>rub_per_gb</th>\n",
       "      <th>rub_per_message</th>\n",
       "      <th>rub_per_minute</th>\n",
       "      <th>tariff_name</th>\n",
       "    </tr>\n",
       "  </thead>\n",
       "  <tbody>\n",
       "    <tr>\n",
       "      <td>0</td>\n",
       "      <td>50</td>\n",
       "      <td>15360</td>\n",
       "      <td>500</td>\n",
       "      <td>550</td>\n",
       "      <td>200</td>\n",
       "      <td>3</td>\n",
       "      <td>3</td>\n",
       "      <td>smart</td>\n",
       "    </tr>\n",
       "    <tr>\n",
       "      <td>1</td>\n",
       "      <td>1000</td>\n",
       "      <td>30720</td>\n",
       "      <td>3000</td>\n",
       "      <td>1950</td>\n",
       "      <td>150</td>\n",
       "      <td>1</td>\n",
       "      <td>1</td>\n",
       "      <td>ultra</td>\n",
       "    </tr>\n",
       "  </tbody>\n",
       "</table>\n",
       "</div>"
      ],
      "text/plain": [
       "   messages_included  mb_per_month_included  minutes_included  \\\n",
       "0                 50                  15360               500   \n",
       "1               1000                  30720              3000   \n",
       "\n",
       "   rub_monthly_fee  rub_per_gb  rub_per_message  rub_per_minute tariff_name  \n",
       "0              550         200                3               3       smart  \n",
       "1             1950         150                1               1       ultra  "
      ]
     },
     "execution_count": 85,
     "metadata": {},
     "output_type": "execute_result"
    }
   ],
   "source": [
    "df_tariffs"
   ]
  },
  {
   "cell_type": "code",
   "execution_count": 136,
   "metadata": {},
   "outputs": [],
   "source": [
    "#Сделаем функцию, которая будет считать выручку с каждого пользователя (тариф ULTRA)\n",
    "\n",
    "def total_revenue(row):\n",
    "    \n",
    "    if row['user_tariff'] == 'ultra':\n",
    "    \n",
    "        #Посчитаем сколько минут сверх лимита наговорил юзер\n",
    "        remaning_duration = row['sum_duration'] - df_tariffs.loc[1,'minutes_included']\n",
    "        #Если минут сверх лимита нет, значит переплата 0, иначе умножаем количество минут на стоимость 1 минуты\n",
    "        if remaning_duration > 0:\n",
    "            over_duration_rub = remaning_duration * df_tariffs.loc[1,'rub_per_minute']\n",
    "        else:\n",
    "            over_duration_rub = 0\n",
    "\n",
    "        #Посчитаем сколько сообщений сверх лимита наотправлял юзер\n",
    "        remaning_messages = row['total_messages'] - df_tariffs.loc[1,'messages_included']\n",
    "        if remaning_messages > 0:\n",
    "            over_message_rub = remaning_messages * df_tariffs.loc[1,'rub_per_message']\n",
    "        else:\n",
    "            over_message_rub = 0\n",
    "\n",
    "        #Посчитаем сколько трафика перебрал юзер\n",
    "        remaning_internet = row['total_internet_traffic'] - df_tariffs.loc[1,'mb_per_month_included']\n",
    "        if remaning_internet > 0:\n",
    "            over_internet_rub = ((remaning_internet / 1024)*df_tariffs.loc[1,'rub_per_gb'])\n",
    "        else:\n",
    "            over_internet_rub = 0\n",
    "\n",
    "        #Складываем перерасходы, добавляем абонентскую плату\n",
    "        total_revenue_ultra = over_duration_rub + over_message_rub + over_internet_rub + df_tariffs.loc[1,'rub_monthly_fee']\n",
    "        return int(total_revenue_ultra)\n",
    "    \n",
    "    else:\n",
    "        \n",
    "        #Посчитаем сколько минут сверх лимита наговорил юзер\n",
    "        remaning_duration = row['sum_duration'] - df_tariffs.loc[0,'minutes_included']\n",
    "        #Если минут сверх лимита нет, значит переплата 0, иначе умножаем количество минут на стоимость 1 минуты\n",
    "        if remaning_duration > 0:\n",
    "            over_duration_rub = remaning_duration * df_tariffs.loc[0,'rub_per_minute']\n",
    "        else:\n",
    "            over_duration_rub = 0\n",
    "\n",
    "        #Посчитаем сколько сообщений сверх лимита наотправлял юзер\n",
    "        remaning_messages = row['total_messages'] - df_tariffs.loc[0,'messages_included']\n",
    "        if remaning_messages > 0:\n",
    "            over_message_rub = remaning_messages * df_tariffs.loc[0,'rub_per_message']\n",
    "        else:\n",
    "            over_message_rub = 0\n",
    "\n",
    "        #Посчитаем сколько трафика перебрал юзер\n",
    "        remaning_internet = row['total_internet_traffic'] - df_tariffs.loc[0,'mb_per_month_included']\n",
    "        if remaning_internet > 0:\n",
    "            over_internet_rub = ((remaning_internet / 1024)*df_tariffs.loc[0,'rub_per_gb'])\n",
    "        else:\n",
    "            over_internet_rub = 0\n",
    "\n",
    "        #Складываем перерасходы, добавляем абонентскую плату\n",
    "        total_revenue_smart = over_duration_rub + over_message_rub + over_internet_rub + df_tariffs.loc[0,'rub_monthly_fee']\n",
    "        return int(total_revenue_smart)"
   ]
  },
  {
   "cell_type": "code",
   "execution_count": 140,
   "metadata": {},
   "outputs": [],
   "source": [
    "#Из-за группировки  появились NaN в стобцах total_messages total_internet_traffic, \n",
    "#значит в некоторые месяцы люди звонили, но не писали СМС и не пользовались интернетом\n",
    "df_common = df_common.fillna(0)"
   ]
  },
  {
   "cell_type": "code",
   "execution_count": 146,
   "metadata": {},
   "outputs": [
    {
     "data": {
      "text/html": [
       "<div>\n",
       "<style scoped>\n",
       "    .dataframe tbody tr th:only-of-type {\n",
       "        vertical-align: middle;\n",
       "    }\n",
       "\n",
       "    .dataframe tbody tr th {\n",
       "        vertical-align: top;\n",
       "    }\n",
       "\n",
       "    .dataframe thead th {\n",
       "        text-align: right;\n",
       "    }\n",
       "</style>\n",
       "<table border=\"1\" class=\"dataframe\">\n",
       "  <thead>\n",
       "    <tr style=\"text-align: right;\">\n",
       "      <th></th>\n",
       "      <th></th>\n",
       "      <th>total_calls</th>\n",
       "      <th>sum_duration</th>\n",
       "      <th>total_messages</th>\n",
       "      <th>total_internet_traffic</th>\n",
       "      <th>user_tariff</th>\n",
       "      <th>city</th>\n",
       "      <th>total_revenue</th>\n",
       "    </tr>\n",
       "    <tr>\n",
       "      <th>user_id</th>\n",
       "      <th>month</th>\n",
       "      <th></th>\n",
       "      <th></th>\n",
       "      <th></th>\n",
       "      <th></th>\n",
       "      <th></th>\n",
       "      <th></th>\n",
       "      <th></th>\n",
       "    </tr>\n",
       "  </thead>\n",
       "  <tbody>\n",
       "    <tr>\n",
       "      <td rowspan=\"5\" valign=\"top\">1000</td>\n",
       "      <td>5</td>\n",
       "      <td>17</td>\n",
       "      <td>159</td>\n",
       "      <td>22</td>\n",
       "      <td>2256</td>\n",
       "      <td>ultra</td>\n",
       "      <td>Краснодар</td>\n",
       "      <td>1950</td>\n",
       "    </tr>\n",
       "    <tr>\n",
       "      <td>6</td>\n",
       "      <td>28</td>\n",
       "      <td>172</td>\n",
       "      <td>60</td>\n",
       "      <td>23257</td>\n",
       "      <td>ultra</td>\n",
       "      <td>Краснодар</td>\n",
       "      <td>1950</td>\n",
       "    </tr>\n",
       "    <tr>\n",
       "      <td>7</td>\n",
       "      <td>41</td>\n",
       "      <td>340</td>\n",
       "      <td>75</td>\n",
       "      <td>14016</td>\n",
       "      <td>ultra</td>\n",
       "      <td>Краснодар</td>\n",
       "      <td>1950</td>\n",
       "    </tr>\n",
       "    <tr>\n",
       "      <td>8</td>\n",
       "      <td>42</td>\n",
       "      <td>408</td>\n",
       "      <td>81</td>\n",
       "      <td>14070</td>\n",
       "      <td>ultra</td>\n",
       "      <td>Краснодар</td>\n",
       "      <td>1950</td>\n",
       "    </tr>\n",
       "    <tr>\n",
       "      <td>9</td>\n",
       "      <td>46</td>\n",
       "      <td>466</td>\n",
       "      <td>57</td>\n",
       "      <td>14581</td>\n",
       "      <td>ultra</td>\n",
       "      <td>Краснодар</td>\n",
       "      <td>1950</td>\n",
       "    </tr>\n",
       "    <tr>\n",
       "      <td>...</td>\n",
       "      <td>...</td>\n",
       "      <td>...</td>\n",
       "      <td>...</td>\n",
       "      <td>...</td>\n",
       "      <td>...</td>\n",
       "      <td>...</td>\n",
       "      <td>...</td>\n",
       "      <td>...</td>\n",
       "    </tr>\n",
       "    <tr>\n",
       "      <td>1498</td>\n",
       "      <td>10</td>\n",
       "      <td>30</td>\n",
       "      <td>247</td>\n",
       "      <td>42</td>\n",
       "      <td>20604</td>\n",
       "      <td>smart</td>\n",
       "      <td>Владикавказ</td>\n",
       "      <td>1574</td>\n",
       "    </tr>\n",
       "    <tr>\n",
       "      <td rowspan=\"4\" valign=\"top\">1499</td>\n",
       "      <td>9</td>\n",
       "      <td>8</td>\n",
       "      <td>70</td>\n",
       "      <td>11</td>\n",
       "      <td>1848</td>\n",
       "      <td>smart</td>\n",
       "      <td>Пермь</td>\n",
       "      <td>550</td>\n",
       "    </tr>\n",
       "    <tr>\n",
       "      <td>10</td>\n",
       "      <td>44</td>\n",
       "      <td>449</td>\n",
       "      <td>48</td>\n",
       "      <td>17809</td>\n",
       "      <td>smart</td>\n",
       "      <td>Пермь</td>\n",
       "      <td>1028</td>\n",
       "    </tr>\n",
       "    <tr>\n",
       "      <td>11</td>\n",
       "      <td>62</td>\n",
       "      <td>612</td>\n",
       "      <td>59</td>\n",
       "      <td>17984</td>\n",
       "      <td>smart</td>\n",
       "      <td>Пермь</td>\n",
       "      <td>1425</td>\n",
       "    </tr>\n",
       "    <tr>\n",
       "      <td>12</td>\n",
       "      <td>56</td>\n",
       "      <td>492</td>\n",
       "      <td>66</td>\n",
       "      <td>13077</td>\n",
       "      <td>smart</td>\n",
       "      <td>Пермь</td>\n",
       "      <td>598</td>\n",
       "    </tr>\n",
       "  </tbody>\n",
       "</table>\n",
       "<p>3168 rows × 7 columns</p>\n",
       "</div>"
      ],
      "text/plain": [
       "               total_calls  sum_duration  total_messages  \\\n",
       "user_id month                                              \n",
       "1000    5               17           159              22   \n",
       "        6               28           172              60   \n",
       "        7               41           340              75   \n",
       "        8               42           408              81   \n",
       "        9               46           466              57   \n",
       "...                    ...           ...             ...   \n",
       "1498    10              30           247              42   \n",
       "1499    9                8            70              11   \n",
       "        10              44           449              48   \n",
       "        11              62           612              59   \n",
       "        12              56           492              66   \n",
       "\n",
       "               total_internet_traffic user_tariff         city  total_revenue  \n",
       "user_id month                                                                  \n",
       "1000    5                        2256       ultra    Краснодар           1950  \n",
       "        6                       23257       ultra    Краснодар           1950  \n",
       "        7                       14016       ultra    Краснодар           1950  \n",
       "        8                       14070       ultra    Краснодар           1950  \n",
       "        9                       14581       ultra    Краснодар           1950  \n",
       "...                               ...         ...          ...            ...  \n",
       "1498    10                      20604       smart  Владикавказ           1574  \n",
       "1499    9                        1848       smart        Пермь            550  \n",
       "        10                      17809       smart        Пермь           1028  \n",
       "        11                      17984       smart        Пермь           1425  \n",
       "        12                      13077       smart        Пермь            598  \n",
       "\n",
       "[3168 rows x 7 columns]"
      ]
     },
     "execution_count": 146,
     "metadata": {},
     "output_type": "execute_result"
    }
   ],
   "source": [
    "df_common['total_revenue'] = df_common.apply(total_revenue, axis=1)\n",
    "df_common['total_internet_traffic'] = df_common['total_internet_traffic'].apply(math.ceil).astype('int')\n",
    "df_common['total_messages'] = df_common['total_messages'].apply(math.ceil).astype('int')\n",
    "df_common"
   ]
  },
  {
   "cell_type": "markdown",
   "metadata": {},
   "source": [
    "## Шаг 3 – Анализ данных"
   ]
  },
  {
   "cell_type": "code",
   "execution_count": 147,
   "metadata": {},
   "outputs": [],
   "source": [
    "df_common_smart = df_common.query('user_tariff == \"smart\"')\n",
    "df_common_ultra = df_common.query('user_tariff == \"ultra\"')"
   ]
  },
  {
   "cell_type": "code",
   "execution_count": 148,
   "metadata": {},
   "outputs": [
    {
     "name": "stdout",
     "output_type": "stream",
     "text": [
      "Тариф smart, длительность разговора по месяцам\n",
      "\n",
      "Среднее = 419\n",
      "Дисперсия = 35718\n",
      "Стандартное отклонение = 188\n",
      "\n",
      "\n",
      "Тариф ultra, длительность разговора по месяцам\n",
      "\n",
      "Среднее = 547\n",
      "Дисперсия = 93338\n",
      "Стандартное отклонение = 305\n"
     ]
    },
    {
     "data": {
      "text/plain": [
       "Text(0.5, 1.0, 'Распределение суммарной месячной длительности разговоров в зависимости от тарифа')"
      ]
     },
     "execution_count": 148,
     "metadata": {},
     "output_type": "execute_result"
    },
    {
     "data": {
      "image/png": "[encoded data removed]",
      "text/plain": [
       "<Figure size 432x288 with 1 Axes>"
      ]
     },
     "metadata": {
      "needs_background": "light"
     },
     "output_type": "display_data"
    }
   ],
   "source": [
    "print('Тариф smart, длительность разговора по месяцам')\n",
    "print()\n",
    "mean = df_common_smart['sum_duration'].mean()\n",
    "print('Среднее =', int(mean))\n",
    "\n",
    "variance_estimate = np.var(df_common_smart['sum_duration'], ddof=1)\n",
    "print('Дисперсия =', int(variance_estimate))\n",
    "\n",
    "standard_deviation = np.sqrt(variance_estimate)\n",
    "print('Стандартное отклонение =', int(standard_deviation))\n",
    "print()\n",
    "print()\n",
    "print('Тариф ultra, длительность разговора по месяцам')\n",
    "print()\n",
    "mean = df_common_ultra['sum_duration'].mean()\n",
    "print('Среднее =', int(mean))\n",
    "\n",
    "variance_estimate = np.var(df_common_ultra['sum_duration'], ddof=1)\n",
    "print('Дисперсия =', int(variance_estimate))\n",
    "\n",
    "standard_deviation = np.sqrt(variance_estimate)\n",
    "print('Стандартное отклонение =', int(standard_deviation))\n",
    "\n",
    "\n",
    "sns.distplot(df_common_smart['sum_duration'], kde_kws = {'label':'Тариф SMART'})\n",
    "sns.distplot(df_common_ultra['sum_duration'], kde_kws = {'label':'Тариф ULTRA'})\n",
    "plt.title('Распределение суммарной месячной длительности разговоров в зависимости от тарифа')"
   ]
  },
  {
   "cell_type": "code",
   "execution_count": 149,
   "metadata": {},
   "outputs": [
    {
     "name": "stdout",
     "output_type": "stream",
     "text": [
      "Тариф smart, месячное количество сообщений\n",
      "\n",
      "Среднее = 33\n",
      "Дисперсия = 799\n",
      "Стандартное отклонение = 28\n",
      "\n",
      "\n",
      "Тариф ultra, месячное количество сообщений\n",
      "\n",
      "Среднее = 48\n",
      "Дисперсия = 2171\n",
      "Стандартное отклонение = 46\n"
     ]
    },
    {
     "data": {
      "text/plain": [
       "Text(0.5, 1.0, 'Распределение месячного количества сообщений в зависимости от тарифа')"
      ]
     },
     "execution_count": 149,
     "metadata": {},
     "output_type": "execute_result"
    },
    {
     "data": {
      "image/png": "[encoded data removed]",
      "text/plain": [
       "<Figure size 432x288 with 1 Axes>"
      ]
     },
     "metadata": {
      "needs_background": "light"
     },
     "output_type": "display_data"
    }
   ],
   "source": [
    "print('Тариф smart, месячное количество сообщений')\n",
    "print()\n",
    "mean = df_common_smart['total_messages'].mean()\n",
    "print('Среднее =', int(mean))\n",
    "\n",
    "variance_estimate = np.var(df_common_smart['total_messages'], ddof=1)\n",
    "print('Дисперсия =', int(variance_estimate))\n",
    "\n",
    "standard_deviation = np.sqrt(variance_estimate)\n",
    "print('Стандартное отклонение =', int(standard_deviation))\n",
    "print()\n",
    "print()\n",
    "print('Тариф ultra, месячное количество сообщений')\n",
    "print()\n",
    "mean = df_common_ultra['total_messages'].mean()\n",
    "print('Среднее =', int(mean))\n",
    "\n",
    "variance_estimate = np.var(df_common_ultra['total_messages'], ddof=1)\n",
    "print('Дисперсия =', int(variance_estimate))\n",
    "\n",
    "standard_deviation = np.sqrt(variance_estimate)\n",
    "print('Стандартное отклонение =', int(standard_deviation))\n",
    "\n",
    "\n",
    "sns.distplot(df_common_smart['total_messages'], kde_kws = {'label':'Тариф SMART'})\n",
    "sns.distplot(df_common_ultra['total_messages'], kde_kws = {'label':'Тариф ULTRA'})\n",
    "plt.title('Распределение месячного количества сообщений в зависимости от тарифа')"
   ]
  },
  {
   "cell_type": "code",
   "execution_count": 150,
   "metadata": {},
   "outputs": [
    {
     "name": "stdout",
     "output_type": "stream",
     "text": [
      "Тариф smart, месячный объёма интернет-трафика\n",
      "\n",
      "Среднее = 16231\n",
      "Дисперсия = 34614950\n",
      "Стандартное отклонение = 5883\n",
      "\n",
      "\n",
      "Тариф ultra, месячный объёма интернет-трафика\n",
      "\n",
      "Среднее = 19489\n",
      "Дисперсия = 102759496\n",
      "Стандартное отклонение = 10137\n"
     ]
    },
    {
     "data": {
      "text/plain": [
       "Text(0.5, 1.0, 'Распределение месячного объёма интернет-трафика в зависимости от тарифа')"
      ]
     },
     "execution_count": 150,
     "metadata": {},
     "output_type": "execute_result"
    },
    {
     "data": {
      "image/png": "[encoded data removed]",
      "text/plain": [
       "<Figure size 432x288 with 1 Axes>"
      ]
     },
     "metadata": {
      "needs_background": "light"
     },
     "output_type": "display_data"
    }
   ],
   "source": [
    "print('Тариф smart, месячный объёма интернет-трафика')\n",
    "print()\n",
    "mean = df_common_smart['total_internet_traffic'].mean()\n",
    "print('Среднее =', int(mean))\n",
    "\n",
    "variance_estimate = np.var(df_common_smart['total_internet_traffic'], ddof=1)\n",
    "print('Дисперсия =', int(variance_estimate))\n",
    "\n",
    "standard_deviation = np.sqrt(variance_estimate)\n",
    "print('Стандартное отклонение =', int(standard_deviation))\n",
    "print()\n",
    "print()\n",
    "\n",
    "\n",
    "print('Тариф ultra, месячный объёма интернет-трафика')\n",
    "print()\n",
    "mean = df_common_ultra['total_internet_traffic'].mean()\n",
    "print('Среднее =', int(mean))\n",
    "\n",
    "variance_estimate = np.var(df_common_ultra['total_internet_traffic'], ddof=1)\n",
    "print('Дисперсия =', int(variance_estimate))\n",
    "\n",
    "standard_deviation = np.sqrt(variance_estimate)\n",
    "print('Стандартное отклонение =', int(standard_deviation))\n",
    "\n",
    "\n",
    "sns.distplot(df_common_smart['total_internet_traffic'], kde_kws = {'label':'Тариф SMART'})\n",
    "sns.distplot(df_common_ultra['total_internet_traffic'], kde_kws = {'label':'Тариф ULTRA'})\n",
    "plt.title('Распределение месячного объёма интернет-трафика в зависимости от тарифа')"
   ]
  },
  {
   "cell_type": "code",
   "execution_count": 151,
   "metadata": {},
   "outputs": [
    {
     "data": {
      "text/plain": [
       "<matplotlib.axes._subplots.AxesSubplot at 0x7fce49d59f90>"
      ]
     },
     "execution_count": 151,
     "metadata": {},
     "output_type": "execute_result"
    },
    {
     "data": {
      "image/png": "[encoded data removed]",
      "text/plain": [
       "<Figure size 432x288 with 1 Axes>"
      ]
     },
     "metadata": {
      "needs_background": "light"
     },
     "output_type": "display_data"
    }
   ],
   "source": [
    "df_common.pivot_table(index='user_tariff', \n",
    "                      values='total_revenue', \n",
    "                      aggfunc='sum').plot(kind='bar', title='Суммарная выручка')"
   ]
  },
  {
   "cell_type": "code",
   "execution_count": 152,
   "metadata": {},
   "outputs": [
    {
     "data": {
      "text/plain": [
       "<matplotlib.axes._subplots.AxesSubplot at 0x7fce49ed2b50>"
      ]
     },
     "execution_count": 152,
     "metadata": {},
     "output_type": "execute_result"
    },
    {
     "data": {
      "image/png": "[encoded data removed]",
      "text/plain": [
       "<Figure size 432x288 with 1 Axes>"
      ]
     },
     "metadata": {
      "needs_background": "light"
     },
     "output_type": "display_data"
    }
   ],
   "source": [
    "df_common.pivot_table(index='user_tariff', values='total_revenue', aggfunc='mean').plot(kind='bar', title='Средняя выручка по тарифам')"
   ]
  },
  {
   "cell_type": "code",
   "execution_count": 153,
   "metadata": {},
   "outputs": [
    {
     "data": {
      "text/plain": [
       "<matplotlib.axes._subplots.AxesSubplot at 0x7fce49e9ad10>"
      ]
     },
     "execution_count": 153,
     "metadata": {},
     "output_type": "execute_result"
    },
    {
     "data": {
      "image/png": "[encoded data removed]",
      "text/plain": [
       "<Figure size 432x288 with 1 Axes>"
      ]
     },
     "metadata": {
      "needs_background": "light"
     },
     "output_type": "display_data"
    }
   ],
   "source": [
    "df_common.pivot_table(index='user_tariff', values='total_internet_traffic', aggfunc='mean').plot(kind='bar', title='Объём потреблённого интернет-трафика')"
   ]
  },
  {
   "cell_type": "code",
   "execution_count": 154,
   "metadata": {},
   "outputs": [
    {
     "data": {
      "text/plain": [
       "<matplotlib.axes._subplots.AxesSubplot at 0x7fce49f30310>"
      ]
     },
     "execution_count": 154,
     "metadata": {},
     "output_type": "execute_result"
    },
    {
     "data": {
      "image/png": "[encoded data removed]",
      "text/plain": [
       "<Figure size 432x288 with 1 Axes>"
      ]
     },
     "metadata": {
      "needs_background": "light"
     },
     "output_type": "display_data"
    }
   ],
   "source": [
    "df_common.pivot_table(index='user_tariff', values='total_messages', aggfunc='mean').plot(kind='bar', title='Количество отправленных сообщений')"
   ]
  },
  {
   "cell_type": "code",
   "execution_count": 155,
   "metadata": {},
   "outputs": [
    {
     "data": {
      "text/plain": [
       "<matplotlib.axes._subplots.AxesSubplot at 0x7fce49f78d10>"
      ]
     },
     "execution_count": 155,
     "metadata": {},
     "output_type": "execute_result"
    },
    {
     "data": {
      "image/png": "[encoded data removed]",
      "text/plain": [
       "<Figure size 432x288 with 1 Axes>"
      ]
     },
     "metadata": {
      "needs_background": "light"
     },
     "output_type": "display_data"
    }
   ],
   "source": [
    "df_common.pivot_table(index='user_tariff', \n",
    "                      values='sum_duration', \n",
    "                      aggfunc='mean').plot(kind='bar', title='Средняя длительность разговоров в месяц')"
   ]
  },
  {
   "cell_type": "code",
   "execution_count": 156,
   "metadata": {},
   "outputs": [
    {
     "data": {
      "text/plain": [
       "<matplotlib.axes._subplots.AxesSubplot at 0x7fce49f8c1d0>"
      ]
     },
     "execution_count": 156,
     "metadata": {},
     "output_type": "execute_result"
    },
    {
     "data": {
      "image/png": "[encoded data removed]",
      "text/plain": [
       "<Figure size 432x288 with 1 Axes>"
      ]
     },
     "metadata": {
      "needs_background": "light"
     },
     "output_type": "display_data"
    }
   ],
   "source": [
    "df_common.pivot_table(index='user_tariff', values='total_calls', aggfunc='mean').plot(kind='bar', title='')"
   ]
  },
  {
   "cell_type": "code",
   "execution_count": 157,
   "metadata": {},
   "outputs": [
    {
     "data": {
      "text/plain": [
       "<matplotlib.axes._subplots.AxesSubplot at 0x7fce49fe9a10>"
      ]
     },
     "execution_count": 157,
     "metadata": {},
     "output_type": "execute_result"
    },
    {
     "data": {
      "image/png": "[encoded data removed]",
      "text/plain": [
       "<Figure size 432x288 with 1 Axes>"
      ]
     },
     "metadata": {
      "needs_background": "light"
     },
     "output_type": "display_data"
    }
   ],
   "source": [
    "city_revenue = df_common.pivot_table(index='city', \n",
    "                      values='total_revenue', aggfunc='sum').sort_values(by='total_revenue', \n",
    "                                                                         ascending=False).head(20)\n",
    "\n",
    "plt.title('Топ-20 городов по суммарной выручке')\n",
    "sns.barplot(y=city_revenue.index, x='total_revenue', data = city_revenue, orient='h')"
   ]
  },
  {
   "cell_type": "code",
   "execution_count": 158,
   "metadata": {},
   "outputs": [
    {
     "data": {
      "text/plain": [
       "<matplotlib.axes._subplots.AxesSubplot at 0x7fce49fea490>"
      ]
     },
     "execution_count": 158,
     "metadata": {},
     "output_type": "execute_result"
    },
    {
     "data": {
      "image/png": "[encoded data removed]",
      "text/plain": [
       "<Figure size 432x288 with 1 Axes>"
      ]
     },
     "metadata": {
      "needs_background": "light"
     },
     "output_type": "display_data"
    }
   ],
   "source": [
    "city_revenue = df_common.pivot_table(index='city', \n",
    "                      values='total_revenue', aggfunc='mean').sort_values(by='total_revenue', \n",
    "                                                                         ascending=False).head(20)\n",
    "\n",
    "plt.title('Топ-20 городов по средней выручке')\n",
    "sns.barplot(y=city_revenue.index, x='total_revenue', data = city_revenue, orient='h')"
   ]
  },
  {
   "cell_type": "code",
   "execution_count": 159,
   "metadata": {},
   "outputs": [
    {
     "data": {
      "text/plain": [
       "<matplotlib.axes._subplots.AxesSubplot at 0x7fce4a150150>"
      ]
     },
     "execution_count": 159,
     "metadata": {},
     "output_type": "execute_result"
    },
    {
     "data": {
      "image/png": "[encoded data removed]",
      "text/plain": [
       "<Figure size 432x288 with 1 Axes>"
      ]
     },
     "metadata": {
      "needs_background": "light"
     },
     "output_type": "display_data"
    }
   ],
   "source": [
    "city_duration = df_common.pivot_table(index='city', values='sum_duration',\n",
    "                      aggfunc='mean').sort_values(by='sum_duration', \n",
    "                                                 ascending=False).head(20)\n",
    "\n",
    "plt.title('Топ-20 городов по средней длительности звонков')\n",
    "sns.barplot(y=city_duration.index, x='sum_duration', data = city_duration, orient='h')"
   ]
  },
  {
   "cell_type": "code",
   "execution_count": 160,
   "metadata": {},
   "outputs": [
    {
     "data": {
      "text/plain": [
       "<matplotlib.axes._subplots.AxesSubplot at 0x7fce4a148810>"
      ]
     },
     "execution_count": 160,
     "metadata": {},
     "output_type": "execute_result"
    },
    {
     "data": {
      "image/png": "[encoded data removed]",
      "text/plain": [
       "<Figure size 432x288 with 1 Axes>"
      ]
     },
     "metadata": {
      "needs_background": "light"
     },
     "output_type": "display_data"
    }
   ],
   "source": [
    "city_internet = df_common.pivot_table(index='city', values='total_internet_traffic', \n",
    "                      aggfunc='mean').sort_values(by='total_internet_traffic', \n",
    "                                                 ascending=False).head(20)\n",
    "\n",
    "plt.title('Топ-20 городов по объёму интернет-трафика')\n",
    "sns.barplot(y=city_internet.index, x='total_internet_traffic', data = city_internet, orient='h')"
   ]
  },
  {
   "cell_type": "code",
   "execution_count": 220,
   "metadata": {},
   "outputs": [
    {
     "data": {
      "text/plain": [
       "<matplotlib.axes._subplots.AxesSubplot at 0x7fce4c442bd0>"
      ]
     },
     "execution_count": 220,
     "metadata": {},
     "output_type": "execute_result"
    },
    {
     "data": {
      "image/png": "[encoded data removed]",
      "text/plain": [
       "<Figure size 432x288 with 1 Axes>"
      ]
     },
     "metadata": {
      "needs_background": "light"
     },
     "output_type": "display_data"
    }
   ],
   "source": [
    "city_messages = df_common.pivot_table(index='city', values='total_messages', \n",
    "                      aggfunc='mean').sort_values(by='total_messages', \n",
    "                                                 ascending=True).head(20)\n",
    "\n",
    "plt.title('Анти топ-20 городов по количеству отправленных сообщений')\n",
    "sns.barplot(y=city_messages.index, x='total_messages', data = city_messages, orient='h')"
   ]
  },
  {
   "cell_type": "code",
   "execution_count": 260,
   "metadata": {},
   "outputs": [],
   "source": [
    "smart_users = df_common.query('user_tariff == \"smart\"')\n",
    "ultra_users = df_common.query('user_tariff == \"ultra\"')\n",
    "\n",
    "#Функция сравнивает количество превышений значения в столбце сверх лимита\n",
    "def over_couter(column, include_limit):\n",
    "    counter = 0\n",
    "    for row in column:\n",
    "        if row > include_limit:\n",
    "            counter += 1\n",
    "    return counter"
   ]
  },
  {
   "cell_type": "code",
   "execution_count": 261,
   "metadata": {},
   "outputs": [
    {
     "name": "stdout",
     "output_type": "stream",
     "text": [
      "Из 2221 пользователей SMART, не хватает минут 754 пользователям\n",
      "Из 947 пользователей ULTRA, не хватает минут 0 пользователям\n"
     ]
    }
   ],
   "source": [
    "print('Из', len(smart_users.index), \n",
    "      'пользователей SMART, не хватает минут', \n",
    "      over_couter(smart_users['sum_duration'], df_tariffs.loc[0,'minutes_included']), \n",
    "      'пользователям')\n",
    "\n",
    "print('Из', len(ultra_users.index), \n",
    "      'пользователей ULTRA, не хватает минут', \n",
    "      over_couter(ultra_users['sum_duration'], df_tariffs.loc[1,'minutes_included']), \n",
    "      'пользователям')"
   ]
  },
  {
   "cell_type": "code",
   "execution_count": 262,
   "metadata": {},
   "outputs": [
    {
     "name": "stdout",
     "output_type": "stream",
     "text": [
      "Из 2221 пользователей SMART, не хватает пакета сообщений 564 пользователям\n",
      "Из 947 пользователей ULTRA, не хватает пакета сообщений 0 пользователям\n"
     ]
    }
   ],
   "source": [
    "print('Из', len(smart_users.index), \n",
    "      'пользователей SMART, не хватает пакета сообщений', \n",
    "      over_couter(smart_users['total_messages'], df_tariffs.loc[0,'messages_included']), \n",
    "      'пользователям')\n",
    "\n",
    "print('Из', len(ultra_users.index), \n",
    "      'пользователей ULTRA, не хватает пакета сообщений', \n",
    "      over_couter(ultra_users['total_messages'], df_tariffs.loc[1,'messages_included']), \n",
    "      'пользователям')"
   ]
  },
  {
   "cell_type": "code",
   "execution_count": 259,
   "metadata": {},
   "outputs": [
    {
     "name": "stdout",
     "output_type": "stream",
     "text": [
      "Из 2221 пользователей SMART, не хватает пакета сообщений 1304 пользователям\n",
      "Из 947 пользователей ULTRA, не хватает пакета сообщений 128 пользователям\n"
     ]
    }
   ],
   "source": [
    "print('Из', len(smart_users.index), \n",
    "      'пользователей SMART, не хватает пакета сообщений', \n",
    "      over_couter(smart_users['total_internet_traffic'], df_tariffs.loc[0,'mb_per_month_included']), \n",
    "      'пользователям')\n",
    "\n",
    "print('Из', len(ultra_users.index), \n",
    "      'пользователей ULTRA, не хватает пакета сообщений', \n",
    "      over_couter(ultra_users['total_internet_traffic'], df_tariffs.loc[1,'mb_per_month_included']), \n",
    "      'пользователям')"
   ]
  },
  {
   "cell_type": "markdown",
   "metadata": {},
   "source": [
    "## Шаг 4 – Проверка гипотез"
   ]
  },
  {
   "cell_type": "markdown",
   "metadata": {},
   "source": [
    "На проверку выдвигаются гипотезы:\n",
    "1. средняя выручка пользователей тарифов «Ультра» и «Смарт» различается;\n",
    "2. средняя выручка пользователей из Москвы отличается от выручки пользователей из других регионов;"
   ]
  },
  {
   "cell_type": "markdown",
   "metadata": {},
   "source": [
    "### Проверка гипотезы №1, выдвигаем нулевую гипотезу H0:  средняя выручка у пользователей тарифов «Ультра» и «Смарт» не отличается"
   ]
  },
  {
   "cell_type": "code",
   "execution_count": 104,
   "metadata": {},
   "outputs": [
    {
     "name": "stdout",
     "output_type": "stream",
     "text": [
      "p-значение: 4.790887785541959e-184\n",
      "Отвергаем нулевую гипотезу\n"
     ]
    }
   ],
   "source": [
    "alpha = .05 # критический уровень статистической значимости\n",
    "            # если p-value окажется меньше него - отвергнем гипотезу\n",
    "\n",
    "results = st.ttest_ind(\n",
    "    df_common_smart['total_revenue'], \n",
    "    df_common_ultra['total_revenue'])\n",
    "\n",
    "print('p-значение:', results.pvalue)\n",
    "\n",
    "if (results.pvalue < alpha):\n",
    "    print(\"Отвергаем нулевую гипотезу\")\n",
    "else:\n",
    "    print(\"Не получилось отвергнуть нулевую гипотезу\")"
   ]
  },
  {
   "cell_type": "markdown",
   "metadata": {},
   "source": [
    "#### Вывод: Средняя выручка по тарифам различается."
   ]
  },
  {
   "cell_type": "markdown",
   "metadata": {},
   "source": [
    "### Проверка гипотезы №2, выдвигаем нулевую гипотезу H0:  средняя выручка у пользователей из Москвы, такая же как и у пользователей из других городов"
   ]
  },
  {
   "cell_type": "code",
   "execution_count": 105,
   "metadata": {},
   "outputs": [],
   "source": [
    "df_common_moscow_city = df_common.query('city == \"Москва\"')\n",
    "df_common_other_city = df_common.query('city != \"Москва\"')"
   ]
  },
  {
   "cell_type": "code",
   "execution_count": 106,
   "metadata": {},
   "outputs": [
    {
     "name": "stdout",
     "output_type": "stream",
     "text": [
      "p-значение: 0.38710289592891534\n",
      "Не получилось отвергнуть нулевую гипотезу\n"
     ]
    }
   ],
   "source": [
    "alpha = .05 # критический уровень статистической значимости\n",
    "            # если p-value окажется меньше него - отвергнем гипотезу\n",
    "\n",
    "results = st.ttest_ind(\n",
    "    df_common_moscow_city['total_revenue'], \n",
    "    df_common_other_city['total_revenue'])\n",
    "\n",
    "print('p-значение:', results.pvalue)\n",
    "\n",
    "if (results.pvalue < alpha):\n",
    "    print(\"Отвергаем нулевую гипотезу\")\n",
    "else:\n",
    "    print(\"Не получилось отвергнуть нулевую гипотезу\")"
   ]
  },
  {
   "cell_type": "markdown",
   "metadata": {},
   "source": [
    "#### Вывод: Высокий р-value, значит средняя выручка по городам различается не сильно отличается."
   ]
  },
  {
   "cell_type": "markdown",
   "metadata": {},
   "source": [
    "## Шаг 5 – Общий вывод"
   ]
  },
  {
   "cell_type": "markdown",
   "metadata": {},
   "source": [
    "1. Сейчас компании \"Мегалайн\" больше выручки приносит тариф SMART, но средняя выручка по трафу ULTRA выше чем средняя выручка по SMART.\n",
    "2. Пользователи, в среднем, тратят больше интернет-трафика на тарифе ULTRA, чем на тарифе SMART.\n",
    "3. Пользователи с тарифом ULTRA в среднем, отправляют больше сообщений, чем пользователи на тарифе SMART.\n",
    "4. В среднем пользователи тарифа ULTRA, больше разговаривают по телефону в месяц, чем пользователи SMART.\n",
    "5. Больше всего выручки дают пользователи из Москвы, Санкт-Петербурга. А средняя выручка в месяц больше всего в Воронеже и Саранске.\n",
    "6. В среднем в Воронеже в месяц говорят дольше всего. Самая низкая средняя месячная длительность в г.Волжский.\n",
    "7. Средняя длительность разговора на тарифе SMART = 395 мин, на тарифе ULTRA = 514 минут.\n",
    "8. Среднее количество отправленых сообщений в месяц на тарифе ULTRA = 49, на тарифе SMART = 33. Больше всего лубят смски в Сургуте и Кемерово, меньше всего в Орле и Барнауле.\n",
    "9. Среднее количество потреблённого интернет-трафика на тарифе ULTRA = 19.5Гб , на тарифе SMART = 16Гб. При этом больше всего тратят трафика в Воронеже, меньше в Кургане и Нижневартовске.\n",
    "\n",
    "\n",
    "Проверка гипотез показала, что средняя выручка на тарифе смарт и ультра значимо отличается, при этом средняя выручка по городам значимо не отличается.\n"
   ]
  },
  {
   "cell_type": "code",
   "execution_count": 104,
   "metadata": {},
   "outputs": [
    {
     "data": {
      "text/html": [
       "<div>\n",
       "<style scoped>\n",
       "    .dataframe tbody tr th:only-of-type {\n",
       "        vertical-align: middle;\n",
       "    }\n",
       "\n",
       "    .dataframe tbody tr th {\n",
       "        vertical-align: top;\n",
       "    }\n",
       "\n",
       "    .dataframe thead th {\n",
       "        text-align: right;\n",
       "    }\n",
       "</style>\n",
       "<table border=\"1\" class=\"dataframe\">\n",
       "  <thead>\n",
       "    <tr style=\"text-align: right;\">\n",
       "      <th></th>\n",
       "      <th></th>\n",
       "      <th>total_calls</th>\n",
       "      <th>sum_duration</th>\n",
       "      <th>total_messages</th>\n",
       "      <th>total_internet_traffic</th>\n",
       "      <th>user_tariff</th>\n",
       "      <th>city</th>\n",
       "      <th>total_revenue</th>\n",
       "    </tr>\n",
       "    <tr>\n",
       "      <th>user_id</th>\n",
       "      <th>month</th>\n",
       "      <th></th>\n",
       "      <th></th>\n",
       "      <th></th>\n",
       "      <th></th>\n",
       "      <th></th>\n",
       "      <th></th>\n",
       "      <th></th>\n",
       "    </tr>\n",
       "  </thead>\n",
       "  <tbody>\n",
       "    <tr>\n",
       "      <td rowspan=\"5\" valign=\"top\">1000</td>\n",
       "      <td>5</td>\n",
       "      <td>22</td>\n",
       "      <td>150.06</td>\n",
       "      <td>22.0</td>\n",
       "      <td>2253.49</td>\n",
       "      <td>ultra</td>\n",
       "      <td>Краснодар</td>\n",
       "      <td>1950</td>\n",
       "    </tr>\n",
       "    <tr>\n",
       "      <td>6</td>\n",
       "      <td>43</td>\n",
       "      <td>158.90</td>\n",
       "      <td>60.0</td>\n",
       "      <td>23233.77</td>\n",
       "      <td>ultra</td>\n",
       "      <td>Краснодар</td>\n",
       "      <td>1950</td>\n",
       "    </tr>\n",
       "    <tr>\n",
       "      <td>7</td>\n",
       "      <td>47</td>\n",
       "      <td>318.80</td>\n",
       "      <td>75.0</td>\n",
       "      <td>14003.64</td>\n",
       "      <td>ultra</td>\n",
       "      <td>Краснодар</td>\n",
       "      <td>1950</td>\n",
       "    </tr>\n",
       "    <tr>\n",
       "      <td>8</td>\n",
       "      <td>52</td>\n",
       "      <td>389.87</td>\n",
       "      <td>81.0</td>\n",
       "      <td>14055.93</td>\n",
       "      <td>ultra</td>\n",
       "      <td>Краснодар</td>\n",
       "      <td>1950</td>\n",
       "    </tr>\n",
       "    <tr>\n",
       "      <td>9</td>\n",
       "      <td>58</td>\n",
       "      <td>440.14</td>\n",
       "      <td>57.0</td>\n",
       "      <td>14568.91</td>\n",
       "      <td>ultra</td>\n",
       "      <td>Краснодар</td>\n",
       "      <td>1950</td>\n",
       "    </tr>\n",
       "    <tr>\n",
       "      <td>...</td>\n",
       "      <td>...</td>\n",
       "      <td>...</td>\n",
       "      <td>...</td>\n",
       "      <td>...</td>\n",
       "      <td>...</td>\n",
       "      <td>...</td>\n",
       "      <td>...</td>\n",
       "      <td>...</td>\n",
       "    </tr>\n",
       "    <tr>\n",
       "      <td>1498</td>\n",
       "      <td>10</td>\n",
       "      <td>41</td>\n",
       "      <td>232.63</td>\n",
       "      <td>42.0</td>\n",
       "      <td>20579.36</td>\n",
       "      <td>smart</td>\n",
       "      <td>Владикавказ</td>\n",
       "      <td>1569</td>\n",
       "    </tr>\n",
       "    <tr>\n",
       "      <td rowspan=\"4\" valign=\"top\">1499</td>\n",
       "      <td>9</td>\n",
       "      <td>9</td>\n",
       "      <td>64.65</td>\n",
       "      <td>11.0</td>\n",
       "      <td>1845.75</td>\n",
       "      <td>smart</td>\n",
       "      <td>Пермь</td>\n",
       "      <td>550</td>\n",
       "    </tr>\n",
       "    <tr>\n",
       "      <td>10</td>\n",
       "      <td>68</td>\n",
       "      <td>429.91</td>\n",
       "      <td>48.0</td>\n",
       "      <td>17788.51</td>\n",
       "      <td>smart</td>\n",
       "      <td>Пермь</td>\n",
       "      <td>1024</td>\n",
       "    </tr>\n",
       "    <tr>\n",
       "      <td>11</td>\n",
       "      <td>74</td>\n",
       "      <td>576.50</td>\n",
       "      <td>59.0</td>\n",
       "      <td>17963.31</td>\n",
       "      <td>smart</td>\n",
       "      <td>Пермь</td>\n",
       "      <td>1314</td>\n",
       "    </tr>\n",
       "    <tr>\n",
       "      <td>12</td>\n",
       "      <td>69</td>\n",
       "      <td>465.16</td>\n",
       "      <td>66.0</td>\n",
       "      <td>13055.58</td>\n",
       "      <td>smart</td>\n",
       "      <td>Пермь</td>\n",
       "      <td>598</td>\n",
       "    </tr>\n",
       "  </tbody>\n",
       "</table>\n",
       "<p>3174 rows × 7 columns</p>\n",
       "</div>"
      ],
      "text/plain": [
       "               total_calls  sum_duration  total_messages  \\\n",
       "user_id month                                              \n",
       "1000    5               22        150.06            22.0   \n",
       "        6               43        158.90            60.0   \n",
       "        7               47        318.80            75.0   \n",
       "        8               52        389.87            81.0   \n",
       "        9               58        440.14            57.0   \n",
       "...                    ...           ...             ...   \n",
       "1498    10              41        232.63            42.0   \n",
       "1499    9                9         64.65            11.0   \n",
       "        10              68        429.91            48.0   \n",
       "        11              74        576.50            59.0   \n",
       "        12              69        465.16            66.0   \n",
       "\n",
       "               total_internet_traffic user_tariff         city  total_revenue  \n",
       "user_id month                                                                  \n",
       "1000    5                     2253.49       ultra    Краснодар           1950  \n",
       "        6                    23233.77       ultra    Краснодар           1950  \n",
       "        7                    14003.64       ultra    Краснодар           1950  \n",
       "        8                    14055.93       ultra    Краснодар           1950  \n",
       "        9                    14568.91       ultra    Краснодар           1950  \n",
       "...                               ...         ...          ...            ...  \n",
       "1498    10                   20579.36       smart  Владикавказ           1569  \n",
       "1499    9                     1845.75       smart        Пермь            550  \n",
       "        10                   17788.51       smart        Пермь           1024  \n",
       "        11                   17963.31       smart        Пермь           1314  \n",
       "        12                   13055.58       smart        Пермь            598  \n",
       "\n",
       "[3174 rows x 7 columns]"
      ]
     },
     "execution_count": 104,
     "metadata": {},
     "output_type": "execute_result"
    }
   ],
   "source": [
    "df_common"
   ]
  }
 ],
 "metadata": {
  "kernelspec": {
   "display_name": "Python 3",
   "language": "python",
   "name": "python3"
  },
  "language_info": {
   "codemirror_mode": {
    "name": "ipython",
    "version": 3
   },
   "file_extension": ".py",
   "mimetype": "text/x-python",
   "name": "python",
   "nbconvert_exporter": "python",
   "pygments_lexer": "ipython3",
   "version": "3.7.6"
  }
 },
 "nbformat": 4,
 "nbformat_minor": 2
}
